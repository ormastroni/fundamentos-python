{
  "nbformat": 4,
  "nbformat_minor": 0,
  "metadata": {
    "colab": {
      "name": "aula5.ipynb",
      "provenance": [],
      "toc_visible": true,
      "authorship_tag": "ABX9TyMhX5yCDthyEu+zjKXRanhq",
      "include_colab_link": true
    },
    "kernelspec": {
      "name": "python3",
      "display_name": "Python 3"
    },
    "language_info": {
      "name": "python"
    }
  },
  "cells": [
    {
      "cell_type": "markdown",
      "metadata": {
        "id": "view-in-github",
        "colab_type": "text"
      },
      "source": [
        "<a href=\"https://colab.research.google.com/github/ormastroni/fundamentos-python/blob/main/aula5.ipynb\" target=\"_parent\"><img src=\"https://colab.research.google.com/assets/colab-badge.svg\" alt=\"Open In Colab\"/></a>"
      ]
    },
    {
      "cell_type": "markdown",
      "metadata": {
        "id": "oOHyFEJFh2lx"
      },
      "source": [
        "# Fundamentos de Desenvolvimento Python"
      ]
    },
    {
      "cell_type": "markdown",
      "metadata": {
        "id": "hN00OopHh_e2"
      },
      "source": [
        "## Prof. Andre Victor"
      ]
    },
    {
      "cell_type": "markdown",
      "metadata": {
        "id": "KAY8Us1uiCWD"
      },
      "source": [
        "### Filas e pilhas"
      ]
    },
    {
      "cell_type": "markdown",
      "metadata": {
        "id": "tUiXhe54rSEU"
      },
      "source": [
        "Pilhas são estruturas de dados clássicas e utilizadas na resolução de muitos problemas de computação. Ao contrário das estruturas de listas que vimos até aqui, onde um elemento pode ser inserido, acessado ou removido de qualquer posição, uma pilha é uma estrutura com um comportamento peculiar:\n",
        "* Ao inserir um elemento na pilha (push), este elemento é reconhecido como o topo da pilha (top)\n",
        "* Não se pode remover um elemento no meio da pilha sem remover os que estão sobre ele (no topo). Por isso, toda operação de remoção (pop) de um elemento deve ser necessariamente o elemento que está no topo (top)\n",
        "\n",
        "Em Python não há uma implementação padrão de pilhas, mas você pode implementar uma pilha a partir da interface de Listas\n",
        "\n",
        "Pilhas são reconhecidas como estruturas LIFO (Last In First Out)"
      ]
    },
    {
      "cell_type": "code",
      "metadata": {
        "id": "8I3bl0igksWf"
      },
      "source": [
        "pilha = [3, 4, 5]"
      ],
      "execution_count": 1,
      "outputs": []
    },
    {
      "cell_type": "code",
      "metadata": {
        "id": "G4xW6Wdfmjm0"
      },
      "source": [
        "pilha.append(6)\n",
        "pilha.append(7)"
      ],
      "execution_count": 2,
      "outputs": []
    },
    {
      "cell_type": "code",
      "metadata": {
        "colab": {
          "base_uri": "https://localhost:8080/"
        },
        "id": "bXIJsnc4u1hY",
        "outputId": "8b092989-8b0b-4767-ffe1-17fc10be4aed"
      },
      "source": [
        "pilha"
      ],
      "execution_count": 3,
      "outputs": [
        {
          "output_type": "execute_result",
          "data": {
            "text/plain": [
              "[3, 4, 5, 6, 7]"
            ]
          },
          "metadata": {},
          "execution_count": 3
        }
      ]
    },
    {
      "cell_type": "code",
      "metadata": {
        "id": "yysK5SdZsZki",
        "colab": {
          "base_uri": "https://localhost:8080/"
        },
        "outputId": "4f592b2e-f263-4f6f-a6eb-bdb0ea5c24b0"
      },
      "source": [
        "pilha.pop()"
      ],
      "execution_count": 4,
      "outputs": [
        {
          "output_type": "execute_result",
          "data": {
            "text/plain": [
              "7"
            ]
          },
          "metadata": {},
          "execution_count": 4
        }
      ]
    },
    {
      "cell_type": "code",
      "metadata": {
        "colab": {
          "base_uri": "https://localhost:8080/"
        },
        "id": "cxUAg9rV1yif",
        "outputId": "1566f511-4f7a-44b4-975d-44f1ac1145a6"
      },
      "source": [
        "pilha"
      ],
      "execution_count": 5,
      "outputs": [
        {
          "output_type": "execute_result",
          "data": {
            "text/plain": [
              "[3, 4, 5, 6]"
            ]
          },
          "metadata": {},
          "execution_count": 5
        }
      ]
    },
    {
      "cell_type": "code",
      "metadata": {
        "colab": {
          "base_uri": "https://localhost:8080/"
        },
        "id": "TulPGArXvX1R",
        "outputId": "c7f7ac02-c2cf-40d0-855d-2362db437e26"
      },
      "source": [
        "pilha.pop()"
      ],
      "execution_count": 6,
      "outputs": [
        {
          "output_type": "execute_result",
          "data": {
            "text/plain": [
              "6"
            ]
          },
          "metadata": {},
          "execution_count": 6
        }
      ]
    },
    {
      "cell_type": "code",
      "metadata": {
        "colab": {
          "base_uri": "https://localhost:8080/"
        },
        "id": "kBzejJSVzUWF",
        "outputId": "e6902ab4-12d7-4b7b-bb8b-f0b6db43fe6f"
      },
      "source": [
        "print(type(pilha))"
      ],
      "execution_count": 7,
      "outputs": [
        {
          "output_type": "stream",
          "name": "stdout",
          "text": [
            "<class 'list'>\n"
          ]
        }
      ]
    },
    {
      "cell_type": "code",
      "metadata": {
        "colab": {
          "base_uri": "https://localhost:8080/"
        },
        "id": "O3gvwFyRu-36",
        "outputId": "908543e6-71d2-4d5c-db0c-5f18b9ff1d2c"
      },
      "source": [
        "pilha"
      ],
      "execution_count": 8,
      "outputs": [
        {
          "output_type": "execute_result",
          "data": {
            "text/plain": [
              "[3, 4, 5]"
            ]
          },
          "metadata": {},
          "execution_count": 8
        }
      ]
    },
    {
      "cell_type": "code",
      "metadata": {
        "colab": {
          "base_uri": "https://localhost:8080/"
        },
        "id": "EhkP3MJvvsAx",
        "outputId": "edfc7a1b-3b87-4275-b7b8-9109398fdfe7"
      },
      "source": [
        "# topo da pilha\n",
        "pilha[-1]"
      ],
      "execution_count": 9,
      "outputs": [
        {
          "output_type": "execute_result",
          "data": {
            "text/plain": [
              "5"
            ]
          },
          "metadata": {},
          "execution_count": 9
        }
      ]
    },
    {
      "cell_type": "code",
      "metadata": {
        "colab": {
          "base_uri": "https://localhost:8080/"
        },
        "id": "_6rUtZDyboyC",
        "outputId": "ffbd5617-11c3-4c4d-9a69-ad0e70ff9909"
      },
      "source": [
        "pilha[1]"
      ],
      "execution_count": 10,
      "outputs": [
        {
          "output_type": "execute_result",
          "data": {
            "text/plain": [
              "4"
            ]
          },
          "metadata": {},
          "execution_count": 10
        }
      ]
    },
    {
      "cell_type": "markdown",
      "metadata": {
        "id": "SB7mtbyvG-Ms"
      },
      "source": [
        "Exercício: utilizando o conceito de pilhas, implemente uma função que recebe uma palavra numa string como parâmetro e verifica se ela é um palíndromo (palavra que lida em qualquer direção é a mesma)\n",
        "* Ex.: ana\n",
        "* Ex.: abba\n",
        "* etc"
      ]
    },
    {
      "cell_type": "code",
      "metadata": {
        "id": "Tq6zin91HlXg"
      },
      "source": [
        "def eh_palindromo(palavra):\n",
        "  ## Código para palíndromo utilizando pilhas\n",
        "  pilha = []\n",
        "  for c in palavra:\n",
        "    pilha.append(c)\n",
        "\n",
        "  pilha_inversa = []\n",
        "  for i in range(len(palavra)-1, -1, -1):\n",
        "    pilha_inversa.append(palavra[i])\n",
        "    \n",
        "  for i in range(len(pilha)):\n",
        "    c = pilha.pop()\n",
        "    d = pilha_inversa.pop()\n",
        "    if (c != d):\n",
        "      return False\n",
        "  return True"
      ],
      "execution_count": 11,
      "outputs": []
    },
    {
      "cell_type": "code",
      "metadata": {
        "colab": {
          "base_uri": "https://localhost:8080/"
        },
        "id": "Y3q9flWScEDH",
        "outputId": "49616ed4-8bed-48e4-9c51-0ee4659d192f"
      },
      "source": [
        "eh_palindromo('ana')"
      ],
      "execution_count": 16,
      "outputs": [
        {
          "output_type": "execute_result",
          "data": {
            "text/plain": [
              "True"
            ]
          },
          "metadata": {},
          "execution_count": 16
        }
      ]
    },
    {
      "cell_type": "code",
      "metadata": {
        "id": "mNuK8mW_8cUg"
      },
      "source": [
        "## Versão sem utilizar pilhas\n",
        "def eh_palindromo2(palavra):\n",
        "    if (palavra == palavra[::-1]):\n",
        "        return True\n",
        "    return False"
      ],
      "execution_count": 18,
      "outputs": []
    },
    {
      "cell_type": "code",
      "metadata": {
        "colab": {
          "base_uri": "https://localhost:8080/"
        },
        "id": "PTJFXTjf82OO",
        "outputId": "bb61e65e-69ac-48c9-a19c-edf292c428a3"
      },
      "source": [
        "eh_palindromo2('arara')"
      ],
      "execution_count": 20,
      "outputs": [
        {
          "output_type": "execute_result",
          "data": {
            "text/plain": [
              "True"
            ]
          },
          "metadata": {},
          "execution_count": 20
        }
      ]
    },
    {
      "cell_type": "markdown",
      "metadata": {
        "id": "X_PiQmyTRuWt"
      },
      "source": [
        "Exercício: Implemente uma função para avaliar a consistência de expressões entre parênteses. Exemplos:\n",
        "\n",
        "* ((()))           // consistente\n",
        "* (()              // inconsistente\n",
        "* ((2+3)*4)/4      // consistente\n"
      ]
    },
    {
      "cell_type": "code",
      "metadata": {
        "id": "c7Rr3nNr9qMG"
      },
      "source": [
        "def eh_consistente(expr):\n",
        "  ## Função retorn True se os parênteses que foram abertos são fechados\n",
        "  ## Funçção retorna False caso contrário\n",
        "  return True"
      ],
      "execution_count": 25,
      "outputs": []
    },
    {
      "cell_type": "code",
      "metadata": {
        "id": "8ZVo67vC94jd"
      },
      "source": [
        "eh_consistente('(())')"
      ],
      "execution_count": null,
      "outputs": []
    },
    {
      "cell_type": "code",
      "metadata": {
        "id": "Nl6_10P6dDUZ"
      },
      "source": [
        "# retorna True"
      ],
      "execution_count": null,
      "outputs": []
    },
    {
      "cell_type": "code",
      "metadata": {
        "colab": {
          "base_uri": "https://localhost:8080/"
        },
        "id": "SO1zD69SlMWr",
        "outputId": "b289834e-c206-4681-c094-d44795ce7c10"
      },
      "source": [
        "eh_consistente('))')"
      ],
      "execution_count": null,
      "outputs": [
        {
          "output_type": "execute_result",
          "data": {
            "text/plain": [
              "False"
            ]
          },
          "metadata": {
            "tags": []
          },
          "execution_count": 26
        }
      ]
    },
    {
      "cell_type": "markdown",
      "metadata": {
        "id": "DzqPUceAwbAL"
      },
      "source": [
        "Filas também são coleções de dados utilizadas em diversos problemas. O comportamento das filas é diferente das pilhas e obedece às propriedades FIFO (First In First Out):\n",
        "* Inserções e remoções de dados ocorrem nas extremidades opostas da estrutura de dados\n",
        "* Ao inserir um elemento na fila, este elemento entra no final da fila, caso ela já contenha elementos. Senão o elemento é o primeiro da fila\n",
        "* Para a fila diminuir, ou acessar qualquer recurso da fila, os elementos devem ser removidos um por um a partir do início da fila (extremidade oposta). O único elemento visível para o mundo externo é o primeiro\n",
        "\n",
        "Em Python também é possível implementar uma Fila a partir da interface Lista, mas não é computacionalmente eficiente. A estrutura mais eficiente é a implementada na classe deque"
      ]
    },
    {
      "cell_type": "code",
      "metadata": {
        "id": "D3-xb2-Q2cgH"
      },
      "source": [
        "from collections import deque"
      ],
      "execution_count": null,
      "outputs": []
    },
    {
      "cell_type": "code",
      "metadata": {
        "id": "OfLqqbS45vT3"
      },
      "source": [
        "fila = deque(['Doc Word', 'Doc PDF', 'Imagem'])"
      ],
      "execution_count": null,
      "outputs": []
    },
    {
      "cell_type": "code",
      "metadata": {
        "colab": {
          "base_uri": "https://localhost:8080/"
        },
        "id": "uslglYwezpeG",
        "outputId": "1445742e-4079-4bf4-cd66-50a986d81712"
      },
      "source": [
        "print(type(fila))"
      ],
      "execution_count": null,
      "outputs": [
        {
          "output_type": "stream",
          "text": [
            "<class 'collections.deque'>\n"
          ],
          "name": "stdout"
        }
      ]
    },
    {
      "cell_type": "code",
      "metadata": {
        "id": "KsWvDsi6567i"
      },
      "source": [
        "fila.append('Excel')\n",
        "fila.append('Doc Word')"
      ],
      "execution_count": null,
      "outputs": []
    },
    {
      "cell_type": "code",
      "metadata": {
        "colab": {
          "base_uri": "https://localhost:8080/"
        },
        "id": "KavM56j_5-0H",
        "outputId": "cce6e7b0-f7b0-4325-c9b2-02682f84476a"
      },
      "source": [
        "fila"
      ],
      "execution_count": null,
      "outputs": [
        {
          "output_type": "execute_result",
          "data": {
            "text/plain": [
              "deque(['Doc Word', 'Doc PDF', 'Imagem', 'Excel', 'Doc Word'])"
            ]
          },
          "metadata": {
            "tags": []
          },
          "execution_count": 13
        }
      ]
    },
    {
      "cell_type": "code",
      "metadata": {
        "colab": {
          "base_uri": "https://localhost:8080/",
          "height": 35
        },
        "id": "ID7eh09t6CG3",
        "outputId": "bb8f0132-8f45-40be-8686-0fbdea89d77a"
      },
      "source": [
        "fila.popleft()"
      ],
      "execution_count": null,
      "outputs": [
        {
          "output_type": "execute_result",
          "data": {
            "application/vnd.google.colaboratory.intrinsic+json": {
              "type": "string"
            },
            "text/plain": [
              "'Doc PDF'"
            ]
          },
          "metadata": {
            "tags": []
          },
          "execution_count": 15
        }
      ]
    },
    {
      "cell_type": "code",
      "metadata": {
        "colab": {
          "base_uri": "https://localhost:8080/",
          "height": 35
        },
        "id": "ih4XPB2x6En1",
        "outputId": "4e80cb5f-20d2-44ec-f8c4-8dfb7e7da2bb"
      },
      "source": [
        "fila.popleft()"
      ],
      "execution_count": null,
      "outputs": [
        {
          "output_type": "execute_result",
          "data": {
            "application/vnd.google.colaboratory.intrinsic+json": {
              "type": "string"
            },
            "text/plain": [
              "'Doc Word'"
            ]
          },
          "metadata": {
            "tags": []
          },
          "execution_count": 14
        }
      ]
    },
    {
      "cell_type": "code",
      "metadata": {
        "id": "ZHIlQJ6G_n8j",
        "colab": {
          "base_uri": "https://localhost:8080/"
        },
        "outputId": "1ef3a2bb-6704-4e04-9263-c60fb45d62be"
      },
      "source": [
        "fila"
      ],
      "execution_count": null,
      "outputs": [
        {
          "output_type": "execute_result",
          "data": {
            "text/plain": [
              "deque(['Imagem', 'Excel', 'Doc Word'])"
            ]
          },
          "metadata": {
            "tags": []
          },
          "execution_count": 16
        }
      ]
    },
    {
      "cell_type": "markdown",
      "metadata": {
        "id": "adOlcqOqPmDz"
      },
      "source": [
        "Escreva um código em Python que simule o controle de uma pista de decolagem de aviões em um aeroporto. Neste programa,o usuário deve ser capaz de realizar as seguintes tarefas:\n",
        "* Listar o número de aviões aguardando na fila de decolagem\n",
        "* Autorizar a decolagem do primeiro avião da fila\n",
        "* Adicionar um avião à fila de espera\n",
        "* Listar todos os aviões na fila de espera\n",
        "* Listar as características do primeiro avião da fila.Considere que os aviões possuem um nome e um número inteiro como identificador."
      ]
    }
  ]
}