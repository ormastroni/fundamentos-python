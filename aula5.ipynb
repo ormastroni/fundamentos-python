{
  "cells": [
    {
      "cell_type": "markdown",
      "metadata": {
        "colab_type": "text",
        "id": "view-in-github"
      },
      "source": [
        "<a href=\"https://colab.research.google.com/github/ormastroni/fundamentos-python/blob/main/aula5.ipynb\" target=\"_parent\"><img src=\"https://colab.research.google.com/assets/colab-badge.svg\" alt=\"Open In Colab\"/></a>"
      ]
    },
    {
      "cell_type": "markdown",
      "metadata": {
        "id": "oOHyFEJFh2lx"
      },
      "source": [
        "# Fundamentos de Desenvolvimento Python"
      ]
    },
    {
      "cell_type": "markdown",
      "metadata": {
        "id": "hN00OopHh_e2"
      },
      "source": [
        "## Prof. Andre Victor"
      ]
    },
    {
      "cell_type": "markdown",
      "metadata": {},
      "source": [
        "### List comprehension"
      ]
    },
    {
      "cell_type": "markdown",
      "metadata": {},
      "source": [
        "Quando precisamos gerar uma lista de valores ou objetos de qualquer tipo, uma forma simples é utilizar **list comprehensions**. Esta é uma abordagem \"elegante\", do ponto de vista de economia de código, porque você pode aplicar algum filtro ou processamento sobre uma sequência de valores (ex.: lista) para obter uma nova lista com os valores que interessam. Além disso, list comprehensions são mais eficientes do que estruturas de looping tradicionais, como **for** e **while**. A expressão genérica para uma list comprehension é:<br><br>\n",
        "**new_list = [expression for member in iterable (if conditional)]**"
      ]
    },
    {
      "cell_type": "markdown",
      "metadata": {},
      "source": [
        "Exemplo: A partir de uma lista de números inteiros, produza uma lista com o quadrado desses números"
      ]
    },
    {
      "cell_type": "markdown",
      "metadata": {},
      "source": [
        "Utilizando **for**:"
      ]
    },
    {
      "cell_type": "code",
      "execution_count": 1,
      "metadata": {},
      "outputs": [
        {
          "name": "stdout",
          "output_type": "stream",
          "text": [
            "[1, 16, 100, 64, 225]\n"
          ]
        }
      ],
      "source": [
        "lista = [1, 4, 10, 8, 15]\n",
        "quadrado = []\n",
        "for x in lista:\n",
        "    quadrado.append(x**2)\n",
        "print(quadrado)"
      ]
    },
    {
      "cell_type": "markdown",
      "metadata": {},
      "source": [
        "Utilizando **list comprehension**:"
      ]
    },
    {
      "cell_type": "code",
      "execution_count": 2,
      "metadata": {},
      "outputs": [
        {
          "name": "stdout",
          "output_type": "stream",
          "text": [
            "[1, 16, 100, 64, 225]\n"
          ]
        }
      ],
      "source": [
        "lista = [1, 4, 10, 8, 15]\n",
        "quadrado = [x**2 for x in lista]\n",
        "print(quadrado)"
      ]
    },
    {
      "cell_type": "markdown",
      "metadata": {},
      "source": [
        "Como visto na expressão genérica, você pode aplicar filtros na list comprehension para os filtrar valores que você quer no resultado. Por exemplo:"
      ]
    },
    {
      "cell_type": "code",
      "execution_count": 4,
      "metadata": {},
      "outputs": [
        {
          "name": "stdout",
          "output_type": "stream",
          "text": [
            "[1.0, 2.0, 3.1622776601683795, 1.4142135623730951, 1.7320508075688772]\n"
          ]
        }
      ],
      "source": [
        "lista = [1, 4, -5, 10, -7, 2, 3, -1]\n",
        "import math\n",
        "raiz_quadrada = [math.sqrt(n) for n in lista if n > 0]\n",
        "print(raiz_quadrada)"
      ]
    },
    {
      "cell_type": "markdown",
      "metadata": {},
      "source": [
        "Dessa forma o resultado tem menos elementos do que a lista original. Porém, você pode manter o tamanho original mas aplicar filtros para mudar o valor a ser inserido na expressão: <br><br>\n",
        "**new_list = [expression (if conditional) for member in iterable]**"
      ]
    },
    {
      "cell_type": "code",
      "execution_count": 6,
      "metadata": {},
      "outputs": [
        {
          "name": "stdout",
          "output_type": "stream",
          "text": [
            "[1.0, 2.0, 0, 3.1622776601683795, 0, 1.4142135623730951, 1.7320508075688772, 0]\n"
          ]
        }
      ],
      "source": [
        "raiz_quadrada = [math.sqrt(n) if n > 0 else 0 for n in lista]\n",
        "print(raiz_quadrada)"
      ]
    },
    {
      "cell_type": "markdown",
      "metadata": {
        "id": "KAY8Us1uiCWD"
      },
      "source": [
        "### Filas e pilhas"
      ]
    },
    {
      "cell_type": "markdown",
      "metadata": {
        "id": "tUiXhe54rSEU"
      },
      "source": [
        "Pilhas são estruturas de dados clássicas e utilizadas na resolução de muitos problemas de computação. Ao contrário das estruturas de listas que vimos até aqui, onde um elemento pode ser inserido, acessado ou removido de qualquer posição, uma pilha é uma estrutura com um comportamento peculiar:\n",
        "* Ao inserir um elemento na pilha (push), este elemento é reconhecido como o topo da pilha (top)\n",
        "* Não se pode remover um elemento no meio da pilha sem remover os que estão sobre ele (no topo). Por isso, toda operação de remoção (pop) de um elemento deve ser necessariamente o elemento que está no topo (top)\n",
        "\n",
        "Em Python não há uma implementação padrão de pilhas, mas você pode implementar uma pilha a partir da interface de Listas\n",
        "\n",
        "Pilhas são reconhecidas como estruturas LIFO (Last In First Out)"
      ]
    },
    {
      "cell_type": "code",
      "execution_count": 1,
      "metadata": {
        "id": "8I3bl0igksWf"
      },
      "outputs": [],
      "source": [
        "pilha = [3, 4, 5]"
      ]
    },
    {
      "cell_type": "code",
      "execution_count": 2,
      "metadata": {
        "id": "G4xW6Wdfmjm0"
      },
      "outputs": [],
      "source": [
        "pilha.append(6)\n",
        "pilha.append(7)"
      ]
    },
    {
      "cell_type": "code",
      "execution_count": 3,
      "metadata": {
        "colab": {
          "base_uri": "https://localhost:8080/"
        },
        "id": "bXIJsnc4u1hY",
        "outputId": "8b092989-8b0b-4767-ffe1-17fc10be4aed"
      },
      "outputs": [
        {
          "data": {
            "text/plain": [
              "[3, 4, 5, 6, 7]"
            ]
          },
          "execution_count": 3,
          "metadata": {},
          "output_type": "execute_result"
        }
      ],
      "source": [
        "pilha"
      ]
    },
    {
      "cell_type": "code",
      "execution_count": 4,
      "metadata": {
        "colab": {
          "base_uri": "https://localhost:8080/"
        },
        "id": "yysK5SdZsZki",
        "outputId": "4f592b2e-f263-4f6f-a6eb-bdb0ea5c24b0"
      },
      "outputs": [
        {
          "data": {
            "text/plain": [
              "7"
            ]
          },
          "execution_count": 4,
          "metadata": {},
          "output_type": "execute_result"
        }
      ],
      "source": [
        "pilha.pop()"
      ]
    },
    {
      "cell_type": "code",
      "execution_count": 5,
      "metadata": {
        "colab": {
          "base_uri": "https://localhost:8080/"
        },
        "id": "cxUAg9rV1yif",
        "outputId": "1566f511-4f7a-44b4-975d-44f1ac1145a6"
      },
      "outputs": [
        {
          "data": {
            "text/plain": [
              "[3, 4, 5, 6]"
            ]
          },
          "execution_count": 5,
          "metadata": {},
          "output_type": "execute_result"
        }
      ],
      "source": [
        "pilha"
      ]
    },
    {
      "cell_type": "code",
      "execution_count": 6,
      "metadata": {
        "colab": {
          "base_uri": "https://localhost:8080/"
        },
        "id": "TulPGArXvX1R",
        "outputId": "c7f7ac02-c2cf-40d0-855d-2362db437e26"
      },
      "outputs": [
        {
          "data": {
            "text/plain": [
              "6"
            ]
          },
          "execution_count": 6,
          "metadata": {},
          "output_type": "execute_result"
        }
      ],
      "source": [
        "pilha.pop()"
      ]
    },
    {
      "cell_type": "code",
      "execution_count": 7,
      "metadata": {
        "colab": {
          "base_uri": "https://localhost:8080/"
        },
        "id": "kBzejJSVzUWF",
        "outputId": "e6902ab4-12d7-4b7b-bb8b-f0b6db43fe6f"
      },
      "outputs": [
        {
          "name": "stdout",
          "output_type": "stream",
          "text": [
            "<class 'list'>\n"
          ]
        }
      ],
      "source": [
        "print(type(pilha))"
      ]
    },
    {
      "cell_type": "code",
      "execution_count": 8,
      "metadata": {
        "colab": {
          "base_uri": "https://localhost:8080/"
        },
        "id": "O3gvwFyRu-36",
        "outputId": "908543e6-71d2-4d5c-db0c-5f18b9ff1d2c"
      },
      "outputs": [
        {
          "data": {
            "text/plain": [
              "[3, 4, 5]"
            ]
          },
          "execution_count": 8,
          "metadata": {},
          "output_type": "execute_result"
        }
      ],
      "source": [
        "pilha"
      ]
    },
    {
      "cell_type": "code",
      "execution_count": 9,
      "metadata": {
        "colab": {
          "base_uri": "https://localhost:8080/"
        },
        "id": "EhkP3MJvvsAx",
        "outputId": "edfc7a1b-3b87-4275-b7b8-9109398fdfe7"
      },
      "outputs": [
        {
          "data": {
            "text/plain": [
              "5"
            ]
          },
          "execution_count": 9,
          "metadata": {},
          "output_type": "execute_result"
        }
      ],
      "source": [
        "# topo da pilha\n",
        "pilha[-1]"
      ]
    },
    {
      "cell_type": "code",
      "execution_count": 10,
      "metadata": {
        "colab": {
          "base_uri": "https://localhost:8080/"
        },
        "id": "_6rUtZDyboyC",
        "outputId": "ffbd5617-11c3-4c4d-9a69-ad0e70ff9909"
      },
      "outputs": [
        {
          "data": {
            "text/plain": [
              "4"
            ]
          },
          "execution_count": 10,
          "metadata": {},
          "output_type": "execute_result"
        }
      ],
      "source": [
        "pilha[1]"
      ]
    },
    {
      "cell_type": "markdown",
      "metadata": {
        "id": "SB7mtbyvG-Ms"
      },
      "source": [
        "Exercício: utilizando o conceito de pilhas, implemente uma função que recebe uma palavra numa string como parâmetro e verifica se ela é um palíndromo (palavra que lida em qualquer direção é a mesma)\n",
        "* Ex.: ana\n",
        "* Ex.: abba\n",
        "* etc"
      ]
    },
    {
      "cell_type": "code",
      "execution_count": 11,
      "metadata": {
        "id": "Tq6zin91HlXg"
      },
      "outputs": [],
      "source": [
        "def eh_palindromo(palavra):\n",
        "  ## Código para palíndromo utilizando pilhas\n",
        "  pilha = []\n",
        "  for c in palavra:\n",
        "    pilha.append(c)\n",
        "\n",
        "  pilha_inversa = []\n",
        "  for i in range(len(palavra)-1, -1, -1):\n",
        "    pilha_inversa.append(palavra[i])\n",
        "    \n",
        "  for i in range(len(pilha)):\n",
        "    c = pilha.pop()\n",
        "    d = pilha_inversa.pop()\n",
        "    if (c != d):\n",
        "      return False\n",
        "  return True"
      ]
    },
    {
      "cell_type": "code",
      "execution_count": 22,
      "metadata": {},
      "outputs": [],
      "source": [
        "def eh_palindromo2(palavra):\n",
        "    inversa = palavra[::-1]\n",
        "    if (palavra == inversa):\n",
        "        return True\n",
        "    else:\n",
        "        return False"
      ]
    },
    {
      "cell_type": "code",
      "execution_count": 26,
      "metadata": {},
      "outputs": [
        {
          "data": {
            "text/plain": [
              "['1', '2', '3', '4']"
            ]
          },
          "execution_count": 26,
          "metadata": {},
          "output_type": "execute_result"
        }
      ],
      "source": [
        "list('1234')"
      ]
    },
    {
      "cell_type": "code",
      "execution_count": 27,
      "metadata": {},
      "outputs": [],
      "source": [
        "def eh_palindromo3(palavra):\n",
        "    lista_original = list(palavra)\n",
        "    invertida = list(palavra[::-1])\n",
        "    if (lista_original == invertida):\n",
        "        return True\n",
        "    else:\n",
        "        return False"
      ]
    },
    {
      "cell_type": "code",
      "execution_count": 28,
      "metadata": {
        "colab": {
          "base_uri": "https://localhost:8080/"
        },
        "id": "Y3q9flWScEDH",
        "outputId": "49616ed4-8bed-48e4-9c51-0ee4659d192f"
      },
      "outputs": [
        {
          "data": {
            "text/plain": [
              "True"
            ]
          },
          "execution_count": 28,
          "metadata": {},
          "output_type": "execute_result"
        }
      ],
      "source": [
        "eh_palindromo3('ana')"
      ]
    },
    {
      "cell_type": "code",
      "execution_count": 18,
      "metadata": {
        "id": "mNuK8mW_8cUg"
      },
      "outputs": [],
      "source": [
        "## Versão sem utilizar pilhas\n",
        "def eh_palindromo2(palavra):\n",
        "    if (palavra == palavra[::-1]):\n",
        "        return True\n",
        "    return False"
      ]
    },
    {
      "cell_type": "code",
      "execution_count": 30,
      "metadata": {
        "colab": {
          "base_uri": "https://localhost:8080/"
        },
        "id": "PTJFXTjf82OO",
        "outputId": "bb61e65e-69ac-48c9-a19c-edf292c428a3"
      },
      "outputs": [
        {
          "data": {
            "text/plain": [
              "True"
            ]
          },
          "execution_count": 30,
          "metadata": {},
          "output_type": "execute_result"
        }
      ],
      "source": [
        "eh_palindromo3('arara')"
      ]
    },
    {
      "cell_type": "markdown",
      "metadata": {
        "id": "X_PiQmyTRuWt"
      },
      "source": [
        "Exercício: Implemente uma função para avaliar a consistência de expressões entre parênteses. Exemplos:\n",
        "\n",
        "* ((()))           // consistente\n",
        "* (()              // inconsistente\n",
        "* ((2+3)*4)/4      // consistente\n"
      ]
    },
    {
      "cell_type": "code",
      "execution_count": 25,
      "metadata": {
        "id": "c7Rr3nNr9qMG"
      },
      "outputs": [],
      "source": [
        "def eh_consistente(expr):\n",
        "  ## Função retorn True se os parênteses que foram abertos são fechados\n",
        "  ## Funçção retorna False caso contrário\n",
        "  return True"
      ]
    },
    {
      "cell_type": "code",
      "execution_count": null,
      "metadata": {
        "id": "8ZVo67vC94jd"
      },
      "outputs": [],
      "source": [
        "eh_consistente('(())')"
      ]
    },
    {
      "cell_type": "code",
      "execution_count": null,
      "metadata": {
        "id": "Nl6_10P6dDUZ"
      },
      "outputs": [],
      "source": [
        "# retorna True"
      ]
    },
    {
      "cell_type": "code",
      "execution_count": null,
      "metadata": {
        "colab": {
          "base_uri": "https://localhost:8080/"
        },
        "id": "SO1zD69SlMWr",
        "outputId": "b289834e-c206-4681-c094-d44795ce7c10"
      },
      "outputs": [
        {
          "data": {
            "text/plain": [
              "False"
            ]
          },
          "execution_count": 26,
          "metadata": {
            "tags": []
          },
          "output_type": "execute_result"
        }
      ],
      "source": [
        "eh_consistente('))')"
      ]
    },
    {
      "cell_type": "markdown",
      "metadata": {
        "id": "DzqPUceAwbAL"
      },
      "source": [
        "Filas também são coleções de dados utilizadas em diversos problemas. O comportamento das filas é diferente das pilhas e obedece às propriedades FIFO (First In First Out):\n",
        "* Inserções e remoções de dados ocorrem nas extremidades opostas da estrutura de dados\n",
        "* Ao inserir um elemento na fila, este elemento entra no final da fila, caso ela já contenha elementos. Senão o elemento é o primeiro da fila\n",
        "* Para a fila diminuir, ou acessar qualquer recurso da fila, os elementos devem ser removidos um por um a partir do início da fila (extremidade oposta). O único elemento visível para o mundo externo é o primeiro\n",
        "\n",
        "Em Python também é possível implementar uma Fila a partir da interface Lista, mas não é computacionalmente eficiente. A estrutura mais eficiente é a implementada na classe deque"
      ]
    },
    {
      "cell_type": "code",
      "execution_count": 31,
      "metadata": {
        "id": "D3-xb2-Q2cgH"
      },
      "outputs": [],
      "source": [
        "from collections import deque"
      ]
    },
    {
      "cell_type": "code",
      "execution_count": 32,
      "metadata": {
        "id": "OfLqqbS45vT3"
      },
      "outputs": [],
      "source": [
        "fila = deque(['Doc Word', 'Doc PDF', 'Imagem'])"
      ]
    },
    {
      "cell_type": "code",
      "execution_count": 33,
      "metadata": {
        "colab": {
          "base_uri": "https://localhost:8080/"
        },
        "id": "uslglYwezpeG",
        "outputId": "1445742e-4079-4bf4-cd66-50a986d81712"
      },
      "outputs": [
        {
          "name": "stdout",
          "output_type": "stream",
          "text": [
            "<class 'collections.deque'>\n"
          ]
        }
      ],
      "source": [
        "print(type(fila))"
      ]
    },
    {
      "cell_type": "code",
      "execution_count": 34,
      "metadata": {
        "id": "KsWvDsi6567i"
      },
      "outputs": [],
      "source": [
        "fila.append('Excel')\n",
        "fila.append('Doc Word')"
      ]
    },
    {
      "cell_type": "code",
      "execution_count": 35,
      "metadata": {
        "colab": {
          "base_uri": "https://localhost:8080/"
        },
        "id": "KavM56j_5-0H",
        "outputId": "cce6e7b0-f7b0-4325-c9b2-02682f84476a"
      },
      "outputs": [
        {
          "data": {
            "text/plain": [
              "deque(['Doc Word', 'Doc PDF', 'Imagem', 'Excel', 'Doc Word'])"
            ]
          },
          "execution_count": 35,
          "metadata": {},
          "output_type": "execute_result"
        }
      ],
      "source": [
        "fila"
      ]
    },
    {
      "cell_type": "code",
      "execution_count": 36,
      "metadata": {
        "colab": {
          "base_uri": "https://localhost:8080/",
          "height": 35
        },
        "id": "ID7eh09t6CG3",
        "outputId": "bb8f0132-8f45-40be-8686-0fbdea89d77a"
      },
      "outputs": [
        {
          "data": {
            "text/plain": [
              "'Doc Word'"
            ]
          },
          "execution_count": 36,
          "metadata": {},
          "output_type": "execute_result"
        }
      ],
      "source": [
        "fila.popleft()"
      ]
    },
    {
      "cell_type": "code",
      "execution_count": 37,
      "metadata": {
        "colab": {
          "base_uri": "https://localhost:8080/",
          "height": 35
        },
        "id": "ih4XPB2x6En1",
        "outputId": "4e80cb5f-20d2-44ec-f8c4-8dfb7e7da2bb"
      },
      "outputs": [
        {
          "data": {
            "text/plain": [
              "'Doc PDF'"
            ]
          },
          "execution_count": 37,
          "metadata": {},
          "output_type": "execute_result"
        }
      ],
      "source": [
        "fila.popleft()"
      ]
    },
    {
      "cell_type": "code",
      "execution_count": null,
      "metadata": {
        "colab": {
          "base_uri": "https://localhost:8080/"
        },
        "id": "ZHIlQJ6G_n8j",
        "outputId": "1ef3a2bb-6704-4e04-9263-c60fb45d62be"
      },
      "outputs": [
        {
          "data": {
            "text/plain": [
              "deque(['Imagem', 'Excel', 'Doc Word'])"
            ]
          },
          "execution_count": 16,
          "metadata": {
            "tags": []
          },
          "output_type": "execute_result"
        }
      ],
      "source": [
        "fila"
      ]
    },
    {
      "cell_type": "markdown",
      "metadata": {
        "id": "adOlcqOqPmDz"
      },
      "source": [
        "Escreva um código em Python que simule o controle de uma pista de decolagem de aviões em um aeroporto. Neste programa,o usuário deve ser capaz de realizar as seguintes tarefas:\n",
        "* Listar o número de aviões aguardando na fila de decolagem\n",
        "* Autorizar a decolagem do primeiro avião da fila\n",
        "* Adicionar um avião à fila de espera\n",
        "* Listar todos os aviões na fila de espera\n",
        "* Listar as características do primeiro avião da fila.Considere que os aviões possuem um nome e um número inteiro como identificador."
      ]
    }
  ],
  "metadata": {
    "colab": {
      "authorship_tag": "ABX9TyMhX5yCDthyEu+zjKXRanhq",
      "include_colab_link": true,
      "name": "aula5.ipynb",
      "provenance": [],
      "toc_visible": true
    },
    "kernelspec": {
      "display_name": "Python 3.8.8 ('base')",
      "language": "python",
      "name": "python3"
    },
    "language_info": {
      "codemirror_mode": {
        "name": "ipython",
        "version": 3
      },
      "file_extension": ".py",
      "mimetype": "text/x-python",
      "name": "python",
      "nbconvert_exporter": "python",
      "pygments_lexer": "ipython3",
      "version": "3.8.8 (default, Apr 13 2021, 15:08:03) [MSC v.1916 64 bit (AMD64)]"
    },
    "vscode": {
      "interpreter": {
        "hash": "c4f92193806e2908606a5f23edd55a5282f2f433b73b1c504507f9256ed9f0b4"
      }
    }
  },
  "nbformat": 4,
  "nbformat_minor": 0
}
