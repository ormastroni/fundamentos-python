{
  "nbformat": 4,
  "nbformat_minor": 0,
  "metadata": {
    "colab": {
      "name": "Análise da PlayStore.ipynb",
      "provenance": [],
      "authorship_tag": "ABX9TyP1BGW1L7Pm1XlCW58j6V9S",
      "include_colab_link": true
    },
    "kernelspec": {
      "name": "python3",
      "display_name": "Python 3"
    },
    "language_info": {
      "name": "python"
    }
  },
  "cells": [
    {
      "cell_type": "markdown",
      "metadata": {
        "id": "view-in-github",
        "colab_type": "text"
      },
      "source": [
        "<a href=\"https://colab.research.google.com/github/ormastroni/fundamentos-python/blob/main/An%C3%A1lise_da_PlayStore.ipynb\" target=\"_parent\"><img src=\"https://colab.research.google.com/assets/colab-badge.svg\" alt=\"Open In Colab\"/></a>"
      ]
    },
    {
      "cell_type": "markdown",
      "metadata": {
        "id": "0oihuikYI8Lb"
      },
      "source": [
        "# Fundamentos de Desenvolvimento Python"
      ]
    },
    {
      "cell_type": "markdown",
      "metadata": {
        "id": "O1nRsxH7JA1r"
      },
      "source": [
        "## prof.: Andre Victor"
      ]
    },
    {
      "cell_type": "markdown",
      "metadata": {
        "id": "62M0CULmJFQI"
      },
      "source": [
        "### Análise de dados: Series"
      ]
    },
    {
      "cell_type": "markdown",
      "metadata": {
        "id": "PAxkHS_4JTeP"
      },
      "source": [
        "Carregue o dataset **googleplaystore.csv** que contém as avaliações dos apps disponibilizados na Play Store\n",
        "\n",
        "Dataset disponível em https://www.kaggle.com/lava18/google-play-store-apps?select=googleplaystore.csv"
      ]
    },
    {
      "cell_type": "markdown",
      "metadata": {
        "id": "-Wl4Rn0bJqOR"
      },
      "source": [
        "1) Explique quantos atributos têm esse dataset e faça uma breve explicação sobre o conteúdo de cada um"
      ]
    },
    {
      "cell_type": "code",
      "metadata": {
        "id": "Alr_yNONJoWF",
        "colab": {
          "base_uri": "https://localhost:8080/"
        },
        "outputId": "e6944baf-60c2-4c7f-9b73-11b531f18880"
      },
      "source": [
        "from google.colab import drive\n",
        "drive.mount('/content/drive')"
      ],
      "execution_count": 1,
      "outputs": [
        {
          "output_type": "stream",
          "name": "stdout",
          "text": [
            "Go to this URL in a browser: https://accounts.google.com/o/oauth2/auth?client_id=947318989803-6bn6qk8qdgf4n4g3pfee6491hc0brc4i.apps.googleusercontent.com&redirect_uri=urn%3aietf%3awg%3aoauth%3a2.0%3aoob&scope=email%20https%3a%2f%2fwww.googleapis.com%2fauth%2fdocs.test%20https%3a%2f%2fwww.googleapis.com%2fauth%2fdrive%20https%3a%2f%2fwww.googleapis.com%2fauth%2fdrive.photos.readonly%20https%3a%2f%2fwww.googleapis.com%2fauth%2fpeopleapi.readonly%20https%3a%2f%2fwww.googleapis.com%2fauth%2fdrive.activity.readonly%20https%3a%2f%2fwww.googleapis.com%2fauth%2fexperimentsandconfigs%20https%3a%2f%2fwww.googleapis.com%2fauth%2fphotos.native&response_type=code\n",
            "\n",
            "Enter your authorization code:\n",
            "4/1AX4XfWjaoN1H3T4TGEMcZI2wDG_DhzizjesqCgnW-Nqpi_m9MTAmtozxTq4\n",
            "Mounted at /content/drive\n"
          ]
        }
      ]
    },
    {
      "cell_type": "code",
      "metadata": {
        "id": "kNFKF408suLZ"
      },
      "source": [
        "import os\n",
        "os.chdir('/content/drive/My Drive/cursos/fundamentos python/shared/datasets')"
      ],
      "execution_count": 2,
      "outputs": []
    },
    {
      "cell_type": "code",
      "metadata": {
        "colab": {
          "base_uri": "https://localhost:8080/"
        },
        "id": "wCbPGZpWtCGT",
        "outputId": "ad1a2fd3-25fe-49ab-a2d3-aef8bf880983"
      },
      "source": [
        "!ls -la"
      ],
      "execution_count": 3,
      "outputs": [
        {
          "output_type": "stream",
          "name": "stdout",
          "text": [
            "total 2926\n",
            "-rw------- 1 root root   17294 Jun  2 01:39 auto-miles-per-gallon.csv\n",
            "-rw------- 1 root root 1360155 Jun  8 23:41 googleplaystore.csv\n",
            "-rw------- 1 root root 1618040 Jun 13 20:54 Video_Games_Sales_as_at_22_Dec_2016.csv\n"
          ]
        }
      ]
    },
    {
      "cell_type": "markdown",
      "metadata": {
        "id": "qZSGSnBFKFF9"
      },
      "source": [
        "2) Quantos apps estão disponíveis no dataset ?"
      ]
    },
    {
      "cell_type": "code",
      "metadata": {
        "id": "ELtrjXM0KK6A"
      },
      "source": [
        "import pandas as pd"
      ],
      "execution_count": 4,
      "outputs": []
    },
    {
      "cell_type": "code",
      "metadata": {
        "id": "Xd4TSBg6tMnI"
      },
      "source": [
        "apps = pd.read_csv('googleplaystore.csv')"
      ],
      "execution_count": 5,
      "outputs": []
    },
    {
      "cell_type": "code",
      "metadata": {
        "colab": {
          "base_uri": "https://localhost:8080/",
          "height": 875
        },
        "id": "_JtwtIP6tT7Z",
        "outputId": "3ddbd590-9c4d-4fb4-d23d-d6b314d1dd0c"
      },
      "source": [
        "apps"
      ],
      "execution_count": 6,
      "outputs": [
        {
          "output_type": "execute_result",
          "data": {
            "text/html": [
              "<div>\n",
              "<style scoped>\n",
              "    .dataframe tbody tr th:only-of-type {\n",
              "        vertical-align: middle;\n",
              "    }\n",
              "\n",
              "    .dataframe tbody tr th {\n",
              "        vertical-align: top;\n",
              "    }\n",
              "\n",
              "    .dataframe thead th {\n",
              "        text-align: right;\n",
              "    }\n",
              "</style>\n",
              "<table border=\"1\" class=\"dataframe\">\n",
              "  <thead>\n",
              "    <tr style=\"text-align: right;\">\n",
              "      <th></th>\n",
              "      <th>App</th>\n",
              "      <th>Category</th>\n",
              "      <th>Rating</th>\n",
              "      <th>Reviews</th>\n",
              "      <th>Size</th>\n",
              "      <th>Installs</th>\n",
              "      <th>Type</th>\n",
              "      <th>Price</th>\n",
              "      <th>Content Rating</th>\n",
              "      <th>Genres</th>\n",
              "      <th>Last Updated</th>\n",
              "      <th>Current Ver</th>\n",
              "      <th>Android Ver</th>\n",
              "    </tr>\n",
              "  </thead>\n",
              "  <tbody>\n",
              "    <tr>\n",
              "      <th>0</th>\n",
              "      <td>Photo Editor &amp; Candy Camera &amp; Grid &amp; ScrapBook</td>\n",
              "      <td>ART_AND_DESIGN</td>\n",
              "      <td>4.1</td>\n",
              "      <td>159</td>\n",
              "      <td>19M</td>\n",
              "      <td>10,000+</td>\n",
              "      <td>Free</td>\n",
              "      <td>0</td>\n",
              "      <td>Everyone</td>\n",
              "      <td>Art &amp; Design</td>\n",
              "      <td>January 7, 2018</td>\n",
              "      <td>1.0.0</td>\n",
              "      <td>4.0.3 and up</td>\n",
              "    </tr>\n",
              "    <tr>\n",
              "      <th>1</th>\n",
              "      <td>Coloring book moana</td>\n",
              "      <td>ART_AND_DESIGN</td>\n",
              "      <td>3.9</td>\n",
              "      <td>967</td>\n",
              "      <td>14M</td>\n",
              "      <td>500,000+</td>\n",
              "      <td>Free</td>\n",
              "      <td>0</td>\n",
              "      <td>Everyone</td>\n",
              "      <td>Art &amp; Design;Pretend Play</td>\n",
              "      <td>January 15, 2018</td>\n",
              "      <td>2.0.0</td>\n",
              "      <td>4.0.3 and up</td>\n",
              "    </tr>\n",
              "    <tr>\n",
              "      <th>2</th>\n",
              "      <td>U Launcher Lite – FREE Live Cool Themes, Hide ...</td>\n",
              "      <td>ART_AND_DESIGN</td>\n",
              "      <td>4.7</td>\n",
              "      <td>87510</td>\n",
              "      <td>8.7M</td>\n",
              "      <td>5,000,000+</td>\n",
              "      <td>Free</td>\n",
              "      <td>0</td>\n",
              "      <td>Everyone</td>\n",
              "      <td>Art &amp; Design</td>\n",
              "      <td>August 1, 2018</td>\n",
              "      <td>1.2.4</td>\n",
              "      <td>4.0.3 and up</td>\n",
              "    </tr>\n",
              "    <tr>\n",
              "      <th>3</th>\n",
              "      <td>Sketch - Draw &amp; Paint</td>\n",
              "      <td>ART_AND_DESIGN</td>\n",
              "      <td>4.5</td>\n",
              "      <td>215644</td>\n",
              "      <td>25M</td>\n",
              "      <td>50,000,000+</td>\n",
              "      <td>Free</td>\n",
              "      <td>0</td>\n",
              "      <td>Teen</td>\n",
              "      <td>Art &amp; Design</td>\n",
              "      <td>June 8, 2018</td>\n",
              "      <td>Varies with device</td>\n",
              "      <td>4.2 and up</td>\n",
              "    </tr>\n",
              "    <tr>\n",
              "      <th>4</th>\n",
              "      <td>Pixel Draw - Number Art Coloring Book</td>\n",
              "      <td>ART_AND_DESIGN</td>\n",
              "      <td>4.3</td>\n",
              "      <td>967</td>\n",
              "      <td>2.8M</td>\n",
              "      <td>100,000+</td>\n",
              "      <td>Free</td>\n",
              "      <td>0</td>\n",
              "      <td>Everyone</td>\n",
              "      <td>Art &amp; Design;Creativity</td>\n",
              "      <td>June 20, 2018</td>\n",
              "      <td>1.1</td>\n",
              "      <td>4.4 and up</td>\n",
              "    </tr>\n",
              "    <tr>\n",
              "      <th>...</th>\n",
              "      <td>...</td>\n",
              "      <td>...</td>\n",
              "      <td>...</td>\n",
              "      <td>...</td>\n",
              "      <td>...</td>\n",
              "      <td>...</td>\n",
              "      <td>...</td>\n",
              "      <td>...</td>\n",
              "      <td>...</td>\n",
              "      <td>...</td>\n",
              "      <td>...</td>\n",
              "      <td>...</td>\n",
              "      <td>...</td>\n",
              "    </tr>\n",
              "    <tr>\n",
              "      <th>10836</th>\n",
              "      <td>Sya9a Maroc - FR</td>\n",
              "      <td>FAMILY</td>\n",
              "      <td>4.5</td>\n",
              "      <td>38</td>\n",
              "      <td>53M</td>\n",
              "      <td>5,000+</td>\n",
              "      <td>Free</td>\n",
              "      <td>0</td>\n",
              "      <td>Everyone</td>\n",
              "      <td>Education</td>\n",
              "      <td>July 25, 2017</td>\n",
              "      <td>1.48</td>\n",
              "      <td>4.1 and up</td>\n",
              "    </tr>\n",
              "    <tr>\n",
              "      <th>10837</th>\n",
              "      <td>Fr. Mike Schmitz Audio Teachings</td>\n",
              "      <td>FAMILY</td>\n",
              "      <td>5.0</td>\n",
              "      <td>4</td>\n",
              "      <td>3.6M</td>\n",
              "      <td>100+</td>\n",
              "      <td>Free</td>\n",
              "      <td>0</td>\n",
              "      <td>Everyone</td>\n",
              "      <td>Education</td>\n",
              "      <td>July 6, 2018</td>\n",
              "      <td>1.0</td>\n",
              "      <td>4.1 and up</td>\n",
              "    </tr>\n",
              "    <tr>\n",
              "      <th>10838</th>\n",
              "      <td>Parkinson Exercices FR</td>\n",
              "      <td>MEDICAL</td>\n",
              "      <td>NaN</td>\n",
              "      <td>3</td>\n",
              "      <td>9.5M</td>\n",
              "      <td>1,000+</td>\n",
              "      <td>Free</td>\n",
              "      <td>0</td>\n",
              "      <td>Everyone</td>\n",
              "      <td>Medical</td>\n",
              "      <td>January 20, 2017</td>\n",
              "      <td>1.0</td>\n",
              "      <td>2.2 and up</td>\n",
              "    </tr>\n",
              "    <tr>\n",
              "      <th>10839</th>\n",
              "      <td>The SCP Foundation DB fr nn5n</td>\n",
              "      <td>BOOKS_AND_REFERENCE</td>\n",
              "      <td>4.5</td>\n",
              "      <td>114</td>\n",
              "      <td>Varies with device</td>\n",
              "      <td>1,000+</td>\n",
              "      <td>Free</td>\n",
              "      <td>0</td>\n",
              "      <td>Mature 17+</td>\n",
              "      <td>Books &amp; Reference</td>\n",
              "      <td>January 19, 2015</td>\n",
              "      <td>Varies with device</td>\n",
              "      <td>Varies with device</td>\n",
              "    </tr>\n",
              "    <tr>\n",
              "      <th>10840</th>\n",
              "      <td>iHoroscope - 2018 Daily Horoscope &amp; Astrology</td>\n",
              "      <td>LIFESTYLE</td>\n",
              "      <td>4.5</td>\n",
              "      <td>398307</td>\n",
              "      <td>19M</td>\n",
              "      <td>10,000,000+</td>\n",
              "      <td>Free</td>\n",
              "      <td>0</td>\n",
              "      <td>Everyone</td>\n",
              "      <td>Lifestyle</td>\n",
              "      <td>July 25, 2018</td>\n",
              "      <td>Varies with device</td>\n",
              "      <td>Varies with device</td>\n",
              "    </tr>\n",
              "  </tbody>\n",
              "</table>\n",
              "<p>10841 rows × 13 columns</p>\n",
              "</div>"
            ],
            "text/plain": [
              "                                                     App  ...         Android Ver\n",
              "0         Photo Editor & Candy Camera & Grid & ScrapBook  ...        4.0.3 and up\n",
              "1                                    Coloring book moana  ...        4.0.3 and up\n",
              "2      U Launcher Lite – FREE Live Cool Themes, Hide ...  ...        4.0.3 and up\n",
              "3                                  Sketch - Draw & Paint  ...          4.2 and up\n",
              "4                  Pixel Draw - Number Art Coloring Book  ...          4.4 and up\n",
              "...                                                  ...  ...                 ...\n",
              "10836                                   Sya9a Maroc - FR  ...          4.1 and up\n",
              "10837                   Fr. Mike Schmitz Audio Teachings  ...          4.1 and up\n",
              "10838                             Parkinson Exercices FR  ...          2.2 and up\n",
              "10839                      The SCP Foundation DB fr nn5n  ...  Varies with device\n",
              "10840      iHoroscope - 2018 Daily Horoscope & Astrology  ...  Varies with device\n",
              "\n",
              "[10841 rows x 13 columns]"
            ]
          },
          "metadata": {},
          "execution_count": 6
        }
      ]
    },
    {
      "cell_type": "code",
      "metadata": {
        "colab": {
          "base_uri": "https://localhost:8080/"
        },
        "id": "jZ0K3yPVuBYs",
        "outputId": "b33cf44b-90ea-40bf-a5e7-85a4424e94c3"
      },
      "source": [
        "print(f'O numero de aplicativos existentes é de {apps.shape[0]}')\n",
        "print(f'O numero de atributos do dataframe é {apps.shape[1]}')"
      ],
      "execution_count": 7,
      "outputs": [
        {
          "output_type": "stream",
          "name": "stdout",
          "text": [
            "O numero de aplicativos existentes é de 10841\n",
            "O numero de atributos do dataframe é 13\n"
          ]
        }
      ]
    },
    {
      "cell_type": "markdown",
      "metadata": {
        "id": "kPvccjCeKLWD"
      },
      "source": [
        "3) Existe algum atributo nesse dataset que não está preenchido (valores nulos) ?"
      ]
    },
    {
      "cell_type": "code",
      "metadata": {
        "id": "UHewe4HaKeww",
        "colab": {
          "base_uri": "https://localhost:8080/"
        },
        "outputId": "97bc0047-897f-415e-d4d7-671bb476e4e0"
      },
      "source": [
        "apps.info()"
      ],
      "execution_count": 8,
      "outputs": [
        {
          "output_type": "stream",
          "name": "stdout",
          "text": [
            "<class 'pandas.core.frame.DataFrame'>\n",
            "RangeIndex: 10841 entries, 0 to 10840\n",
            "Data columns (total 13 columns):\n",
            " #   Column          Non-Null Count  Dtype  \n",
            "---  ------          --------------  -----  \n",
            " 0   App             10841 non-null  object \n",
            " 1   Category        10841 non-null  object \n",
            " 2   Rating          9367 non-null   float64\n",
            " 3   Reviews         10841 non-null  object \n",
            " 4   Size            10841 non-null  object \n",
            " 5   Installs        10841 non-null  object \n",
            " 6   Type            10840 non-null  object \n",
            " 7   Price           10841 non-null  object \n",
            " 8   Content Rating  10840 non-null  object \n",
            " 9   Genres          10841 non-null  object \n",
            " 10  Last Updated    10841 non-null  object \n",
            " 11  Current Ver     10833 non-null  object \n",
            " 12  Android Ver     10838 non-null  object \n",
            "dtypes: float64(1), object(12)\n",
            "memory usage: 1.1+ MB\n"
          ]
        }
      ]
    },
    {
      "cell_type": "markdown",
      "metadata": {
        "id": "V1Fabwt2KfNm"
      },
      "source": [
        "4) Cria uma série de valores de reviews indexados pelo nome do App "
      ]
    },
    {
      "cell_type": "code",
      "metadata": {
        "id": "jnwklKxaNcqV"
      },
      "source": [
        "serie_reviews = pd.read_csv('googleplaystore.csv', usecols=['App', 'Reviews'], index_col=['App'], squeeze=True)"
      ],
      "execution_count": 9,
      "outputs": []
    },
    {
      "cell_type": "code",
      "metadata": {
        "colab": {
          "base_uri": "https://localhost:8080/"
        },
        "id": "vN_Gl0rfwQhc",
        "outputId": "04e666fe-b1b8-4763-e3c1-767b7b33aa44"
      },
      "source": [
        "serie_reviews"
      ],
      "execution_count": 10,
      "outputs": [
        {
          "output_type": "execute_result",
          "data": {
            "text/plain": [
              "App\n",
              "Photo Editor & Candy Camera & Grid & ScrapBook           159\n",
              "Coloring book moana                                      967\n",
              "U Launcher Lite – FREE Live Cool Themes, Hide Apps     87510\n",
              "Sketch - Draw & Paint                                 215644\n",
              "Pixel Draw - Number Art Coloring Book                    967\n",
              "                                                       ...  \n",
              "Sya9a Maroc - FR                                          38\n",
              "Fr. Mike Schmitz Audio Teachings                           4\n",
              "Parkinson Exercices FR                                     3\n",
              "The SCP Foundation DB fr nn5n                            114\n",
              "iHoroscope - 2018 Daily Horoscope & Astrology         398307\n",
              "Name: Reviews, Length: 10841, dtype: object"
            ]
          },
          "metadata": {},
          "execution_count": 10
        }
      ]
    },
    {
      "cell_type": "code",
      "metadata": {
        "colab": {
          "base_uri": "https://localhost:8080/"
        },
        "id": "eL5i_ilGwYPb",
        "outputId": "6bcaf9c4-2c9c-4cad-f76f-e88e195582c9"
      },
      "source": [
        "serie_reviews['Coloring book moana']"
      ],
      "execution_count": 11,
      "outputs": [
        {
          "output_type": "execute_result",
          "data": {
            "text/plain": [
              "App\n",
              "Coloring book moana    967\n",
              "Coloring book moana    974\n",
              "Name: Reviews, dtype: object"
            ]
          },
          "metadata": {},
          "execution_count": 11
        }
      ]
    },
    {
      "cell_type": "markdown",
      "metadata": {
        "id": "VnOSLahgNdDr"
      },
      "source": [
        "5) Qual o tipo atribuído por default a essa série ? Por que ela não é uma série **int64** ?"
      ]
    },
    {
      "cell_type": "code",
      "metadata": {
        "id": "F6zsXraTN11t",
        "colab": {
          "base_uri": "https://localhost:8080/",
          "height": 464
        },
        "outputId": "7ae9be74-49e2-4278-986f-58f5551ecfd0"
      },
      "source": [
        "pd.to_numeric(serie_reviews)"
      ],
      "execution_count": 12,
      "outputs": [
        {
          "output_type": "error",
          "ename": "ValueError",
          "evalue": "ignored",
          "traceback": [
            "\u001b[0;31m---------------------------------------------------------------------------\u001b[0m",
            "\u001b[0;31mValueError\u001b[0m                                Traceback (most recent call last)",
            "\u001b[0;32mpandas/_libs/lib.pyx\u001b[0m in \u001b[0;36mpandas._libs.lib.maybe_convert_numeric\u001b[0;34m()\u001b[0m\n",
            "\u001b[0;31mValueError\u001b[0m: Unable to parse string \"3.0M\"",
            "\nDuring handling of the above exception, another exception occurred:\n",
            "\u001b[0;31mValueError\u001b[0m                                Traceback (most recent call last)",
            "\u001b[0;32m<ipython-input-12-30996f4301d7>\u001b[0m in \u001b[0;36m<module>\u001b[0;34m()\u001b[0m\n\u001b[0;32m----> 1\u001b[0;31m \u001b[0mpd\u001b[0m\u001b[0;34m.\u001b[0m\u001b[0mto_numeric\u001b[0m\u001b[0;34m(\u001b[0m\u001b[0mserie_reviews\u001b[0m\u001b[0;34m)\u001b[0m\u001b[0;34m\u001b[0m\u001b[0;34m\u001b[0m\u001b[0m\n\u001b[0m",
            "\u001b[0;32m/usr/local/lib/python3.7/dist-packages/pandas/core/tools/numeric.py\u001b[0m in \u001b[0;36mto_numeric\u001b[0;34m(arg, errors, downcast)\u001b[0m\n\u001b[1;32m    151\u001b[0m         \u001b[0;32mtry\u001b[0m\u001b[0;34m:\u001b[0m\u001b[0;34m\u001b[0m\u001b[0;34m\u001b[0m\u001b[0m\n\u001b[1;32m    152\u001b[0m             values = lib.maybe_convert_numeric(\n\u001b[0;32m--> 153\u001b[0;31m                 \u001b[0mvalues\u001b[0m\u001b[0;34m,\u001b[0m \u001b[0mset\u001b[0m\u001b[0;34m(\u001b[0m\u001b[0;34m)\u001b[0m\u001b[0;34m,\u001b[0m \u001b[0mcoerce_numeric\u001b[0m\u001b[0;34m=\u001b[0m\u001b[0mcoerce_numeric\u001b[0m\u001b[0;34m\u001b[0m\u001b[0;34m\u001b[0m\u001b[0m\n\u001b[0m\u001b[1;32m    154\u001b[0m             )\n\u001b[1;32m    155\u001b[0m         \u001b[0;32mexcept\u001b[0m \u001b[0;34m(\u001b[0m\u001b[0mValueError\u001b[0m\u001b[0;34m,\u001b[0m \u001b[0mTypeError\u001b[0m\u001b[0;34m)\u001b[0m\u001b[0;34m:\u001b[0m\u001b[0;34m\u001b[0m\u001b[0;34m\u001b[0m\u001b[0m\n",
            "\u001b[0;32mpandas/_libs/lib.pyx\u001b[0m in \u001b[0;36mpandas._libs.lib.maybe_convert_numeric\u001b[0;34m()\u001b[0m\n",
            "\u001b[0;31mValueError\u001b[0m: Unable to parse string \"3.0M\" at position 10472"
          ]
        }
      ]
    },
    {
      "cell_type": "code",
      "metadata": {
        "colab": {
          "base_uri": "https://localhost:8080/"
        },
        "id": "_NVZNGuRfuIU",
        "outputId": "4cdb015c-ffe8-4f28-e63f-33ebe0422dfc"
      },
      "source": [
        "apps.loc[10472]"
      ],
      "execution_count": 13,
      "outputs": [
        {
          "output_type": "execute_result",
          "data": {
            "text/plain": [
              "App               Life Made WI-Fi Touchscreen Photo Frame\n",
              "Category                                              1.9\n",
              "Rating                                                 19\n",
              "Reviews                                              3.0M\n",
              "Size                                               1,000+\n",
              "Installs                                             Free\n",
              "Type                                                    0\n",
              "Price                                            Everyone\n",
              "Content Rating                                        NaN\n",
              "Genres                                  February 11, 2018\n",
              "Last Updated                                       1.0.19\n",
              "Current Ver                                    4.0 and up\n",
              "Android Ver                                           NaN\n",
              "Name: 10472, dtype: object"
            ]
          },
          "metadata": {},
          "execution_count": 13
        }
      ]
    },
    {
      "cell_type": "code",
      "metadata": {
        "colab": {
          "base_uri": "https://localhost:8080/",
          "height": 35
        },
        "id": "t--xqJLDgO9i",
        "outputId": "29946a01-9dfa-4e51-90ff-61838a1b0f2a"
      },
      "source": [
        "serie_reviews.loc['Life Made WI-Fi Touchscreen Photo Frame']"
      ],
      "execution_count": 14,
      "outputs": [
        {
          "output_type": "execute_result",
          "data": {
            "application/vnd.google.colaboratory.intrinsic+json": {
              "type": "string"
            },
            "text/plain": [
              "'3.0M'"
            ]
          },
          "metadata": {},
          "execution_count": 14
        }
      ]
    },
    {
      "cell_type": "code",
      "metadata": {
        "id": "zFx1txQQgXdU"
      },
      "source": [
        "serie_reviews.loc['Life Made WI-Fi Touchscreen Photo Frame'] = 3000000\n"
      ],
      "execution_count": 15,
      "outputs": []
    },
    {
      "cell_type": "markdown",
      "metadata": {
        "id": "uR76mU6UxLCU"
      },
      "source": [
        "6) Converta o tipo da série para **int64**"
      ]
    },
    {
      "cell_type": "code",
      "metadata": {
        "colab": {
          "base_uri": "https://localhost:8080/"
        },
        "id": "6568JxN7gFyr",
        "outputId": "28ce6ebf-e522-4dfb-f3cf-b292327c4527"
      },
      "source": [
        "pd.to_numeric(serie_reviews)"
      ],
      "execution_count": 16,
      "outputs": [
        {
          "output_type": "execute_result",
          "data": {
            "text/plain": [
              "App\n",
              "Photo Editor & Candy Camera & Grid & ScrapBook           159\n",
              "Coloring book moana                                      967\n",
              "U Launcher Lite – FREE Live Cool Themes, Hide Apps     87510\n",
              "Sketch - Draw & Paint                                 215644\n",
              "Pixel Draw - Number Art Coloring Book                    967\n",
              "                                                       ...  \n",
              "Sya9a Maroc - FR                                          38\n",
              "Fr. Mike Schmitz Audio Teachings                           4\n",
              "Parkinson Exercices FR                                     3\n",
              "The SCP Foundation DB fr nn5n                            114\n",
              "iHoroscope - 2018 Daily Horoscope & Astrology         398307\n",
              "Name: Reviews, Length: 10841, dtype: int64"
            ]
          },
          "metadata": {},
          "execution_count": 16
        }
      ]
    },
    {
      "cell_type": "code",
      "metadata": {
        "id": "cJXSxE4SgmDJ"
      },
      "source": [
        "serie_reviews = pd.to_numeric(serie_reviews)"
      ],
      "execution_count": 17,
      "outputs": []
    },
    {
      "cell_type": "code",
      "metadata": {
        "colab": {
          "base_uri": "https://localhost:8080/"
        },
        "id": "Sqv-Htwbg95-",
        "outputId": "baf3873b-cf95-4add-8bb8-049c29962976"
      },
      "source": [
        "serie_reviews"
      ],
      "execution_count": 18,
      "outputs": [
        {
          "output_type": "execute_result",
          "data": {
            "text/plain": [
              "App\n",
              "Photo Editor & Candy Camera & Grid & ScrapBook           159\n",
              "Coloring book moana                                      967\n",
              "U Launcher Lite – FREE Live Cool Themes, Hide Apps     87510\n",
              "Sketch - Draw & Paint                                 215644\n",
              "Pixel Draw - Number Art Coloring Book                    967\n",
              "                                                       ...  \n",
              "Sya9a Maroc - FR                                          38\n",
              "Fr. Mike Schmitz Audio Teachings                           4\n",
              "Parkinson Exercices FR                                     3\n",
              "The SCP Foundation DB fr nn5n                            114\n",
              "iHoroscope - 2018 Daily Horoscope & Astrology         398307\n",
              "Name: Reviews, Length: 10841, dtype: int64"
            ]
          },
          "metadata": {},
          "execution_count": 18
        }
      ]
    },
    {
      "cell_type": "markdown",
      "metadata": {
        "id": "ybyQMWXeOKCf"
      },
      "source": [
        "7) Quantos valores distintos de reviews existem nessa série ?"
      ]
    },
    {
      "cell_type": "code",
      "metadata": {
        "id": "sDpif7Y1OTFc",
        "colab": {
          "base_uri": "https://localhost:8080/"
        },
        "outputId": "5a7bf7f3-2fd7-47bf-82d4-f3a747040eb1"
      },
      "source": [
        "serie_reviews.nunique()"
      ],
      "execution_count": 19,
      "outputs": [
        {
          "output_type": "execute_result",
          "data": {
            "text/plain": [
              "6002"
            ]
          },
          "metadata": {},
          "execution_count": 19
        }
      ]
    },
    {
      "cell_type": "markdown",
      "metadata": {
        "id": "Q62Ji6djOTaZ"
      },
      "source": [
        "8) Quantos apps não sofreram nenhuma revisão ?"
      ]
    },
    {
      "cell_type": "code",
      "metadata": {
        "colab": {
          "base_uri": "https://localhost:8080/"
        },
        "id": "HKL-CkBHSalW",
        "outputId": "a665713b-68cf-4b0a-b3b3-432fe34f5471"
      },
      "source": [
        "serie_reviews[serie_reviews == 0]"
      ],
      "execution_count": 20,
      "outputs": [
        {
          "output_type": "execute_result",
          "data": {
            "text/plain": [
              "App\n",
              "Truth or Dare Pro                                  0\n",
              "Private Dating, Hide App- Blue for PrivacyHider    0\n",
              "Dating White Girls                                 0\n",
              "Geeks Dating                                       0\n",
              "CAM5678 Video Chat                                 0\n",
              "                                                  ..\n",
              "FQ India                                           0\n",
              "Miss FQ                                            0\n",
              "Word Search Tab 1 FR                               0\n",
              "PLMGSS FR                                          0\n",
              "FR Forms                                           0\n",
              "Name: Reviews, Length: 596, dtype: int64"
            ]
          },
          "metadata": {},
          "execution_count": 20
        }
      ]
    },
    {
      "cell_type": "code",
      "metadata": {
        "id": "w6emr6pFOaKN",
        "colab": {
          "base_uri": "https://localhost:8080/"
        },
        "outputId": "e20225c9-2817-4c91-f894-46ce31c11fab"
      },
      "source": [
        "len(serie_reviews[serie_reviews == 0])"
      ],
      "execution_count": 21,
      "outputs": [
        {
          "output_type": "execute_result",
          "data": {
            "text/plain": [
              "596"
            ]
          },
          "metadata": {},
          "execution_count": 21
        }
      ]
    },
    {
      "cell_type": "markdown",
      "metadata": {
        "id": "wOMQ2VbMOatt"
      },
      "source": [
        "9) Qual o app mais popular (mais reviews) ?"
      ]
    },
    {
      "cell_type": "code",
      "metadata": {
        "id": "8iDRGGzyOfr3",
        "colab": {
          "base_uri": "https://localhost:8080/"
        },
        "outputId": "32a6e64c-9293-4ccb-f8cc-7d758ef45054"
      },
      "source": [
        "serie_reviews[serie_reviews == serie_reviews.max()]"
      ],
      "execution_count": 22,
      "outputs": [
        {
          "output_type": "execute_result",
          "data": {
            "text/plain": [
              "App\n",
              "Facebook    78158306\n",
              "Name: Reviews, dtype: int64"
            ]
          },
          "metadata": {},
          "execution_count": 22
        }
      ]
    },
    {
      "cell_type": "markdown",
      "metadata": {
        "id": "UIIPqtG-OgBF"
      },
      "source": [
        "10) Qual o número de reviews mais comuns na playstore ? Quantos apps receberam esse número de reviews ? "
      ]
    },
    {
      "cell_type": "code",
      "metadata": {
        "id": "RFLWjYNSPJXx",
        "colab": {
          "base_uri": "https://localhost:8080/"
        },
        "outputId": "1ae3158b-7d05-451f-fb54-011dbea038b8"
      },
      "source": [
        "serie_reviews.mode()"
      ],
      "execution_count": 23,
      "outputs": [
        {
          "output_type": "execute_result",
          "data": {
            "text/plain": [
              "0    0\n",
              "dtype: int64"
            ]
          },
          "metadata": {},
          "execution_count": 23
        }
      ]
    },
    {
      "cell_type": "code",
      "metadata": {
        "colab": {
          "base_uri": "https://localhost:8080/"
        },
        "id": "PFWYgAUGm9wX",
        "outputId": "84d4aa8c-364a-4b22-b43d-da887a513056"
      },
      "source": [
        "serie_reviews.value_counts().iloc[0]"
      ],
      "execution_count": 24,
      "outputs": [
        {
          "output_type": "execute_result",
          "data": {
            "text/plain": [
              "596"
            ]
          },
          "metadata": {},
          "execution_count": 24
        }
      ]
    },
    {
      "cell_type": "code",
      "metadata": {
        "id": "G5HrU5Y8m9tx"
      },
      "source": [
        ""
      ],
      "execution_count": null,
      "outputs": []
    },
    {
      "cell_type": "markdown",
      "metadata": {
        "id": "GWtFHY5sPJsF"
      },
      "source": [
        "11) Qual o número médio de reviews de um app na playstore ?"
      ]
    },
    {
      "cell_type": "code",
      "metadata": {
        "id": "Ug2kEatDQMmN",
        "colab": {
          "base_uri": "https://localhost:8080/"
        },
        "outputId": "8548e5d6-29e3-4d86-a0f9-8e987ae6d9e1"
      },
      "source": [
        "serie_reviews.mean()"
      ],
      "execution_count": 25,
      "outputs": [
        {
          "output_type": "execute_result",
          "data": {
            "text/plain": [
              "444388.6535374965"
            ]
          },
          "metadata": {},
          "execution_count": 25
        }
      ]
    },
    {
      "cell_type": "code",
      "metadata": {
        "colab": {
          "base_uri": "https://localhost:8080/"
        },
        "id": "Oghvtd3Xn3UF",
        "outputId": "3f974f42-cfa3-4462-b714-4d80c8d2de5e"
      },
      "source": [
        "serie_reviews.value_counts()"
      ],
      "execution_count": 26,
      "outputs": [
        {
          "output_type": "execute_result",
          "data": {
            "text/plain": [
              "0          596\n",
              "1          272\n",
              "2          214\n",
              "3          175\n",
              "4          137\n",
              "          ... \n",
              "155693       1\n",
              "12443        1\n",
              "163997       1\n",
              "37023        1\n",
              "1385093      1\n",
              "Name: Reviews, Length: 6002, dtype: int64"
            ]
          },
          "metadata": {},
          "execution_count": 26
        }
      ]
    },
    {
      "cell_type": "markdown",
      "metadata": {
        "id": "672Rr2t4Qjfi"
      },
      "source": [
        "12) Quantos apps tem menos reviews do que a média de reviews ?"
      ]
    },
    {
      "cell_type": "code",
      "metadata": {
        "id": "s9nB8qUWQoPw"
      },
      "source": [
        "valor_medio = serie_reviews.mean()"
      ],
      "execution_count": 27,
      "outputs": []
    },
    {
      "cell_type": "code",
      "metadata": {
        "colab": {
          "base_uri": "https://localhost:8080/"
        },
        "id": "Xu4ltQvNoms3",
        "outputId": "26313fe7-7a8e-4cc6-af12-18f07b17be43"
      },
      "source": [
        "print(valor_medio)"
      ],
      "execution_count": 28,
      "outputs": [
        {
          "output_type": "stream",
          "name": "stdout",
          "text": [
            "444388.6535374965\n"
          ]
        }
      ]
    },
    {
      "cell_type": "code",
      "metadata": {
        "colab": {
          "base_uri": "https://localhost:8080/"
        },
        "id": "f0zPPSxyopro",
        "outputId": "dc365e6c-4985-4d7c-fc5e-1438d381e132"
      },
      "source": [
        "serie_reviews[serie_reviews < valor_medio]"
      ],
      "execution_count": 29,
      "outputs": [
        {
          "output_type": "execute_result",
          "data": {
            "text/plain": [
              "App\n",
              "Photo Editor & Candy Camera & Grid & ScrapBook           159\n",
              "Coloring book moana                                      967\n",
              "U Launcher Lite – FREE Live Cool Themes, Hide Apps     87510\n",
              "Sketch - Draw & Paint                                 215644\n",
              "Pixel Draw - Number Art Coloring Book                    967\n",
              "                                                       ...  \n",
              "Sya9a Maroc - FR                                          38\n",
              "Fr. Mike Schmitz Audio Teachings                           4\n",
              "Parkinson Exercices FR                                     3\n",
              "The SCP Foundation DB fr nn5n                            114\n",
              "iHoroscope - 2018 Daily Horoscope & Astrology         398307\n",
              "Name: Reviews, Length: 9735, dtype: int64"
            ]
          },
          "metadata": {},
          "execution_count": 29
        }
      ]
    },
    {
      "cell_type": "code",
      "metadata": {
        "colab": {
          "base_uri": "https://localhost:8080/"
        },
        "id": "Ok79iKuwpcxD",
        "outputId": "03e6ba84-48f1-4f83-cf54-af2f9ab817ad"
      },
      "source": [
        "len(serie_reviews[serie_reviews < valor_medio])"
      ],
      "execution_count": 30,
      "outputs": [
        {
          "output_type": "execute_result",
          "data": {
            "text/plain": [
              "9735"
            ]
          },
          "metadata": {},
          "execution_count": 30
        }
      ]
    },
    {
      "cell_type": "code",
      "metadata": {
        "colab": {
          "base_uri": "https://localhost:8080/"
        },
        "id": "m4ACOSjgqTKv",
        "outputId": "04e27c58-3075-4c4f-fde6-f998dfc02abc"
      },
      "source": [
        "serie_reviews.median()"
      ],
      "execution_count": 31,
      "outputs": [
        {
          "output_type": "execute_result",
          "data": {
            "text/plain": [
              "2094.0"
            ]
          },
          "metadata": {},
          "execution_count": 31
        }
      ]
    },
    {
      "cell_type": "code",
      "metadata": {
        "colab": {
          "base_uri": "https://localhost:8080/"
        },
        "id": "0zzVKNMcqZDf",
        "outputId": "24f2b1e1-71b7-4369-c592-ce34dc289d9b"
      },
      "source": [
        "serie_reviews.describe()"
      ],
      "execution_count": 32,
      "outputs": [
        {
          "output_type": "execute_result",
          "data": {
            "text/plain": [
              "count    1.084100e+04\n",
              "mean     4.443887e+05\n",
              "std      2.927728e+06\n",
              "min      0.000000e+00\n",
              "25%      3.800000e+01\n",
              "50%      2.094000e+03\n",
              "75%      5.479800e+04\n",
              "max      7.815831e+07\n",
              "Name: Reviews, dtype: float64"
            ]
          },
          "metadata": {},
          "execution_count": 32
        }
      ]
    },
    {
      "cell_type": "markdown",
      "metadata": {
        "id": "WNTeDAJZQM4r"
      },
      "source": [
        "13) Qual o número de reviews que divide a base em dois conjuntos iguais: aproximadamente 50% dos apps tem mais reviews que este número e os outros 50% menos ?"
      ]
    },
    {
      "cell_type": "code",
      "metadata": {
        "id": "NC_oxdYeQcZ4",
        "colab": {
          "base_uri": "https://localhost:8080/"
        },
        "outputId": "c14aead3-6d59-4a14-f377-aa6982553c69"
      },
      "source": [
        "serie_reviews[serie_reviews < serie_reviews.median()]"
      ],
      "execution_count": 33,
      "outputs": [
        {
          "output_type": "execute_result",
          "data": {
            "text/plain": [
              "App\n",
              "Photo Editor & Candy Camera & Grid & ScrapBook    159\n",
              "Coloring book moana                               967\n",
              "Pixel Draw - Number Art Coloring Book             967\n",
              "Paper flowers instructions                        167\n",
              "Smoke Effect Photo Maker - Smoke Editor           178\n",
              "                                                 ... \n",
              "FR Forms                                            0\n",
              "Sya9a Maroc - FR                                   38\n",
              "Fr. Mike Schmitz Audio Teachings                    4\n",
              "Parkinson Exercices FR                              3\n",
              "The SCP Foundation DB fr nn5n                     114\n",
              "Name: Reviews, Length: 5419, dtype: int64"
            ]
          },
          "metadata": {},
          "execution_count": 33
        }
      ]
    },
    {
      "cell_type": "markdown",
      "metadata": {
        "id": "BY8zUzzKQfcw"
      },
      "source": [
        "14) Separe numa série a parte os 10% de apps mais populares (com mais reviews)"
      ]
    },
    {
      "cell_type": "code",
      "metadata": {
        "id": "H_edPi8HTIRU",
        "colab": {
          "base_uri": "https://localhost:8080/"
        },
        "outputId": "78e985ca-dcee-4ad3-f500-b0ef011db6a0"
      },
      "source": [
        "serie_reviews.describe(percentiles=[0.9, 0.1])"
      ],
      "execution_count": 34,
      "outputs": [
        {
          "output_type": "execute_result",
          "data": {
            "text/plain": [
              "count    1.084100e+04\n",
              "mean     4.443887e+05\n",
              "std      2.927728e+06\n",
              "min      0.000000e+00\n",
              "10%      3.000000e+00\n",
              "50%      2.094000e+03\n",
              "90%      4.658310e+05\n",
              "max      7.815831e+07\n",
              "Name: Reviews, dtype: float64"
            ]
          },
          "metadata": {},
          "execution_count": 34
        }
      ]
    },
    {
      "cell_type": "code",
      "metadata": {
        "id": "OEQHvXPsrYA9"
      },
      "source": [
        "serie_estatistica = serie_reviews.describe(percentiles=[0.9, 0.1])"
      ],
      "execution_count": 35,
      "outputs": []
    },
    {
      "cell_type": "markdown",
      "metadata": {
        "id": "YP5j5x3QUSGG"
      },
      "source": [
        "15) Quantos apps existem nesse conjunto dos 10% mais populares ?"
      ]
    },
    {
      "cell_type": "code",
      "metadata": {
        "id": "wnRU4Nc_UdfO",
        "colab": {
          "base_uri": "https://localhost:8080/"
        },
        "outputId": "90cbe664-6ccc-4512-d015-2dd5ae6ac60c"
      },
      "source": [
        "serie_reviews[serie_reviews > serie_estatistica['90%']]"
      ],
      "execution_count": 36,
      "outputs": [
        {
          "output_type": "execute_result",
          "data": {
            "text/plain": [
              "App\n",
              "Wattpad 📖 Free Books                       2914724\n",
              "Wikipedia                                   577550\n",
              "Amazon Kindle                               814080\n",
              "Google Play Books                          1433233\n",
              "Indeed Job Search                           674730\n",
              "                                            ...   \n",
              "Life Made WI-Fi Touchscreen Photo Frame    3000000\n",
              "Flight Simulator: Fly Plane 3D              660613\n",
              "FRONTLINE COMMANDO                         1351833\n",
              "Photo Editor Collage Maker Pro             1519671\n",
              "Modern Strike Online                        834117\n",
              "Name: Reviews, Length: 1084, dtype: int64"
            ]
          },
          "metadata": {},
          "execution_count": 36
        }
      ]
    },
    {
      "cell_type": "markdown",
      "metadata": {
        "id": "lJ9H6ypVUd0G"
      },
      "source": [
        "16) Quantos reviews existem para o WhatsApp ?"
      ]
    },
    {
      "cell_type": "code",
      "metadata": {
        "id": "8Vx5LfoPVJR6",
        "colab": {
          "base_uri": "https://localhost:8080/"
        },
        "outputId": "79d3121e-393e-40b1-f165-bfc8c2aa1923"
      },
      "source": [
        "serie_reviews.filter(like='WhatsApp')"
      ],
      "execution_count": 37,
      "outputs": [
        {
          "output_type": "execute_result",
          "data": {
            "text/plain": [
              "App\n",
              "WhatsApp Messenger                  69119316\n",
              "WhatsApp Business                     136662\n",
              "WhatsApp Messenger                  69119316\n",
              "WhatsApp Messenger                  69109672\n",
              "WhatsApp Business                     137144\n",
              "Open in WhatsApp (click to chat)       12121\n",
              "DM for WhatsApp                           25\n",
              "Dp For WhatsApp                         1623\n",
              "DP and Status for WhatsApp 2018          787\n",
              "Profile pictures for WhatsApp          10786\n",
              "DP Creator for WhatsApp                 4813\n",
              "Status For WhatsApp DP - pro              49\n",
              "Name: Reviews, dtype: int64"
            ]
          },
          "metadata": {},
          "execution_count": 37
        }
      ]
    },
    {
      "cell_type": "code",
      "metadata": {
        "colab": {
          "base_uri": "https://localhost:8080/"
        },
        "id": "RNhzEJb-sLhg",
        "outputId": "037170fa-fc88-4dee-b840-62d04b68f8e5"
      },
      "source": [
        "serie_reviews.filter(like='WhatsApp Messenger')"
      ],
      "execution_count": 38,
      "outputs": [
        {
          "output_type": "execute_result",
          "data": {
            "text/plain": [
              "App\n",
              "WhatsApp Messenger    69119316\n",
              "WhatsApp Messenger    69119316\n",
              "WhatsApp Messenger    69109672\n",
              "Name: Reviews, dtype: int64"
            ]
          },
          "metadata": {},
          "execution_count": 38
        }
      ]
    },
    {
      "cell_type": "markdown",
      "metadata": {
        "id": "HTICSVmsVJx0"
      },
      "source": [
        ""
      ]
    }
  ]
}