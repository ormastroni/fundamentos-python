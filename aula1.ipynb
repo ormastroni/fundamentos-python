{
  "nbformat": 4,
  "nbformat_minor": 0,
  "metadata": {
    "colab": {
      "name": "aula1.ipynb",
      "provenance": [],
      "toc_visible": true,
      "include_colab_link": true
    },
    "kernelspec": {
      "name": "python3",
      "display_name": "Python 3"
    },
    "language_info": {
      "name": "python"
    }
  },
  "cells": [
    {
      "cell_type": "markdown",
      "metadata": {
        "id": "view-in-github",
        "colab_type": "text"
      },
      "source": [
        "<a href=\"https://colab.research.google.com/github/ormastroni/fundamentos-python/blob/main/aula1.ipynb\" target=\"_parent\"><img src=\"https://colab.research.google.com/assets/colab-badge.svg\" alt=\"Open In Colab\"/></a>"
      ]
    },
    {
      "cell_type": "markdown",
      "metadata": {
        "id": "Bt6usuY8HXbX"
      },
      "source": [
        "# Primeira aula do curso de Fundamentos Des. Python"
      ]
    },
    {
      "cell_type": "markdown",
      "metadata": {
        "id": "yzcb0POdwaD4"
      },
      "source": [
        "## Prof.: Andre Victor\n",
        "Contato: andre.victor@prof.infnet.edu.br"
      ]
    },
    {
      "cell_type": "markdown",
      "metadata": {
        "id": "TlQ7qdlaZ6K5"
      },
      "source": [
        "### Revisão de Python: Executando códigos simples"
      ]
    },
    {
      "cell_type": "code",
      "metadata": {
        "id": "5cfaN7uSaDzU",
        "colab": {
          "base_uri": "https://localhost:8080/"
        },
        "outputId": "be5cc48c-4e7b-4e48-9267-f90c4f6be13a"
      },
      "source": [
        "2+3"
      ],
      "execution_count": 1,
      "outputs": [
        {
          "output_type": "execute_result",
          "data": {
            "text/plain": [
              "5"
            ]
          },
          "metadata": {},
          "execution_count": 1
        }
      ]
    },
    {
      "cell_type": "code",
      "metadata": {
        "id": "DBM8jC9faIRY",
        "colab": {
          "base_uri": "https://localhost:8080/"
        },
        "outputId": "93c2454c-ddaa-4876-f969-dc2be515c00a"
      },
      "source": [
        "5 < 7"
      ],
      "execution_count": 2,
      "outputs": [
        {
          "output_type": "execute_result",
          "data": {
            "text/plain": [
              "True"
            ]
          },
          "metadata": {},
          "execution_count": 2
        }
      ]
    },
    {
      "cell_type": "code",
      "source": [
        "5 > 10"
      ],
      "metadata": {
        "id": "NKx6BpunZgw7",
        "outputId": "97106573-c4d6-41eb-e449-e98ae1cbc1b8",
        "colab": {
          "base_uri": "https://localhost:8080/"
        }
      },
      "execution_count": null,
      "outputs": [
        {
          "output_type": "execute_result",
          "data": {
            "text/plain": [
              "False"
            ]
          },
          "metadata": {},
          "execution_count": 3
        }
      ]
    },
    {
      "cell_type": "code",
      "source": [
        "a = 5"
      ],
      "metadata": {
        "id": "L5PVGeMRZjsi"
      },
      "execution_count": 3,
      "outputs": []
    },
    {
      "cell_type": "code",
      "source": [
        "a"
      ],
      "metadata": {
        "id": "G0OA-xXKZ1Ua",
        "outputId": "8c6bc3d9-4375-40e1-cc70-b8f0bad8a2a1",
        "colab": {
          "base_uri": "https://localhost:8080/"
        }
      },
      "execution_count": 5,
      "outputs": [
        {
          "output_type": "execute_result",
          "data": {
            "text/plain": [
              "5"
            ]
          },
          "metadata": {},
          "execution_count": 5
        }
      ]
    },
    {
      "cell_type": "code",
      "source": [
        "print(a)"
      ],
      "metadata": {
        "id": "F3MW5MG2fQA0",
        "outputId": "2b4529fc-369c-40a4-851e-ad15fc9fc80d",
        "colab": {
          "base_uri": "https://localhost:8080/"
        }
      },
      "execution_count": 6,
      "outputs": [
        {
          "output_type": "stream",
          "name": "stdout",
          "text": [
            "5\n"
          ]
        }
      ]
    },
    {
      "cell_type": "markdown",
      "metadata": {
        "id": "v8EqYqm3ht1j"
      },
      "source": [
        "### A função print()"
      ]
    },
    {
      "cell_type": "code",
      "metadata": {
        "colab": {
          "base_uri": "https://localhost:8080/"
        },
        "id": "K7wxiN1yHp5e",
        "outputId": "83b7c37d-5465-417c-b8ef-57bce4b2c037"
      },
      "source": [
        "print('Este é um teste')"
      ],
      "execution_count": 7,
      "outputs": [
        {
          "output_type": "stream",
          "name": "stdout",
          "text": [
            "Este é um teste\n"
          ]
        }
      ]
    },
    {
      "cell_type": "code",
      "metadata": {
        "colab": {
          "base_uri": "https://localhost:8080/"
        },
        "id": "kf-Pfgz-JJaU",
        "outputId": "832d0246-b502-41cc-ec30-c15b1f45f9a3"
      },
      "source": [
        "a = 1\n",
        "print(a)\n",
        "print(a+5)\n",
        "print('Executei')"
      ],
      "execution_count": 8,
      "outputs": [
        {
          "output_type": "stream",
          "name": "stdout",
          "text": [
            "1\n",
            "6\n",
            "Executei\n"
          ]
        }
      ]
    },
    {
      "cell_type": "code",
      "metadata": {
        "colab": {
          "base_uri": "https://localhost:8080/"
        },
        "id": "DNaYZ_spJOh6",
        "outputId": "a83d4be5-77e0-4786-8d4c-b9710b591332"
      },
      "source": [
        "a = 'Este é um teste '\n",
        "print(a)"
      ],
      "execution_count": 18,
      "outputs": [
        {
          "output_type": "stream",
          "name": "stdout",
          "text": [
            "Este é um teste \n"
          ]
        }
      ]
    },
    {
      "cell_type": "code",
      "source": [
        "b = a + '1'"
      ],
      "metadata": {
        "id": "V8-aXHclfvVu"
      },
      "execution_count": 20,
      "outputs": []
    },
    {
      "cell_type": "code",
      "source": [
        "print(b)"
      ],
      "metadata": {
        "id": "f1y_glBDfz9E",
        "outputId": "b7e14e72-06df-424e-97af-b28f0997caed",
        "colab": {
          "base_uri": "https://localhost:8080/"
        }
      },
      "execution_count": 21,
      "outputs": [
        {
          "output_type": "stream",
          "name": "stdout",
          "text": [
            "Este é um teste 1\n"
          ]
        }
      ]
    },
    {
      "cell_type": "code",
      "source": [
        "True"
      ],
      "metadata": {
        "id": "N00qQOxQjVRb",
        "outputId": "05d28b2b-95d2-4d45-dc77-8091e32fcc4d",
        "colab": {
          "base_uri": "https://localhost:8080/"
        }
      },
      "execution_count": 30,
      "outputs": [
        {
          "output_type": "execute_result",
          "data": {
            "text/plain": [
              "True"
            ]
          },
          "metadata": {},
          "execution_count": 30
        }
      ]
    },
    {
      "cell_type": "code",
      "source": [
        "False"
      ],
      "metadata": {
        "id": "8pQ9osA7jZOn",
        "outputId": "51fa6f2e-a7a5-4e6e-d0e7-4b2665727aae",
        "colab": {
          "base_uri": "https://localhost:8080/"
        }
      },
      "execution_count": 31,
      "outputs": [
        {
          "output_type": "execute_result",
          "data": {
            "text/plain": [
              "False"
            ]
          },
          "metadata": {},
          "execution_count": 31
        }
      ]
    },
    {
      "cell_type": "markdown",
      "metadata": {
        "id": "l7yomimah3Uf"
      },
      "source": [
        "### Estruturas de repetição"
      ]
    },
    {
      "cell_type": "code",
      "metadata": {
        "colab": {
          "base_uri": "https://localhost:8080/"
        },
        "id": "NXvGhmmnJst_",
        "outputId": "6ef25575-dab4-4883-a600-b342a6bcaca1"
      },
      "source": [
        "for i in range(6,2,-1):\n",
        "  print(i)\n",
        "print('Fechei')"
      ],
      "execution_count": 28,
      "outputs": [
        {
          "output_type": "stream",
          "name": "stdout",
          "text": [
            "6\n",
            "5\n",
            "4\n",
            "3\n",
            "Fechei\n"
          ]
        }
      ]
    },
    {
      "cell_type": "code",
      "metadata": {
        "colab": {
          "base_uri": "https://localhost:8080/"
        },
        "id": "Q04EOpBTK1ej",
        "outputId": "5d70ac54-7a94-4983-de95-3b471ffab3ed"
      },
      "source": [
        "a = 1\n",
        "while (a < 6):\n",
        "  print(a)\n",
        "  a = a + 1"
      ],
      "execution_count": 29,
      "outputs": [
        {
          "output_type": "stream",
          "name": "stdout",
          "text": [
            "1\n",
            "2\n",
            "3\n",
            "4\n",
            "5\n"
          ]
        }
      ]
    },
    {
      "cell_type": "code",
      "metadata": {
        "id": "bOx1VuXrrgmn",
        "outputId": "20377ebf-51ff-45c9-caad-f750b3a21f6c",
        "colab": {
          "base_uri": "https://localhost:8080/"
        }
      },
      "source": [
        "final = 0\n",
        "while (True):\n",
        "  final = final + 1\n",
        "  if (final == 4):\n",
        "    break\n",
        "  print(final)"
      ],
      "execution_count": 32,
      "outputs": [
        {
          "output_type": "stream",
          "name": "stdout",
          "text": [
            "1\n",
            "2\n",
            "3\n"
          ]
        }
      ]
    },
    {
      "cell_type": "markdown",
      "metadata": {
        "id": "l3EOImbLiOAV"
      },
      "source": [
        "###  Tipos de dados\n",
        "* Numéricos (inteiros e de ponto flutuante)\n",
        "* Booleanos\n",
        "* Strings\n",
        "* Outros tipos mais complexos"
      ]
    },
    {
      "cell_type": "code",
      "metadata": {
        "colab": {
          "base_uri": "https://localhost:8080/"
        },
        "id": "vtITMqe9LyJ9",
        "outputId": "21fd9bfd-a130-49d6-fdc1-a17cacb09296"
      },
      "source": [
        "type(a)"
      ],
      "execution_count": 33,
      "outputs": [
        {
          "output_type": "execute_result",
          "data": {
            "text/plain": [
              "int"
            ]
          },
          "metadata": {},
          "execution_count": 33
        }
      ]
    },
    {
      "cell_type": "code",
      "metadata": {
        "colab": {
          "base_uri": "https://localhost:8080/"
        },
        "id": "XGsCDYYRL8kz",
        "outputId": "d4b42533-836f-4fc0-8781-d03159b5ce35"
      },
      "source": [
        "b = 3.8\n",
        "type(b)"
      ],
      "execution_count": 34,
      "outputs": [
        {
          "output_type": "execute_result",
          "data": {
            "text/plain": [
              "float"
            ]
          },
          "metadata": {},
          "execution_count": 34
        }
      ]
    },
    {
      "cell_type": "code",
      "metadata": {
        "colab": {
          "base_uri": "https://localhost:8080/"
        },
        "id": "pI6jU_cBMEup",
        "outputId": "6ea7ff1c-8d83-4346-ff22-8ce59df9f058"
      },
      "source": [
        "c = True\n",
        "type(c)"
      ],
      "execution_count": 35,
      "outputs": [
        {
          "output_type": "execute_result",
          "data": {
            "text/plain": [
              "bool"
            ]
          },
          "metadata": {},
          "execution_count": 35
        }
      ]
    },
    {
      "cell_type": "code",
      "metadata": {
        "colab": {
          "base_uri": "https://localhost:8080/"
        },
        "id": "oyg7ZJEJMLsT",
        "outputId": "9a0604c1-f065-4599-ef50-cb31a32ab009"
      },
      "source": [
        "d = 'a'\n",
        "type(d)"
      ],
      "execution_count": 36,
      "outputs": [
        {
          "output_type": "execute_result",
          "data": {
            "text/plain": [
              "str"
            ]
          },
          "metadata": {},
          "execution_count": 36
        }
      ]
    },
    {
      "cell_type": "code",
      "metadata": {
        "colab": {
          "base_uri": "https://localhost:8080/"
        },
        "id": "ouaxHNzqMQz6",
        "outputId": "97542de2-eb40-49f6-daf5-1d7eda808f96"
      },
      "source": [
        "e = 'oi mundo'\n",
        "type(e)"
      ],
      "execution_count": 37,
      "outputs": [
        {
          "output_type": "execute_result",
          "data": {
            "text/plain": [
              "str"
            ]
          },
          "metadata": {},
          "execution_count": 37
        }
      ]
    },
    {
      "cell_type": "code",
      "metadata": {
        "colab": {
          "base_uri": "https://localhost:8080/"
        },
        "id": "nECe0mXXMdkE",
        "outputId": "ede567c2-eb35-4369-cc80-8dbde55e1345"
      },
      "source": [
        "a = 'oi mundo'\n",
        "type(a)"
      ],
      "execution_count": 38,
      "outputs": [
        {
          "output_type": "execute_result",
          "data": {
            "text/plain": [
              "str"
            ]
          },
          "metadata": {},
          "execution_count": 38
        }
      ]
    },
    {
      "cell_type": "code",
      "source": [
        "f = \"oi mundo\"\n",
        "type(f)"
      ],
      "metadata": {
        "id": "uQ4hEG6XkV_w",
        "outputId": "77172bd3-76ff-416c-9f3d-15b71a6c5b7e",
        "colab": {
          "base_uri": "https://localhost:8080/"
        }
      },
      "execution_count": 39,
      "outputs": [
        {
          "output_type": "execute_result",
          "data": {
            "text/plain": [
              "str"
            ]
          },
          "metadata": {},
          "execution_count": 39
        }
      ]
    },
    {
      "cell_type": "code",
      "source": [
        "if a == f:\n",
        "  print('a e f sao iguais')\n",
        "else:\n",
        "  print(\"sao diferentes\")"
      ],
      "metadata": {
        "id": "HsrHDlRDkbdo",
        "outputId": "13f4460c-703f-4837-81d2-a5fccaab3bd2",
        "colab": {
          "base_uri": "https://localhost:8080/"
        }
      },
      "execution_count": 40,
      "outputs": [
        {
          "output_type": "stream",
          "name": "stdout",
          "text": [
            "a e f sao iguais\n"
          ]
        }
      ]
    },
    {
      "cell_type": "code",
      "metadata": {
        "colab": {
          "base_uri": "https://localhost:8080/"
        },
        "id": "DA_CvOYOMt_g",
        "outputId": "8b1de1a6-9070-4df3-ea35-c327f5a3b3d0"
      },
      "source": [
        "print(c)"
      ],
      "execution_count": 41,
      "outputs": [
        {
          "output_type": "stream",
          "name": "stdout",
          "text": [
            "True\n"
          ]
        }
      ]
    },
    {
      "cell_type": "code",
      "metadata": {
        "colab": {
          "base_uri": "https://localhost:8080/"
        },
        "id": "EyzEKLWgNjYV",
        "outputId": "0600365f-913f-44be-b5b7-16a2c5988025"
      },
      "source": [
        "a = 5\n",
        "b = 23\n",
        "c = b % a\n",
        "d = b / a\n",
        "e = b // a\n",
        "print(c)\n",
        "print(d)\n",
        "print(e)"
      ],
      "execution_count": 43,
      "outputs": [
        {
          "output_type": "stream",
          "name": "stdout",
          "text": [
            "3\n",
            "4.6\n",
            "4\n"
          ]
        }
      ]
    },
    {
      "cell_type": "code",
      "metadata": {
        "colab": {
          "base_uri": "https://localhost:8080/"
        },
        "id": "8hj3cENyOHvA",
        "outputId": "3372843a-6ba9-46a3-9987-97d923a7e898"
      },
      "source": [
        "d = a*b\n",
        "print(d)"
      ],
      "execution_count": 44,
      "outputs": [
        {
          "output_type": "stream",
          "name": "stdout",
          "text": [
            "115\n"
          ]
        }
      ]
    },
    {
      "cell_type": "code",
      "source": [
        "c = 0\n",
        "if (c):\n",
        "  print('c eh True')\n",
        "else:\n",
        "  print('eh falso')"
      ],
      "metadata": {
        "id": "wvCA0WwblolW",
        "outputId": "5ec9ece8-481e-4ca9-826b-1605da261510",
        "colab": {
          "base_uri": "https://localhost:8080/"
        }
      },
      "execution_count": 51,
      "outputs": [
        {
          "output_type": "stream",
          "name": "stdout",
          "text": [
            "eh falso\n"
          ]
        }
      ]
    },
    {
      "cell_type": "code",
      "source": [
        "bool(c)"
      ],
      "metadata": {
        "id": "vmTA32QdmRLi",
        "outputId": "4ac68ded-a28c-4105-b5e6-633bfc4c4b98",
        "colab": {
          "base_uri": "https://localhost:8080/"
        }
      },
      "execution_count": 52,
      "outputs": [
        {
          "output_type": "execute_result",
          "data": {
            "text/plain": [
              "False"
            ]
          },
          "metadata": {},
          "execution_count": 52
        }
      ]
    },
    {
      "cell_type": "code",
      "source": [
        "str(2)"
      ],
      "metadata": {
        "id": "W37XpMDsmc9m",
        "outputId": "046c3603-fa35-4f43-c8a5-12f9417771b1",
        "colab": {
          "base_uri": "https://localhost:8080/",
          "height": 35
        }
      },
      "execution_count": 53,
      "outputs": [
        {
          "output_type": "execute_result",
          "data": {
            "text/plain": [
              "'2'"
            ],
            "application/vnd.google.colaboratory.intrinsic+json": {
              "type": "string"
            }
          },
          "metadata": {},
          "execution_count": 53
        }
      ]
    },
    {
      "cell_type": "code",
      "source": [
        "int('13')"
      ],
      "metadata": {
        "id": "zWOm15T-mfbf",
        "outputId": "15e9dbfa-20c3-44bf-d13b-f7064702e734",
        "colab": {
          "base_uri": "https://localhost:8080/"
        }
      },
      "execution_count": 54,
      "outputs": [
        {
          "output_type": "execute_result",
          "data": {
            "text/plain": [
              "13"
            ]
          },
          "metadata": {},
          "execution_count": 54
        }
      ]
    },
    {
      "cell_type": "code",
      "source": [
        "int(4.6)"
      ],
      "metadata": {
        "id": "G2WaGbG5mhqw",
        "outputId": "8c9f5057-7317-494b-a62b-51a8ddb4f8c1",
        "colab": {
          "base_uri": "https://localhost:8080/"
        }
      },
      "execution_count": 55,
      "outputs": [
        {
          "output_type": "execute_result",
          "data": {
            "text/plain": [
              "4"
            ]
          },
          "metadata": {},
          "execution_count": 55
        }
      ]
    },
    {
      "cell_type": "markdown",
      "metadata": {
        "id": "IkhqZIN7iVHs"
      },
      "source": [
        "### A função input"
      ]
    },
    {
      "cell_type": "code",
      "metadata": {
        "colab": {
          "base_uri": "https://localhost:8080/"
        },
        "id": "qzTdlsupOUYo",
        "outputId": "d13092da-e866-43b5-e533-71f963e44870"
      },
      "source": [
        "f = input('Por favor, entre com um valor: ')\n",
        "print(f,type(f))\n",
        "g = int(f)\n",
        "print(g+1)\n",
        "print(f+\"1\")"
      ],
      "execution_count": 58,
      "outputs": [
        {
          "output_type": "stream",
          "name": "stdout",
          "text": [
            "Por favor, entre com um valor: 10\n",
            "10 <class 'str'>\n",
            "11\n",
            "101\n"
          ]
        }
      ]
    },
    {
      "cell_type": "code",
      "source": [
        "int('andre')"
      ],
      "metadata": {
        "id": "BjGhmCQrnQ57",
        "outputId": "c66b0d83-6c96-446f-f0a3-624d84bec79c",
        "colab": {
          "base_uri": "https://localhost:8080/",
          "height": 166
        }
      },
      "execution_count": 59,
      "outputs": [
        {
          "output_type": "error",
          "ename": "ValueError",
          "evalue": "ignored",
          "traceback": [
            "\u001b[0;31m---------------------------------------------------------------------------\u001b[0m",
            "\u001b[0;31mValueError\u001b[0m                                Traceback (most recent call last)",
            "\u001b[0;32m<ipython-input-59-4e9d65129d96>\u001b[0m in \u001b[0;36m<module>\u001b[0;34m\u001b[0m\n\u001b[0;32m----> 1\u001b[0;31m \u001b[0mint\u001b[0m\u001b[0;34m(\u001b[0m\u001b[0;34m'andre'\u001b[0m\u001b[0;34m)\u001b[0m\u001b[0;34m\u001b[0m\u001b[0;34m\u001b[0m\u001b[0m\n\u001b[0m",
            "\u001b[0;31mValueError\u001b[0m: invalid literal for int() with base 10: 'andre'"
          ]
        }
      ]
    },
    {
      "cell_type": "markdown",
      "metadata": {
        "id": "WnxHJBumiaDF"
      },
      "source": [
        "### Funções definidas pelo próprio usuário"
      ]
    },
    {
      "cell_type": "code",
      "metadata": {
        "id": "6AJb8dTuRJWc"
      },
      "source": [
        "def eh_primo(n):\n",
        "  for i in range(2,n):\n",
        "    if (n % i) == 0:\n",
        "      print(i)\n",
        "      return False\n",
        "  return True"
      ],
      "execution_count": 65,
      "outputs": []
    },
    {
      "cell_type": "code",
      "source": [
        "eh_primo(13)"
      ],
      "metadata": {
        "id": "sT2V_76RoCOP",
        "outputId": "053033d7-f1c1-4061-d619-aa1627b51dc6",
        "colab": {
          "base_uri": "https://localhost:8080/"
        }
      },
      "execution_count": 67,
      "outputs": [
        {
          "output_type": "execute_result",
          "data": {
            "text/plain": [
              "True"
            ]
          },
          "metadata": {},
          "execution_count": 67
        }
      ]
    },
    {
      "cell_type": "markdown",
      "metadata": {
        "id": "cRGQjWg9wzA3"
      },
      "source": [
        "### Estruturas condicionais"
      ]
    },
    {
      "cell_type": "code",
      "metadata": {
        "id": "wgGpw9AYw1bE",
        "outputId": "6aac20fa-61ec-4c48-9ce3-fc78f1863102",
        "colab": {
          "base_uri": "https://localhost:8080/"
        }
      },
      "source": [
        "a = int(input('Entre com o valor de a: '))\n",
        "\n",
        "if (a < 0):\n",
        "  print('a eh negativo')\n",
        "elif (a <= 5):\n",
        "  print('a eh baixo')\n",
        "elif (a <= 9):\n",
        "  print('a eh medio')\n",
        "else:\n",
        "  print('a eh alto')"
      ],
      "execution_count": 71,
      "outputs": [
        {
          "output_type": "stream",
          "name": "stdout",
          "text": [
            "Entre com o valor de a: 200\n",
            "a eh alto\n"
          ]
        }
      ]
    },
    {
      "cell_type": "markdown",
      "metadata": {
        "id": "qCnT16Yn-nqy"
      },
      "source": [
        "### Exercício: Implemente uma função fatorial\n",
        "\n",
        "Como calcular o fatorial de um numero:\n",
        "\n",
        "* 4! = 4x3x2x1\n",
        "* 5! = 5x4x3x2x1\n",
        "* 8! = 8x7x6x...x1"
      ]
    },
    {
      "cell_type": "code",
      "metadata": {
        "id": "-eevF3J31ZM9"
      },
      "source": [
        "#Exemplo com 5\n",
        "def fatorial(n):\n",
        "  resultado = n\n",
        "  # resultado = 5\n",
        "  for i in range(n-1,1,-1):\n",
        "    resultado = resultado * i\n",
        "    print(f'valor de i = {i}')\n",
        "    print(f'valor de resultado = {resultado}')\n",
        "  return resultado"
      ],
      "execution_count": null,
      "outputs": []
    },
    {
      "cell_type": "code",
      "metadata": {
        "id": "Oiz3zi8Z5qC8",
        "outputId": "92672c8e-9000-4340-ceee-daae3f784157",
        "colab": {
          "base_uri": "https://localhost:8080/"
        }
      },
      "source": [
        "genero = input('Entre com o genero: ')\n",
        "if genero == 'M' or genero == 'm':\n",
        "  print('o indvíduo é do sexo masculino')\n",
        "elif (genero == 'F') or (genero == 'f'):\n",
        "  print('o indívudo é do sexo feminino')\n",
        "else:\n",
        "  print('não identificado')"
      ],
      "execution_count": null,
      "outputs": [
        {
          "output_type": "stream",
          "name": "stdout",
          "text": [
            "Entre com o genero: M\n",
            "o indvíduo é do sexo masculino\n"
          ]
        }
      ]
    },
    {
      "cell_type": "code",
      "metadata": {
        "id": "awRWMYkZ2WI5",
        "outputId": "671732d3-230f-4102-c4d1-49397f07268d",
        "colab": {
          "base_uri": "https://localhost:8080/"
        }
      },
      "source": [
        "fatorial(5)"
      ],
      "execution_count": null,
      "outputs": [
        {
          "output_type": "stream",
          "name": "stdout",
          "text": [
            "valor de i = 4\n",
            "valor de resultado = 20\n",
            "valor de i = 3\n",
            "valor de resultado = 60\n",
            "valor de i = 2\n",
            "valor de resultado = 120\n"
          ]
        },
        {
          "output_type": "execute_result",
          "data": {
            "text/plain": [
              "120"
            ]
          },
          "metadata": {},
          "execution_count": 65
        }
      ]
    },
    {
      "cell_type": "code",
      "metadata": {
        "id": "5yV1LMdL2v7d"
      },
      "source": [],
      "execution_count": null,
      "outputs": []
    },
    {
      "cell_type": "code",
      "metadata": {
        "colab": {
          "base_uri": "https://localhost:8080/"
        },
        "id": "4Q_lGNr5Sw-I",
        "outputId": "dd2f4818-79a9-4bce-f265-d472ad009839"
      },
      "source": [
        "eh_primo(47)"
      ],
      "execution_count": null,
      "outputs": [
        {
          "output_type": "execute_result",
          "data": {
            "text/plain": [
              "True"
            ]
          },
          "metadata": {},
          "execution_count": 45
        }
      ]
    },
    {
      "cell_type": "code",
      "metadata": {
        "id": "YCMNzSd7U9Ga"
      },
      "source": [
        "def fibonacci(n):\n",
        "  # calcula o n-ésimo termo da série de fibonacci\n",
        "  return 1"
      ],
      "execution_count": null,
      "outputs": []
    },
    {
      "cell_type": "code",
      "metadata": {
        "colab": {
          "base_uri": "https://localhost:8080/"
        },
        "id": "ZnMvp0X4VMoJ",
        "outputId": "b87c4dd6-d8bf-4677-9fd3-5c804c5934e3"
      },
      "source": [
        "c *= 10\n",
        "print(c)"
      ],
      "execution_count": null,
      "outputs": [
        {
          "output_type": "stream",
          "text": [
            "1800\n"
          ],
          "name": "stdout"
        }
      ]
    },
    {
      "cell_type": "code",
      "metadata": {
        "id": "sbaoxLG9Y_eS"
      },
      "source": [
        "def eleva_quadrado(n):\n",
        "  return n*n"
      ],
      "execution_count": null,
      "outputs": []
    },
    {
      "cell_type": "code",
      "metadata": {
        "colab": {
          "base_uri": "https://localhost:8080/"
        },
        "id": "YEo1UepEZFhf",
        "outputId": "519432de-bf2e-46d6-a1ae-1bf30b61de36"
      },
      "source": [
        "eleva_quadrado(6)"
      ],
      "execution_count": null,
      "outputs": [
        {
          "output_type": "execute_result",
          "data": {
            "text/plain": [
              "36"
            ]
          },
          "metadata": {
            "tags": []
          },
          "execution_count": 18
        }
      ]
    },
    {
      "cell_type": "code",
      "metadata": {
        "id": "xp4GheMmacd4"
      },
      "source": [
        "# 2 ao cubo = 2*2*2\n",
        "# 3 a 4 potencia = 3*3*3*3\n",
        "def potencia(base, expoente):\n",
        "  resultado = base\n",
        "  for i in range(1,expoente):\n",
        "    resultado = resultado * base\n",
        "  return resultado"
      ],
      "execution_count": null,
      "outputs": []
    },
    {
      "cell_type": "code",
      "metadata": {
        "id": "1500b87tBj8B",
        "outputId": "fb926ac5-7a4c-4c66-a132-c7764e462d3e",
        "colab": {
          "base_uri": "https://localhost:8080/"
        }
      },
      "source": [
        "a = 1\n",
        "a += 1\n",
        "a"
      ],
      "execution_count": null,
      "outputs": [
        {
          "output_type": "execute_result",
          "data": {
            "text/plain": [
              "2"
            ]
          },
          "metadata": {},
          "execution_count": 79
        }
      ]
    },
    {
      "cell_type": "code",
      "metadata": {
        "id": "FKRBE6uJB1OQ",
        "outputId": "3a105e85-3711-4fa7-bc9a-8cb8650e71a2",
        "colab": {
          "base_uri": "https://localhost:8080/"
        }
      },
      "source": [
        "b = 4\n",
        "b *= 5\n",
        "b"
      ],
      "execution_count": null,
      "outputs": [
        {
          "output_type": "execute_result",
          "data": {
            "text/plain": [
              "20"
            ]
          },
          "metadata": {},
          "execution_count": 80
        }
      ]
    },
    {
      "cell_type": "code",
      "metadata": {
        "id": "m6wSEI8xCE92"
      },
      "source": [
        "c = 10\n",
        "c *= b + 5"
      ],
      "execution_count": null,
      "outputs": []
    },
    {
      "cell_type": "code",
      "metadata": {
        "id": "IJo9JXN6CKnl",
        "outputId": "d9b41386-a21d-4297-c791-a688d0aecd40",
        "colab": {
          "base_uri": "https://localhost:8080/"
        }
      },
      "source": [
        "c"
      ],
      "execution_count": null,
      "outputs": [
        {
          "output_type": "execute_result",
          "data": {
            "text/plain": [
              "250"
            ]
          },
          "metadata": {},
          "execution_count": 84
        }
      ]
    },
    {
      "cell_type": "code",
      "metadata": {
        "colab": {
          "base_uri": "https://localhost:8080/"
        },
        "id": "LyweEda6yUH7",
        "outputId": "e6bda61f-952c-49b3-ac23-b6c77e6e91e8"
      },
      "source": [
        "potencia(9,3)"
      ],
      "execution_count": null,
      "outputs": [
        {
          "output_type": "execute_result",
          "data": {
            "text/plain": [
              "729"
            ]
          },
          "metadata": {
            "tags": []
          },
          "execution_count": 24
        }
      ]
    },
    {
      "cell_type": "markdown",
      "metadata": {
        "id": "6mHllZPHECwc"
      },
      "source": [
        "### Valor None para retorno de função\n",
        "Ausência de valor, valor nulo"
      ]
    },
    {
      "cell_type": "code",
      "metadata": {
        "id": "AcA-NCsCNwqa"
      },
      "source": [
        "def nova_funcao():\n",
        "  print('este eh um teste de retorno')"
      ],
      "execution_count": 72,
      "outputs": []
    },
    {
      "cell_type": "code",
      "metadata": {
        "colab": {
          "base_uri": "https://localhost:8080/"
        },
        "id": "b1Km0Ta0N46h",
        "outputId": "0c494878-7bf0-42d2-add3-7e4df57c1978"
      },
      "source": [
        "teste = nova_funcao()"
      ],
      "execution_count": 75,
      "outputs": [
        {
          "output_type": "stream",
          "name": "stdout",
          "text": [
            "este eh um teste de retorno\n"
          ]
        }
      ]
    },
    {
      "cell_type": "code",
      "metadata": {
        "colab": {
          "base_uri": "https://localhost:8080/"
        },
        "id": "M0BUypVgOMpa",
        "outputId": "72387e30-8743-4be8-a5d2-c0352c099c96"
      },
      "source": [
        "print(teste)"
      ],
      "execution_count": 74,
      "outputs": [
        {
          "output_type": "stream",
          "name": "stdout",
          "text": [
            "None\n"
          ]
        }
      ]
    },
    {
      "cell_type": "markdown",
      "metadata": {
        "id": "dS_bDuoZEbOk"
      },
      "source": [
        "### Exercício 1"
      ]
    },
    {
      "cell_type": "markdown",
      "metadata": {
        "id": "a3NQBMluIP60"
      },
      "source": [
        "Peça para o usuário digitar um número no console até que o número zero seja digitado. Quando isso ocorrer, exiba a soma de todos os números digitados"
      ]
    },
    {
      "cell_type": "markdown",
      "source": [
        "### Cuidado: Aqui está a resposta"
      ],
      "metadata": {
        "id": "DwuJymKFuRqy"
      }
    },
    {
      "cell_type": "code",
      "metadata": {
        "id": "n-4QLqfmEkAA",
        "outputId": "1b9b8ede-38a0-41f2-ce3d-51b59e1a35f1",
        "colab": {
          "base_uri": "https://localhost:8080/"
        }
      },
      "source": [
        "soma = 0\n",
        "while (True):\n",
        "  num = int(input('Entre com o valor: '))\n",
        "  soma = soma + num\n",
        "  if (num == 0):\n",
        "    break\n",
        "print(f'A soma dos valores digitados eh {soma}')"
      ],
      "execution_count": null,
      "outputs": [
        {
          "output_type": "stream",
          "name": "stdout",
          "text": [
            "Entre com o valor: 57\n",
            "Entre com o valor: 0\n",
            "A soma dos valores digitados eh 57\n"
          ]
        }
      ]
    },
    {
      "cell_type": "markdown",
      "source": [
        "### Exercício 2"
      ],
      "metadata": {
        "id": "Lb0a6cxcum6v"
      }
    },
    {
      "cell_type": "markdown",
      "metadata": {
        "id": "4zC_MxUWGTf4"
      },
      "source": [
        "Peça para o usuário digitar um número e calcule a soma dos números primos até esses números\n",
        "* Ex1: digitei 13 => \n",
        "1+2+3+5+7+11+13=42\n",
        "\n",
        "* Ex2: digitei 57 => \n",
        "1+2+3+5+7+11+13+17+....+53"
      ]
    },
    {
      "cell_type": "markdown",
      "source": [
        "### Cuidado: Aqui está a resposta"
      ],
      "metadata": {
        "id": "mbZMRfk6urt4"
      }
    },
    {
      "cell_type": "code",
      "metadata": {
        "colab": {
          "base_uri": "https://localhost:8080/"
        },
        "id": "kroiTg7eO5eC",
        "outputId": "ca3d2e85-d10e-4660-d978-6a68aced8463"
      },
      "source": [
        "n = int(input('Entre com o valor '))"
      ],
      "execution_count": null,
      "outputs": [
        {
          "output_type": "stream",
          "text": [
            "Entre com o valor 7\n"
          ],
          "name": "stdout"
        }
      ]
    },
    {
      "cell_type": "code",
      "metadata": {
        "colab": {
          "base_uri": "https://localhost:8080/"
        },
        "id": "tEDwMzM5PEIX",
        "outputId": "43404743-1a82-4c38-a5ea-324bbb30ab1d"
      },
      "source": [
        "soma_primos = 0\n",
        "for i in range(2,n+1):\n",
        "  if (eh_primo(i)):\n",
        "    soma_primos = soma_primos + i\n",
        "print('A soma dos primos ate n eh: ', soma_primos)"
      ],
      "execution_count": null,
      "outputs": [
        {
          "output_type": "stream",
          "text": [
            "A soma dos primos ate n eh:  17\n"
          ],
          "name": "stdout"
        }
      ]
    },
    {
      "cell_type": "markdown",
      "source": [
        "### Exercício 3:"
      ],
      "metadata": {
        "id": "G8WqPDRxu2iR"
      }
    },
    {
      "cell_type": "markdown",
      "source": [
        "### Implemente uma função que retorna o n-ésimo termo da série de Fibonacci"
      ],
      "metadata": {
        "id": "q4x6BWjFu652"
      }
    },
    {
      "cell_type": "markdown",
      "source": [
        "### Cuidado: Aqui está a resposta"
      ],
      "metadata": {
        "id": "OBw23uLJvA6R"
      }
    },
    {
      "cell_type": "code",
      "metadata": {
        "id": "RqCGVhzYa6GC"
      },
      "source": [
        "# Sequencia de Fibonacci\n",
        "# 1o termo = 0\n",
        "# 2o termo = 1\n",
        "# 3o termo = 2o termo + 1o termo = 1 + 0 = 1\n",
        "# 4o termo = 3o termo + 2o termo = 1 + 1 = 2\n",
        "# 5o termo = 4o termo + 3o termo = 2 + 1 = 3\n",
        "# 6o termo = 3 + 2 = 5\n",
        "# n-esimo termo = (n-1)esimo + (n-2)esimo\n",
        "def termo_fibonacci(n):\n",
        "  if (n <= 0):\n",
        "    return None\n",
        "  elif (n == 1):\n",
        "    return 0\n",
        "  elif (n == 2):\n",
        "    return 1\n",
        "  else:\n",
        "    valor1 = 0\n",
        "    valor2 = 1\n",
        "    for i in range(3, n+1):\n",
        "      print('valor de i = ', i)\n",
        "      print('valor de valor1 = ', valor1)\n",
        "      print('valor de valor2 = ', valor2)\n",
        "      resultado = valor1+valor2\n",
        "      print('valor de resultado = ', resultado)\n",
        "      valor1 = valor2\n",
        "      valor2 = resultado\n",
        "  return resultado\n",
        "\n"
      ],
      "execution_count": null,
      "outputs": []
    },
    {
      "cell_type": "code",
      "metadata": {
        "colab": {
          "base_uri": "https://localhost:8080/"
        },
        "id": "xdVY8Agtep1H",
        "outputId": "945cbcb7-9445-4c55-9257-96c35f4872f2"
      },
      "source": [
        "print(termo_fibonacci(3))"
      ],
      "execution_count": null,
      "outputs": [
        {
          "output_type": "stream",
          "text": [
            "valor de i =  3\n",
            "valor de valor1 =  0\n",
            "valor de valor2 =  1\n",
            "valor de resultado =  1\n",
            "1\n"
          ],
          "name": "stdout"
        }
      ]
    }
  ]
}