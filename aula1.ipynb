{
  "nbformat": 4,
  "nbformat_minor": 0,
  "metadata": {
    "colab": {
      "name": "aula1.ipynb",
      "provenance": [],
      "toc_visible": true,
      "include_colab_link": true
    },
    "kernelspec": {
      "name": "python3",
      "display_name": "Python 3"
    },
    "language_info": {
      "name": "python"
    }
  },
  "cells": [
    {
      "cell_type": "markdown",
      "metadata": {
        "id": "view-in-github",
        "colab_type": "text"
      },
      "source": [
        "<a href=\"https://colab.research.google.com/github/ormastroni/fundamentos-python/blob/main/aula1.ipynb\" target=\"_parent\"><img src=\"https://colab.research.google.com/assets/colab-badge.svg\" alt=\"Open In Colab\"/></a>"
      ]
    },
    {
      "cell_type": "markdown",
      "metadata": {
        "id": "Bt6usuY8HXbX"
      },
      "source": [
        "# Primeira aula do curso de Fundamentos Des. Python"
      ]
    },
    {
      "cell_type": "markdown",
      "metadata": {
        "id": "yzcb0POdwaD4"
      },
      "source": [
        "## Prof.: Andre Victor\n",
        "Contato: andre.victor@prof.infnet.edu.br"
      ]
    },
    {
      "cell_type": "markdown",
      "metadata": {
        "id": "TlQ7qdlaZ6K5"
      },
      "source": [
        "### Revisão de Python: Executando códigos simples"
      ]
    },
    {
      "cell_type": "code",
      "metadata": {
        "id": "5cfaN7uSaDzU",
        "colab": {
          "base_uri": "https://localhost:8080/"
        },
        "outputId": "ccaea45a-aa2a-40e0-bc77-dd986b469156"
      },
      "source": [
        "2+3"
      ],
      "execution_count": 1,
      "outputs": [
        {
          "output_type": "execute_result",
          "data": {
            "text/plain": [
              "5"
            ]
          },
          "metadata": {},
          "execution_count": 1
        }
      ]
    },
    {
      "cell_type": "code",
      "metadata": {
        "id": "DBM8jC9faIRY",
        "colab": {
          "base_uri": "https://localhost:8080/"
        },
        "outputId": "09913372-d540-4e2a-f0a7-bf037113ed31"
      },
      "source": [
        "5 < 7"
      ],
      "execution_count": 2,
      "outputs": [
        {
          "output_type": "execute_result",
          "data": {
            "text/plain": [
              "True"
            ]
          },
          "metadata": {},
          "execution_count": 2
        }
      ]
    },
    {
      "cell_type": "code",
      "source": [
        "5 > 10"
      ],
      "metadata": {
        "id": "NKx6BpunZgw7",
        "outputId": "97106573-c4d6-41eb-e449-e98ae1cbc1b8",
        "colab": {
          "base_uri": "https://localhost:8080/"
        }
      },
      "execution_count": 3,
      "outputs": [
        {
          "output_type": "execute_result",
          "data": {
            "text/plain": [
              "False"
            ]
          },
          "metadata": {},
          "execution_count": 3
        }
      ]
    },
    {
      "cell_type": "code",
      "source": [
        "a = 5"
      ],
      "metadata": {
        "id": "L5PVGeMRZjsi"
      },
      "execution_count": 4,
      "outputs": []
    },
    {
      "cell_type": "code",
      "source": [
        "a"
      ],
      "metadata": {
        "id": "G0OA-xXKZ1Ua",
        "outputId": "c216db62-1430-4cd3-d568-490ef390aec2",
        "colab": {
          "base_uri": "https://localhost:8080/"
        }
      },
      "execution_count": 5,
      "outputs": [
        {
          "output_type": "execute_result",
          "data": {
            "text/plain": [
              "5"
            ]
          },
          "metadata": {},
          "execution_count": 5
        }
      ]
    },
    {
      "cell_type": "markdown",
      "metadata": {
        "id": "v8EqYqm3ht1j"
      },
      "source": [
        "### A função print()"
      ]
    },
    {
      "cell_type": "code",
      "metadata": {
        "colab": {
          "base_uri": "https://localhost:8080/"
        },
        "id": "K7wxiN1yHp5e",
        "outputId": "85794e7c-e196-4c50-ae46-bc5491f5f6c8"
      },
      "source": [
        "print('Este é um teste')"
      ],
      "execution_count": 6,
      "outputs": [
        {
          "output_type": "stream",
          "name": "stdout",
          "text": [
            "Este é um teste\n"
          ]
        }
      ]
    },
    {
      "cell_type": "code",
      "metadata": {
        "colab": {
          "base_uri": "https://localhost:8080/"
        },
        "id": "kf-Pfgz-JJaU",
        "outputId": "6088b025-1c09-4f45-fd70-61074b655c3b"
      },
      "source": [
        "a = 1\n",
        "print(a)\n",
        "print(a+5)\n",
        "print('Executei')"
      ],
      "execution_count": 8,
      "outputs": [
        {
          "output_type": "stream",
          "name": "stdout",
          "text": [
            "1\n",
            "6\n",
            "Executei\n"
          ]
        }
      ]
    },
    {
      "cell_type": "code",
      "metadata": {
        "colab": {
          "base_uri": "https://localhost:8080/"
        },
        "id": "DNaYZ_spJOh6",
        "outputId": "c9e2022a-24e2-419e-bb28-900458023c33"
      },
      "source": [
        "a = 'Este é um teste'\n",
        "print(a)"
      ],
      "execution_count": 9,
      "outputs": [
        {
          "output_type": "stream",
          "name": "stdout",
          "text": [
            "Este é um teste\n"
          ]
        }
      ]
    },
    {
      "cell_type": "markdown",
      "metadata": {
        "id": "l7yomimah3Uf"
      },
      "source": [
        "### Estruturas de repetição"
      ]
    },
    {
      "cell_type": "code",
      "metadata": {
        "colab": {
          "base_uri": "https://localhost:8080/"
        },
        "id": "NXvGhmmnJst_",
        "outputId": "f67e4e01-ef7b-4652-bf56-4c2199d17017"
      },
      "source": [
        "for i in range(6,2,-1):\n",
        "  print(i)\n",
        "print('Fechei')"
      ],
      "execution_count": 18,
      "outputs": [
        {
          "output_type": "stream",
          "name": "stdout",
          "text": [
            "6\n",
            "5\n",
            "4\n",
            "3\n",
            "Fechei\n"
          ]
        }
      ]
    },
    {
      "cell_type": "code",
      "metadata": {
        "colab": {
          "base_uri": "https://localhost:8080/"
        },
        "id": "Q04EOpBTK1ej",
        "outputId": "75feee45-d07f-415f-a241-4f014f52045c"
      },
      "source": [
        "a = 1\n",
        "while (a < 6):\n",
        "  print(a)\n",
        "  a = a + 1"
      ],
      "execution_count": null,
      "outputs": [
        {
          "output_type": "stream",
          "text": [
            "1\n",
            "2\n",
            "3\n",
            "4\n",
            "5\n"
          ],
          "name": "stdout"
        }
      ]
    },
    {
      "cell_type": "code",
      "metadata": {
        "id": "bOx1VuXrrgmn",
        "outputId": "a77a9c97-8c8f-43ba-8200-e99e07a33691",
        "colab": {
          "base_uri": "https://localhost:8080/"
        }
      },
      "source": [
        "final = 0\n",
        "while (True):\n",
        "  final = final + 1\n",
        "  if (final == 4):\n",
        "    break\n",
        "  print(final)"
      ],
      "execution_count": null,
      "outputs": [
        {
          "output_type": "stream",
          "name": "stdout",
          "text": [
            "1\n",
            "2\n",
            "3\n"
          ]
        }
      ]
    },
    {
      "cell_type": "markdown",
      "metadata": {
        "id": "l3EOImbLiOAV"
      },
      "source": [
        "###  Tipos de dados\n",
        "* Numéricos (inteiros e de ponto flutuante)\n",
        "* Booleanos\n",
        "* Strings\n",
        "* Outros tipos mais complexos"
      ]
    },
    {
      "cell_type": "code",
      "metadata": {
        "colab": {
          "base_uri": "https://localhost:8080/"
        },
        "id": "vtITMqe9LyJ9",
        "outputId": "1f513c12-3f2b-4aca-b372-41c6817d1e12"
      },
      "source": [
        "type(a)"
      ],
      "execution_count": null,
      "outputs": [
        {
          "output_type": "execute_result",
          "data": {
            "text/plain": [
              "str"
            ]
          },
          "metadata": {},
          "execution_count": 9
        }
      ]
    },
    {
      "cell_type": "code",
      "metadata": {
        "colab": {
          "base_uri": "https://localhost:8080/"
        },
        "id": "XGsCDYYRL8kz",
        "outputId": "256be8f5-f080-4e8b-bc8f-2a5e679efae9"
      },
      "source": [
        "b = 3.8\n",
        "type(b)"
      ],
      "execution_count": null,
      "outputs": [
        {
          "output_type": "execute_result",
          "data": {
            "text/plain": [
              "float"
            ]
          },
          "metadata": {
            "tags": []
          },
          "execution_count": 15
        }
      ]
    },
    {
      "cell_type": "code",
      "metadata": {
        "colab": {
          "base_uri": "https://localhost:8080/"
        },
        "id": "pI6jU_cBMEup",
        "outputId": "02a1939f-5152-4403-d188-8e28e9b7179c"
      },
      "source": [
        "c = True\n",
        "type(c)"
      ],
      "execution_count": null,
      "outputs": [
        {
          "output_type": "execute_result",
          "data": {
            "text/plain": [
              "bool"
            ]
          },
          "metadata": {
            "tags": []
          },
          "execution_count": 17
        }
      ]
    },
    {
      "cell_type": "code",
      "metadata": {
        "colab": {
          "base_uri": "https://localhost:8080/"
        },
        "id": "oyg7ZJEJMLsT",
        "outputId": "58f1836c-42d4-4b74-a2c6-ab49d22e5e4f"
      },
      "source": [
        "d = 'a'\n",
        "type(d)"
      ],
      "execution_count": null,
      "outputs": [
        {
          "output_type": "execute_result",
          "data": {
            "text/plain": [
              "str"
            ]
          },
          "metadata": {
            "tags": []
          },
          "execution_count": 18
        }
      ]
    },
    {
      "cell_type": "code",
      "metadata": {
        "colab": {
          "base_uri": "https://localhost:8080/"
        },
        "id": "ouaxHNzqMQz6",
        "outputId": "e268051f-5a38-4fd0-afa8-3d85a25ed8d3"
      },
      "source": [
        "e = 'oi mundo'\n",
        "type(e)"
      ],
      "execution_count": null,
      "outputs": [
        {
          "output_type": "execute_result",
          "data": {
            "text/plain": [
              "str"
            ]
          },
          "metadata": {
            "tags": []
          },
          "execution_count": 19
        }
      ]
    },
    {
      "cell_type": "code",
      "metadata": {
        "colab": {
          "base_uri": "https://localhost:8080/"
        },
        "id": "nECe0mXXMdkE",
        "outputId": "03859fbd-10f8-4391-b672-aa7596941a78"
      },
      "source": [
        "a = 'oi mundo'\n",
        "type(a)"
      ],
      "execution_count": null,
      "outputs": [
        {
          "output_type": "execute_result",
          "data": {
            "text/plain": [
              "str"
            ]
          },
          "metadata": {
            "tags": []
          },
          "execution_count": 20
        }
      ]
    },
    {
      "cell_type": "code",
      "metadata": {
        "colab": {
          "base_uri": "https://localhost:8080/"
        },
        "id": "DA_CvOYOMt_g",
        "outputId": "8954f10d-a990-4bc3-8265-fdb4fc3e2eee"
      },
      "source": [
        "print(c)"
      ],
      "execution_count": null,
      "outputs": [
        {
          "output_type": "stream",
          "text": [
            "True\n"
          ],
          "name": "stdout"
        }
      ]
    },
    {
      "cell_type": "code",
      "metadata": {
        "colab": {
          "base_uri": "https://localhost:8080/"
        },
        "id": "EyzEKLWgNjYV",
        "outputId": "748469f6-30ef-4686-ff85-864a24b1d9cc"
      },
      "source": [
        "a = 5\n",
        "b = 23\n",
        "c = b % a\n",
        "d = b / a\n",
        "print(c)\n",
        "print(d)"
      ],
      "execution_count": null,
      "outputs": [
        {
          "output_type": "stream",
          "name": "stdout",
          "text": [
            "3\n",
            "4.6\n"
          ]
        }
      ]
    },
    {
      "cell_type": "code",
      "metadata": {
        "colab": {
          "base_uri": "https://localhost:8080/"
        },
        "id": "8hj3cENyOHvA",
        "outputId": "87dfee35-93d5-45f5-ed2b-9e9befe5aab9"
      },
      "source": [
        "d = a*b\n",
        "print(d)"
      ],
      "execution_count": null,
      "outputs": [
        {
          "output_type": "stream",
          "name": "stdout",
          "text": [
            "115\n"
          ]
        }
      ]
    },
    {
      "cell_type": "markdown",
      "metadata": {
        "id": "IkhqZIN7iVHs"
      },
      "source": [
        "### A função input"
      ]
    },
    {
      "cell_type": "code",
      "metadata": {
        "colab": {
          "base_uri": "https://localhost:8080/"
        },
        "id": "qzTdlsupOUYo",
        "outputId": "821e1978-194c-49f9-9734-f912cf95115b"
      },
      "source": [
        "f = input('Por favor, entre com um valor: ')\n",
        "g = int(f)\n",
        "print(g+1)\n",
        "print(f+\"1\")"
      ],
      "execution_count": null,
      "outputs": [
        {
          "output_type": "stream",
          "name": "stdout",
          "text": [
            "Por favor, entre com um valor: 78\n",
            "79\n",
            "781\n"
          ]
        }
      ]
    },
    {
      "cell_type": "markdown",
      "metadata": {
        "id": "WnxHJBumiaDF"
      },
      "source": [
        "### Funções definidas pelo próprio usuário"
      ]
    },
    {
      "cell_type": "code",
      "metadata": {
        "id": "6AJb8dTuRJWc"
      },
      "source": [
        "def eh_primo(n):\n",
        "  for i in range(2,n):\n",
        "    if (n % i) == 0:\n",
        "      return False\n",
        "  return True"
      ],
      "execution_count": null,
      "outputs": []
    },
    {
      "cell_type": "markdown",
      "metadata": {
        "id": "cRGQjWg9wzA3"
      },
      "source": [
        "### Estruturas condicionais"
      ]
    },
    {
      "cell_type": "code",
      "metadata": {
        "id": "wgGpw9AYw1bE",
        "outputId": "e25294ee-adda-401e-91f7-8da17b98f33c",
        "colab": {
          "base_uri": "https://localhost:8080/"
        }
      },
      "source": [
        "a = int(input('Entre com o valor de a: '))\n",
        "\n",
        "if (a < 0):\n",
        "  print('a eh negativo')\n",
        "elif (a <= 5):\n",
        "  print('a eh baixo')\n",
        "elif (a <= 9):\n",
        "  print('a eh medio')\n",
        "else:\n",
        "  print('a eh alto')"
      ],
      "execution_count": null,
      "outputs": [
        {
          "output_type": "stream",
          "name": "stdout",
          "text": [
            "Entre com o valor de a: 9\n",
            "a eh medio\n"
          ]
        }
      ]
    },
    {
      "cell_type": "markdown",
      "metadata": {
        "id": "qCnT16Yn-nqy"
      },
      "source": [
        "### Exercício: Implemente uma função fatorial\n",
        "\n",
        "Como calcular o fatorial de um numero:\n",
        "\n",
        "* 4! = 4x3x2x1\n",
        "* 5! = 5x4x3x2x1\n",
        "* 8! = 8x7x6x...x1"
      ]
    },
    {
      "cell_type": "code",
      "metadata": {
        "id": "-eevF3J31ZM9"
      },
      "source": [
        "#Exemplo com 5\n",
        "def fatorial(n):\n",
        "  resultado = n\n",
        "  # resultado = 5\n",
        "  for i in range(n-1,1,-1):\n",
        "    resultado = resultado * i\n",
        "    print(f'valor de i = {i}')\n",
        "    print(f'valor de resultado = {resultado}')\n",
        "  return resultado"
      ],
      "execution_count": null,
      "outputs": []
    },
    {
      "cell_type": "code",
      "metadata": {
        "id": "Oiz3zi8Z5qC8",
        "outputId": "92672c8e-9000-4340-ceee-daae3f784157",
        "colab": {
          "base_uri": "https://localhost:8080/"
        }
      },
      "source": [
        "genero = input('Entre com o genero: ')\n",
        "if genero == 'M' or genero == 'm':\n",
        "  print('o indvíduo é do sexo masculino')\n",
        "elif (genero == 'F') or (genero == 'f'):\n",
        "  print('o indívudo é do sexo feminino')\n",
        "else:\n",
        "  print('não identificado')"
      ],
      "execution_count": null,
      "outputs": [
        {
          "output_type": "stream",
          "name": "stdout",
          "text": [
            "Entre com o genero: M\n",
            "o indvíduo é do sexo masculino\n"
          ]
        }
      ]
    },
    {
      "cell_type": "code",
      "metadata": {
        "id": "awRWMYkZ2WI5",
        "outputId": "671732d3-230f-4102-c4d1-49397f07268d",
        "colab": {
          "base_uri": "https://localhost:8080/"
        }
      },
      "source": [
        "fatorial(5)"
      ],
      "execution_count": null,
      "outputs": [
        {
          "output_type": "stream",
          "name": "stdout",
          "text": [
            "valor de i = 4\n",
            "valor de resultado = 20\n",
            "valor de i = 3\n",
            "valor de resultado = 60\n",
            "valor de i = 2\n",
            "valor de resultado = 120\n"
          ]
        },
        {
          "output_type": "execute_result",
          "data": {
            "text/plain": [
              "120"
            ]
          },
          "metadata": {},
          "execution_count": 65
        }
      ]
    },
    {
      "cell_type": "code",
      "metadata": {
        "id": "5yV1LMdL2v7d"
      },
      "source": [],
      "execution_count": null,
      "outputs": []
    },
    {
      "cell_type": "code",
      "metadata": {
        "colab": {
          "base_uri": "https://localhost:8080/"
        },
        "id": "4Q_lGNr5Sw-I",
        "outputId": "dd2f4818-79a9-4bce-f265-d472ad009839"
      },
      "source": [
        "eh_primo(47)"
      ],
      "execution_count": null,
      "outputs": [
        {
          "output_type": "execute_result",
          "data": {
            "text/plain": [
              "True"
            ]
          },
          "metadata": {},
          "execution_count": 45
        }
      ]
    },
    {
      "cell_type": "code",
      "metadata": {
        "id": "YCMNzSd7U9Ga"
      },
      "source": [
        "def fibonacci(n):\n",
        "  # calcula o n-ésimo termo da série de fibonacci\n",
        "  return 1"
      ],
      "execution_count": null,
      "outputs": []
    },
    {
      "cell_type": "code",
      "metadata": {
        "colab": {
          "base_uri": "https://localhost:8080/"
        },
        "id": "ZnMvp0X4VMoJ",
        "outputId": "b87c4dd6-d8bf-4677-9fd3-5c804c5934e3"
      },
      "source": [
        "c *= 10\n",
        "print(c)"
      ],
      "execution_count": null,
      "outputs": [
        {
          "output_type": "stream",
          "text": [
            "1800\n"
          ],
          "name": "stdout"
        }
      ]
    },
    {
      "cell_type": "code",
      "metadata": {
        "id": "sbaoxLG9Y_eS"
      },
      "source": [
        "def eleva_quadrado(n):\n",
        "  return n*n"
      ],
      "execution_count": null,
      "outputs": []
    },
    {
      "cell_type": "code",
      "metadata": {
        "colab": {
          "base_uri": "https://localhost:8080/"
        },
        "id": "YEo1UepEZFhf",
        "outputId": "519432de-bf2e-46d6-a1ae-1bf30b61de36"
      },
      "source": [
        "eleva_quadrado(6)"
      ],
      "execution_count": null,
      "outputs": [
        {
          "output_type": "execute_result",
          "data": {
            "text/plain": [
              "36"
            ]
          },
          "metadata": {
            "tags": []
          },
          "execution_count": 18
        }
      ]
    },
    {
      "cell_type": "code",
      "metadata": {
        "id": "xp4GheMmacd4"
      },
      "source": [
        "# 2 ao cubo = 2*2*2\n",
        "# 3 a 4 potencia = 3*3*3*3\n",
        "def potencia(base, expoente):\n",
        "  resultado = base\n",
        "  for i in range(1,expoente):\n",
        "    resultado = resultado * base\n",
        "  return resultado"
      ],
      "execution_count": null,
      "outputs": []
    },
    {
      "cell_type": "code",
      "metadata": {
        "id": "1500b87tBj8B",
        "outputId": "fb926ac5-7a4c-4c66-a132-c7764e462d3e",
        "colab": {
          "base_uri": "https://localhost:8080/"
        }
      },
      "source": [
        "a = 1\n",
        "a += 1\n",
        "a"
      ],
      "execution_count": null,
      "outputs": [
        {
          "output_type": "execute_result",
          "data": {
            "text/plain": [
              "2"
            ]
          },
          "metadata": {},
          "execution_count": 79
        }
      ]
    },
    {
      "cell_type": "code",
      "metadata": {
        "id": "FKRBE6uJB1OQ",
        "outputId": "3a105e85-3711-4fa7-bc9a-8cb8650e71a2",
        "colab": {
          "base_uri": "https://localhost:8080/"
        }
      },
      "source": [
        "b = 4\n",
        "b *= 5\n",
        "b"
      ],
      "execution_count": null,
      "outputs": [
        {
          "output_type": "execute_result",
          "data": {
            "text/plain": [
              "20"
            ]
          },
          "metadata": {},
          "execution_count": 80
        }
      ]
    },
    {
      "cell_type": "code",
      "metadata": {
        "id": "m6wSEI8xCE92"
      },
      "source": [
        "c = 10\n",
        "c *= b + 5"
      ],
      "execution_count": null,
      "outputs": []
    },
    {
      "cell_type": "code",
      "metadata": {
        "id": "IJo9JXN6CKnl",
        "outputId": "d9b41386-a21d-4297-c791-a688d0aecd40",
        "colab": {
          "base_uri": "https://localhost:8080/"
        }
      },
      "source": [
        "c"
      ],
      "execution_count": null,
      "outputs": [
        {
          "output_type": "execute_result",
          "data": {
            "text/plain": [
              "250"
            ]
          },
          "metadata": {},
          "execution_count": 84
        }
      ]
    },
    {
      "cell_type": "code",
      "metadata": {
        "colab": {
          "base_uri": "https://localhost:8080/"
        },
        "id": "LyweEda6yUH7",
        "outputId": "e6bda61f-952c-49b3-ac23-b6c77e6e91e8"
      },
      "source": [
        "potencia(9,3)"
      ],
      "execution_count": null,
      "outputs": [
        {
          "output_type": "execute_result",
          "data": {
            "text/plain": [
              "729"
            ]
          },
          "metadata": {
            "tags": []
          },
          "execution_count": 24
        }
      ]
    },
    {
      "cell_type": "markdown",
      "metadata": {
        "id": "6mHllZPHECwc"
      },
      "source": [
        "### Valor None para retorno de função\n",
        "Ausência de valor, valor nulo"
      ]
    },
    {
      "cell_type": "code",
      "metadata": {
        "id": "AcA-NCsCNwqa"
      },
      "source": [
        "def nova_funcao():\n",
        "  print('este eh um teste de retorno')"
      ],
      "execution_count": null,
      "outputs": []
    },
    {
      "cell_type": "code",
      "metadata": {
        "colab": {
          "base_uri": "https://localhost:8080/"
        },
        "id": "b1Km0Ta0N46h",
        "outputId": "c46851c2-6421-4815-ca37-6fdf4f93c8ee"
      },
      "source": [
        "teste = nova_funcao()"
      ],
      "execution_count": null,
      "outputs": [
        {
          "output_type": "stream",
          "name": "stdout",
          "text": [
            "este eh um teste de retorno\n"
          ]
        }
      ]
    },
    {
      "cell_type": "code",
      "metadata": {
        "colab": {
          "base_uri": "https://localhost:8080/"
        },
        "id": "M0BUypVgOMpa",
        "outputId": "2e2684df-27a5-4174-ff1b-f5b5b1819c40"
      },
      "source": [
        "print(teste)"
      ],
      "execution_count": null,
      "outputs": [
        {
          "output_type": "stream",
          "name": "stdout",
          "text": [
            "None\n"
          ]
        }
      ]
    },
    {
      "cell_type": "markdown",
      "metadata": {
        "id": "dS_bDuoZEbOk"
      },
      "source": [
        "### Exercícios"
      ]
    },
    {
      "cell_type": "markdown",
      "metadata": {
        "id": "a3NQBMluIP60"
      },
      "source": [
        "Peça para o usuário digitar um número no console até que o número zero seja digitado. Quando isso ocorrer, exiba a soma de todos os números digitados"
      ]
    },
    {
      "cell_type": "code",
      "metadata": {
        "id": "n-4QLqfmEkAA",
        "outputId": "1b9b8ede-38a0-41f2-ce3d-51b59e1a35f1",
        "colab": {
          "base_uri": "https://localhost:8080/"
        }
      },
      "source": [
        "soma = 0\n",
        "while (True):\n",
        "  num = int(input('Entre com o valor: '))\n",
        "  soma = soma + num\n",
        "  if (num == 0):\n",
        "    break\n",
        "print(f'A soma dos valores digitados eh {soma}')"
      ],
      "execution_count": null,
      "outputs": [
        {
          "output_type": "stream",
          "name": "stdout",
          "text": [
            "Entre com o valor: 57\n",
            "Entre com o valor: 0\n",
            "A soma dos valores digitados eh 57\n"
          ]
        }
      ]
    },
    {
      "cell_type": "markdown",
      "metadata": {
        "id": "4zC_MxUWGTf4"
      },
      "source": [
        "Peça para o usuário digitar um número e calcule a soma dos números primos até esses números\n",
        "* Ex1: digitei 13 => \n",
        "1+2+3+5+7+11+13=42\n",
        "\n",
        "* Ex2: digitei 57 => \n",
        "1+2+3+5+7+11+13+17+....+53"
      ]
    },
    {
      "cell_type": "code",
      "metadata": {
        "colab": {
          "base_uri": "https://localhost:8080/"
        },
        "id": "kroiTg7eO5eC",
        "outputId": "ca3d2e85-d10e-4660-d978-6a68aced8463"
      },
      "source": [
        "n = int(input('Entre com o valor '))"
      ],
      "execution_count": null,
      "outputs": [
        {
          "output_type": "stream",
          "text": [
            "Entre com o valor 7\n"
          ],
          "name": "stdout"
        }
      ]
    },
    {
      "cell_type": "code",
      "metadata": {
        "colab": {
          "base_uri": "https://localhost:8080/"
        },
        "id": "tEDwMzM5PEIX",
        "outputId": "43404743-1a82-4c38-a5ea-324bbb30ab1d"
      },
      "source": [
        "soma_primos = 0\n",
        "for i in range(2,n+1):\n",
        "  if (eh_primo(i)):\n",
        "    soma_primos = soma_primos + i\n",
        "print('A soma dos primos ate n eh: ', soma_primos)"
      ],
      "execution_count": null,
      "outputs": [
        {
          "output_type": "stream",
          "text": [
            "A soma dos primos ate n eh:  17\n"
          ],
          "name": "stdout"
        }
      ]
    },
    {
      "cell_type": "code",
      "metadata": {
        "colab": {
          "base_uri": "https://localhost:8080/"
        },
        "id": "KtXHfTgLZWxJ",
        "outputId": "e7834a2f-81ac-4b56-c0fb-82a970c78d06"
      },
      "source": [
        "a = 10\n",
        "# a = a*2\n",
        "a *= 2\n",
        "print(a)"
      ],
      "execution_count": null,
      "outputs": [
        {
          "output_type": "stream",
          "text": [
            "20\n"
          ],
          "name": "stdout"
        }
      ]
    },
    {
      "cell_type": "code",
      "metadata": {
        "colab": {
          "base_uri": "https://localhost:8080/"
        },
        "id": "KwYmglSRaCF7",
        "outputId": "2606495f-cf4d-4c9f-bcc4-c5471f4277d1"
      },
      "source": [
        "b = 15\n",
        "#b = b - 2*a\n",
        "b -= 2*a\n",
        "print(b)"
      ],
      "execution_count": null,
      "outputs": [
        {
          "output_type": "stream",
          "text": [
            "-25\n"
          ],
          "name": "stdout"
        }
      ]
    },
    {
      "cell_type": "code",
      "metadata": {
        "id": "RqCGVhzYa6GC"
      },
      "source": [
        "# Sequencia de Fibonacci\n",
        "# 1o termo = 0\n",
        "# 2o termo = 1\n",
        "# 3o termo = 2o termo + 1o termo = 1 + 0 = 1\n",
        "# 4o termo = 3o termo + 2o termo = 1 + 1 = 2\n",
        "# 5o termo = 4o termo + 3o termo = 2 + 1 = 3\n",
        "# 6o termo = 3 + 2 = 5\n",
        "# n-esimo termo = (n-1)esimo + (n-2)esimo\n",
        "def termo_fibonacci(n):\n",
        "  if (n <= 0):\n",
        "    return None\n",
        "  elif (n == 1):\n",
        "    return 0\n",
        "  elif (n == 2):\n",
        "    return 1\n",
        "  else:\n",
        "    valor1 = 0\n",
        "    valor2 = 1\n",
        "    for i in range(3, n+1):\n",
        "      print('valor de i = ', i)\n",
        "      print('valor de valor1 = ', valor1)\n",
        "      print('valor de valor2 = ', valor2)\n",
        "      resultado = valor1+valor2\n",
        "      print('valor de resultado = ', resultado)\n",
        "      valor1 = valor2\n",
        "      valor2 = resultado\n",
        "  return resultado\n",
        "\n"
      ],
      "execution_count": null,
      "outputs": []
    },
    {
      "cell_type": "code",
      "metadata": {
        "colab": {
          "base_uri": "https://localhost:8080/"
        },
        "id": "xdVY8Agtep1H",
        "outputId": "945cbcb7-9445-4c55-9257-96c35f4872f2"
      },
      "source": [
        "print(termo_fibonacci(3))"
      ],
      "execution_count": null,
      "outputs": [
        {
          "output_type": "stream",
          "text": [
            "valor de i =  3\n",
            "valor de valor1 =  0\n",
            "valor de valor2 =  1\n",
            "valor de resultado =  1\n",
            "1\n"
          ],
          "name": "stdout"
        }
      ]
    }
  ]
}