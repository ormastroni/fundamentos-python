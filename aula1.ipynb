{
  "nbformat": 4,
  "nbformat_minor": 0,
  "metadata": {
    "colab": {
      "name": "aula1.ipynb",
      "provenance": [],
      "toc_visible": true,
      "authorship_tag": "ABX9TyNMUJj/DxHaN3VjHWEWaGpF",
      "include_colab_link": true
    },
    "kernelspec": {
      "name": "python3",
      "display_name": "Python 3"
    },
    "language_info": {
      "name": "python"
    }
  },
  "cells": [
    {
      "cell_type": "markdown",
      "metadata": {
        "id": "view-in-github",
        "colab_type": "text"
      },
      "source": [
        "<a href=\"https://colab.research.google.com/github/ormastroni/fundamentos-python/blob/main/aula1.ipynb\" target=\"_parent\"><img src=\"https://colab.research.google.com/assets/colab-badge.svg\" alt=\"Open In Colab\"/></a>"
      ]
    },
    {
      "cell_type": "markdown",
      "metadata": {
        "id": "Bt6usuY8HXbX"
      },
      "source": [
        "# Primeira aula do curso de Fundamentos Des. Python"
      ]
    },
    {
      "cell_type": "markdown",
      "metadata": {
        "id": "yzcb0POdwaD4"
      },
      "source": [
        "## Prof.: Andre Victor"
      ]
    },
    {
      "cell_type": "markdown",
      "metadata": {
        "id": "WmBQtv1Zwawh"
      },
      "source": [
        "### Contato: andre.victor@prof.infnet.edu.br"
      ]
    },
    {
      "cell_type": "markdown",
      "metadata": {
        "id": "TlQ7qdlaZ6K5"
      },
      "source": [
        "### Revisão de Python do bloco de entrada: Escrevendo códigos simples"
      ]
    },
    {
      "cell_type": "code",
      "metadata": {
        "id": "5cfaN7uSaDzU",
        "outputId": "9d51f955-d792-4777-924c-ee56054c508c",
        "colab": {
          "base_uri": "https://localhost:8080/"
        }
      },
      "source": [
        "2+3"
      ],
      "execution_count": 9,
      "outputs": [
        {
          "output_type": "execute_result",
          "data": {
            "text/plain": [
              "5"
            ]
          },
          "metadata": {},
          "execution_count": 9
        }
      ]
    },
    {
      "cell_type": "code",
      "metadata": {
        "id": "DBM8jC9faIRY",
        "outputId": "218a609a-b00b-4882-c4fb-0cc8f76a3c2f",
        "colab": {
          "base_uri": "https://localhost:8080/"
        }
      },
      "source": [
        "5 < 7"
      ],
      "execution_count": 10,
      "outputs": [
        {
          "output_type": "execute_result",
          "data": {
            "text/plain": [
              "True"
            ]
          },
          "metadata": {},
          "execution_count": 10
        }
      ]
    },
    {
      "cell_type": "code",
      "metadata": {
        "colab": {
          "base_uri": "https://localhost:8080/"
        },
        "id": "K7wxiN1yHp5e",
        "outputId": "301257b4-7e08-45a6-e9cb-0b46d671e2f4"
      },
      "source": [
        "print('Este é um teste')"
      ],
      "execution_count": null,
      "outputs": [
        {
          "output_type": "stream",
          "name": "stdout",
          "text": [
            "Este é um teste\n"
          ]
        }
      ]
    },
    {
      "cell_type": "code",
      "metadata": {
        "colab": {
          "base_uri": "https://localhost:8080/"
        },
        "id": "kf-Pfgz-JJaU",
        "outputId": "8c3489a4-f60a-45ba-ee12-f6d9037be2c4"
      },
      "source": [
        "a = 1\n",
        "print(a)"
      ],
      "execution_count": null,
      "outputs": [
        {
          "output_type": "stream",
          "text": [
            "1\n"
          ],
          "name": "stdout"
        }
      ]
    },
    {
      "cell_type": "code",
      "metadata": {
        "colab": {
          "base_uri": "https://localhost:8080/"
        },
        "id": "DNaYZ_spJOh6",
        "outputId": "bc137bc3-facb-4389-8255-b14b52cb0bbd"
      },
      "source": [
        "a = 'Este é um teste'\n",
        "print(a)"
      ],
      "execution_count": null,
      "outputs": [
        {
          "output_type": "stream",
          "text": [
            "Este é um teste\n"
          ],
          "name": "stdout"
        }
      ]
    },
    {
      "cell_type": "code",
      "metadata": {
        "colab": {
          "base_uri": "https://localhost:8080/"
        },
        "id": "NXvGhmmnJst_",
        "outputId": "637f3962-df62-4db7-fb1d-eaa672a9f3a5"
      },
      "source": [
        "for i in range(1,7,2):\n",
        "  print(i)"
      ],
      "execution_count": null,
      "outputs": [
        {
          "output_type": "stream",
          "text": [
            "1\n",
            "3\n",
            "5\n"
          ],
          "name": "stdout"
        }
      ]
    },
    {
      "cell_type": "code",
      "metadata": {
        "colab": {
          "base_uri": "https://localhost:8080/"
        },
        "id": "Q04EOpBTK1ej",
        "outputId": "75feee45-d07f-415f-a241-4f014f52045c"
      },
      "source": [
        "a = 1\n",
        "while (a < 6):\n",
        "  print(a)\n",
        "  a = a + 1"
      ],
      "execution_count": null,
      "outputs": [
        {
          "output_type": "stream",
          "text": [
            "1\n",
            "2\n",
            "3\n",
            "4\n",
            "5\n"
          ],
          "name": "stdout"
        }
      ]
    },
    {
      "cell_type": "code",
      "metadata": {
        "colab": {
          "base_uri": "https://localhost:8080/"
        },
        "id": "vtITMqe9LyJ9",
        "outputId": "fe93e4d2-0569-4416-b4e1-3f5c97a9bd98"
      },
      "source": [
        "type(a)"
      ],
      "execution_count": null,
      "outputs": [
        {
          "output_type": "execute_result",
          "data": {
            "text/plain": [
              "int"
            ]
          },
          "metadata": {
            "tags": []
          },
          "execution_count": 14
        }
      ]
    },
    {
      "cell_type": "code",
      "metadata": {
        "colab": {
          "base_uri": "https://localhost:8080/"
        },
        "id": "XGsCDYYRL8kz",
        "outputId": "256be8f5-f080-4e8b-bc8f-2a5e679efae9"
      },
      "source": [
        "b = 3.8\n",
        "type(b)"
      ],
      "execution_count": null,
      "outputs": [
        {
          "output_type": "execute_result",
          "data": {
            "text/plain": [
              "float"
            ]
          },
          "metadata": {
            "tags": []
          },
          "execution_count": 15
        }
      ]
    },
    {
      "cell_type": "code",
      "metadata": {
        "colab": {
          "base_uri": "https://localhost:8080/"
        },
        "id": "pI6jU_cBMEup",
        "outputId": "02a1939f-5152-4403-d188-8e28e9b7179c"
      },
      "source": [
        "c = True\n",
        "type(c)"
      ],
      "execution_count": null,
      "outputs": [
        {
          "output_type": "execute_result",
          "data": {
            "text/plain": [
              "bool"
            ]
          },
          "metadata": {
            "tags": []
          },
          "execution_count": 17
        }
      ]
    },
    {
      "cell_type": "code",
      "metadata": {
        "colab": {
          "base_uri": "https://localhost:8080/"
        },
        "id": "oyg7ZJEJMLsT",
        "outputId": "58f1836c-42d4-4b74-a2c6-ab49d22e5e4f"
      },
      "source": [
        "d = 'a'\n",
        "type(d)"
      ],
      "execution_count": null,
      "outputs": [
        {
          "output_type": "execute_result",
          "data": {
            "text/plain": [
              "str"
            ]
          },
          "metadata": {
            "tags": []
          },
          "execution_count": 18
        }
      ]
    },
    {
      "cell_type": "code",
      "metadata": {
        "colab": {
          "base_uri": "https://localhost:8080/"
        },
        "id": "ouaxHNzqMQz6",
        "outputId": "e268051f-5a38-4fd0-afa8-3d85a25ed8d3"
      },
      "source": [
        "e = 'oi mundo'\n",
        "type(e)"
      ],
      "execution_count": null,
      "outputs": [
        {
          "output_type": "execute_result",
          "data": {
            "text/plain": [
              "str"
            ]
          },
          "metadata": {
            "tags": []
          },
          "execution_count": 19
        }
      ]
    },
    {
      "cell_type": "code",
      "metadata": {
        "colab": {
          "base_uri": "https://localhost:8080/"
        },
        "id": "nECe0mXXMdkE",
        "outputId": "03859fbd-10f8-4391-b672-aa7596941a78"
      },
      "source": [
        "a = 'oi mundo'\n",
        "type(a)"
      ],
      "execution_count": null,
      "outputs": [
        {
          "output_type": "execute_result",
          "data": {
            "text/plain": [
              "str"
            ]
          },
          "metadata": {
            "tags": []
          },
          "execution_count": 20
        }
      ]
    },
    {
      "cell_type": "code",
      "metadata": {
        "colab": {
          "base_uri": "https://localhost:8080/"
        },
        "id": "DA_CvOYOMt_g",
        "outputId": "8954f10d-a990-4bc3-8265-fdb4fc3e2eee"
      },
      "source": [
        "print(c)"
      ],
      "execution_count": null,
      "outputs": [
        {
          "output_type": "stream",
          "text": [
            "True\n"
          ],
          "name": "stdout"
        }
      ]
    },
    {
      "cell_type": "code",
      "metadata": {
        "colab": {
          "base_uri": "https://localhost:8080/"
        },
        "id": "EyzEKLWgNjYV",
        "outputId": "fd17c82c-c61f-43cb-fa60-745c7e40c212"
      },
      "source": [
        "a = 5\n",
        "b = 23\n",
        "c = b % a\n",
        "print(c)"
      ],
      "execution_count": null,
      "outputs": [
        {
          "output_type": "stream",
          "text": [
            "3\n"
          ],
          "name": "stdout"
        }
      ]
    },
    {
      "cell_type": "code",
      "metadata": {
        "colab": {
          "base_uri": "https://localhost:8080/"
        },
        "id": "8hj3cENyOHvA",
        "outputId": "4bdbda51-8821-4c1e-b279-3df311a055a0"
      },
      "source": [
        "d = a*b\n",
        "print(d)"
      ],
      "execution_count": null,
      "outputs": [
        {
          "output_type": "stream",
          "text": [
            "115\n"
          ],
          "name": "stdout"
        }
      ]
    },
    {
      "cell_type": "code",
      "metadata": {
        "colab": {
          "base_uri": "https://localhost:8080/"
        },
        "id": "qzTdlsupOUYo",
        "outputId": "7b00add1-831f-4349-b56d-0823f6541719"
      },
      "source": [
        "f = input('Por favor, entre com um valor: ')\n",
        "g = int(f)\n",
        "print(g+1)"
      ],
      "execution_count": null,
      "outputs": [
        {
          "output_type": "stream",
          "text": [
            "Por favor, entre com um valor: 31\n",
            "32\n"
          ],
          "name": "stdout"
        }
      ]
    },
    {
      "cell_type": "code",
      "metadata": {
        "id": "6AJb8dTuRJWc"
      },
      "source": [
        "def eh_primo(n):\n",
        "  for i in range(2,n+1):\n",
        "    if (n % i) == 0:\n",
        "      return False\n",
        "  return True "
      ],
      "execution_count": null,
      "outputs": []
    },
    {
      "cell_type": "code",
      "metadata": {
        "colab": {
          "base_uri": "https://localhost:8080/"
        },
        "id": "4Q_lGNr5Sw-I",
        "outputId": "73d96ef8-1d67-4c5c-db63-da4b5ded9c3a"
      },
      "source": [
        "c = 9\n",
        "print(eh_primo(c))"
      ],
      "execution_count": null,
      "outputs": [
        {
          "output_type": "stream",
          "text": [
            "False\n"
          ],
          "name": "stdout"
        }
      ]
    },
    {
      "cell_type": "code",
      "metadata": {
        "id": "YCMNzSd7U9Ga"
      },
      "source": [
        "def fibonacci(n):\n",
        "  # calcula o n-ésimo termo da série de fibonacci\n",
        "  return 1"
      ],
      "execution_count": null,
      "outputs": []
    },
    {
      "cell_type": "code",
      "metadata": {
        "colab": {
          "base_uri": "https://localhost:8080/"
        },
        "id": "ZnMvp0X4VMoJ",
        "outputId": "b87c4dd6-d8bf-4677-9fd3-5c804c5934e3"
      },
      "source": [
        "c *= 10\n",
        "print(c)"
      ],
      "execution_count": null,
      "outputs": [
        {
          "output_type": "stream",
          "text": [
            "1800\n"
          ],
          "name": "stdout"
        }
      ]
    },
    {
      "cell_type": "code",
      "metadata": {
        "id": "sbaoxLG9Y_eS"
      },
      "source": [
        "def eleva_quadrado(n):\n",
        "  return n*n"
      ],
      "execution_count": null,
      "outputs": []
    },
    {
      "cell_type": "code",
      "metadata": {
        "colab": {
          "base_uri": "https://localhost:8080/"
        },
        "id": "YEo1UepEZFhf",
        "outputId": "519432de-bf2e-46d6-a1ae-1bf30b61de36"
      },
      "source": [
        "eleva_quadrado(6)"
      ],
      "execution_count": null,
      "outputs": [
        {
          "output_type": "execute_result",
          "data": {
            "text/plain": [
              "36"
            ]
          },
          "metadata": {
            "tags": []
          },
          "execution_count": 18
        }
      ]
    },
    {
      "cell_type": "code",
      "metadata": {
        "id": "xp4GheMmacd4"
      },
      "source": [
        "# 2 ao cubo = 2*2*2\n",
        "# 3 a 4 potencia = 3*3*3*3\n",
        "def potencia(base, expoente):\n",
        "  resultado = base\n",
        "  for i in range(1,expoente):\n",
        "    resultado *= base\n",
        "  return resultado"
      ],
      "execution_count": null,
      "outputs": []
    },
    {
      "cell_type": "code",
      "metadata": {
        "colab": {
          "base_uri": "https://localhost:8080/"
        },
        "id": "LyweEda6yUH7",
        "outputId": "e6bda61f-952c-49b3-ac23-b6c77e6e91e8"
      },
      "source": [
        "potencia(9,3)"
      ],
      "execution_count": null,
      "outputs": [
        {
          "output_type": "execute_result",
          "data": {
            "text/plain": [
              "729"
            ]
          },
          "metadata": {
            "tags": []
          },
          "execution_count": 24
        }
      ]
    },
    {
      "cell_type": "code",
      "metadata": {
        "id": "AcA-NCsCNwqa"
      },
      "source": [
        "def nova_funcao():\n",
        "  print('este eh um teste de retorno')"
      ],
      "execution_count": null,
      "outputs": []
    },
    {
      "cell_type": "code",
      "metadata": {
        "colab": {
          "base_uri": "https://localhost:8080/"
        },
        "id": "b1Km0Ta0N46h",
        "outputId": "800380bf-45e8-433f-81bf-ef9bd83d86aa"
      },
      "source": [
        "teste = nova_funcao()"
      ],
      "execution_count": null,
      "outputs": [
        {
          "output_type": "stream",
          "text": [
            "este eh um teste de retorno\n"
          ],
          "name": "stdout"
        }
      ]
    },
    {
      "cell_type": "code",
      "metadata": {
        "colab": {
          "base_uri": "https://localhost:8080/"
        },
        "id": "M0BUypVgOMpa",
        "outputId": "5802e0c2-fc32-4655-be5b-f37eb09f16d9"
      },
      "source": [
        "print(teste)"
      ],
      "execution_count": null,
      "outputs": [
        {
          "output_type": "stream",
          "text": [
            "None\n"
          ],
          "name": "stdout"
        }
      ]
    },
    {
      "cell_type": "code",
      "metadata": {
        "colab": {
          "base_uri": "https://localhost:8080/"
        },
        "id": "kroiTg7eO5eC",
        "outputId": "ca3d2e85-d10e-4660-d978-6a68aced8463"
      },
      "source": [
        "n = int(input('Entre com o valor '))"
      ],
      "execution_count": null,
      "outputs": [
        {
          "output_type": "stream",
          "text": [
            "Entre com o valor 7\n"
          ],
          "name": "stdout"
        }
      ]
    },
    {
      "cell_type": "code",
      "metadata": {
        "colab": {
          "base_uri": "https://localhost:8080/"
        },
        "id": "tEDwMzM5PEIX",
        "outputId": "43404743-1a82-4c38-a5ea-324bbb30ab1d"
      },
      "source": [
        "soma_primos = 0\n",
        "for i in range(2,n+1):\n",
        "  if (eh_primo(i)):\n",
        "    soma_primos = soma_primos + i\n",
        "print('A soma dos primos ate n eh: ', soma_primos)"
      ],
      "execution_count": null,
      "outputs": [
        {
          "output_type": "stream",
          "text": [
            "A soma dos primos ate n eh:  17\n"
          ],
          "name": "stdout"
        }
      ]
    },
    {
      "cell_type": "code",
      "metadata": {
        "colab": {
          "base_uri": "https://localhost:8080/"
        },
        "id": "KtXHfTgLZWxJ",
        "outputId": "e7834a2f-81ac-4b56-c0fb-82a970c78d06"
      },
      "source": [
        "a = 10\n",
        "# a = a*2\n",
        "a *= 2\n",
        "print(a)"
      ],
      "execution_count": null,
      "outputs": [
        {
          "output_type": "stream",
          "text": [
            "20\n"
          ],
          "name": "stdout"
        }
      ]
    },
    {
      "cell_type": "code",
      "metadata": {
        "colab": {
          "base_uri": "https://localhost:8080/"
        },
        "id": "KwYmglSRaCF7",
        "outputId": "2606495f-cf4d-4c9f-bcc4-c5471f4277d1"
      },
      "source": [
        "b = 15\n",
        "#b = b - 2*a\n",
        "b -= 2*a\n",
        "print(b)"
      ],
      "execution_count": null,
      "outputs": [
        {
          "output_type": "stream",
          "text": [
            "-25\n"
          ],
          "name": "stdout"
        }
      ]
    },
    {
      "cell_type": "code",
      "metadata": {
        "id": "RqCGVhzYa6GC"
      },
      "source": [
        "# Sequencia de Fibonacci\n",
        "# 1o termo = 0\n",
        "# 2o termo = 1\n",
        "# 3o termo = 2o termo + 1o termo = 1 + 0 = 1\n",
        "# 4o termo = 3o termo + 2o termo = 1 + 1 = 2\n",
        "# 5o termo = 4o termo + 3o termo = 2 + 1 = 3\n",
        "# 6o termo = 3 + 2 = 5\n",
        "# n-esimo termo = (n-1)esimo + (n-2)esimo\n",
        "def termo_fibonacci(n):\n",
        "  if (n <= 0):\n",
        "    return None\n",
        "  elif (n == 1):\n",
        "    return 0\n",
        "  elif (n == 2):\n",
        "    return 1\n",
        "  else:\n",
        "    valor1 = 0\n",
        "    valor2 = 1\n",
        "    for i in range(3, n+1):\n",
        "      print('valor de i = ', i)\n",
        "      print('valor de valor1 = ', valor1)\n",
        "      print('valor de valor2 = ', valor2)\n",
        "      resultado = valor1+valor2\n",
        "      print('valor de resultado = ', resultado)\n",
        "      valor1 = valor2\n",
        "      valor2 = resultado\n",
        "  return resultado\n",
        "\n"
      ],
      "execution_count": null,
      "outputs": []
    },
    {
      "cell_type": "code",
      "metadata": {
        "colab": {
          "base_uri": "https://localhost:8080/"
        },
        "id": "xdVY8Agtep1H",
        "outputId": "945cbcb7-9445-4c55-9257-96c35f4872f2"
      },
      "source": [
        "print(termo_fibonacci(3))"
      ],
      "execution_count": null,
      "outputs": [
        {
          "output_type": "stream",
          "text": [
            "valor de i =  3\n",
            "valor de valor1 =  0\n",
            "valor de valor2 =  1\n",
            "valor de resultado =  1\n",
            "1\n"
          ],
          "name": "stdout"
        }
      ]
    }
  ]
}