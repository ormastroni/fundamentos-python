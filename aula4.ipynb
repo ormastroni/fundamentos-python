{
  "nbformat": 4,
  "nbformat_minor": 0,
  "metadata": {
    "colab": {
      "name": "aula4.ipynb",
      "provenance": [],
      "collapsed_sections": [],
      "toc_visible": true,
      "authorship_tag": "ABX9TyNl0hYpEFcrq5i1nKPxCr7T",
      "include_colab_link": true
    },
    "kernelspec": {
      "name": "python3",
      "display_name": "Python 3"
    },
    "language_info": {
      "name": "python"
    }
  },
  "cells": [
    {
      "cell_type": "markdown",
      "metadata": {
        "id": "view-in-github",
        "colab_type": "text"
      },
      "source": [
        "<a href=\"https://colab.research.google.com/github/ormastroni/fundamentos-python/blob/main/aula4.ipynb\" target=\"_parent\"><img src=\"https://colab.research.google.com/assets/colab-badge.svg\" alt=\"Open In Colab\"/></a>"
      ]
    },
    {
      "cell_type": "markdown",
      "metadata": {
        "id": "WQtxYrFvhZaQ"
      },
      "source": [
        "# Fundamentos de Desenvolvimento Python"
      ]
    },
    {
      "cell_type": "markdown",
      "metadata": {
        "id": "cw2ge8xAhagZ"
      },
      "source": [
        "## Prof. Andre Victor"
      ]
    },
    {
      "cell_type": "markdown",
      "metadata": {
        "id": "PbjMBo4ChhBB"
      },
      "source": [
        "### Listas\n",
        "Listas são estruturas de dados que permitem combinar valores e objetos de vários tipos distintos numa única estrutura indexável.\n",
        "Os elementos de uma lista são separados por vírgula e mantidos entre colchetes\n",
        " "
      ]
    },
    {
      "cell_type": "code",
      "metadata": {
        "colab": {
          "base_uri": "https://localhost:8080/"
        },
        "id": "2eBJmDpLiG0l",
        "outputId": "48db77b0-7f4e-43d0-c5f8-ccd5e169f687"
      },
      "source": [
        "lista = [1, 4, 9, 16, 25]\n",
        "lista"
      ],
      "execution_count": 1,
      "outputs": [
        {
          "output_type": "execute_result",
          "data": {
            "text/plain": [
              "[1, 4, 9, 16, 25]"
            ]
          },
          "metadata": {},
          "execution_count": 1
        }
      ]
    },
    {
      "cell_type": "code",
      "metadata": {
        "colab": {
          "base_uri": "https://localhost:8080/"
        },
        "id": "Be1WBnu0phT7",
        "outputId": "6ed7e44c-a06d-45eb-d10f-6080fb2f353f"
      },
      "source": [
        "type(lista)"
      ],
      "execution_count": 2,
      "outputs": [
        {
          "output_type": "execute_result",
          "data": {
            "text/plain": [
              "list"
            ]
          },
          "metadata": {},
          "execution_count": 2
        }
      ]
    },
    {
      "cell_type": "markdown",
      "metadata": {
        "id": "VxkcptyUizQ3"
      },
      "source": [
        "Listas podem ser indexadas por posição para acessar um de seus elementos"
      ]
    },
    {
      "cell_type": "code",
      "metadata": {
        "colab": {
          "base_uri": "https://localhost:8080/"
        },
        "id": "ud7Khi__jlFm",
        "outputId": "5d4e453e-f952-4456-d5d3-a52c1078acf7"
      },
      "source": [
        "lista[0]"
      ],
      "execution_count": 3,
      "outputs": [
        {
          "output_type": "execute_result",
          "data": {
            "text/plain": [
              "1"
            ]
          },
          "metadata": {},
          "execution_count": 3
        }
      ]
    },
    {
      "cell_type": "code",
      "metadata": {
        "colab": {
          "base_uri": "https://localhost:8080/"
        },
        "id": "8g8g_D-gjvrq",
        "outputId": "8af24cbb-0ba2-4ec6-d421-c57db2d94370"
      },
      "source": [
        "lista[-1]"
      ],
      "execution_count": 4,
      "outputs": [
        {
          "output_type": "execute_result",
          "data": {
            "text/plain": [
              "25"
            ]
          },
          "metadata": {},
          "execution_count": 4
        }
      ]
    },
    {
      "cell_type": "code",
      "metadata": {
        "colab": {
          "base_uri": "https://localhost:8080/"
        },
        "id": "ZBVoqAgRjzJZ",
        "outputId": "1be79d82-c475-43ae-e976-04a861fe494b"
      },
      "source": [
        "lista[2]"
      ],
      "execution_count": 5,
      "outputs": [
        {
          "output_type": "execute_result",
          "data": {
            "text/plain": [
              "9"
            ]
          },
          "metadata": {},
          "execution_count": 5
        }
      ]
    },
    {
      "cell_type": "code",
      "metadata": {
        "colab": {
          "base_uri": "https://localhost:8080/"
        },
        "id": "UnbK7-K2j6xp",
        "outputId": "df92c11d-edaa-44bf-92eb-35acf660b4d0"
      },
      "source": [
        "lista[-3]"
      ],
      "execution_count": 6,
      "outputs": [
        {
          "output_type": "execute_result",
          "data": {
            "text/plain": [
              "9"
            ]
          },
          "metadata": {},
          "execution_count": 6
        }
      ]
    },
    {
      "cell_type": "markdown",
      "metadata": {
        "id": "yivtU0iDnoaF"
      },
      "source": [
        "Calculando o tamanho da lista"
      ]
    },
    {
      "cell_type": "code",
      "metadata": {
        "colab": {
          "base_uri": "https://localhost:8080/"
        },
        "id": "GdAt_bqpnXR9",
        "outputId": "bf5ffb60-2e50-4ef4-e060-4d54eb90eeae"
      },
      "source": [
        "len(lista)"
      ],
      "execution_count": 7,
      "outputs": [
        {
          "output_type": "execute_result",
          "data": {
            "text/plain": [
              "5"
            ]
          },
          "metadata": {},
          "execution_count": 7
        }
      ]
    },
    {
      "cell_type": "markdown",
      "metadata": {
        "id": "y8hiUpnAlm5a"
      },
      "source": [
        "Fatiando listas em faixas ou pedaços"
      ]
    },
    {
      "cell_type": "code",
      "metadata": {
        "colab": {
          "base_uri": "https://localhost:8080/"
        },
        "id": "tGlYvl26wyfm",
        "outputId": "9f5d46b2-476d-482e-af08-d7b4171e7f80"
      },
      "source": [
        "lista"
      ],
      "execution_count": 9,
      "outputs": [
        {
          "output_type": "execute_result",
          "data": {
            "text/plain": [
              "[1, 4, 9, 16, 25]"
            ]
          },
          "metadata": {},
          "execution_count": 9
        }
      ]
    },
    {
      "cell_type": "code",
      "metadata": {
        "colab": {
          "base_uri": "https://localhost:8080/"
        },
        "id": "pG4ZX3sDlv3L",
        "outputId": "02bd61c2-456b-484d-c9a0-af4b86a98723"
      },
      "source": [
        "lista[0:3]"
      ],
      "execution_count": 8,
      "outputs": [
        {
          "output_type": "execute_result",
          "data": {
            "text/plain": [
              "[1, 4, 9]"
            ]
          },
          "metadata": {},
          "execution_count": 8
        }
      ]
    },
    {
      "cell_type": "code",
      "metadata": {
        "colab": {
          "base_uri": "https://localhost:8080/"
        },
        "id": "Ybxe30GPl0Ms",
        "outputId": "4e141006-8d13-4abc-9918-9e03923ff929"
      },
      "source": [
        "lista[-3:]"
      ],
      "execution_count": 11,
      "outputs": [
        {
          "output_type": "execute_result",
          "data": {
            "text/plain": [
              "[9, 16, 25]"
            ]
          },
          "metadata": {},
          "execution_count": 11
        }
      ]
    },
    {
      "cell_type": "code",
      "metadata": {
        "colab": {
          "base_uri": "https://localhost:8080/"
        },
        "id": "vSORxvAYmTlP",
        "outputId": "bc4bc70f-6088-4e21-c973-cce66872d712"
      },
      "source": [
        "lista[:4]"
      ],
      "execution_count": 12,
      "outputs": [
        {
          "output_type": "execute_result",
          "data": {
            "text/plain": [
              "[1, 4, 9, 16]"
            ]
          },
          "metadata": {},
          "execution_count": 12
        }
      ]
    },
    {
      "cell_type": "code",
      "metadata": {
        "colab": {
          "base_uri": "https://localhost:8080/"
        },
        "id": "zN0q3w89mVyb",
        "outputId": "33d089d1-dfcb-488f-b025-8fe59f3aff0c"
      },
      "source": [
        "lista[:]"
      ],
      "execution_count": null,
      "outputs": [
        {
          "output_type": "execute_result",
          "data": {
            "text/plain": [
              "[1, 4, 9, 16, 25]"
            ]
          },
          "metadata": {
            "tags": []
          },
          "execution_count": 15
        }
      ]
    },
    {
      "cell_type": "code",
      "metadata": {
        "colab": {
          "base_uri": "https://localhost:8080/"
        },
        "id": "I2wyZWkDmaGP",
        "outputId": "0cf23079-fc06-4c46-903a-4ccea573dd98"
      },
      "source": [
        "lista[:4]"
      ],
      "execution_count": null,
      "outputs": [
        {
          "output_type": "execute_result",
          "data": {
            "text/plain": [
              "[1, 4, 9, 16]"
            ]
          },
          "metadata": {
            "tags": []
          },
          "execution_count": 16
        }
      ]
    },
    {
      "cell_type": "markdown",
      "metadata": {
        "id": "731g5Wj0n7CF"
      },
      "source": [
        "Concatenação de listas"
      ]
    },
    {
      "cell_type": "code",
      "metadata": {
        "colab": {
          "base_uri": "https://localhost:8080/"
        },
        "id": "CtU2v3cKoCNb",
        "outputId": "f5f3c661-76b4-461b-8265-6110907b66d5"
      },
      "source": [
        "lista + [36, 49, 64, 81, 100]"
      ],
      "execution_count": 13,
      "outputs": [
        {
          "output_type": "execute_result",
          "data": {
            "text/plain": [
              "[1, 4, 9, 16, 25, 36, 49, 64, 81, 100]"
            ]
          },
          "metadata": {},
          "execution_count": 13
        }
      ]
    },
    {
      "cell_type": "code",
      "metadata": {
        "colab": {
          "base_uri": "https://localhost:8080/"
        },
        "id": "L6TGB8dU-eFC",
        "outputId": "2b48d762-98f1-4952-f363-295510e995bc"
      },
      "source": [
        "lista.append(36)\n",
        "lista.append(7**2)\n",
        "lista"
      ],
      "execution_count": 14,
      "outputs": [
        {
          "output_type": "execute_result",
          "data": {
            "text/plain": [
              "[1, 4, 9, 16, 25, 36, 49]"
            ]
          },
          "metadata": {},
          "execution_count": 14
        }
      ]
    },
    {
      "cell_type": "markdown",
      "metadata": {
        "id": "oCF3bjxQqsZD"
      },
      "source": [
        "Listas são mutáveis. Estruturas de dados mutáveis em Python são aquelas que podem ser modificadas."
      ]
    },
    {
      "cell_type": "code",
      "metadata": {
        "id": "MYgR3vRjqvWp"
      },
      "source": [
        "cubos = [1, 8, 27, 65, 125] # há um erro no cálculo dos cubos nesta lista"
      ],
      "execution_count": 15,
      "outputs": []
    },
    {
      "cell_type": "code",
      "metadata": {
        "colab": {
          "base_uri": "https://localhost:8080/"
        },
        "id": "Iu_LcEn2q_bZ",
        "outputId": "cdc2a27e-7030-4f71-8e54-ec787f506b0b"
      },
      "source": [
        "4**3"
      ],
      "execution_count": 16,
      "outputs": [
        {
          "output_type": "execute_result",
          "data": {
            "text/plain": [
              "64"
            ]
          },
          "metadata": {},
          "execution_count": 16
        }
      ]
    },
    {
      "cell_type": "code",
      "metadata": {
        "id": "wjmW0FfRrDck"
      },
      "source": [
        "cubos[3] = 64"
      ],
      "execution_count": 17,
      "outputs": []
    },
    {
      "cell_type": "code",
      "metadata": {
        "colab": {
          "base_uri": "https://localhost:8080/"
        },
        "id": "w3cWWzL4rJPj",
        "outputId": "17a4b745-5e9e-432c-bc65-b7bc8b979ce8"
      },
      "source": [
        "cubos"
      ],
      "execution_count": 18,
      "outputs": [
        {
          "output_type": "execute_result",
          "data": {
            "text/plain": [
              "[1, 8, 27, 64, 125]"
            ]
          },
          "metadata": {},
          "execution_count": 18
        }
      ]
    },
    {
      "cell_type": "markdown",
      "metadata": {
        "id": "Lle8tkeCtVqq"
      },
      "source": [
        "Aninhamento de listas: uma lista pode ser um elemento de outra lista"
      ]
    },
    {
      "cell_type": "code",
      "metadata": {
        "id": "OhL0ObCCtcGS"
      },
      "source": [
        "caracteres = ['a', 'b', 'c']\n",
        "numeros = [1,2,3]\n",
        "lista_heterogenea = [caracteres, numeros]"
      ],
      "execution_count": 19,
      "outputs": []
    },
    {
      "cell_type": "code",
      "metadata": {
        "colab": {
          "base_uri": "https://localhost:8080/"
        },
        "id": "asJHUSuktttC",
        "outputId": "4e2d5ff6-2329-45a0-a736-f894c6f15671"
      },
      "source": [
        "lista_heterogenea"
      ],
      "execution_count": 20,
      "outputs": [
        {
          "output_type": "execute_result",
          "data": {
            "text/plain": [
              "[['a', 'b', 'c'], [1, 2, 3]]"
            ]
          },
          "metadata": {},
          "execution_count": 20
        }
      ]
    },
    {
      "cell_type": "code",
      "metadata": {
        "colab": {
          "base_uri": "https://localhost:8080/"
        },
        "id": "leMhU4ZWtxrH",
        "outputId": "57a7ad4a-8608-478e-d416-b41bc5e39f5f"
      },
      "source": [
        "lista_heterogenea[0]"
      ],
      "execution_count": 21,
      "outputs": [
        {
          "output_type": "execute_result",
          "data": {
            "text/plain": [
              "['a', 'b', 'c']"
            ]
          },
          "metadata": {},
          "execution_count": 21
        }
      ]
    },
    {
      "cell_type": "code",
      "metadata": {
        "colab": {
          "base_uri": "https://localhost:8080/"
        },
        "id": "5jXxyL24t0ZT",
        "outputId": "ac4a8f4f-66c6-4799-9322-c36c7421c504"
      },
      "source": [
        "lista_heterogenea[1][1]"
      ],
      "execution_count": 22,
      "outputs": [
        {
          "output_type": "execute_result",
          "data": {
            "text/plain": [
              "2"
            ]
          },
          "metadata": {},
          "execution_count": 22
        }
      ]
    },
    {
      "cell_type": "markdown",
      "metadata": {
        "id": "Ou7HjuTlGgaP"
      },
      "source": [
        "Alguns métodos importantes da interface Lista:\n",
        "* append(x)\n",
        "* insert(i,x)\n",
        "* remove(x)\n",
        "* pop()    //[i]\n",
        "* clear()\n",
        "* index(x)  //[,start,end]\n",
        "* count(x)\n",
        "* copy()\n",
        "* reverse()\n",
        "* sort(*, key=None, reverse=False)"
      ]
    },
    {
      "cell_type": "code",
      "metadata": {
        "colab": {
          "base_uri": "https://localhost:8080/"
        },
        "id": "1n6WXgOpH8_J",
        "outputId": "f58b4328-326d-4a27-89d5-6d9597d1bd83"
      },
      "source": [
        "frutas = ['laranja', 'melancia', 'pera', 'banana', 'kiwi', 'melancia', 'banana']\n",
        "print(frutas)"
      ],
      "execution_count": 23,
      "outputs": [
        {
          "output_type": "stream",
          "name": "stdout",
          "text": [
            "['laranja', 'melancia', 'pera', 'banana', 'kiwi', 'melancia', 'banana']\n"
          ]
        }
      ]
    },
    {
      "cell_type": "code",
      "metadata": {
        "colab": {
          "base_uri": "https://localhost:8080/"
        },
        "id": "carYai8HINZK",
        "outputId": "61e9b4e1-4210-40f6-930f-5ce2d014bcbf"
      },
      "source": [
        "frutas.count('melancia')"
      ],
      "execution_count": 24,
      "outputs": [
        {
          "output_type": "execute_result",
          "data": {
            "text/plain": [
              "2"
            ]
          },
          "metadata": {},
          "execution_count": 24
        }
      ]
    },
    {
      "cell_type": "code",
      "metadata": {
        "colab": {
          "base_uri": "https://localhost:8080/"
        },
        "id": "XIvRPa5kIT7u",
        "outputId": "20c7e662-1123-4eeb-d8e8-ba8f4f53dc2d"
      },
      "source": [
        "frutas.count('tangerina')"
      ],
      "execution_count": 25,
      "outputs": [
        {
          "output_type": "execute_result",
          "data": {
            "text/plain": [
              "0"
            ]
          },
          "metadata": {},
          "execution_count": 25
        }
      ]
    },
    {
      "cell_type": "code",
      "metadata": {
        "colab": {
          "base_uri": "https://localhost:8080/"
        },
        "id": "TKLHT1nAIXcq",
        "outputId": "ca1e0998-0612-456f-9f04-de5aa56ce3ac"
      },
      "source": [
        "frutas.index('banana')"
      ],
      "execution_count": 26,
      "outputs": [
        {
          "output_type": "execute_result",
          "data": {
            "text/plain": [
              "3"
            ]
          },
          "metadata": {},
          "execution_count": 26
        }
      ]
    },
    {
      "cell_type": "code",
      "metadata": {
        "colab": {
          "base_uri": "https://localhost:8080/"
        },
        "id": "rBBw43mlIeBr",
        "outputId": "c5b2b408-8a5c-4d13-a62e-b695b054772c"
      },
      "source": [
        "frutas.index('banana', 4)"
      ],
      "execution_count": 27,
      "outputs": [
        {
          "output_type": "execute_result",
          "data": {
            "text/plain": [
              "6"
            ]
          },
          "metadata": {},
          "execution_count": 27
        }
      ]
    },
    {
      "cell_type": "code",
      "metadata": {
        "id": "cAwMLeM_IjsP"
      },
      "source": [
        "frutas.reverse()"
      ],
      "execution_count": 28,
      "outputs": []
    },
    {
      "cell_type": "code",
      "metadata": {
        "colab": {
          "base_uri": "https://localhost:8080/"
        },
        "id": "ESW_0OLWImzR",
        "outputId": "61aaee96-d0f3-4c85-8306-b4f6c1d50170"
      },
      "source": [
        "print(frutas)"
      ],
      "execution_count": 29,
      "outputs": [
        {
          "output_type": "stream",
          "name": "stdout",
          "text": [
            "['banana', 'melancia', 'kiwi', 'banana', 'pera', 'melancia', 'laranja']\n"
          ]
        }
      ]
    },
    {
      "cell_type": "code",
      "metadata": {
        "colab": {
          "base_uri": "https://localhost:8080/"
        },
        "id": "HJAe_WlnJzjH",
        "outputId": "2f7dd895-301b-4259-e7be-922b6f97a576"
      },
      "source": [
        "frutas.append('limao')\n",
        "print(frutas)"
      ],
      "execution_count": 30,
      "outputs": [
        {
          "output_type": "stream",
          "name": "stdout",
          "text": [
            "['banana', 'melancia', 'kiwi', 'banana', 'pera', 'melancia', 'laranja', 'limao']\n"
          ]
        }
      ]
    },
    {
      "cell_type": "code",
      "metadata": {
        "colab": {
          "base_uri": "https://localhost:8080/"
        },
        "id": "2N5l3iriJ6xE",
        "outputId": "a3a8a3d8-6711-40b0-99a9-21f93193229f"
      },
      "source": [
        "frutas.sort()\n",
        "print(frutas)"
      ],
      "execution_count": null,
      "outputs": [
        {
          "output_type": "stream",
          "text": [
            "['banana', 'banana', 'kiwi', 'laranja', 'melancia', 'melancia', 'pera']\n"
          ],
          "name": "stdout"
        }
      ]
    },
    {
      "cell_type": "code",
      "metadata": {
        "colab": {
          "base_uri": "https://localhost:8080/"
        },
        "id": "e5KnLeDOKBr3",
        "outputId": "1cbf0783-d71f-4b15-e7cd-bf51f5f7ba03"
      },
      "source": [
        "frutas.pop(0)\n",
        "print(frutas)"
      ],
      "execution_count": 31,
      "outputs": [
        {
          "output_type": "stream",
          "name": "stdout",
          "text": [
            "['melancia', 'kiwi', 'banana', 'pera', 'melancia', 'laranja', 'limao']\n"
          ]
        }
      ]
    },
    {
      "cell_type": "markdown",
      "metadata": {
        "id": "KuCqnnWmTcd9"
      },
      "source": [
        "### Strings\n",
        "Sequência de caracteres em Python. Não existe a separação entre caracter e string, tudo é string, ao contrário de outras linguagens de programação. Se for 1 único caracter, é uma string de tamanho 1. Podem ser usadas com aspas simples e dupla"
      ]
    },
    {
      "cell_type": "code",
      "metadata": {
        "colab": {
          "base_uri": "https://localhost:8080/",
          "height": 35
        },
        "id": "iCA4Qz6RULpv",
        "outputId": "4da8cbec-6a9b-4a8a-dbb6-dd064c95faec"
      },
      "source": [
        "'oi mundo'"
      ],
      "execution_count": 32,
      "outputs": [
        {
          "output_type": "execute_result",
          "data": {
            "application/vnd.google.colaboratory.intrinsic+json": {
              "type": "string"
            },
            "text/plain": [
              "'oi mundo'"
            ]
          },
          "metadata": {},
          "execution_count": 32
        }
      ]
    },
    {
      "cell_type": "code",
      "metadata": {
        "colab": {
          "base_uri": "https://localhost:8080/",
          "height": 35
        },
        "id": "gwnEuaZDUZy9",
        "outputId": "881781ba-9135-444a-ef4e-a43d75c0cc2d"
      },
      "source": [
        "\"novidade, oi mundo\""
      ],
      "execution_count": 33,
      "outputs": [
        {
          "output_type": "execute_result",
          "data": {
            "application/vnd.google.colaboratory.intrinsic+json": {
              "type": "string"
            },
            "text/plain": [
              "'novidade, oi mundo'"
            ]
          },
          "metadata": {},
          "execution_count": 33
        }
      ]
    },
    {
      "cell_type": "code",
      "metadata": {
        "colab": {
          "base_uri": "https://localhost:8080/"
        },
        "id": "2A7xFqtqCnqz",
        "outputId": "d4070b04-0ae8-4cf9-e30e-4c4e7b277a25"
      },
      "source": [
        "3"
      ],
      "execution_count": null,
      "outputs": [
        {
          "output_type": "execute_result",
          "data": {
            "text/plain": [
              "3"
            ]
          },
          "metadata": {
            "tags": []
          },
          "execution_count": 8
        }
      ]
    },
    {
      "cell_type": "code",
      "metadata": {
        "colab": {
          "base_uri": "https://localhost:8080/"
        },
        "id": "m02lCWljCpsK",
        "outputId": "ab8d3312-d061-499b-e990-5ec7b3e27b63"
      },
      "source": [
        "3 > 5"
      ],
      "execution_count": null,
      "outputs": [
        {
          "output_type": "execute_result",
          "data": {
            "text/plain": [
              "False"
            ]
          },
          "metadata": {
            "tags": []
          },
          "execution_count": 9
        }
      ]
    },
    {
      "cell_type": "markdown",
      "metadata": {
        "id": "pFdHPXPRV7tZ"
      },
      "source": [
        "Existem caracteres especiais que formatam a saída da string. Normalmente são caractereses escapados com barra invertida"
      ]
    },
    {
      "cell_type": "code",
      "metadata": {
        "colab": {
          "base_uri": "https://localhost:8080/"
        },
        "id": "fLfJ_1mPWUCd",
        "outputId": "f9349a95-6c43-4142-aeb1-59970f9d6b51"
      },
      "source": [
        "print('c:\\some\\name')"
      ],
      "execution_count": 34,
      "outputs": [
        {
          "output_type": "stream",
          "name": "stdout",
          "text": [
            "c:\\some\n",
            "ame\n"
          ]
        }
      ]
    },
    {
      "cell_type": "code",
      "metadata": {
        "colab": {
          "base_uri": "https://localhost:8080/"
        },
        "id": "ucxdGt69WmlI",
        "outputId": "7a99e848-bfd3-4f85-8e56-ce6a93b9db07"
      },
      "source": [
        "print(r'c:\\some\\name')"
      ],
      "execution_count": null,
      "outputs": [
        {
          "output_type": "stream",
          "text": [
            "c:\\some\\name\n"
          ],
          "name": "stdout"
        }
      ]
    },
    {
      "cell_type": "markdown",
      "metadata": {
        "id": "5tN1_DNrWtge"
      },
      "source": [
        "As strings literais podem abranger várias linhas. Uma maneira é usar as aspas triplas: \"\"\"...\"\"\" ou '''...'''. O fim das linhas é incluído automaticamente na string, mas é possível evitar isso adicionando uma \\ no final. O seguinte exemplo:"
      ]
    },
    {
      "cell_type": "code",
      "metadata": {
        "colab": {
          "base_uri": "https://localhost:8080/"
        },
        "id": "W8DBZ75jXCl2",
        "outputId": "6e216975-29da-4cb7-c87d-ee9bbc33f877"
      },
      "source": [
        "print(\"\"\"\\\n",
        "Usage: thingy [OPTIONS]\n",
        "     -h                        Display this usage message\n",
        "     -H hostname               Hostname to connect to\n",
        "\"\"\")"
      ],
      "execution_count": 35,
      "outputs": [
        {
          "output_type": "stream",
          "name": "stdout",
          "text": [
            "Usage: thingy [OPTIONS]\n",
            "     -h                        Display this usage message\n",
            "     -H hostname               Hostname to connect to\n",
            "\n"
          ]
        }
      ]
    },
    {
      "cell_type": "markdown",
      "metadata": {
        "id": "QFBU2K3RXS_e"
      },
      "source": [
        "Strings podem ser concatenadas (coladas) com o operador +, e repetidas com *"
      ]
    },
    {
      "cell_type": "code",
      "metadata": {
        "colab": {
          "base_uri": "https://localhost:8080/",
          "height": 35
        },
        "id": "OLMxyxW6XWzV",
        "outputId": "66f591a6-1f0a-47ea-ca18-8cf25fb52c10"
      },
      "source": [
        "3*'oba' + ' andre'+'456'*2"
      ],
      "execution_count": 38,
      "outputs": [
        {
          "output_type": "execute_result",
          "data": {
            "application/vnd.google.colaboratory.intrinsic+json": {
              "type": "string"
            },
            "text/plain": [
              "'obaobaoba andre456456'"
            ]
          },
          "metadata": {},
          "execution_count": 38
        }
      ]
    },
    {
      "cell_type": "markdown",
      "metadata": {
        "id": "pM_v56I3X0iz"
      },
      "source": [
        "As strings podem ser indexadas (subscritas), com o primeiro caractere como índice 0."
      ]
    },
    {
      "cell_type": "code",
      "metadata": {
        "colab": {
          "base_uri": "https://localhost:8080/"
        },
        "id": "U1YcJ9ZaYPeY",
        "outputId": "eb625cda-8ce2-4fd0-bf5f-062d96d3064a"
      },
      "source": [
        "palavra = 'paralelepipedo'\n",
        "print(palavra[0])\n",
        "print(palavra[5])\n",
        "print(palavra[-1])\n",
        "print(palavra[-3])\n",
        "print(len(palavra))\n",
        "print(type(palavra))\n",
        "print(type(palavra[0]))"
      ],
      "execution_count": 39,
      "outputs": [
        {
          "output_type": "stream",
          "name": "stdout",
          "text": [
            "p\n",
            "e\n",
            "o\n",
            "e\n",
            "14\n",
            "<class 'str'>\n",
            "<class 'str'>\n"
          ]
        }
      ]
    },
    {
      "cell_type": "markdown",
      "metadata": {
        "id": "vDgmt7qXZfjc"
      },
      "source": [
        "O slicing (fatiamento) também é permitido em strings"
      ]
    },
    {
      "cell_type": "code",
      "metadata": {
        "colab": {
          "base_uri": "https://localhost:8080/"
        },
        "id": "qqzxlx26ZqnU",
        "outputId": "0cc16cc5-6725-4fd8-a7d7-7420356402ee"
      },
      "source": [
        "print(palavra[0:2])\n",
        "print(palavra[3:])\n",
        "print(palavra[:3])\n",
        "print(palavra[-3:])\n",
        "print(palavra[:])"
      ],
      "execution_count": 40,
      "outputs": [
        {
          "output_type": "stream",
          "name": "stdout",
          "text": [
            "pa\n",
            "alelepipedo\n",
            "par\n",
            "edo\n",
            "paralelepipedo\n"
          ]
        }
      ]
    },
    {
      "cell_type": "code",
      "metadata": {
        "colab": {
          "base_uri": "https://localhost:8080/",
          "height": 163
        },
        "id": "vHzh2f7GaY_K",
        "outputId": "4f1686f5-221b-44b4-d774-f62f38c1b29f"
      },
      "source": [
        "palavra[100]"
      ],
      "execution_count": 41,
      "outputs": [
        {
          "output_type": "error",
          "ename": "IndexError",
          "evalue": "ignored",
          "traceback": [
            "\u001b[0;31m---------------------------------------------------------------------------\u001b[0m",
            "\u001b[0;31mIndexError\u001b[0m                                Traceback (most recent call last)",
            "\u001b[0;32m<ipython-input-41-84bf80ed31e2>\u001b[0m in \u001b[0;36m<module>\u001b[0;34m()\u001b[0m\n\u001b[0;32m----> 1\u001b[0;31m \u001b[0mpalavra\u001b[0m\u001b[0;34m[\u001b[0m\u001b[0;36m100\u001b[0m\u001b[0;34m]\u001b[0m\u001b[0;34m\u001b[0m\u001b[0;34m\u001b[0m\u001b[0m\n\u001b[0m",
            "\u001b[0;31mIndexError\u001b[0m: string index out of range"
          ]
        }
      ]
    },
    {
      "cell_type": "code",
      "metadata": {
        "colab": {
          "base_uri": "https://localhost:8080/",
          "height": 35
        },
        "id": "5THqNnBPaggl",
        "outputId": "10a476b9-2d4d-4e36-bb72-70ead80579e6"
      },
      "source": [
        "palavra[5:100]"
      ],
      "execution_count": 44,
      "outputs": [
        {
          "output_type": "execute_result",
          "data": {
            "application/vnd.google.colaboratory.intrinsic+json": {
              "type": "string"
            },
            "text/plain": [
              "'elepipedo'"
            ]
          },
          "metadata": {},
          "execution_count": 44
        }
      ]
    },
    {
      "cell_type": "code",
      "metadata": {
        "colab": {
          "base_uri": "https://localhost:8080/",
          "height": 35
        },
        "id": "mRtzzWTQanAB",
        "outputId": "2847dfc3-305b-47a3-ec6d-98840ec427e1"
      },
      "source": [
        "palavra[100:]"
      ],
      "execution_count": 45,
      "outputs": [
        {
          "output_type": "execute_result",
          "data": {
            "application/vnd.google.colaboratory.intrinsic+json": {
              "type": "string"
            },
            "text/plain": [
              "''"
            ]
          },
          "metadata": {},
          "execution_count": 45
        }
      ]
    },
    {
      "cell_type": "markdown",
      "metadata": {
        "id": "KZP_3Oe7atQ1"
      },
      "source": [
        "String são estruturas de dados imutáveis, ou seja, não podem ser alteradas. Portanto, tentar modificar uma posição da string irá resultar num erro"
      ]
    },
    {
      "cell_type": "code",
      "metadata": {
        "colab": {
          "base_uri": "https://localhost:8080/",
          "height": 163
        },
        "id": "rOy1r6zTb6pZ",
        "outputId": "cf5ae2af-98a0-414e-d692-d0d853be0a61"
      },
      "source": [
        "palavra[0] = 'P'"
      ],
      "execution_count": 46,
      "outputs": [
        {
          "output_type": "error",
          "ename": "TypeError",
          "evalue": "ignored",
          "traceback": [
            "\u001b[0;31m---------------------------------------------------------------------------\u001b[0m",
            "\u001b[0;31mTypeError\u001b[0m                                 Traceback (most recent call last)",
            "\u001b[0;32m<ipython-input-46-8619c5ba5117>\u001b[0m in \u001b[0;36m<module>\u001b[0;34m()\u001b[0m\n\u001b[0;32m----> 1\u001b[0;31m \u001b[0mpalavra\u001b[0m\u001b[0;34m[\u001b[0m\u001b[0;36m0\u001b[0m\u001b[0;34m]\u001b[0m \u001b[0;34m=\u001b[0m \u001b[0;34m'P'\u001b[0m\u001b[0;34m\u001b[0m\u001b[0;34m\u001b[0m\u001b[0m\n\u001b[0m",
            "\u001b[0;31mTypeError\u001b[0m: 'str' object does not support item assignment"
          ]
        }
      ]
    },
    {
      "cell_type": "markdown",
      "metadata": {
        "id": "YPoq3Pg9cDUF"
      },
      "source": [
        "Se você precisar de uma string diferente, deverá criar uma nova"
      ]
    },
    {
      "cell_type": "code",
      "metadata": {
        "colab": {
          "base_uri": "https://localhost:8080/"
        },
        "id": "8ZNVfxjPcKIB",
        "outputId": "b5b47cf1-5452-422b-d03a-724c7c51ab5f"
      },
      "source": [
        "nova_palavra = 'P' + palavra[1:]\n",
        "print(nova_palavra)"
      ],
      "execution_count": 47,
      "outputs": [
        {
          "output_type": "stream",
          "name": "stdout",
          "text": [
            "Paralelepipedo\n"
          ]
        }
      ]
    },
    {
      "cell_type": "code",
      "metadata": {
        "colab": {
          "base_uri": "https://localhost:8080/",
          "height": 35
        },
        "id": "4fZ3m-2qEm4l",
        "outputId": "35336d77-9fe3-4d6b-de26-5d5743083c0c"
      },
      "source": [
        "palavra"
      ],
      "execution_count": 48,
      "outputs": [
        {
          "output_type": "execute_result",
          "data": {
            "application/vnd.google.colaboratory.intrinsic+json": {
              "type": "string"
            },
            "text/plain": [
              "'paralelepipedo'"
            ]
          },
          "metadata": {},
          "execution_count": 48
        }
      ]
    },
    {
      "cell_type": "code",
      "metadata": {
        "colab": {
          "base_uri": "https://localhost:8080/",
          "height": 35
        },
        "id": "ziJfBnNREtT6",
        "outputId": "6c4d8740-719c-476e-eedd-8672725d8b30"
      },
      "source": [
        "palavra[0::2]"
      ],
      "execution_count": null,
      "outputs": [
        {
          "output_type": "execute_result",
          "data": {
            "application/vnd.google.colaboratory.intrinsic+json": {
              "type": "string"
            },
            "text/plain": [
              "'prllppd'"
            ]
          },
          "metadata": {
            "tags": []
          },
          "execution_count": 27
        }
      ]
    },
    {
      "cell_type": "code",
      "metadata": {
        "colab": {
          "base_uri": "https://localhost:8080/",
          "height": 35
        },
        "id": "2hQW3CoaFC9Q",
        "outputId": "f6096bfb-8152-4f1d-b25b-87748c9176bf"
      },
      "source": [
        "palavra[3]"
      ],
      "execution_count": null,
      "outputs": [
        {
          "output_type": "execute_result",
          "data": {
            "application/vnd.google.colaboratory.intrinsic+json": {
              "type": "string"
            },
            "text/plain": [
              "'a'"
            ]
          },
          "metadata": {
            "tags": []
          },
          "execution_count": 17
        }
      ]
    },
    {
      "cell_type": "code",
      "metadata": {
        "colab": {
          "base_uri": "https://localhost:8080/",
          "height": 35
        },
        "id": "GJXLiMWRHB1a",
        "outputId": "12cf33bb-aaba-42eb-e485-eefbebf7cf7a"
      },
      "source": [
        "palavra.upper()"
      ],
      "execution_count": null,
      "outputs": [
        {
          "output_type": "execute_result",
          "data": {
            "application/vnd.google.colaboratory.intrinsic+json": {
              "type": "string"
            },
            "text/plain": [
              "'PARALELEPIPEDO'"
            ]
          },
          "metadata": {
            "tags": []
          },
          "execution_count": 31
        }
      ]
    },
    {
      "cell_type": "code",
      "metadata": {
        "colab": {
          "base_uri": "https://localhost:8080/"
        },
        "id": "9kKSKmXxHndQ",
        "outputId": "25150f05-2786-4404-c64c-c76a949ee994"
      },
      "source": [
        "palavra.split('l')"
      ],
      "execution_count": null,
      "outputs": [
        {
          "output_type": "execute_result",
          "data": {
            "text/plain": [
              "['para', 'e', 'epipedo']"
            ]
          },
          "metadata": {
            "tags": []
          },
          "execution_count": 33
        }
      ]
    },
    {
      "cell_type": "markdown",
      "metadata": {
        "id": "R_Pf0nv0cZ8p"
      },
      "source": [
        "Alguns métodos importantes da interface String:\n",
        "* capitalize()\n",
        "* count(substr)  // [start, end]\n",
        "* find(substr)   // [start, end] retorna -1 se não existir\n",
        "* index(substr)  // similar a find, mas dá erro se não existir\n",
        "* isalpha()\n",
        "* isdecimal()\n",
        "* isdigit()\n",
        "* islower()\n",
        "* isupper()\n",
        "* lower()  // cópia\n",
        "* removeprefix(prefixo)  // cópia\n",
        "* removesuffix(sufixo)  // cópia\n",
        "* replace(old, new)   // [, count]\n",
        "* split(sep)   // retorna uma lista de palavras\n",
        "* startswith(prefixo)  // retorna True [start, end]\n",
        "* strip()  // [chars] remove do início e do final\n",
        "* upper()  // cópia\n",
        "\n"
      ]
    },
    {
      "cell_type": "markdown",
      "metadata": {
        "id": "ydLY3wLxfdnA"
      },
      "source": [
        "### Tuplas\n",
        "Tuplas são estruturas que combinam valores e objetos de diferentes tipos, de forma análoga à listas. Também podem ser indexadas e fatiadas. Porém, ao contrário das listas, tuplas são imutáveis, ou seja, não podem ser modificadas depois de instanciadas."
      ]
    },
    {
      "cell_type": "code",
      "metadata": {
        "id": "2PVS0QGUniD8"
      },
      "source": [
        "tupla = (12345, 54321, 'ola mundo')"
      ],
      "execution_count": null,
      "outputs": []
    },
    {
      "cell_type": "code",
      "metadata": {
        "colab": {
          "base_uri": "https://localhost:8080/"
        },
        "id": "RDs8dGUvn1nv",
        "outputId": "fd917b5d-93fe-477b-ccd3-75c6929131ac"
      },
      "source": [
        "print(tupla)\n",
        "print(type(tupla))"
      ],
      "execution_count": null,
      "outputs": [
        {
          "output_type": "stream",
          "text": [
            "(12345, 54321, 'ola mundo')\n",
            "<class 'tuple'>\n"
          ],
          "name": "stdout"
        }
      ]
    },
    {
      "cell_type": "code",
      "metadata": {
        "colab": {
          "base_uri": "https://localhost:8080/"
        },
        "id": "p6TpVYchn47U",
        "outputId": "99aa0dc2-8493-464e-ab3a-ce37f1a1f39c"
      },
      "source": [
        "tupla[0]"
      ],
      "execution_count": null,
      "outputs": [
        {
          "output_type": "execute_result",
          "data": {
            "text/plain": [
              "12345"
            ]
          },
          "metadata": {
            "tags": []
          },
          "execution_count": 36
        }
      ]
    },
    {
      "cell_type": "code",
      "metadata": {
        "colab": {
          "base_uri": "https://localhost:8080/"
        },
        "id": "m09PiQuLn7Cs",
        "outputId": "3c397e69-f0b3-4790-d3f9-9048419ee286"
      },
      "source": [
        "tupla[1:2]"
      ],
      "execution_count": null,
      "outputs": [
        {
          "output_type": "execute_result",
          "data": {
            "text/plain": [
              "(54321,)"
            ]
          },
          "metadata": {
            "tags": []
          },
          "execution_count": 37
        }
      ]
    },
    {
      "cell_type": "markdown",
      "metadata": {
        "id": "fp8iwnedqfkL"
      },
      "source": [
        "Tuplas são imutáveis, ou seja, seus valores internos não podem ser modificados"
      ]
    },
    {
      "cell_type": "code",
      "metadata": {
        "colab": {
          "base_uri": "https://localhost:8080/",
          "height": 163
        },
        "id": "SlAs3qjKqkki",
        "outputId": "c16dc921-3bce-4cd2-d7d2-95c87aac1caa"
      },
      "source": [
        "tupla[0] = 'andre'"
      ],
      "execution_count": null,
      "outputs": [
        {
          "output_type": "error",
          "ename": "TypeError",
          "evalue": "ignored",
          "traceback": [
            "\u001b[0;31m---------------------------------------------------------------------------\u001b[0m",
            "\u001b[0;31mTypeError\u001b[0m                                 Traceback (most recent call last)",
            "\u001b[0;32m<ipython-input-38-f1e56d8e347a>\u001b[0m in \u001b[0;36m<module>\u001b[0;34m()\u001b[0m\n\u001b[0;32m----> 1\u001b[0;31m \u001b[0mtupla\u001b[0m\u001b[0;34m[\u001b[0m\u001b[0;36m0\u001b[0m\u001b[0;34m]\u001b[0m \u001b[0;34m=\u001b[0m \u001b[0;34m'andre'\u001b[0m\u001b[0;34m\u001b[0m\u001b[0;34m\u001b[0m\u001b[0m\n\u001b[0m",
            "\u001b[0;31mTypeError\u001b[0m: 'tuple' object does not support item assignment"
          ]
        }
      ]
    },
    {
      "cell_type": "markdown",
      "metadata": {
        "id": "4DGLsgFBqpiA"
      },
      "source": [
        "Porém, podemos acrescentar elementos numa tupla, estendendo-a ou concatenando-a com outra tupla"
      ]
    },
    {
      "cell_type": "code",
      "metadata": {
        "colab": {
          "base_uri": "https://localhost:8080/"
        },
        "id": "QS2g1VmQq8wE",
        "outputId": "1616d781-fff9-4f10-841c-4d53bab6ee62"
      },
      "source": [
        "tupla_andre = ('andre',)\n",
        "print(tupla_andre)\n",
        "print(type(tupla_andre))"
      ],
      "execution_count": null,
      "outputs": [
        {
          "output_type": "stream",
          "text": [
            "('andre',)\n",
            "<class 'tuple'>\n"
          ],
          "name": "stdout"
        }
      ]
    },
    {
      "cell_type": "code",
      "metadata": {
        "id": "fFBPttterVmX"
      },
      "source": [
        "tupla = tupla + tupla_andre"
      ],
      "execution_count": null,
      "outputs": []
    },
    {
      "cell_type": "code",
      "metadata": {
        "colab": {
          "base_uri": "https://localhost:8080/"
        },
        "id": "hg0o6C0BrbdH",
        "outputId": "e751077c-10ea-402a-e594-7d529e681bcd"
      },
      "source": [
        "tupla"
      ],
      "execution_count": null,
      "outputs": [
        {
          "output_type": "execute_result",
          "data": {
            "text/plain": [
              "(12345, 54321, 'ola mundo', 'andre')"
            ]
          },
          "metadata": {
            "tags": []
          },
          "execution_count": 42
        }
      ]
    },
    {
      "cell_type": "code",
      "metadata": {
        "id": "fiowmnPArinf"
      },
      "source": [
        "a,b,c,d = tupla"
      ],
      "execution_count": null,
      "outputs": []
    },
    {
      "cell_type": "code",
      "metadata": {
        "colab": {
          "base_uri": "https://localhost:8080/"
        },
        "id": "GOWshdCsyCB0",
        "outputId": "56e790e5-ec0a-49c3-e39d-4a304de5de25"
      },
      "source": [
        "print(a)\n",
        "print(b)\n",
        "print(c)\n",
        "print(d)\n",
        "print(type(a))\n",
        "print(type(c))"
      ],
      "execution_count": null,
      "outputs": [
        {
          "output_type": "stream",
          "text": [
            "12345\n",
            "54321\n",
            "ola mundo\n",
            "andre\n",
            "<class 'int'>\n",
            "<class 'str'>\n"
          ],
          "name": "stdout"
        }
      ]
    },
    {
      "cell_type": "markdown",
      "metadata": {
        "id": "ba4jVt_n7AnI"
      },
      "source": [
        "### Exercícios"
      ]
    },
    {
      "cell_type": "markdown",
      "metadata": {
        "id": "umsw6TM97Ixb"
      },
      "source": [
        "Escreva um código em Python para construir uma agenda de contatos com nome e telefone. Apresente um menu para as seguintes operações na agenda:\n",
        "* 1 - Incluir novo contato\n",
        "* 2 - Exibir agenda completa\n",
        "* 3 - Buscar telefone de um contato\n",
        "* 0 - Sair da agenda\n",
        "\n",
        "Ao escolher a opção 1, o usuário deve entrar com nome e telefone pelo console.\n",
        "Ao escolher a opção 2, basta imprimir todos os contatos na ordem em que eles foram inseridos\n",
        "Ao escolher a opção 3, o usuário deve entrar com um nome pelo console e o programa exibe seu número. Caso o usuário não exista na agenda, exibir 'Contato inexistente'\n",
        "O programa só é encerrado quando o usuário escolhe a opção 0 (zero)\n",
        "\n",
        "Dica: implemente uma lista de tuplas, onde a tupla é um contato (nome e telefone)"
      ]
    },
    {
      "cell_type": "code",
      "metadata": {
        "id": "oG4kiyr3ElFE"
      },
      "source": [
        ""
      ],
      "execution_count": null,
      "outputs": []
    },
    {
      "cell_type": "markdown",
      "metadata": {
        "id": "IkpSL0BsElqj"
      },
      "source": [
        "Faça uma função em Python que recebe uma lista de números e um número como argumentos e a função retorna True se o número está na lista e False, caso contrário.\n",
        "\n",
        "Obs.: Implemente duas versões da função: uma sem utilizar métodos da interface Lista que facilitem a busca e outros que utilizam"
      ]
    },
    {
      "cell_type": "code",
      "metadata": {
        "id": "Dpm-0nfAFEsW"
      },
      "source": [
        "def busca(lista, n):\n",
        "  for i in lista:\n",
        "    if (n == i):\n",
        "      return True\n",
        "  return False"
      ],
      "execution_count": null,
      "outputs": []
    },
    {
      "cell_type": "code",
      "metadata": {
        "colab": {
          "base_uri": "https://localhost:8080/"
        },
        "id": "NtjjLcQUPHgk",
        "outputId": "99e02799-a699-4e26-8768-8949f456475b"
      },
      "source": [
        "lista = [2,3,5,6]\n",
        "busca(lista, 5)"
      ],
      "execution_count": null,
      "outputs": [
        {
          "output_type": "execute_result",
          "data": {
            "text/plain": [
              "True"
            ]
          },
          "metadata": {
            "tags": []
          },
          "execution_count": 55
        }
      ]
    },
    {
      "cell_type": "code",
      "metadata": {
        "id": "UwmHI-1-QQrA"
      },
      "source": [
        "def busca2(lista, n):\n",
        "  return (lista.count(n) != 0)"
      ],
      "execution_count": null,
      "outputs": []
    },
    {
      "cell_type": "code",
      "metadata": {
        "colab": {
          "base_uri": "https://localhost:8080/"
        },
        "id": "a51NBTc0QmKW",
        "outputId": "d8f29aae-ad96-49bd-c684-78ba81e3ccfc"
      },
      "source": [
        "lista = [2,3,5,6]\n",
        "busca2(lista, 7)"
      ],
      "execution_count": null,
      "outputs": [
        {
          "output_type": "execute_result",
          "data": {
            "text/plain": [
              "False"
            ]
          },
          "metadata": {
            "tags": []
          },
          "execution_count": 59
        }
      ]
    },
    {
      "cell_type": "markdown",
      "metadata": {
        "id": "C6cbCBDXFze4"
      },
      "source": [
        "Implemente uma função que recebe um número inteiro n como parâmetro e retorna uma lista com os n termos da série de Fibonacci "
      ]
    },
    {
      "cell_type": "code",
      "metadata": {
        "id": "ZPJlhyi4GPSH"
      },
      "source": [
        ""
      ],
      "execution_count": null,
      "outputs": []
    }
  ]
}