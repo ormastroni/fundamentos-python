{
  "nbformat": 4,
  "nbformat_minor": 0,
  "metadata": {
    "colab": {
      "name": "aula6.ipynb",
      "provenance": [],
      "toc_visible": true,
      "authorship_tag": "ABX9TyNQij5nk2h/AauMs3YF37vd",
      "include_colab_link": true
    },
    "kernelspec": {
      "name": "python3",
      "display_name": "Python 3"
    },
    "language_info": {
      "name": "python"
    }
  },
  "cells": [
    {
      "cell_type": "markdown",
      "metadata": {
        "id": "view-in-github",
        "colab_type": "text"
      },
      "source": [
        "<a href=\"https://colab.research.google.com/github/ormastroni/fundamentos-python/blob/main/aula6.ipynb\" target=\"_parent\"><img src=\"https://colab.research.google.com/assets/colab-badge.svg\" alt=\"Open In Colab\"/></a>"
      ]
    },
    {
      "cell_type": "markdown",
      "metadata": {
        "id": "jgXVzv66R8uD"
      },
      "source": [
        "# Fundamentos de Desenvolvimento Python"
      ]
    },
    {
      "cell_type": "markdown",
      "metadata": {
        "id": "XMol0EmtSFXZ"
      },
      "source": [
        "## Prof. Andre Victor"
      ]
    },
    {
      "cell_type": "markdown",
      "metadata": {
        "id": "2V5ItdPtSJ-5"
      },
      "source": [
        "### Orientação a objetos: Classes"
      ]
    },
    {
      "cell_type": "markdown",
      "metadata": {
        "id": "7GKMA39fTuk7"
      },
      "source": [
        "Classe: É uma definição que encapsula uma implementação para um problema específico e oferece uma interface ao mundo exterior para que seja utilizada na instanciaçã ode objetos.\n",
        "\n",
        "Reúne a definição de variáveis e métodos de acesso na mesma estrutura de dados"
      ]
    },
    {
      "cell_type": "code",
      "metadata": {
        "id": "RSRJM1RHR4om"
      },
      "source": [
        "class Carro:\n",
        "  num_portas = 2\n",
        "  cor = 'Vermelho'"
      ],
      "execution_count": 1,
      "outputs": []
    },
    {
      "cell_type": "code",
      "metadata": {
        "colab": {
          "base_uri": "https://localhost:8080/"
        },
        "id": "FanLsX4TUgGa",
        "outputId": "6ce0cf88-cfbe-418f-9ac8-123e78bad7a4"
      },
      "source": [
        "fusca = Carro()\n",
        "print(fusca.num_portas)\n",
        "print(fusca.cor)"
      ],
      "execution_count": 2,
      "outputs": [
        {
          "output_type": "stream",
          "name": "stdout",
          "text": [
            "2\n",
            "Vermelho\n"
          ]
        }
      ]
    },
    {
      "cell_type": "code",
      "metadata": {
        "colab": {
          "base_uri": "https://localhost:8080/"
        },
        "id": "Goc0kKsEH0WK",
        "outputId": "4b1b3d97-d043-4897-dc3f-7573e157d961"
      },
      "source": [
        "type(fusca)"
      ],
      "execution_count": 3,
      "outputs": [
        {
          "output_type": "execute_result",
          "data": {
            "text/plain": [
              "__main__.Carro"
            ]
          },
          "metadata": {},
          "execution_count": 3
        }
      ]
    },
    {
      "cell_type": "markdown",
      "metadata": {
        "id": "zDp-KTwbVm40"
      },
      "source": [
        "Notem que a classe Carro define duas variáveis (variáveis de classe) que podem ser manipuladas por objetos da classe. Elas definem um estado default para qualquer objeto carro"
      ]
    },
    {
      "cell_type": "code",
      "metadata": {
        "colab": {
          "base_uri": "https://localhost:8080/"
        },
        "id": "8c5RecYZUrU1",
        "outputId": "faf18fb9-b2f2-4009-c73a-a1e765d7ccf0"
      },
      "source": [
        "opala = Carro()\n",
        "print(opala.num_portas)\n",
        "print(opala.cor)"
      ],
      "execution_count": 4,
      "outputs": [
        {
          "output_type": "stream",
          "name": "stdout",
          "text": [
            "2\n",
            "Vermelho\n"
          ]
        }
      ]
    },
    {
      "cell_type": "code",
      "metadata": {
        "colab": {
          "base_uri": "https://localhost:8080/"
        },
        "id": "U4783EvWZZZd",
        "outputId": "b93752d4-f7f3-42f0-9ac5-d420e6835965"
      },
      "source": [
        "opala.num_portas = 4\n",
        "opala.cor = 'Verde'\n",
        "print(opala.num_portas)\n",
        "print(opala.cor)\n",
        "print(opala)"
      ],
      "execution_count": 5,
      "outputs": [
        {
          "output_type": "stream",
          "name": "stdout",
          "text": [
            "4\n",
            "Verde\n",
            "<__main__.Carro object at 0x7f9bced58650>\n"
          ]
        }
      ]
    },
    {
      "cell_type": "markdown",
      "metadata": {
        "id": "4ZlHwYRAY5fK"
      },
      "source": [
        "No exemplo apresentado, estas variáveis foram consideradas variáveis de classe porque elas podem ser acessadas mesmo sem um objeto carro instanciado. Uma variável de classe define um estado default para a classe e todos os objetos instanciados daquela classe assumem este valor por default"
      ]
    },
    {
      "cell_type": "code",
      "metadata": {
        "colab": {
          "base_uri": "https://localhost:8080/"
        },
        "id": "KG6dUEGTY0CZ",
        "outputId": "61646a4e-7ef7-4f16-c97a-828abae563d2"
      },
      "source": [
        "print(Carro.num_portas)\n",
        "print(Carro.cor)"
      ],
      "execution_count": 6,
      "outputs": [
        {
          "output_type": "stream",
          "name": "stdout",
          "text": [
            "2\n",
            "Vermelho\n"
          ]
        }
      ]
    },
    {
      "cell_type": "code",
      "metadata": {
        "id": "kS2G3hrGa9Rj"
      },
      "source": [
        "Carro.num_portas = 3"
      ],
      "execution_count": 7,
      "outputs": []
    },
    {
      "cell_type": "code",
      "metadata": {
        "colab": {
          "base_uri": "https://localhost:8080/"
        },
        "id": "qozm29hwbAyv",
        "outputId": "25fdbbd4-69f8-4f0d-beea-c9d4f4a8f3ec"
      },
      "source": [
        "uno = Carro()\n",
        "print(uno.num_portas)\n",
        "print(uno.cor)"
      ],
      "execution_count": 8,
      "outputs": [
        {
          "output_type": "stream",
          "name": "stdout",
          "text": [
            "3\n",
            "Vermelho\n"
          ]
        }
      ]
    },
    {
      "cell_type": "code",
      "metadata": {
        "colab": {
          "base_uri": "https://localhost:8080/"
        },
        "id": "kVF84yQIcXWn",
        "outputId": "5888dcc8-67b8-4636-87f0-2a88dce1e3c3"
      },
      "source": [
        "uno.cor = 'Azul'\n",
        "print(uno.cor)\n",
        "print(Carro.cor)"
      ],
      "execution_count": 9,
      "outputs": [
        {
          "output_type": "stream",
          "name": "stdout",
          "text": [
            "Azul\n",
            "Vermelho\n"
          ]
        }
      ]
    },
    {
      "cell_type": "markdown",
      "metadata": {
        "id": "Xm1bgJ6Hf4Y4"
      },
      "source": [
        "### Membros de classe"
      ]
    },
    {
      "cell_type": "markdown",
      "metadata": {
        "id": "MZqno138bkiF"
      },
      "source": [
        "Para definir variáveis de instâncias, isto é, variáveis que só podem ser manipuladas a partir de uma instância criada, precisamos encapsular as variáveis em algum método e atribui-las como propriedades do objeto **self**.\n",
        "\n",
        "O objeto **self** sempre se referencia ao objeto que fez a chamada do método.\n",
        "\n",
        "É importante ressaltar que uma classe pode ser definida por variáveis (propriedades) e funções (métodos). Chamamos as propriedades e métodos de uma classe de **membros** da classe"
      ]
    },
    {
      "cell_type": "code",
      "metadata": {
        "id": "7dkE1mBEbiru"
      },
      "source": [
        "class Bicicleta:\n",
        "\n",
        "  def monta(self):\n",
        "    self.aro = 29\n",
        "    self.cor = 'Vermelho'\n",
        "    self.montada = True\n",
        "\n",
        "  def desmonta(self):\n",
        "    self.montada = False\n"
      ],
      "execution_count": 10,
      "outputs": []
    },
    {
      "cell_type": "code",
      "metadata": {
        "id": "GfObxBBAeNY0"
      },
      "source": [
        "b1 = Bicicleta()"
      ],
      "execution_count": 11,
      "outputs": []
    },
    {
      "cell_type": "code",
      "metadata": {
        "colab": {
          "base_uri": "https://localhost:8080/"
        },
        "id": "6paNUfHEMatW",
        "outputId": "9a982754-0b41-4156-d58c-3c85fadd4d37"
      },
      "source": [
        "print(b1)"
      ],
      "execution_count": 12,
      "outputs": [
        {
          "output_type": "stream",
          "name": "stdout",
          "text": [
            "<__main__.Bicicleta object at 0x7f9bcee2cc10>\n"
          ]
        }
      ]
    },
    {
      "cell_type": "markdown",
      "metadata": {
        "id": "UJ55SevlfKe_"
      },
      "source": [
        "**aro**, **cor** e **montada** são propriedades da classe Bicicleta\n",
        "\n",
        "monta() e desmonta() são métodos da classe Bicicleta\n",
        "\n",
        "Todos são considerados membros da classe Bicicleta"
      ]
    },
    {
      "cell_type": "code",
      "metadata": {
        "colab": {
          "base_uri": "https://localhost:8080/",
          "height": 171
        },
        "id": "RlDpTks_eUKI",
        "outputId": "780ae1fe-280d-4a5d-9918-b742bf9cf7f2"
      },
      "source": [
        "b1.montada"
      ],
      "execution_count": 13,
      "outputs": [
        {
          "output_type": "error",
          "ename": "AttributeError",
          "evalue": "ignored",
          "traceback": [
            "\u001b[0;31m---------------------------------------------------------------------------\u001b[0m",
            "\u001b[0;31mAttributeError\u001b[0m                            Traceback (most recent call last)",
            "\u001b[0;32m<ipython-input-13-39a75a98c9f2>\u001b[0m in \u001b[0;36m<module>\u001b[0;34m()\u001b[0m\n\u001b[0;32m----> 1\u001b[0;31m \u001b[0mb1\u001b[0m\u001b[0;34m.\u001b[0m\u001b[0mmontada\u001b[0m\u001b[0;34m\u001b[0m\u001b[0;34m\u001b[0m\u001b[0m\n\u001b[0m",
            "\u001b[0;31mAttributeError\u001b[0m: 'Bicicleta' object has no attribute 'montada'"
          ]
        }
      ]
    },
    {
      "cell_type": "code",
      "metadata": {
        "id": "_ayZlvAIeXPQ"
      },
      "source": [
        "b1.monta()"
      ],
      "execution_count": 14,
      "outputs": []
    },
    {
      "cell_type": "code",
      "metadata": {
        "colab": {
          "base_uri": "https://localhost:8080/"
        },
        "id": "mgsT9eg3ea2m",
        "outputId": "d63bde4c-7abf-4faf-9398-50cc18b271d9"
      },
      "source": [
        "b1.montada"
      ],
      "execution_count": 15,
      "outputs": [
        {
          "output_type": "execute_result",
          "data": {
            "text/plain": [
              "True"
            ]
          },
          "metadata": {},
          "execution_count": 15
        }
      ]
    },
    {
      "cell_type": "code",
      "metadata": {
        "colab": {
          "base_uri": "https://localhost:8080/"
        },
        "id": "GLPTR4xWejFt",
        "outputId": "d59870d3-45fe-40e5-d044-b439c73980cc"
      },
      "source": [
        "print(b1.aro)\n",
        "print(b1.cor)"
      ],
      "execution_count": 16,
      "outputs": [
        {
          "output_type": "stream",
          "name": "stdout",
          "text": [
            "29\n",
            "Vermelho\n"
          ]
        }
      ]
    },
    {
      "cell_type": "code",
      "metadata": {
        "id": "uEDmBcYBeqUt"
      },
      "source": [
        "b2 = Bicicleta()"
      ],
      "execution_count": 17,
      "outputs": []
    },
    {
      "cell_type": "code",
      "metadata": {
        "colab": {
          "base_uri": "https://localhost:8080/",
          "height": 189
        },
        "id": "aBlhYPGOezdI",
        "outputId": "a04c059f-2248-42c3-f112-e4e5ec0da768"
      },
      "source": [
        "print(b2.aro)\n",
        "print(b2.cor)"
      ],
      "execution_count": 18,
      "outputs": [
        {
          "output_type": "error",
          "ename": "AttributeError",
          "evalue": "ignored",
          "traceback": [
            "\u001b[0;31m---------------------------------------------------------------------------\u001b[0m",
            "\u001b[0;31mAttributeError\u001b[0m                            Traceback (most recent call last)",
            "\u001b[0;32m<ipython-input-18-47645db8c498>\u001b[0m in \u001b[0;36m<module>\u001b[0;34m()\u001b[0m\n\u001b[0;32m----> 1\u001b[0;31m \u001b[0mprint\u001b[0m\u001b[0;34m(\u001b[0m\u001b[0mb2\u001b[0m\u001b[0;34m.\u001b[0m\u001b[0maro\u001b[0m\u001b[0;34m)\u001b[0m\u001b[0;34m\u001b[0m\u001b[0;34m\u001b[0m\u001b[0m\n\u001b[0m\u001b[1;32m      2\u001b[0m \u001b[0mprint\u001b[0m\u001b[0;34m(\u001b[0m\u001b[0mb2\u001b[0m\u001b[0;34m.\u001b[0m\u001b[0mcor\u001b[0m\u001b[0;34m)\u001b[0m\u001b[0;34m\u001b[0m\u001b[0;34m\u001b[0m\u001b[0m\n",
            "\u001b[0;31mAttributeError\u001b[0m: 'Bicicleta' object has no attribute 'aro'"
          ]
        }
      ]
    },
    {
      "cell_type": "code",
      "metadata": {
        "colab": {
          "base_uri": "https://localhost:8080/"
        },
        "id": "1C9gRJ58e21_",
        "outputId": "cbfb675d-e883-4a15-ed57-f58560f9dea9"
      },
      "source": [
        "b2.monta()\n",
        "b2.desmonta()\n",
        "print(b2.aro)\n",
        "print(b2.cor)\n",
        "print(b2.montada)"
      ],
      "execution_count": 19,
      "outputs": [
        {
          "output_type": "stream",
          "name": "stdout",
          "text": [
            "29\n",
            "Vermelho\n",
            "False\n"
          ]
        }
      ]
    },
    {
      "cell_type": "code",
      "metadata": {
        "id": "KbACz4N6Sqvm",
        "colab": {
          "base_uri": "https://localhost:8080/"
        },
        "outputId": "dc75decd-803d-4c22-b013-e47e0c88995d"
      },
      "source": [
        "b2"
      ],
      "execution_count": 21,
      "outputs": [
        {
          "output_type": "execute_result",
          "data": {
            "text/plain": [
              "<__main__.Bicicleta at 0x7f9bcecaf1d0>"
            ]
          },
          "metadata": {},
          "execution_count": 21
        }
      ]
    },
    {
      "cell_type": "markdown",
      "metadata": {
        "id": "lqFX9qkagH1Z"
      },
      "source": [
        "### Visibilidade de membros"
      ]
    },
    {
      "cell_type": "markdown",
      "metadata": {
        "id": "USfbud06gk2W"
      },
      "source": [
        "Nos exemplos anteriores das classes Carro e Bicicleta, utilizamos todos os membros de classe como públicos.\n",
        "\n",
        "Esta não é uma boa prática porque viola o princípio do **encapsulamento**. Idealmente, propriedades de uma classe representam aspectos de como uma classe é implementada e devem ser escondidas do programador (da sua interface pública). \n",
        "\n",
        "Por isso, recomenda-se definir as propriedades de uma classe como membros **privados** de uma classe, isto é, apenas as funções da própria classe é que podem acessá-los e modificá-los. A manipulação e atualização dos valores de uma propriedade (estado do objeto) devem ser realizados através dos métodos de sua interface, e não acessando-os diretamente pelo objeto instanciado.\n",
        "\n",
        "Entretanto, a linguagem Python não tem um modificador de visibilidade para suas propriedades como existem em linguagens como Java e C++. O que existe é uma convenção "
      ]
    },
    {
      "cell_type": "markdown",
      "metadata": {
        "id": "V51LAq_ehYcc"
      },
      "source": [
        "Para definir uma propriedade como privada, o nome do seu identificador deve ser iniciado por _"
      ]
    },
    {
      "cell_type": "code",
      "metadata": {
        "id": "lCX3QRNwh2Hv"
      },
      "source": [
        "class Patinete:\n",
        "  def monta(self):\n",
        "    self._num_rodas = 2\n",
        "    self._tamanho = 1.5\n",
        "    self._montado = True\n",
        "\n",
        "  def desmonta(self):\n",
        "    self._montado = False\n"
      ],
      "execution_count": null,
      "outputs": []
    },
    {
      "cell_type": "code",
      "metadata": {
        "id": "WSD9fnS7ii8c"
      },
      "source": [
        "p1 = Patinete()\n",
        "p1.monta()"
      ],
      "execution_count": null,
      "outputs": []
    },
    {
      "cell_type": "code",
      "metadata": {
        "colab": {
          "base_uri": "https://localhost:8080/"
        },
        "id": "jvThltTCR1AN",
        "outputId": "ebfb4cdf-4f39-4908-f465-2f83b4ce1949"
      },
      "source": [
        "print(p1)"
      ],
      "execution_count": null,
      "outputs": [
        {
          "output_type": "stream",
          "text": [
            "<__main__.Patinete object at 0x7f90d462ed90>\n"
          ],
          "name": "stdout"
        }
      ]
    },
    {
      "cell_type": "code",
      "metadata": {
        "colab": {
          "base_uri": "https://localhost:8080/"
        },
        "id": "NCOivZ3riorz",
        "outputId": "09a3e08f-41d7-4a94-e261-9318f9e078e5"
      },
      "source": [
        "# As linhas de código abaixo devem ser evitadas, embora são passíveis de execução\n",
        "p1._num_rodas = 3\n",
        "print(p1._num_rodas)\n",
        "print(p1._tamanho)"
      ],
      "execution_count": null,
      "outputs": [
        {
          "output_type": "stream",
          "text": [
            "3\n",
            "1.5\n"
          ],
          "name": "stdout"
        }
      ]
    },
    {
      "cell_type": "markdown",
      "metadata": {
        "id": "b8ElOaY7mr7d"
      },
      "source": [
        "### Métodos construtores"
      ]
    },
    {
      "cell_type": "markdown",
      "metadata": {
        "id": "KC5yzGsxmwsw"
      },
      "source": [
        "Nos exemplos anteriores com os objetos da classe Carro e Bicicleta inicializamos variáveis de instância no método monta(). Porém, mostramos que houve erro ao criar o objeto e tentar manipular suas propriedades antes de chamar o método monta(), que foi o método utilizado para inicializar as variáveis.\n",
        "\n",
        "Isto acontece porque as propriedades só passaram a existir depois da chamada do método monta().\n",
        "\n",
        "Para resolver esse problema, devemos incializar variáveis de instância no momento que o objeto é instanciado. Para isso, devemos fazê-lo no método construtor, que é um método especial que será chamado toda vez que um objeto for criado"
      ]
    },
    {
      "cell_type": "code",
      "metadata": {
        "id": "XFjhljRaolTr"
      },
      "source": [
        "class Carro:\n",
        "\n",
        "  def __init__(self, num_portas, cor):\n",
        "    self._num_portas = num_portas\n",
        "    self._cor = cor\n",
        "  \n",
        "  def pintar(self, novaCor):\n",
        "    self._cor = novaCor\n",
        "\n",
        "  def getCor(self):\n",
        "    return self._cor\n",
        "\n",
        "  def getNumPortas(self):\n",
        "    return self._num_portas"
      ],
      "execution_count": 22,
      "outputs": []
    },
    {
      "cell_type": "code",
      "metadata": {
        "id": "WL7B2cA5pSFu"
      },
      "source": [
        "fusca = Carro(2, 'Vermelho')"
      ],
      "execution_count": 23,
      "outputs": []
    },
    {
      "cell_type": "code",
      "metadata": {
        "colab": {
          "base_uri": "https://localhost:8080/"
        },
        "id": "nJzc8B5wpwTe",
        "outputId": "57e0880d-8de7-4182-c977-faa6ed4da6e3"
      },
      "source": [
        "print(fusca.getCor())\n",
        "print(fusca.getNumPortas())"
      ],
      "execution_count": 24,
      "outputs": [
        {
          "output_type": "stream",
          "name": "stdout",
          "text": [
            "Vermelho\n",
            "2\n"
          ]
        }
      ]
    },
    {
      "cell_type": "code",
      "metadata": {
        "colab": {
          "base_uri": "https://localhost:8080/"
        },
        "id": "Qjr_jBAdqCbG",
        "outputId": "6a3ed4c2-bb0e-4349-f320-0850f5d802b5"
      },
      "source": [
        "opala = Carro(4, 'Verde')\n",
        "print(opala.getCor())\n",
        "print(opala.getNumPortas())"
      ],
      "execution_count": null,
      "outputs": [
        {
          "output_type": "stream",
          "text": [
            "Verde\n",
            "4\n"
          ],
          "name": "stdout"
        }
      ]
    },
    {
      "cell_type": "code",
      "metadata": {
        "colab": {
          "base_uri": "https://localhost:8080/",
          "height": 197
        },
        "id": "CffuG36srvn2",
        "outputId": "68413b44-f58e-4696-9114-581a22aa8a6a"
      },
      "source": [
        "uno = Carro()\n",
        "print(uno.getCor())\n",
        "print(uno.getNumPortas())"
      ],
      "execution_count": null,
      "outputs": [
        {
          "output_type": "error",
          "ename": "TypeError",
          "evalue": "ignored",
          "traceback": [
            "\u001b[0;31m---------------------------------------------------------------------------\u001b[0m",
            "\u001b[0;31mTypeError\u001b[0m                                 Traceback (most recent call last)",
            "\u001b[0;32m<ipython-input-32-92c0f44ffabf>\u001b[0m in \u001b[0;36m<module>\u001b[0;34m()\u001b[0m\n\u001b[0;32m----> 1\u001b[0;31m \u001b[0muno\u001b[0m \u001b[0;34m=\u001b[0m \u001b[0mCarro\u001b[0m\u001b[0;34m(\u001b[0m\u001b[0;34m)\u001b[0m\u001b[0;34m\u001b[0m\u001b[0;34m\u001b[0m\u001b[0m\n\u001b[0m\u001b[1;32m      2\u001b[0m \u001b[0mprint\u001b[0m\u001b[0;34m(\u001b[0m\u001b[0muno\u001b[0m\u001b[0;34m.\u001b[0m\u001b[0mgetCor\u001b[0m\u001b[0;34m(\u001b[0m\u001b[0;34m)\u001b[0m\u001b[0;34m)\u001b[0m\u001b[0;34m\u001b[0m\u001b[0;34m\u001b[0m\u001b[0m\n\u001b[1;32m      3\u001b[0m \u001b[0mprint\u001b[0m\u001b[0;34m(\u001b[0m\u001b[0muno\u001b[0m\u001b[0;34m.\u001b[0m\u001b[0mgetNumPortas\u001b[0m\u001b[0;34m(\u001b[0m\u001b[0;34m)\u001b[0m\u001b[0;34m)\u001b[0m\u001b[0;34m\u001b[0m\u001b[0;34m\u001b[0m\u001b[0m\n",
            "\u001b[0;31mTypeError\u001b[0m: __init__() missing 2 required positional arguments: 'num_portas' and 'cor'"
          ]
        }
      ]
    },
    {
      "cell_type": "markdown",
      "metadata": {
        "id": "yVQ8SK6msUzK"
      },
      "source": [
        "Para resolver esse problema, devemos ter valores default para os parâmetros do construtor ou forçar que toda criação de objetos seja utilizando o construtor definido"
      ]
    },
    {
      "cell_type": "code",
      "metadata": {
        "id": "503D0Qj0sSSC"
      },
      "source": [
        "class Carro:\n",
        "\n",
        "  def __init__(self, num_portas=2, cor='Prata'):\n",
        "    self._num_portas = num_portas\n",
        "    self._cor = cor\n",
        "  \n",
        "  def pintar(self, novaCor):\n",
        "    self._cor = novaCor\n",
        "\n",
        "  def getCor(self):\n",
        "    return self._cor\n",
        "\n",
        "  def getNumPortas(self):\n",
        "    return self._num_portas"
      ],
      "execution_count": null,
      "outputs": []
    },
    {
      "cell_type": "code",
      "metadata": {
        "colab": {
          "base_uri": "https://localhost:8080/"
        },
        "id": "9bXuCQj2stNS",
        "outputId": "0615f82b-4d7b-44b4-abe8-75f2d6c76b9c"
      },
      "source": [
        "uno = Carro()\n",
        "print(uno.getCor())\n",
        "print(uno.getNumPortas())"
      ],
      "execution_count": null,
      "outputs": [
        {
          "output_type": "stream",
          "text": [
            "Prata\n",
            "2\n"
          ],
          "name": "stdout"
        }
      ]
    },
    {
      "cell_type": "markdown",
      "metadata": {
        "id": "1p-zIme4wn65"
      },
      "source": [
        "Exercício: Implemente uma classe que representa o conceito de Pilha visto nas últimas aulas.\n",
        "\n",
        "Dica: utilize uma lista para implementar a pilha, mas esconda sua implementação da interface.\n",
        "\n",
        "Interface:\n",
        "* push(elem): empilha o elem\n",
        "* pop(): desempilha o último elemento empilhado\n",
        "* top(): retorna o último elemento empilhado sem desempilhar\n",
        "* eh_vazia(): retorna True se a pilha está vazia, False caso contrário\n",
        "* len(): retorna quantos elementos foram empilhados\n",
        "* esvazia(): desempilha todos os elementos da pilha"
      ]
    },
    {
      "cell_type": "code",
      "metadata": {
        "id": "UBjM7GRGx9Od"
      },
      "source": [
        "class Pilha:\n",
        "  \"\"\" Esta classe vai implementar a abstração de uma pilha utilizando-se uma lista.\n",
        "  Seguem as definições dos métodos: \"\"\"\n",
        "\n",
        "  def __init__(self):\n",
        "    self._lista = []\n",
        "\n",
        "  def len(self):\n",
        "    return len(self._lista)\n",
        "\n",
        "  def eh_vazia(self):\n",
        "    return len(self._lista) == 0 \n",
        "\n",
        "  def push(self, elemento):\n",
        "    self._lista.append(elemento)\n",
        "\n",
        "  def __str__(self):\n",
        "    return \"tamanho da pilha eh \" + str(len(self._lista))\n",
        "  \n",
        "  def top(self):\n",
        "    if self.eh_vazia():\n",
        "      return None\n",
        "    return self._lista[-1]\n",
        "\n",
        "  def pop(self):\n",
        "    if self.eh_vazia():\n",
        "      return None\n",
        "    return self._lista.pop()"
      ],
      "execution_count": null,
      "outputs": []
    },
    {
      "cell_type": "code",
      "metadata": {
        "id": "PBRk9BvrdUEH"
      },
      "source": [
        "p2 = Pilha()\n",
        "p2.push(4)\n",
        "p2.push(5)\n",
        "p2.push(6)"
      ],
      "execution_count": null,
      "outputs": []
    },
    {
      "cell_type": "code",
      "metadata": {
        "colab": {
          "base_uri": "https://localhost:8080/"
        },
        "id": "Tia4AH5RdfK3",
        "outputId": "0b578f6f-04ea-4759-e664-034f0a65f010"
      },
      "source": [
        "p2.len()"
      ],
      "execution_count": null,
      "outputs": [
        {
          "output_type": "execute_result",
          "data": {
            "text/plain": [
              "3"
            ]
          },
          "metadata": {
            "tags": []
          },
          "execution_count": 37
        }
      ]
    },
    {
      "cell_type": "code",
      "metadata": {
        "colab": {
          "base_uri": "https://localhost:8080/"
        },
        "id": "mSRD90tRdiY1",
        "outputId": "722bc64f-38da-48ee-fa57-5194d610b83f"
      },
      "source": [
        "print(p2.top())"
      ],
      "execution_count": null,
      "outputs": [
        {
          "output_type": "stream",
          "text": [
            "6\n"
          ],
          "name": "stdout"
        }
      ]
    },
    {
      "cell_type": "code",
      "metadata": {
        "colab": {
          "base_uri": "https://localhost:8080/"
        },
        "id": "XlZCXqnido4A",
        "outputId": "9a38f314-2062-4386-be53-a625c95c5a1b"
      },
      "source": [
        "p2.pop()"
      ],
      "execution_count": null,
      "outputs": [
        {
          "output_type": "execute_result",
          "data": {
            "text/plain": [
              "6"
            ]
          },
          "metadata": {
            "tags": []
          },
          "execution_count": 59
        }
      ]
    },
    {
      "cell_type": "code",
      "metadata": {
        "colab": {
          "base_uri": "https://localhost:8080/"
        },
        "id": "8oUa1eO9fUhx",
        "outputId": "17b6bf28-dcc3-45a4-a7ef-c19440389938"
      },
      "source": [
        "p2.len()"
      ],
      "execution_count": null,
      "outputs": [
        {
          "output_type": "execute_result",
          "data": {
            "text/plain": [
              "2"
            ]
          },
          "metadata": {
            "tags": []
          },
          "execution_count": 60
        }
      ]
    },
    {
      "cell_type": "code",
      "metadata": {
        "colab": {
          "base_uri": "https://localhost:8080/"
        },
        "id": "I9YkNHrLfXQ9",
        "outputId": "19c3d188-1afd-4fec-c64f-70270a2d9dfe"
      },
      "source": [
        "p2.pop()\n",
        "p2.pop()"
      ],
      "execution_count": null,
      "outputs": [
        {
          "output_type": "execute_result",
          "data": {
            "text/plain": [
              "4"
            ]
          },
          "metadata": {
            "tags": []
          },
          "execution_count": 46
        }
      ]
    },
    {
      "cell_type": "code",
      "metadata": {
        "colab": {
          "base_uri": "https://localhost:8080/"
        },
        "id": "d9dO2vXZfccL",
        "outputId": "bfe91b4f-74c2-4ada-dadf-f2db9983bbed"
      },
      "source": [
        "p2.eh_vazia()"
      ],
      "execution_count": null,
      "outputs": [
        {
          "output_type": "execute_result",
          "data": {
            "text/plain": [
              "True"
            ]
          },
          "metadata": {
            "tags": []
          },
          "execution_count": 47
        }
      ]
    },
    {
      "cell_type": "code",
      "metadata": {
        "colab": {
          "base_uri": "https://localhost:8080/"
        },
        "id": "aJ9KDyTCfqI_",
        "outputId": "f743709d-20ba-488d-fa0d-69854cbcbe3a"
      },
      "source": [
        "print(p2)"
      ],
      "execution_count": null,
      "outputs": [
        {
          "output_type": "stream",
          "text": [
            "tamanho da pilha eh 2\n"
          ],
          "name": "stdout"
        }
      ]
    },
    {
      "cell_type": "code",
      "metadata": {
        "id": "T9lr8NJ6hm3I"
      },
      "source": [
        "p2.push(10)"
      ],
      "execution_count": null,
      "outputs": []
    },
    {
      "cell_type": "code",
      "metadata": {
        "colab": {
          "base_uri": "https://localhost:8080/"
        },
        "id": "9B4m76INhtTq",
        "outputId": "ec02990c-b98c-40ef-ec33-e1f846363059"
      },
      "source": [
        "p2.len()"
      ],
      "execution_count": null,
      "outputs": [
        {
          "output_type": "execute_result",
          "data": {
            "text/plain": [
              "1"
            ]
          },
          "metadata": {
            "tags": []
          },
          "execution_count": 52
        }
      ]
    },
    {
      "cell_type": "code",
      "metadata": {
        "id": "qLvAXJF0hvM9"
      },
      "source": [
        "p2.push(20)"
      ],
      "execution_count": null,
      "outputs": []
    },
    {
      "cell_type": "code",
      "metadata": {
        "colab": {
          "base_uri": "https://localhost:8080/",
          "height": 163
        },
        "id": "gv63Y7c-h3Pf",
        "outputId": "63e993a6-5d77-4aa8-e459-53b9c5ff0e1d"
      },
      "source": [
        "p2[0]"
      ],
      "execution_count": null,
      "outputs": [
        {
          "output_type": "error",
          "ename": "TypeError",
          "evalue": "ignored",
          "traceback": [
            "\u001b[0;31m---------------------------------------------------------------------------\u001b[0m",
            "\u001b[0;31mTypeError\u001b[0m                                 Traceback (most recent call last)",
            "\u001b[0;32m<ipython-input-54-9cc9d2ab56d2>\u001b[0m in \u001b[0;36m<module>\u001b[0;34m()\u001b[0m\n\u001b[0;32m----> 1\u001b[0;31m \u001b[0mp2\u001b[0m\u001b[0;34m[\u001b[0m\u001b[0;36m0\u001b[0m\u001b[0;34m]\u001b[0m\u001b[0;34m\u001b[0m\u001b[0;34m\u001b[0m\u001b[0m\n\u001b[0m",
            "\u001b[0;31mTypeError\u001b[0m: 'Pilha' object is not subscriptable"
          ]
        }
      ]
    },
    {
      "cell_type": "markdown",
      "metadata": {
        "id": "v3DtAc6zyGhv"
      },
      "source": [
        "Faça o mesmo para o conceito da Fila com a seguinte interface:\n",
        "* enfila(elem): insere o elemento no final da fila\n",
        "* desenfila(): remove o primeiro elemento da fila\n",
        "* tamanho(): retorna quantos elementos estão na fila\n",
        "* eh_vazia(): retorna True se a fila está vazia, False caso contrário\n",
        "* topo(): retorna o primeiro elemento da fila\n",
        "* final(): retorna o último elemento da fila\n",
        "* esvazia(): todos os elementos da fila são removidos"
      ]
    },
    {
      "cell_type": "code",
      "metadata": {
        "id": "GPk3jl-8yJpo"
      },
      "source": [
        ""
      ],
      "execution_count": null,
      "outputs": []
    },
    {
      "cell_type": "markdown",
      "metadata": {
        "id": "-6K8vtsQyKk7"
      },
      "source": [
        "### Sobrecarga de operadores"
      ]
    },
    {
      "cell_type": "markdown",
      "metadata": {
        "id": "qnzs4pUbCdhU"
      },
      "source": [
        "Sobrecarga de métodos é uma abordagem da orientação a objetos onde o mesmo método pode ser chamado em diferentes objetos e sua implementação é dependente do tipo de objeto em que ele foi invocado.\n",
        "\n",
        "Alguns bons exemplos de sobrecarga:\n",
        "* len(obj)\n",
        "* print(obj)\n",
        "* a+b\n",
        "* etc."
      ]
    },
    {
      "cell_type": "code",
      "metadata": {
        "id": "GxgbwDy3DGUV"
      },
      "source": [
        "class Carro:\n",
        "\n",
        "  def __init__(self, num_portas=2, cor='Prata'):\n",
        "    self._num_portas = num_portas\n",
        "    self._cor = cor\n",
        "  \n",
        "  def __len__ (self):\n",
        "    return self._num_portas\n",
        "\n",
        "  def __str__(self):\n",
        "    return 'portas='+str(len(self))+';cor='+self._cor\n",
        "  \n",
        "  def pintar(self, novaCor):\n",
        "    self._cor = novaCor\n",
        "\n",
        "  def getCor(self):\n",
        "    return self._cor\n",
        "\n",
        "  def getNumPortas(self):\n",
        "    return self._num_portas"
      ],
      "execution_count": null,
      "outputs": []
    },
    {
      "cell_type": "code",
      "metadata": {
        "colab": {
          "base_uri": "https://localhost:8080/"
        },
        "id": "7fdGeozMEA3L",
        "outputId": "2bad7d99-510e-4c1e-c701-ec2151a0b70a"
      },
      "source": [
        "ka = Carro()\n",
        "print(len(ka))\n",
        "print(ka)"
      ],
      "execution_count": null,
      "outputs": [
        {
          "output_type": "stream",
          "text": [
            "2\n",
            "portas=2;cor=Prata\n"
          ],
          "name": "stdout"
        }
      ]
    },
    {
      "cell_type": "markdown",
      "metadata": {
        "id": "_fBHj3t3KPmq"
      },
      "source": [
        "Exercício\n",
        "\n",
        "Implemente 3 classes referentes a uma aplicação de livraria virtual eletrônico: Cliente, Pedido e Livro\n",
        "\n",
        "* Cliente: todo objeto cliente tem um nome, um cpf e uma idade. Além disso, clientes podem ser classificados como vips por seu histórico de compra\n",
        "\n",
        "* Livro: todo livro tem um ISBN, um título, um autor e um preço. Todo livro tem por default 10 unidades no estoque\n",
        "\n",
        "* Pedido: um pedido tem um código e refere-se à compra de um livro por um cliente. Não existem pedidos sem clientes e livros. O pedido deve conter também a quantidade de unidades do livro a ser comprado. Na interface da classe devem existir 4 métodos: **quemFez()** deve retornar o cliente do pedido, **livro()** deve retornar o livro comprado, **total()** deve retornar o valor do pedido (quantidade do livro * preço do livro) e **efetiva()** que deve retornar True, caso a quantidade de itens em estoque do livro seja suficiente. Neste caso, ao efetivar o pedido, o estoque do livro é atualizado. Caso contrário (não há quantidade disponível no estoque), o método retorna False e o estoque não é atualizado\n",
        "\n",
        "\n",
        "Crie 3 objetos clientes diferentes, 5 objetos de livros diferentes e crie pedidos para os 3 clientes incluindo alguns dos livros. Mostre casos com estoque disponível e casos sem estoque."
      ]
    },
    {
      "cell_type": "code",
      "metadata": {
        "id": "hA0Hu2iDN5iP"
      },
      "source": [
        "class Cliente:\n",
        "  def __init__(self, nome, cpf, idade):\n",
        "    self._nome = nome\n",
        "    self._cpf = cpf\n",
        "    self._idade = idade\n",
        "    self._vip = False\n",
        "\n",
        "  def getNome(self):\n",
        "    return self._nome\n",
        "\n",
        "  def getCPF(self):\n",
        "    return self._cpf\n",
        "\n",
        "  def getIdade(self):\n",
        "    return self._idade\n",
        "\n",
        "  def eh_vip(self):\n",
        "    return self._vip\n",
        "\n",
        "  def ganha_vip(self):\n",
        "    self._vip = True\n",
        "\n",
        "  def perde_vip(self):\n",
        "    self._vip = False"
      ],
      "execution_count": null,
      "outputs": []
    },
    {
      "cell_type": "code",
      "metadata": {
        "colab": {
          "base_uri": "https://localhost:8080/"
        },
        "id": "deYfbVfJjbNy",
        "outputId": "0a3f232f-ef4c-4600-dc4c-0cd1611dc440"
      },
      "source": [
        "maria = Cliente('maria', '111', 20)\n",
        "print(maria.getNome())\n",
        "print(maria.getIdade())\n",
        "print(maria.getCPF())"
      ],
      "execution_count": null,
      "outputs": [
        {
          "output_type": "stream",
          "text": [
            "maria\n",
            "20\n",
            "111\n"
          ],
          "name": "stdout"
        }
      ]
    },
    {
      "cell_type": "code",
      "metadata": {
        "id": "u6mB4Z16Krpg"
      },
      "source": [
        "class Livro:\n",
        "\n",
        "  def __init__(self, isbn, titulo, autor, preco=0):\n",
        "    self._isbn = isbn\n",
        "    self._titulo = titulo\n",
        "    self._autor = autor\n",
        "    self._preco = preco\n",
        "    self._estoque = 10\n",
        "\n",
        "  def getTitulo(self):\n",
        "    return self._titulo\n",
        "\n",
        "  def getAutor(self):\n",
        "    return self._autor\n",
        "\n",
        "  def getPreco(self):\n",
        "    return self._preco\n",
        "\n",
        "  def getEstoque(self):\n",
        "    return self._estoque\n",
        "\n",
        "  def atualizaEstoque(self, novo):\n",
        "    self._estoque = novo"
      ],
      "execution_count": null,
      "outputs": []
    },
    {
      "cell_type": "code",
      "metadata": {
        "id": "WI_OI6x5LpVq"
      },
      "source": [
        "l1 = Livro('111', 'Mestre do Python', 'Ramalho', 15.5)\n",
        "l2 = Livro('222', 'Java Completo', 'Andre', 199.9)\n",
        "l3 = Livro('333', 'Oracle', 'Joao')"
      ],
      "execution_count": null,
      "outputs": []
    },
    {
      "cell_type": "code",
      "metadata": {
        "colab": {
          "base_uri": "https://localhost:8080/"
        },
        "id": "eEZB3jA2L_ZI",
        "outputId": "0be38aea-f9e9-4fc8-9fc7-9e70a12cd358"
      },
      "source": [
        "print(l1.getTitulo())\n",
        "print(l1.getPreco())\n",
        "print(l2.getAutor())\n",
        "print(l2.getEstoque())\n",
        "print(l3.getTitulo())\n",
        "print(l3.getPreco())"
      ],
      "execution_count": null,
      "outputs": [
        {
          "output_type": "stream",
          "text": [
            "Mestre do Python\n",
            "15.5\n",
            "Andre\n",
            "10\n",
            "Oracle\n",
            "0\n"
          ],
          "name": "stdout"
        }
      ]
    },
    {
      "cell_type": "code",
      "metadata": {
        "id": "LwpMiuaYsdxu"
      },
      "source": [
        "class Pedido:\n",
        "\n",
        "  def __init__(self, cliente, livro, quantidade=1):\n",
        "    self._cliente = cliente\n",
        "    self._livro = livro\n",
        "    self._quant = quantidade\n",
        "\n",
        "  def quemFez(self):\n",
        "    return self._cliente\n",
        "\n",
        "  def livro(self):\n",
        "    return self._livro\n",
        "\n",
        "  def total(self):\n",
        "    preco_livro = self.livro().getPreco()\n",
        "    return self._quant*preco_livro\n",
        "\n",
        "  def efetiva(self):\n",
        "    # Este método validar se o pedido pode ser efetivado ou não\n",
        "    # Testar se a quantidade do pedido é inferior ao estoque do Livro\n",
        "\n",
        "    if (self._quant <= self.livro().getEstoque()):\n",
        "      resto = self.livro().getEstoque() - self._quant\n",
        "      self.livro().atualizaEstoque(resto)\n",
        "      return True\n",
        "    return False"
      ],
      "execution_count": null,
      "outputs": []
    },
    {
      "cell_type": "code",
      "metadata": {
        "id": "_3QhTCqntz40",
        "colab": {
          "base_uri": "https://localhost:8080/"
        },
        "outputId": "c8bc55f7-d59a-48ac-d870-fbd8f7027e5f"
      },
      "source": [
        "p = Pedido(maria, l1, 2)\n",
        "print(p.total())"
      ],
      "execution_count": null,
      "outputs": [
        {
          "output_type": "stream",
          "text": [
            "31.0\n"
          ],
          "name": "stdout"
        }
      ]
    },
    {
      "cell_type": "code",
      "metadata": {
        "colab": {
          "base_uri": "https://localhost:8080/"
        },
        "id": "ODgRUjm0RUJz",
        "outputId": "0f9f4eef-f86e-435a-dd1f-51b4f8a9ab8b"
      },
      "source": [
        "print(l1.getEstoque())\n",
        "p.efetiva()\n",
        "print(l1.getEstoque())"
      ],
      "execution_count": null,
      "outputs": [
        {
          "output_type": "stream",
          "text": [
            "10\n",
            "8\n"
          ],
          "name": "stdout"
        }
      ]
    },
    {
      "cell_type": "code",
      "metadata": {
        "id": "JjrzhwB8StTK"
      },
      "source": [
        "c = Cliente('ze', '222', 40)"
      ],
      "execution_count": null,
      "outputs": []
    },
    {
      "cell_type": "code",
      "metadata": {
        "id": "2lDtdov-S5xR"
      },
      "source": [
        "p2 = Pedido(c, l1, 4)"
      ],
      "execution_count": null,
      "outputs": []
    },
    {
      "cell_type": "code",
      "metadata": {
        "colab": {
          "base_uri": "https://localhost:8080/"
        },
        "id": "ToG_Yuk4TEMR",
        "outputId": "cfe21c7b-7c0c-4e47-f4a4-2c56e5576708"
      },
      "source": [
        "print(l1.getEstoque())\n",
        "efetivou = p2.efetiva()\n",
        "print(efetivou)\n",
        "print(l1.getEstoque())"
      ],
      "execution_count": null,
      "outputs": [
        {
          "output_type": "stream",
          "text": [
            "8\n",
            "True\n",
            "4\n"
          ],
          "name": "stdout"
        }
      ]
    },
    {
      "cell_type": "code",
      "metadata": {
        "id": "co-dAthCTeaj"
      },
      "source": [
        "c3 = Cliente('Suzana', '444', 18)\n",
        "p3 = Pedido(c3, l1, 8)"
      ],
      "execution_count": null,
      "outputs": []
    },
    {
      "cell_type": "code",
      "metadata": {
        "colab": {
          "base_uri": "https://localhost:8080/"
        },
        "id": "WzkL7p0JTrA3",
        "outputId": "c7adbf91-6385-438d-f255-211076d556fe"
      },
      "source": [
        "print(l1.getEstoque())\n",
        "efetivou = p3.efetiva()\n",
        "print(efetivou)\n",
        "print(l1.getEstoque())"
      ],
      "execution_count": null,
      "outputs": [
        {
          "output_type": "stream",
          "text": [
            "4\n",
            "False\n",
            "4\n"
          ],
          "name": "stdout"
        }
      ]
    },
    {
      "cell_type": "code",
      "metadata": {
        "colab": {
          "base_uri": "https://localhost:8080/"
        },
        "id": "TZmhMWQDt-ky",
        "outputId": "8850e870-ed92-4822-eba1-f17dddbcee63"
      },
      "source": [
        "print(p)"
      ],
      "execution_count": null,
      "outputs": [
        {
          "output_type": "stream",
          "text": [
            "<__main__.Pedido object at 0x7f90d45995d0>\n"
          ],
          "name": "stdout"
        }
      ]
    },
    {
      "cell_type": "code",
      "metadata": {
        "colab": {
          "base_uri": "https://localhost:8080/"
        },
        "id": "Iff9YGLYuEmW",
        "outputId": "818f995c-4154-4a1a-c752-aa9e84d2390f"
      },
      "source": [
        "print(p.quemFez().getNome().upper())"
      ],
      "execution_count": null,
      "outputs": [
        {
          "output_type": "stream",
          "text": [
            "MARIA\n"
          ],
          "name": "stdout"
        }
      ]
    },
    {
      "cell_type": "code",
      "metadata": {
        "colab": {
          "base_uri": "https://localhost:8080/"
        },
        "id": "1nh05pHxuWpS",
        "outputId": "6f51c5be-9c93-4cf1-8369-59af4e66832d"
      },
      "source": [
        "print(maria)"
      ],
      "execution_count": null,
      "outputs": [
        {
          "output_type": "stream",
          "text": [
            "<__main__.Cliente object at 0x7f90d452c5d0>\n"
          ],
          "name": "stdout"
        }
      ]
    }
  ]
}