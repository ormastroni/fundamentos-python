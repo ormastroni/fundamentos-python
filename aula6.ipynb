{
  "cells": [
    {
      "cell_type": "markdown",
      "metadata": {
        "colab_type": "text",
        "id": "view-in-github"
      },
      "source": [
        "<a href=\"https://colab.research.google.com/github/ormastroni/fundamentos-python/blob/main/aula6.ipynb\" target=\"_parent\"><img src=\"https://colab.research.google.com/assets/colab-badge.svg\" alt=\"Open In Colab\"/></a>"
      ]
    },
    {
      "cell_type": "markdown",
      "metadata": {
        "id": "jgXVzv66R8uD"
      },
      "source": [
        "# Fundamentos de Desenvolvimento Python"
      ]
    },
    {
      "cell_type": "markdown",
      "metadata": {
        "id": "XMol0EmtSFXZ"
      },
      "source": [
        "## Prof. Andre Victor"
      ]
    },
    {
      "cell_type": "markdown",
      "metadata": {
        "id": "2V5ItdPtSJ-5"
      },
      "source": [
        "### Orientação a objetos: Classes"
      ]
    },
    {
      "cell_type": "markdown",
      "metadata": {
        "id": "7GKMA39fTuk7"
      },
      "source": [
        "Classe: É uma definição que encapsula uma implementação para um problema específico e oferece uma interface ao mundo exterior para que seja utilizada na instanciação de objetos.\n",
        "\n",
        "Reúne a definição de variáveis e métodos de acesso na mesma estrutura de dados"
      ]
    },
    {
      "cell_type": "code",
      "execution_count": 1,
      "metadata": {
        "id": "RSRJM1RHR4om"
      },
      "outputs": [],
      "source": [
        "class Carro:\n",
        "  num_portas = 2\n",
        "  cor = 'Vermelho'"
      ]
    },
    {
      "cell_type": "code",
      "execution_count": 2,
      "metadata": {
        "colab": {
          "base_uri": "https://localhost:8080/"
        },
        "id": "FanLsX4TUgGa",
        "outputId": "b63fac3e-4f32-4ac8-b685-0bf64bc51049"
      },
      "outputs": [
        {
          "name": "stdout",
          "output_type": "stream",
          "text": [
            "2\n",
            "Vermelho\n"
          ]
        }
      ],
      "source": [
        "fusca = Carro()\n",
        "print(fusca.num_portas)\n",
        "print(fusca.cor)"
      ]
    },
    {
      "cell_type": "code",
      "execution_count": 3,
      "metadata": {
        "colab": {
          "base_uri": "https://localhost:8080/"
        },
        "id": "Goc0kKsEH0WK",
        "outputId": "d5b450a5-e70b-4b78-f83c-f3e34d846e41"
      },
      "outputs": [
        {
          "data": {
            "text/plain": [
              "__main__.Carro"
            ]
          },
          "execution_count": 3,
          "metadata": {},
          "output_type": "execute_result"
        }
      ],
      "source": [
        "type(fusca)"
      ]
    },
    {
      "cell_type": "markdown",
      "metadata": {
        "id": "zDp-KTwbVm40"
      },
      "source": [
        "Notem que a classe Carro define duas variáveis (variáveis de classe) que podem ser manipuladas por objetos da classe. Elas definem um estado default para qualquer objeto carro"
      ]
    },
    {
      "cell_type": "code",
      "execution_count": 4,
      "metadata": {
        "colab": {
          "base_uri": "https://localhost:8080/"
        },
        "id": "8c5RecYZUrU1",
        "outputId": "f8bb6958-82a3-4101-df76-7756b78f8536"
      },
      "outputs": [
        {
          "name": "stdout",
          "output_type": "stream",
          "text": [
            "2\n",
            "Vermelho\n"
          ]
        }
      ],
      "source": [
        "opala = Carro()\n",
        "print(opala.num_portas)\n",
        "print(opala.cor)"
      ]
    },
    {
      "cell_type": "code",
      "execution_count": 5,
      "metadata": {
        "colab": {
          "base_uri": "https://localhost:8080/"
        },
        "id": "U4783EvWZZZd",
        "outputId": "e7f7d360-e102-4a85-eaf7-dc97bfc4fd37"
      },
      "outputs": [
        {
          "name": "stdout",
          "output_type": "stream",
          "text": [
            "4\n",
            "Verde\n",
            "<__main__.Carro object at 0x7fdc70058290>\n"
          ]
        }
      ],
      "source": [
        "opala.num_portas = 4\n",
        "opala.cor = 'Verde'\n",
        "print(opala.num_portas)\n",
        "print(opala.cor)\n",
        "print(opala)"
      ]
    },
    {
      "cell_type": "markdown",
      "metadata": {
        "id": "4ZlHwYRAY5fK"
      },
      "source": [
        "No exemplo apresentado, estas variáveis foram consideradas variáveis de classe porque elas podem ser acessadas mesmo sem um objeto carro instanciado. Uma variável de classe define um estado default para a classe e todos os objetos instanciados daquela classe assumem este valor por default"
      ]
    },
    {
      "cell_type": "code",
      "execution_count": 6,
      "metadata": {
        "colab": {
          "base_uri": "https://localhost:8080/"
        },
        "id": "KG6dUEGTY0CZ",
        "outputId": "4f8e8cc6-2aa9-4800-f79c-d51123e06c1f"
      },
      "outputs": [
        {
          "name": "stdout",
          "output_type": "stream",
          "text": [
            "2\n",
            "Vermelho\n"
          ]
        }
      ],
      "source": [
        "print(Carro.num_portas)\n",
        "print(Carro.cor)"
      ]
    },
    {
      "cell_type": "code",
      "execution_count": 7,
      "metadata": {
        "id": "kS2G3hrGa9Rj"
      },
      "outputs": [],
      "source": [
        "Carro.num_portas = 3"
      ]
    },
    {
      "cell_type": "code",
      "execution_count": 8,
      "metadata": {
        "colab": {
          "base_uri": "https://localhost:8080/"
        },
        "id": "qozm29hwbAyv",
        "outputId": "100e4af3-347a-4ded-bebb-44fbbc83f24d"
      },
      "outputs": [
        {
          "name": "stdout",
          "output_type": "stream",
          "text": [
            "3\n",
            "Vermelho\n"
          ]
        }
      ],
      "source": [
        "uno = Carro()\n",
        "print(uno.num_portas)\n",
        "print(uno.cor)"
      ]
    },
    {
      "cell_type": "code",
      "execution_count": 9,
      "metadata": {
        "colab": {
          "base_uri": "https://localhost:8080/"
        },
        "id": "kVF84yQIcXWn",
        "outputId": "d9d9e8ac-3017-4dbc-9d68-ed58072b9d22"
      },
      "outputs": [
        {
          "name": "stdout",
          "output_type": "stream",
          "text": [
            "Azul\n",
            "Vermelho\n"
          ]
        }
      ],
      "source": [
        "uno.cor = 'Azul'\n",
        "print(uno.cor)\n",
        "print(Carro.cor)"
      ]
    },
    {
      "cell_type": "markdown",
      "metadata": {
        "id": "Xm1bgJ6Hf4Y4"
      },
      "source": [
        "### Membros de classe"
      ]
    },
    {
      "cell_type": "markdown",
      "metadata": {
        "id": "MZqno138bkiF"
      },
      "source": [
        "Para definir variáveis de instâncias, isto é, variáveis que só podem ser manipuladas a partir de uma instância criada, precisamos encapsular as variáveis em algum método e atribui-las como propriedades do objeto **self**.\n",
        "\n",
        "O objeto **self** sempre se referencia ao objeto que fez a chamada do método.\n",
        "\n",
        "É importante ressaltar que uma classe pode ser definida por variáveis (propriedades) e funções (métodos). Chamamos as propriedades e métodos de uma classe de **membros** da classe"
      ]
    },
    {
      "cell_type": "code",
      "execution_count": 10,
      "metadata": {
        "id": "7dkE1mBEbiru"
      },
      "outputs": [],
      "source": [
        "class Bicicleta:\n",
        "\n",
        "  def monta(self):\n",
        "    self.aro = 29\n",
        "    self.cor = 'Vermelho'\n",
        "    self.montada = True\n",
        "\n",
        "  def desmonta(self):\n",
        "    self.montada = False\n"
      ]
    },
    {
      "cell_type": "code",
      "execution_count": 11,
      "metadata": {
        "id": "GfObxBBAeNY0"
      },
      "outputs": [],
      "source": [
        "b1 = Bicicleta()"
      ]
    },
    {
      "cell_type": "code",
      "execution_count": 12,
      "metadata": {
        "colab": {
          "base_uri": "https://localhost:8080/"
        },
        "id": "6paNUfHEMatW",
        "outputId": "f8b984c0-ed1b-4194-d2e3-b78dc4c25bb3"
      },
      "outputs": [
        {
          "name": "stdout",
          "output_type": "stream",
          "text": [
            "<__main__.Bicicleta object at 0x7fdc7692ff10>\n"
          ]
        }
      ],
      "source": [
        "print(b1)"
      ]
    },
    {
      "cell_type": "markdown",
      "metadata": {
        "id": "UJ55SevlfKe_"
      },
      "source": [
        "**aro**, **cor** e **montada** são propriedades da classe Bicicleta\n",
        "\n",
        "monta() e desmonta() são métodos da classe Bicicleta\n",
        "\n",
        "Todos são considerados membros da classe Bicicleta"
      ]
    },
    {
      "cell_type": "code",
      "execution_count": 13,
      "metadata": {
        "colab": {
          "base_uri": "https://localhost:8080/",
          "height": 171
        },
        "id": "RlDpTks_eUKI",
        "outputId": "ba0c2a75-825b-4932-d446-f6e101fe587c"
      },
      "outputs": [
        {
          "ename": "AttributeError",
          "evalue": "ignored",
          "output_type": "error",
          "traceback": [
            "\u001b[0;31m---------------------------------------------------------------------------\u001b[0m",
            "\u001b[0;31mAttributeError\u001b[0m                            Traceback (most recent call last)",
            "\u001b[0;32m<ipython-input-13-39a75a98c9f2>\u001b[0m in \u001b[0;36m<module>\u001b[0;34m()\u001b[0m\n\u001b[0;32m----> 1\u001b[0;31m \u001b[0mb1\u001b[0m\u001b[0;34m.\u001b[0m\u001b[0mmontada\u001b[0m\u001b[0;34m\u001b[0m\u001b[0;34m\u001b[0m\u001b[0m\n\u001b[0m",
            "\u001b[0;31mAttributeError\u001b[0m: 'Bicicleta' object has no attribute 'montada'"
          ]
        }
      ],
      "source": [
        "b1.montada"
      ]
    },
    {
      "cell_type": "code",
      "execution_count": 14,
      "metadata": {
        "id": "_ayZlvAIeXPQ"
      },
      "outputs": [],
      "source": [
        "b1.monta()"
      ]
    },
    {
      "cell_type": "code",
      "execution_count": 15,
      "metadata": {
        "colab": {
          "base_uri": "https://localhost:8080/"
        },
        "id": "mgsT9eg3ea2m",
        "outputId": "37c9af1d-27bb-4148-820c-457bf0b026b7"
      },
      "outputs": [
        {
          "data": {
            "text/plain": [
              "True"
            ]
          },
          "execution_count": 15,
          "metadata": {},
          "output_type": "execute_result"
        }
      ],
      "source": [
        "b1.montada"
      ]
    },
    {
      "cell_type": "code",
      "execution_count": 16,
      "metadata": {
        "colab": {
          "base_uri": "https://localhost:8080/"
        },
        "id": "GLPTR4xWejFt",
        "outputId": "222f73a9-ef0c-4529-8d40-b01f27c5bad4"
      },
      "outputs": [
        {
          "name": "stdout",
          "output_type": "stream",
          "text": [
            "29\n",
            "Vermelho\n"
          ]
        }
      ],
      "source": [
        "print(b1.aro)\n",
        "print(b1.cor)"
      ]
    },
    {
      "cell_type": "code",
      "execution_count": 17,
      "metadata": {
        "id": "uEDmBcYBeqUt"
      },
      "outputs": [],
      "source": [
        "b2 = Bicicleta()"
      ]
    },
    {
      "cell_type": "code",
      "execution_count": 18,
      "metadata": {
        "colab": {
          "base_uri": "https://localhost:8080/",
          "height": 189
        },
        "id": "aBlhYPGOezdI",
        "outputId": "2f3fd758-36bc-4089-861c-20cde94185b7"
      },
      "outputs": [
        {
          "ename": "AttributeError",
          "evalue": "ignored",
          "output_type": "error",
          "traceback": [
            "\u001b[0;31m---------------------------------------------------------------------------\u001b[0m",
            "\u001b[0;31mAttributeError\u001b[0m                            Traceback (most recent call last)",
            "\u001b[0;32m<ipython-input-18-47645db8c498>\u001b[0m in \u001b[0;36m<module>\u001b[0;34m()\u001b[0m\n\u001b[0;32m----> 1\u001b[0;31m \u001b[0mprint\u001b[0m\u001b[0;34m(\u001b[0m\u001b[0mb2\u001b[0m\u001b[0;34m.\u001b[0m\u001b[0maro\u001b[0m\u001b[0;34m)\u001b[0m\u001b[0;34m\u001b[0m\u001b[0;34m\u001b[0m\u001b[0m\n\u001b[0m\u001b[1;32m      2\u001b[0m \u001b[0mprint\u001b[0m\u001b[0;34m(\u001b[0m\u001b[0mb2\u001b[0m\u001b[0;34m.\u001b[0m\u001b[0mcor\u001b[0m\u001b[0;34m)\u001b[0m\u001b[0;34m\u001b[0m\u001b[0;34m\u001b[0m\u001b[0m\n",
            "\u001b[0;31mAttributeError\u001b[0m: 'Bicicleta' object has no attribute 'aro'"
          ]
        }
      ],
      "source": [
        "print(b2.aro)\n",
        "print(b2.cor)"
      ]
    },
    {
      "cell_type": "code",
      "execution_count": 19,
      "metadata": {
        "colab": {
          "base_uri": "https://localhost:8080/"
        },
        "id": "1C9gRJ58e21_",
        "outputId": "fe01c983-73e8-4087-98db-08a446b4cebd"
      },
      "outputs": [
        {
          "name": "stdout",
          "output_type": "stream",
          "text": [
            "29\n",
            "Vermelho\n",
            "False\n"
          ]
        }
      ],
      "source": [
        "b2.monta()\n",
        "b2.desmonta()\n",
        "print(b2.aro)\n",
        "print(b2.cor)\n",
        "print(b2.montada)"
      ]
    },
    {
      "cell_type": "code",
      "execution_count": 20,
      "metadata": {
        "colab": {
          "base_uri": "https://localhost:8080/"
        },
        "id": "KbACz4N6Sqvm",
        "outputId": "8fc0d81f-62da-43df-9517-983428d3959d"
      },
      "outputs": [
        {
          "data": {
            "text/plain": [
              "<__main__.Bicicleta at 0x7fdc73ab1e50>"
            ]
          },
          "execution_count": 20,
          "metadata": {},
          "output_type": "execute_result"
        }
      ],
      "source": [
        "b2"
      ]
    },
    {
      "cell_type": "markdown",
      "metadata": {
        "id": "lqFX9qkagH1Z"
      },
      "source": [
        "### Visibilidade de membros"
      ]
    },
    {
      "cell_type": "markdown",
      "metadata": {
        "id": "USfbud06gk2W"
      },
      "source": [
        "Nos exemplos anteriores das classes Carro e Bicicleta, utilizamos todos os membros de classe como públicos.\n",
        "\n",
        "Esta não é uma boa prática porque viola o princípio do **encapsulamento**. Idealmente, propriedades de uma classe representam aspectos de como uma classe é implementada e devem ser escondidas do programador (da sua interface pública). \n",
        "\n",
        "Por isso, recomenda-se definir as propriedades de uma classe como membros **privados** de uma classe, isto é, apenas as funções da própria classe é que podem acessá-los e modificá-los. A manipulação e atualização dos valores de uma propriedade (estado do objeto) devem ser realizados através dos métodos de sua interface, e não acessando-os diretamente pelo objeto instanciado.\n",
        "\n",
        "Entretanto, a linguagem Python não tem um modificador de visibilidade para suas propriedades como existem em linguagens como Java e C++. O que existe é uma convenção "
      ]
    },
    {
      "cell_type": "markdown",
      "metadata": {
        "id": "V51LAq_ehYcc"
      },
      "source": [
        "Para definir uma propriedade como privada, o nome do seu identificador deve ser iniciado por _"
      ]
    },
    {
      "cell_type": "code",
      "execution_count": 35,
      "metadata": {
        "id": "lCX3QRNwh2Hv"
      },
      "outputs": [],
      "source": [
        "class Patinete:\n",
        "  \n",
        "  def __init__(self):\n",
        "    self.__num_rodas = 2\n",
        "    self.__tamanho = 1.5\n",
        "    self.__montado = False\n",
        "\n",
        "  def monta(self):\n",
        "    self.__montado = True\n",
        "\n",
        "  def desmonta(self):\n",
        "    self.__montado = False\n",
        "\n",
        "  def getTamanho(self):\n",
        "    return self.__tamanho\n",
        "\n",
        "  def getNumRodas(self):\n",
        "    return self.__num_rodas\n"
      ]
    },
    {
      "cell_type": "code",
      "execution_count": 39,
      "metadata": {
        "colab": {
          "base_uri": "https://localhost:8080/"
        },
        "id": "WSD9fnS7ii8c",
        "outputId": "dbd3547c-cbbf-4969-8baa-c0bf6c5317c0"
      },
      "outputs": [
        {
          "name": "stdout",
          "output_type": "stream",
          "text": [
            "<__main__.Patinete object at 0x7fdc6ff88410>\n",
            "2\n",
            "2\n"
          ]
        }
      ],
      "source": [
        "p1 = Patinete()\n",
        "print(p1)\n",
        "print(p1.getNumRodas())\n",
        "print(p1._Patinete__num_rodas)\n",
        "p1.monta()"
      ]
    },
    {
      "cell_type": "code",
      "execution_count": null,
      "metadata": {
        "colab": {
          "base_uri": "https://localhost:8080/"
        },
        "id": "jvThltTCR1AN",
        "outputId": "ebfb4cdf-4f39-4908-f465-2f83b4ce1949"
      },
      "outputs": [
        {
          "name": "stdout",
          "output_type": "stream",
          "text": [
            "<__main__.Patinete object at 0x7f90d462ed90>\n"
          ]
        }
      ],
      "source": [
        "print(p1)"
      ]
    },
    {
      "cell_type": "code",
      "execution_count": null,
      "metadata": {
        "colab": {
          "base_uri": "https://localhost:8080/"
        },
        "id": "NCOivZ3riorz",
        "outputId": "09a3e08f-41d7-4a94-e261-9318f9e078e5"
      },
      "outputs": [
        {
          "name": "stdout",
          "output_type": "stream",
          "text": [
            "3\n",
            "1.5\n"
          ]
        }
      ],
      "source": [
        "# As linhas de código abaixo devem ser evitadas, embora são passíveis de execução\n",
        "p1._num_rodas = 3\n",
        "print(p1._num_rodas)\n",
        "print(p1._tamanho)"
      ]
    },
    {
      "cell_type": "markdown",
      "metadata": {
        "id": "b8ElOaY7mr7d"
      },
      "source": [
        "### Métodos construtores"
      ]
    },
    {
      "cell_type": "markdown",
      "metadata": {
        "id": "KC5yzGsxmwsw"
      },
      "source": [
        "Nos exemplos anteriores com os objetos da classe Carro e Bicicleta inicializamos variáveis de instância no método monta(). Porém, mostramos que houve erro ao criar o objeto e tentar manipular suas propriedades antes de chamar o método monta(), que foi o método utilizado para inicializar as variáveis.\n",
        "\n",
        "Isto acontece porque as propriedades só passaram a existir depois da chamada do método monta().\n",
        "\n",
        "Para resolver esse problema, devemos incializar variáveis de instância no momento que o objeto é instanciado. Para isso, devemos fazê-lo no método construtor, que é um método especial que será chamado toda vez que um objeto for criado"
      ]
    },
    {
      "cell_type": "code",
      "execution_count": null,
      "metadata": {
        "id": "XFjhljRaolTr"
      },
      "outputs": [],
      "source": [
        "class Carro:\n",
        "\n",
        "  def __init__(self, num_portas, cor):\n",
        "    self._num_portas = num_portas\n",
        "    self._cor = cor\n",
        "  \n",
        "  def pintar(self, novaCor):\n",
        "    self._cor = novaCor\n",
        "\n",
        "  def getCor(self):\n",
        "    return self._cor\n",
        "\n",
        "  def getNumPortas(self):\n",
        "    return self._num_portas"
      ]
    },
    {
      "cell_type": "code",
      "execution_count": null,
      "metadata": {
        "id": "WL7B2cA5pSFu"
      },
      "outputs": [],
      "source": [
        "fusca = Carro(2, 'Vermelho')"
      ]
    },
    {
      "cell_type": "code",
      "execution_count": null,
      "metadata": {
        "colab": {
          "base_uri": "https://localhost:8080/"
        },
        "id": "nJzc8B5wpwTe",
        "outputId": "57e0880d-8de7-4182-c977-faa6ed4da6e3"
      },
      "outputs": [
        {
          "name": "stdout",
          "output_type": "stream",
          "text": [
            "Vermelho\n",
            "2\n"
          ]
        }
      ],
      "source": [
        "print(fusca.getCor())\n",
        "print(fusca.getNumPortas())"
      ]
    },
    {
      "cell_type": "code",
      "execution_count": null,
      "metadata": {
        "colab": {
          "base_uri": "https://localhost:8080/"
        },
        "id": "Qjr_jBAdqCbG",
        "outputId": "6a3ed4c2-bb0e-4349-f320-0850f5d802b5"
      },
      "outputs": [
        {
          "name": "stdout",
          "output_type": "stream",
          "text": [
            "Verde\n",
            "4\n"
          ]
        }
      ],
      "source": [
        "opala = Carro(4, 'Verde')\n",
        "print(opala.getCor())\n",
        "print(opala.getNumPortas())"
      ]
    },
    {
      "cell_type": "code",
      "execution_count": null,
      "metadata": {
        "colab": {
          "base_uri": "https://localhost:8080/",
          "height": 197
        },
        "id": "CffuG36srvn2",
        "outputId": "68413b44-f58e-4696-9114-581a22aa8a6a"
      },
      "outputs": [
        {
          "ename": "TypeError",
          "evalue": "ignored",
          "output_type": "error",
          "traceback": [
            "\u001b[0;31m---------------------------------------------------------------------------\u001b[0m",
            "\u001b[0;31mTypeError\u001b[0m                                 Traceback (most recent call last)",
            "\u001b[0;32m<ipython-input-32-92c0f44ffabf>\u001b[0m in \u001b[0;36m<module>\u001b[0;34m()\u001b[0m\n\u001b[0;32m----> 1\u001b[0;31m \u001b[0muno\u001b[0m \u001b[0;34m=\u001b[0m \u001b[0mCarro\u001b[0m\u001b[0;34m(\u001b[0m\u001b[0;34m)\u001b[0m\u001b[0;34m\u001b[0m\u001b[0;34m\u001b[0m\u001b[0m\n\u001b[0m\u001b[1;32m      2\u001b[0m \u001b[0mprint\u001b[0m\u001b[0;34m(\u001b[0m\u001b[0muno\u001b[0m\u001b[0;34m.\u001b[0m\u001b[0mgetCor\u001b[0m\u001b[0;34m(\u001b[0m\u001b[0;34m)\u001b[0m\u001b[0;34m)\u001b[0m\u001b[0;34m\u001b[0m\u001b[0;34m\u001b[0m\u001b[0m\n\u001b[1;32m      3\u001b[0m \u001b[0mprint\u001b[0m\u001b[0;34m(\u001b[0m\u001b[0muno\u001b[0m\u001b[0;34m.\u001b[0m\u001b[0mgetNumPortas\u001b[0m\u001b[0;34m(\u001b[0m\u001b[0;34m)\u001b[0m\u001b[0;34m)\u001b[0m\u001b[0;34m\u001b[0m\u001b[0;34m\u001b[0m\u001b[0m\n",
            "\u001b[0;31mTypeError\u001b[0m: __init__() missing 2 required positional arguments: 'num_portas' and 'cor'"
          ]
        }
      ],
      "source": [
        "uno = Carro()\n",
        "print(uno.getCor())\n",
        "print(uno.getNumPortas())"
      ]
    },
    {
      "cell_type": "markdown",
      "metadata": {
        "id": "yVQ8SK6msUzK"
      },
      "source": [
        "Para resolver esse problema, devemos ter valores default para os parâmetros do construtor ou forçar que toda criação de objetos seja utilizando o construtor definido"
      ]
    },
    {
      "cell_type": "code",
      "execution_count": 27,
      "metadata": {
        "id": "503D0Qj0sSSC"
      },
      "outputs": [],
      "source": [
        "class Carro:\n",
        "\n",
        "  def __init__(self, num_portas=2, cor='Prata'):\n",
        "    self._num_portas = num_portas\n",
        "    self._cor = cor\n",
        "  \n",
        "  def pintar(self, novaCor):\n",
        "    self._cor = novaCor\n",
        "\n",
        "  def getCor(self):\n",
        "    return self._cor\n",
        "\n",
        "  def getNumPortas(self):\n",
        "    return self._num_portas"
      ]
    },
    {
      "cell_type": "code",
      "execution_count": 26,
      "metadata": {
        "colab": {
          "base_uri": "https://localhost:8080/"
        },
        "id": "9bXuCQj2stNS",
        "outputId": "ee6cc3be-c6af-4ae8-d1ed-025adea82eb0"
      },
      "outputs": [
        {
          "name": "stdout",
          "output_type": "stream",
          "text": [
            "Prata\n",
            "2\n"
          ]
        }
      ],
      "source": [
        "uno = Carro(2, 'Prata')\n",
        "print(uno.getCor())\n",
        "print(uno.getNumPortas())"
      ]
    },
    {
      "cell_type": "code",
      "execution_count": 23,
      "metadata": {
        "colab": {
          "base_uri": "https://localhost:8080/"
        },
        "id": "H8cJ65vHxdhc",
        "outputId": "83be23c6-ccb5-43f1-8d93-cda24489fabd"
      },
      "outputs": [
        {
          "name": "stdout",
          "output_type": "stream",
          "text": [
            "Azul\n",
            "4\n"
          ]
        }
      ],
      "source": [
        "sandero = Carro(4, 'Azul')\n",
        "print(sandero.getCor())\n",
        "print(sandero.getNumPortas())"
      ]
    },
    {
      "cell_type": "markdown",
      "metadata": {
        "id": "Q8jjv5zo3zXL"
      },
      "source": [
        "Em Python, todos os tipos de dados são, na verdade, classes que oferecem alguma interface pra gente criar objetos e manipulá-los"
      ]
    },
    {
      "cell_type": "code",
      "execution_count": 40,
      "metadata": {
        "id": "I_FEATAh3-Ki"
      },
      "outputs": [],
      "source": [
        "minha_lista = [2,3,4]"
      ]
    },
    {
      "cell_type": "code",
      "execution_count": 41,
      "metadata": {
        "colab": {
          "base_uri": "https://localhost:8080/"
        },
        "id": "7msnHf-04Bug",
        "outputId": "3b02fdb8-6345-493b-f73a-678466aee34a"
      },
      "outputs": [
        {
          "data": {
            "text/plain": [
              "list"
            ]
          },
          "execution_count": 41,
          "metadata": {},
          "output_type": "execute_result"
        }
      ],
      "source": [
        "type(minha_lista)"
      ]
    },
    {
      "cell_type": "code",
      "execution_count": 42,
      "metadata": {
        "id": "MVFmSvMp4IKb"
      },
      "outputs": [],
      "source": [
        "minha_lista.append(5)"
      ]
    },
    {
      "cell_type": "code",
      "execution_count": 43,
      "metadata": {
        "colab": {
          "base_uri": "https://localhost:8080/"
        },
        "id": "bU1WWR_c4NWs",
        "outputId": "94df3ea9-fb59-44cf-ca87-f5c285702863"
      },
      "outputs": [
        {
          "data": {
            "text/plain": [
              "[2, 3, 4, 5]"
            ]
          },
          "execution_count": 43,
          "metadata": {},
          "output_type": "execute_result"
        }
      ],
      "source": [
        "minha_lista"
      ]
    },
    {
      "cell_type": "code",
      "execution_count": 44,
      "metadata": {
        "id": "xbKnf9Yk4UEu"
      },
      "outputs": [],
      "source": [
        "a = 3"
      ]
    },
    {
      "cell_type": "code",
      "execution_count": 45,
      "metadata": {
        "id": "xWl6apy74XHZ"
      },
      "outputs": [],
      "source": [
        "a = a + 1"
      ]
    },
    {
      "cell_type": "code",
      "execution_count": 46,
      "metadata": {
        "colab": {
          "base_uri": "https://localhost:8080/"
        },
        "id": "Md56cAh64fvL",
        "outputId": "df4e0dbe-d6ba-4f16-cfef-26166791ef4a"
      },
      "outputs": [
        {
          "data": {
            "text/plain": [
              "int"
            ]
          },
          "execution_count": 46,
          "metadata": {},
          "output_type": "execute_result"
        }
      ],
      "source": [
        "type(a)"
      ]
    },
    {
      "cell_type": "markdown",
      "metadata": {
        "id": "1p-zIme4wn65"
      },
      "source": [
        "Exercício: Implemente uma classe que representa o conceito de Pilha visto nas últimas aulas.\n",
        "\n",
        "Dica: utilize uma lista para implementar a pilha, mas esconda sua implementação da interface.\n",
        "\n",
        "Interface:\n",
        "* push(elem): empilha o elem (no topo da pilha)\n",
        "* pop(): desempilha o último elemento empilhado\n",
        "* top(): retorna o último elemento empilhado sem desempilhar\n",
        "* eh_vazia(): retorna True se a pilha está vazia, False caso contrário\n",
        "* len(): retorna quantos elementos foram empilhados\n",
        "* esvazia(): desempilha todos os elementos da pilha"
      ]
    },
    {
      "cell_type": "code",
      "execution_count": 63,
      "metadata": {
        "id": "UBjM7GRGx9Od"
      },
      "outputs": [],
      "source": [
        "class Pilha:\n",
        "  \"\"\" Esta classe vai implementar a abstração de uma pilha utilizando-se uma lista.\n",
        "  Seguem as definições dos métodos: \"\"\"\n",
        "\n",
        "  def __init__(self):\n",
        "    self.__lista = []\n",
        "\n",
        "  def len(self):\n",
        "    return len(self.__lista)\n",
        "\n",
        "  def eh_vazia(self):\n",
        "    return len(self.__lista) == 0 \n",
        "\n",
        "  def push(self, elemento):\n",
        "    self.__lista.append(elemento)\n",
        "  \n",
        "  def top(self):\n",
        "    if self.eh_vazia():\n",
        "      return None\n",
        "    return self.__lista[-1]\n",
        "\n",
        "  def pop(self):\n",
        "    if self.eh_vazia():\n",
        "      return None\n",
        "    return self.__lista.pop()\n",
        "\n",
        "  def __str__(self):\n",
        "    return \"pilha: (\" + str(self.__lista) + \")\""
      ]
    },
    {
      "cell_type": "code",
      "execution_count": 64,
      "metadata": {
        "id": "PBRk9BvrdUEH"
      },
      "outputs": [],
      "source": [
        "p2 = Pilha()\n",
        "p2.push(4)\n",
        "p2.push(5)\n",
        "p2.push(6)"
      ]
    },
    {
      "cell_type": "code",
      "execution_count": 65,
      "metadata": {
        "colab": {
          "base_uri": "https://localhost:8080/"
        },
        "id": "Tia4AH5RdfK3",
        "outputId": "040a52c4-05dd-437f-9081-0f5886aae74c"
      },
      "outputs": [
        {
          "data": {
            "text/plain": [
              "3"
            ]
          },
          "execution_count": 65,
          "metadata": {},
          "output_type": "execute_result"
        }
      ],
      "source": [
        "p2.len()"
      ]
    },
    {
      "cell_type": "code",
      "execution_count": 66,
      "metadata": {
        "colab": {
          "base_uri": "https://localhost:8080/"
        },
        "id": "v8VPocdDBAz8",
        "outputId": "d45add85-c438-41e7-8583-eca8de93244b"
      },
      "outputs": [
        {
          "name": "stdout",
          "output_type": "stream",
          "text": [
            "pilha: ([4, 5, 6])\n"
          ]
        }
      ],
      "source": [
        "print(p2)"
      ]
    },
    {
      "cell_type": "code",
      "execution_count": 50,
      "metadata": {
        "colab": {
          "base_uri": "https://localhost:8080/"
        },
        "id": "mSRD90tRdiY1",
        "outputId": "6d8ad972-ecf2-42fb-9bba-004bec5020d1"
      },
      "outputs": [
        {
          "name": "stdout",
          "output_type": "stream",
          "text": [
            "6\n"
          ]
        }
      ],
      "source": [
        "print(p2.top())"
      ]
    },
    {
      "cell_type": "code",
      "execution_count": 51,
      "metadata": {
        "colab": {
          "base_uri": "https://localhost:8080/"
        },
        "id": "XlZCXqnido4A",
        "outputId": "267a1e70-14d9-416f-8f70-52b7362b7eed"
      },
      "outputs": [
        {
          "data": {
            "text/plain": [
              "6"
            ]
          },
          "execution_count": 51,
          "metadata": {},
          "output_type": "execute_result"
        }
      ],
      "source": [
        "p2.pop()"
      ]
    },
    {
      "cell_type": "code",
      "execution_count": 52,
      "metadata": {
        "colab": {
          "base_uri": "https://localhost:8080/"
        },
        "id": "8oUa1eO9fUhx",
        "outputId": "aba6976a-3898-471a-ed17-08bd206ce47e"
      },
      "outputs": [
        {
          "data": {
            "text/plain": [
              "2"
            ]
          },
          "execution_count": 52,
          "metadata": {},
          "output_type": "execute_result"
        }
      ],
      "source": [
        "p2.len()"
      ]
    },
    {
      "cell_type": "code",
      "execution_count": 53,
      "metadata": {
        "colab": {
          "base_uri": "https://localhost:8080/"
        },
        "id": "81kDCf3__Hhm",
        "outputId": "7e607dbe-566c-4383-e831-faa89040afdb"
      },
      "outputs": [
        {
          "data": {
            "text/plain": [
              "5"
            ]
          },
          "execution_count": 53,
          "metadata": {},
          "output_type": "execute_result"
        }
      ],
      "source": [
        "p2.top()"
      ]
    },
    {
      "cell_type": "code",
      "execution_count": 54,
      "metadata": {
        "colab": {
          "base_uri": "https://localhost:8080/"
        },
        "id": "I9YkNHrLfXQ9",
        "outputId": "b3246b60-19dc-482a-98e9-554de3932e91"
      },
      "outputs": [
        {
          "data": {
            "text/plain": [
              "4"
            ]
          },
          "execution_count": 54,
          "metadata": {},
          "output_type": "execute_result"
        }
      ],
      "source": [
        "p2.pop()\n",
        "p2.pop()"
      ]
    },
    {
      "cell_type": "code",
      "execution_count": 55,
      "metadata": {
        "colab": {
          "base_uri": "https://localhost:8080/"
        },
        "id": "d9dO2vXZfccL",
        "outputId": "898bfc55-39c4-464b-bf0f-01d7d9c95b20"
      },
      "outputs": [
        {
          "data": {
            "text/plain": [
              "True"
            ]
          },
          "execution_count": 55,
          "metadata": {},
          "output_type": "execute_result"
        }
      ],
      "source": [
        "p2.eh_vazia()"
      ]
    },
    {
      "cell_type": "code",
      "execution_count": 56,
      "metadata": {
        "colab": {
          "base_uri": "https://localhost:8080/"
        },
        "id": "aJ9KDyTCfqI_",
        "outputId": "a5c7ea89-d579-4e0e-d2a5-a3c7dc1766a7"
      },
      "outputs": [
        {
          "name": "stdout",
          "output_type": "stream",
          "text": [
            "<__main__.Pilha object at 0x7fdc7004fe50>\n"
          ]
        }
      ],
      "source": [
        "print(p2)"
      ]
    },
    {
      "cell_type": "code",
      "execution_count": 57,
      "metadata": {
        "id": "FTCQB8VI_W9r"
      },
      "outputs": [],
      "source": [
        "p3 = Pilha()"
      ]
    },
    {
      "cell_type": "code",
      "execution_count": 58,
      "metadata": {
        "colab": {
          "base_uri": "https://localhost:8080/"
        },
        "id": "JeZStXQY_bWO",
        "outputId": "7f729d33-3a84-4ca5-debc-83515e9a8306"
      },
      "outputs": [
        {
          "name": "stdout",
          "output_type": "stream",
          "text": [
            "<__main__.Pilha object at 0x7fdc6ff7dc10>\n"
          ]
        }
      ],
      "source": [
        "print(p3)"
      ]
    },
    {
      "cell_type": "code",
      "execution_count": 59,
      "metadata": {
        "colab": {
          "base_uri": "https://localhost:8080/"
        },
        "id": "oAK3397N_m-k",
        "outputId": "1af10203-7d22-4900-cea1-01e90d8e75d4"
      },
      "outputs": [
        {
          "data": {
            "text/plain": [
              "False"
            ]
          },
          "execution_count": 59,
          "metadata": {},
          "output_type": "execute_result"
        }
      ],
      "source": [
        "p2 == p3"
      ]
    },
    {
      "cell_type": "code",
      "execution_count": 60,
      "metadata": {
        "colab": {
          "base_uri": "https://localhost:8080/"
        },
        "id": "gSpfaz7Q_tmY",
        "outputId": "42927882-8fea-4b4e-ec07-f10a4529fb0b"
      },
      "outputs": [
        {
          "data": {
            "text/plain": [
              "[2, 3, 4, 5]"
            ]
          },
          "execution_count": 60,
          "metadata": {},
          "output_type": "execute_result"
        }
      ],
      "source": [
        "minha_lista"
      ]
    },
    {
      "cell_type": "code",
      "execution_count": 62,
      "metadata": {
        "colab": {
          "base_uri": "https://localhost:8080/"
        },
        "id": "mEqw_k6p_4al",
        "outputId": "93009b10-d074-47dd-8c31-f56a49593cea"
      },
      "outputs": [
        {
          "name": "stdout",
          "output_type": "stream",
          "text": [
            "[2, 3, 4, 5]\n"
          ]
        }
      ],
      "source": [
        "print(minha_lista)"
      ]
    },
    {
      "cell_type": "code",
      "execution_count": null,
      "metadata": {
        "id": "T9lr8NJ6hm3I"
      },
      "outputs": [],
      "source": [
        "p2.push(10)"
      ]
    },
    {
      "cell_type": "code",
      "execution_count": null,
      "metadata": {
        "colab": {
          "base_uri": "https://localhost:8080/"
        },
        "id": "9B4m76INhtTq",
        "outputId": "ec02990c-b98c-40ef-ec33-e1f846363059"
      },
      "outputs": [
        {
          "data": {
            "text/plain": [
              "1"
            ]
          },
          "execution_count": 52,
          "metadata": {
            "tags": []
          },
          "output_type": "execute_result"
        }
      ],
      "source": [
        "p2.len()"
      ]
    },
    {
      "cell_type": "code",
      "execution_count": null,
      "metadata": {
        "id": "qLvAXJF0hvM9"
      },
      "outputs": [],
      "source": [
        "p2.push(20)"
      ]
    },
    {
      "cell_type": "code",
      "execution_count": null,
      "metadata": {
        "colab": {
          "base_uri": "https://localhost:8080/",
          "height": 163
        },
        "id": "gv63Y7c-h3Pf",
        "outputId": "63e993a6-5d77-4aa8-e459-53b9c5ff0e1d"
      },
      "outputs": [
        {
          "ename": "TypeError",
          "evalue": "ignored",
          "output_type": "error",
          "traceback": [
            "\u001b[0;31m---------------------------------------------------------------------------\u001b[0m",
            "\u001b[0;31mTypeError\u001b[0m                                 Traceback (most recent call last)",
            "\u001b[0;32m<ipython-input-54-9cc9d2ab56d2>\u001b[0m in \u001b[0;36m<module>\u001b[0;34m()\u001b[0m\n\u001b[0;32m----> 1\u001b[0;31m \u001b[0mp2\u001b[0m\u001b[0;34m[\u001b[0m\u001b[0;36m0\u001b[0m\u001b[0;34m]\u001b[0m\u001b[0;34m\u001b[0m\u001b[0;34m\u001b[0m\u001b[0m\n\u001b[0m",
            "\u001b[0;31mTypeError\u001b[0m: 'Pilha' object is not subscriptable"
          ]
        }
      ],
      "source": [
        "p2[0]"
      ]
    },
    {
      "cell_type": "markdown",
      "metadata": {
        "id": "v3DtAc6zyGhv"
      },
      "source": [
        "Faça o mesmo para o conceito da Fila com a seguinte interface:\n",
        "* enfila(elem): insere o elemento no final da fila\n",
        "* desenfila(): remove o primeiro elemento da fila\n",
        "* tamanho(): retorna quantos elementos estão na fila\n",
        "* eh_vazia(): retorna True se a fila está vazia, False caso contrário\n",
        "* topo(): retorna o primeiro elemento da fila\n",
        "* final(): retorna o último elemento da fila\n",
        "* esvazia(): todos os elementos da fila são removidos"
      ]
    },
    {
      "cell_type": "code",
      "execution_count": null,
      "metadata": {
        "id": "GPk3jl-8yJpo"
      },
      "outputs": [],
      "source": []
    },
    {
      "cell_type": "markdown",
      "metadata": {
        "id": "-6K8vtsQyKk7"
      },
      "source": [
        "### Sobrecarga de operadores"
      ]
    },
    {
      "cell_type": "markdown",
      "metadata": {
        "id": "qnzs4pUbCdhU"
      },
      "source": [
        "Sobrecarga de métodos é uma abordagem da orientação a objetos onde o mesmo método pode ser chamado em diferentes objetos e sua implementação é dependente do tipo de objeto em que ele foi invocado.\n",
        "\n",
        "Alguns bons exemplos de sobrecarga:\n",
        "* len(obj)\n",
        "* print(obj)\n",
        "* a+b\n",
        "* etc."
      ]
    },
    {
      "cell_type": "code",
      "execution_count": 67,
      "metadata": {
        "id": "GxgbwDy3DGUV"
      },
      "outputs": [],
      "source": [
        "class Carro:\n",
        "\n",
        "  def __init__(self, num_portas=2, cor='Prata'):\n",
        "    self._num_portas = num_portas\n",
        "    self._cor = cor\n",
        "  \n",
        "  def __len__ (self):\n",
        "    return self._num_portas\n",
        "\n",
        "  def __str__(self):\n",
        "    return 'portas='+str(len(self))+';cor='+self._cor\n",
        "  \n",
        "  def pintar(self, novaCor):\n",
        "    self._cor = novaCor\n",
        "\n",
        "  def getCor(self):\n",
        "    return self._cor\n",
        "\n",
        "  def getNumPortas(self):\n",
        "    return self._num_portas"
      ]
    },
    {
      "cell_type": "code",
      "execution_count": 68,
      "metadata": {
        "colab": {
          "base_uri": "https://localhost:8080/"
        },
        "id": "7fdGeozMEA3L",
        "outputId": "a0aceaeb-6653-4dc8-8313-b32c73fe545a"
      },
      "outputs": [
        {
          "name": "stdout",
          "output_type": "stream",
          "text": [
            "2\n",
            "portas=2;cor=Prata\n"
          ]
        }
      ],
      "source": [
        "ka = Carro()\n",
        "print(len(ka))\n",
        "print(ka)"
      ]
    },
    {
      "cell_type": "markdown",
      "metadata": {
        "id": "ngfZQvlwB-k3"
      },
      "source": [
        "Exercício: Vamos implementar uma classe Pessoa que deve ter as seguintes propriedades privadas:<br>\n",
        "* Primeiro nome\n",
        "* Sobrenome\n",
        "* idade\n",
        "* email\n",
        "\n",
        "Crie um objeto passando 3 parâmetros:<br>\n",
        "p = Pessoa(\"Andre Victor\", 40, \"andre.vic@\")\n",
        "\n",
        "Ao printar um objeto pessoa:<br>\n",
        "print(p)<br>\n",
        "Andre Victor:40:andre.vic@"
      ]
    },
    {
      "cell_type": "markdown",
      "metadata": {
        "id": "_fBHj3t3KPmq"
      },
      "source": [
        "Exercício\n",
        "\n",
        "Implemente 3 classes referentes a uma aplicação de livraria virtual eletrônico: Cliente, Pedido e Livro\n",
        "\n",
        "* Cliente: todo objeto cliente tem um nome, um cpf e uma idade. Além disso, clientes podem ser classificados como vips por seu histórico de compra\n",
        "\n",
        "* Livro: todo livro tem um ISBN, um título, um autor e um preço. Todo livro tem por default 10 unidades no estoque\n",
        "\n",
        "* Pedido: um pedido tem um código e refere-se à compra de um livro por um cliente. Não existem pedidos sem clientes e livros. O pedido deve conter também a quantidade de unidades do livro a ser comprado. Na interface da classe devem existir 4 métodos: **quemFez()** deve retornar o cliente do pedido, **livro()** deve retornar o livro comprado, **total()** deve retornar o valor do pedido (quantidade do livro * preço do livro) e **efetiva()** que deve retornar True, caso a quantidade de itens em estoque do livro seja suficiente. Neste caso, ao efetivar o pedido, o estoque do livro é atualizado. Caso contrário (não há quantidade disponível no estoque), o método retorna False e o estoque não é atualizado\n",
        "\n",
        "\n",
        "Crie 3 objetos clientes diferentes, 5 objetos de livros diferentes e crie pedidos para os 3 clientes incluindo alguns dos livros. Mostre casos com estoque disponível e casos sem estoque."
      ]
    },
    {
      "cell_type": "code",
      "execution_count": null,
      "metadata": {
        "id": "hA0Hu2iDN5iP"
      },
      "outputs": [],
      "source": [
        "class Cliente:\n",
        "  def __init__(self, nome, cpf, idade):\n",
        "    self._nome = nome\n",
        "    self._cpf = cpf\n",
        "    self._idade = idade\n",
        "    self._vip = False\n",
        "\n",
        "  def getNome(self):\n",
        "    return self._nome\n",
        "\n",
        "  def getCPF(self):\n",
        "    return self._cpf\n",
        "\n",
        "  def getIdade(self):\n",
        "    return self._idade\n",
        "\n",
        "  def eh_vip(self):\n",
        "    return self._vip\n",
        "\n",
        "  def ganha_vip(self):\n",
        "    self._vip = True\n",
        "\n",
        "  def perde_vip(self):\n",
        "    self._vip = False"
      ]
    },
    {
      "cell_type": "code",
      "execution_count": null,
      "metadata": {
        "colab": {
          "base_uri": "https://localhost:8080/"
        },
        "id": "deYfbVfJjbNy",
        "outputId": "0a3f232f-ef4c-4600-dc4c-0cd1611dc440"
      },
      "outputs": [
        {
          "name": "stdout",
          "output_type": "stream",
          "text": [
            "maria\n",
            "20\n",
            "111\n"
          ]
        }
      ],
      "source": [
        "maria = Cliente('maria', '111', 20)\n",
        "print(maria.getNome())\n",
        "print(maria.getIdade())\n",
        "print(maria.getCPF())"
      ]
    },
    {
      "cell_type": "code",
      "execution_count": null,
      "metadata": {
        "id": "u6mB4Z16Krpg"
      },
      "outputs": [],
      "source": [
        "class Livro:\n",
        "\n",
        "  def __init__(self, isbn, titulo, autor, preco=0):\n",
        "    self._isbn = isbn\n",
        "    self._titulo = titulo\n",
        "    self._autor = autor\n",
        "    self._preco = preco\n",
        "    self._estoque = 10\n",
        "\n",
        "  def getTitulo(self):\n",
        "    return self._titulo\n",
        "\n",
        "  def getAutor(self):\n",
        "    return self._autor\n",
        "\n",
        "  def getPreco(self):\n",
        "    return self._preco\n",
        "\n",
        "  def getEstoque(self):\n",
        "    return self._estoque\n",
        "\n",
        "  def atualizaEstoque(self, novo):\n",
        "    self._estoque = novo"
      ]
    },
    {
      "cell_type": "code",
      "execution_count": null,
      "metadata": {
        "id": "WI_OI6x5LpVq"
      },
      "outputs": [],
      "source": [
        "l1 = Livro('111', 'Mestre do Python', 'Ramalho', 15.5)\n",
        "l2 = Livro('222', 'Java Completo', 'Andre', 199.9)\n",
        "l3 = Livro('333', 'Oracle', 'Joao')"
      ]
    },
    {
      "cell_type": "code",
      "execution_count": null,
      "metadata": {
        "colab": {
          "base_uri": "https://localhost:8080/"
        },
        "id": "eEZB3jA2L_ZI",
        "outputId": "0be38aea-f9e9-4fc8-9fc7-9e70a12cd358"
      },
      "outputs": [
        {
          "name": "stdout",
          "output_type": "stream",
          "text": [
            "Mestre do Python\n",
            "15.5\n",
            "Andre\n",
            "10\n",
            "Oracle\n",
            "0\n"
          ]
        }
      ],
      "source": [
        "print(l1.getTitulo())\n",
        "print(l1.getPreco())\n",
        "print(l2.getAutor())\n",
        "print(l2.getEstoque())\n",
        "print(l3.getTitulo())\n",
        "print(l3.getPreco())"
      ]
    },
    {
      "cell_type": "code",
      "execution_count": null,
      "metadata": {
        "id": "LwpMiuaYsdxu"
      },
      "outputs": [],
      "source": [
        "class Pedido:\n",
        "\n",
        "  def __init__(self, cliente, livro, quantidade=1):\n",
        "    self._cliente = cliente\n",
        "    self._livro = livro\n",
        "    self._quant = quantidade\n",
        "\n",
        "  def quemFez(self):\n",
        "    return self._cliente\n",
        "\n",
        "  def livro(self):\n",
        "    return self._livro\n",
        "\n",
        "  def total(self):\n",
        "    preco_livro = self.livro().getPreco()\n",
        "    return self._quant*preco_livro\n",
        "\n",
        "  def efetiva(self):\n",
        "    # Este método validar se o pedido pode ser efetivado ou não\n",
        "    # Testar se a quantidade do pedido é inferior ao estoque do Livro\n",
        "\n",
        "    if (self._quant <= self.livro().getEstoque()):\n",
        "      resto = self.livro().getEstoque() - self._quant\n",
        "      self.livro().atualizaEstoque(resto)\n",
        "      return True\n",
        "    return False"
      ]
    },
    {
      "cell_type": "code",
      "execution_count": null,
      "metadata": {
        "colab": {
          "base_uri": "https://localhost:8080/"
        },
        "id": "_3QhTCqntz40",
        "outputId": "c8bc55f7-d59a-48ac-d870-fbd8f7027e5f"
      },
      "outputs": [
        {
          "name": "stdout",
          "output_type": "stream",
          "text": [
            "31.0\n"
          ]
        }
      ],
      "source": [
        "p = Pedido(maria, l1, 2)\n",
        "print(p.total())"
      ]
    },
    {
      "cell_type": "code",
      "execution_count": null,
      "metadata": {
        "colab": {
          "base_uri": "https://localhost:8080/"
        },
        "id": "ODgRUjm0RUJz",
        "outputId": "0f9f4eef-f86e-435a-dd1f-51b4f8a9ab8b"
      },
      "outputs": [
        {
          "name": "stdout",
          "output_type": "stream",
          "text": [
            "10\n",
            "8\n"
          ]
        }
      ],
      "source": [
        "print(l1.getEstoque())\n",
        "p.efetiva()\n",
        "print(l1.getEstoque())"
      ]
    },
    {
      "cell_type": "code",
      "execution_count": null,
      "metadata": {
        "id": "JjrzhwB8StTK"
      },
      "outputs": [],
      "source": [
        "c = Cliente('ze', '222', 40)"
      ]
    },
    {
      "cell_type": "code",
      "execution_count": null,
      "metadata": {
        "id": "2lDtdov-S5xR"
      },
      "outputs": [],
      "source": [
        "p2 = Pedido(c, l1, 4)"
      ]
    },
    {
      "cell_type": "code",
      "execution_count": null,
      "metadata": {
        "colab": {
          "base_uri": "https://localhost:8080/"
        },
        "id": "ToG_Yuk4TEMR",
        "outputId": "cfe21c7b-7c0c-4e47-f4a4-2c56e5576708"
      },
      "outputs": [
        {
          "name": "stdout",
          "output_type": "stream",
          "text": [
            "8\n",
            "True\n",
            "4\n"
          ]
        }
      ],
      "source": [
        "print(l1.getEstoque())\n",
        "efetivou = p2.efetiva()\n",
        "print(efetivou)\n",
        "print(l1.getEstoque())"
      ]
    },
    {
      "cell_type": "code",
      "execution_count": null,
      "metadata": {
        "id": "co-dAthCTeaj"
      },
      "outputs": [],
      "source": [
        "c3 = Cliente('Suzana', '444', 18)\n",
        "p3 = Pedido(c3, l1, 8)"
      ]
    },
    {
      "cell_type": "code",
      "execution_count": null,
      "metadata": {
        "colab": {
          "base_uri": "https://localhost:8080/"
        },
        "id": "WzkL7p0JTrA3",
        "outputId": "c7adbf91-6385-438d-f255-211076d556fe"
      },
      "outputs": [
        {
          "name": "stdout",
          "output_type": "stream",
          "text": [
            "4\n",
            "False\n",
            "4\n"
          ]
        }
      ],
      "source": [
        "print(l1.getEstoque())\n",
        "efetivou = p3.efetiva()\n",
        "print(efetivou)\n",
        "print(l1.getEstoque())"
      ]
    },
    {
      "cell_type": "code",
      "execution_count": null,
      "metadata": {
        "colab": {
          "base_uri": "https://localhost:8080/"
        },
        "id": "TZmhMWQDt-ky",
        "outputId": "8850e870-ed92-4822-eba1-f17dddbcee63"
      },
      "outputs": [
        {
          "name": "stdout",
          "output_type": "stream",
          "text": [
            "<__main__.Pedido object at 0x7f90d45995d0>\n"
          ]
        }
      ],
      "source": [
        "print(p)"
      ]
    },
    {
      "cell_type": "code",
      "execution_count": null,
      "metadata": {
        "colab": {
          "base_uri": "https://localhost:8080/"
        },
        "id": "Iff9YGLYuEmW",
        "outputId": "818f995c-4154-4a1a-c752-aa9e84d2390f"
      },
      "outputs": [
        {
          "name": "stdout",
          "output_type": "stream",
          "text": [
            "MARIA\n"
          ]
        }
      ],
      "source": [
        "print(p.quemFez().getNome().upper())"
      ]
    },
    {
      "cell_type": "code",
      "execution_count": null,
      "metadata": {
        "colab": {
          "base_uri": "https://localhost:8080/"
        },
        "id": "1nh05pHxuWpS",
        "outputId": "6f51c5be-9c93-4cf1-8369-59af4e66832d"
      },
      "outputs": [
        {
          "name": "stdout",
          "output_type": "stream",
          "text": [
            "<__main__.Cliente object at 0x7f90d452c5d0>\n"
          ]
        }
      ],
      "source": [
        "print(maria)"
      ]
    }
  ],
  "metadata": {
    "colab": {
      "authorship_tag": "ABX9TyPiSb2fqBunF28rKjUTcE8G",
      "include_colab_link": true,
      "name": "aula6.ipynb",
      "provenance": [],
      "toc_visible": true
    },
    "kernelspec": {
      "display_name": "Python 3.8.8 ('base')",
      "language": "python",
      "name": "python3"
    },
    "language_info": {
      "name": "python",
      "version": "3.8.8"
    },
    "vscode": {
      "interpreter": {
        "hash": "c4f92193806e2908606a5f23edd55a5282f2f433b73b1c504507f9256ed9f0b4"
      }
    }
  },
  "nbformat": 4,
  "nbformat_minor": 0
}
