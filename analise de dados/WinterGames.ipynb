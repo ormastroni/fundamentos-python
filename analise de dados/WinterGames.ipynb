{
  "nbformat": 4,
  "nbformat_minor": 0,
  "metadata": {
    "colab": {
      "name": "WinterGames.ipynb",
      "provenance": [],
      "toc_visible": true,
      "authorship_tag": "ABX9TyP/f7CxSY+NT7WV/i2isuFx",
      "include_colab_link": true
    },
    "kernelspec": {
      "name": "python3",
      "display_name": "Python 3"
    },
    "language_info": {
      "name": "python"
    }
  },
  "cells": [
    {
      "cell_type": "markdown",
      "metadata": {
        "id": "view-in-github",
        "colab_type": "text"
      },
      "source": [
        "<a href=\"https://colab.research.google.com/github/ormastroni/fundamentos-python/blob/main/WinterGames.ipynb\" target=\"_parent\"><img src=\"https://colab.research.google.com/assets/colab-badge.svg\" alt=\"Open In Colab\"/></a>"
      ]
    },
    {
      "cell_type": "markdown",
      "metadata": {
        "id": "0oihuikYI8Lb"
      },
      "source": [
        "# Fundamentos de Desenvolvimento Python"
      ]
    },
    {
      "cell_type": "markdown",
      "metadata": {
        "id": "O1nRsxH7JA1r"
      },
      "source": [
        "## prof.: Andre Victor"
      ]
    },
    {
      "cell_type": "markdown",
      "metadata": {
        "id": "62M0CULmJFQI"
      },
      "source": [
        "### Dataset"
      ]
    },
    {
      "cell_type": "markdown",
      "metadata": {
        "id": "PAxkHS_4JTeP"
      },
      "source": [
        "Carregue o dataset **Winter_Olympics_Medals.csv** que contém os resultados das Olimpíadas de Inverno da primeira edição até 2006"
      ]
    },
    {
      "cell_type": "markdown",
      "metadata": {
        "id": "-Wl4Rn0bJqOR"
      },
      "source": [
        "1) Explique quantos atributos têm esse dataset e faça uma breve explicação sobre o conteúdo de cada um"
      ]
    },
    {
      "cell_type": "code",
      "metadata": {
        "id": "s7QJXGE3JZyy",
        "colab": {
          "base_uri": "https://localhost:8080/"
        },
        "outputId": "1781ac03-1572-48d5-db26-c9630fd0aed4"
      },
      "source": [
        "from google.colab import drive\n",
        "drive.mount('/content/drive')"
      ],
      "execution_count": null,
      "outputs": [
        {
          "output_type": "stream",
          "name": "stdout",
          "text": [
            "Mounted at /content/drive\n"
          ]
        }
      ]
    },
    {
      "cell_type": "code",
      "source": [
        "import os\n",
        "os.chdir(\"/content/drive/My Drive/cursos/fundamentos python/shared/datasets\")"
      ],
      "metadata": {
        "id": "bS1FrgSCxK1G"
      },
      "execution_count": null,
      "outputs": []
    },
    {
      "cell_type": "code",
      "source": [
        "!ls"
      ],
      "metadata": {
        "colab": {
          "base_uri": "https://localhost:8080/"
        },
        "id": "gemYw6hUxNj7",
        "outputId": "79ea826e-dfd2-4355-8864-bf2a41bda957"
      },
      "execution_count": null,
      "outputs": [
        {
          "output_type": "stream",
          "name": "stdout",
          "text": [
            "auto-miles-per-gallon.csv  Video_Games_Sales_as_at_22_Dec_2016.csv\n",
            "googleplaystore.csv\t   Winter_Olympics_Medals.csv\n"
          ]
        }
      ]
    },
    {
      "cell_type": "code",
      "source": [
        "import pandas as pd"
      ],
      "metadata": {
        "id": "RIj96u5cxQU5"
      },
      "execution_count": null,
      "outputs": []
    },
    {
      "cell_type": "code",
      "source": [
        "df_jogos = pd.read_csv('Winter_Olympics_Medals.csv')"
      ],
      "metadata": {
        "id": "rVyXpb5jxXmG"
      },
      "execution_count": null,
      "outputs": []
    },
    {
      "cell_type": "code",
      "source": [
        "df_jogos"
      ],
      "metadata": {
        "colab": {
          "base_uri": "https://localhost:8080/",
          "height": 423
        },
        "id": "u9f3HJqwxjGv",
        "outputId": "e6cc2256-e04d-4f17-e4fb-26d8aad638d0"
      },
      "execution_count": null,
      "outputs": [
        {
          "output_type": "execute_result",
          "data": {
            "text/html": [
              "<div>\n",
              "<style scoped>\n",
              "    .dataframe tbody tr th:only-of-type {\n",
              "        vertical-align: middle;\n",
              "    }\n",
              "\n",
              "    .dataframe tbody tr th {\n",
              "        vertical-align: top;\n",
              "    }\n",
              "\n",
              "    .dataframe thead th {\n",
              "        text-align: right;\n",
              "    }\n",
              "</style>\n",
              "<table border=\"1\" class=\"dataframe\">\n",
              "  <thead>\n",
              "    <tr style=\"text-align: right;\">\n",
              "      <th></th>\n",
              "      <th>Year</th>\n",
              "      <th>City</th>\n",
              "      <th>Sport</th>\n",
              "      <th>Discipline</th>\n",
              "      <th>NOC</th>\n",
              "      <th>Event</th>\n",
              "      <th>Event gender</th>\n",
              "      <th>Medal</th>\n",
              "    </tr>\n",
              "  </thead>\n",
              "  <tbody>\n",
              "    <tr>\n",
              "      <th>0</th>\n",
              "      <td>1924</td>\n",
              "      <td>Chamonix</td>\n",
              "      <td>Skating</td>\n",
              "      <td>Figure skating</td>\n",
              "      <td>AUT</td>\n",
              "      <td>individual</td>\n",
              "      <td>M</td>\n",
              "      <td>Silver</td>\n",
              "    </tr>\n",
              "    <tr>\n",
              "      <th>1</th>\n",
              "      <td>1924</td>\n",
              "      <td>Chamonix</td>\n",
              "      <td>Skating</td>\n",
              "      <td>Figure skating</td>\n",
              "      <td>AUT</td>\n",
              "      <td>individual</td>\n",
              "      <td>W</td>\n",
              "      <td>Gold</td>\n",
              "    </tr>\n",
              "    <tr>\n",
              "      <th>2</th>\n",
              "      <td>1924</td>\n",
              "      <td>Chamonix</td>\n",
              "      <td>Skating</td>\n",
              "      <td>Figure skating</td>\n",
              "      <td>AUT</td>\n",
              "      <td>pairs</td>\n",
              "      <td>X</td>\n",
              "      <td>Gold</td>\n",
              "    </tr>\n",
              "    <tr>\n",
              "      <th>3</th>\n",
              "      <td>1924</td>\n",
              "      <td>Chamonix</td>\n",
              "      <td>Bobsleigh</td>\n",
              "      <td>Bobsleigh</td>\n",
              "      <td>BEL</td>\n",
              "      <td>four-man</td>\n",
              "      <td>M</td>\n",
              "      <td>Bronze</td>\n",
              "    </tr>\n",
              "    <tr>\n",
              "      <th>4</th>\n",
              "      <td>1924</td>\n",
              "      <td>Chamonix</td>\n",
              "      <td>Ice Hockey</td>\n",
              "      <td>Ice Hockey</td>\n",
              "      <td>CAN</td>\n",
              "      <td>ice hockey</td>\n",
              "      <td>M</td>\n",
              "      <td>Gold</td>\n",
              "    </tr>\n",
              "    <tr>\n",
              "      <th>...</th>\n",
              "      <td>...</td>\n",
              "      <td>...</td>\n",
              "      <td>...</td>\n",
              "      <td>...</td>\n",
              "      <td>...</td>\n",
              "      <td>...</td>\n",
              "      <td>...</td>\n",
              "      <td>...</td>\n",
              "    </tr>\n",
              "    <tr>\n",
              "      <th>2306</th>\n",
              "      <td>2006</td>\n",
              "      <td>Turin</td>\n",
              "      <td>Skiing</td>\n",
              "      <td>Snowboard</td>\n",
              "      <td>USA</td>\n",
              "      <td>Half-pipe</td>\n",
              "      <td>M</td>\n",
              "      <td>Silver</td>\n",
              "    </tr>\n",
              "    <tr>\n",
              "      <th>2307</th>\n",
              "      <td>2006</td>\n",
              "      <td>Turin</td>\n",
              "      <td>Skiing</td>\n",
              "      <td>Snowboard</td>\n",
              "      <td>USA</td>\n",
              "      <td>Half-pipe</td>\n",
              "      <td>W</td>\n",
              "      <td>Gold</td>\n",
              "    </tr>\n",
              "    <tr>\n",
              "      <th>2308</th>\n",
              "      <td>2006</td>\n",
              "      <td>Turin</td>\n",
              "      <td>Skiing</td>\n",
              "      <td>Snowboard</td>\n",
              "      <td>USA</td>\n",
              "      <td>Half-pipe</td>\n",
              "      <td>W</td>\n",
              "      <td>Silver</td>\n",
              "    </tr>\n",
              "    <tr>\n",
              "      <th>2309</th>\n",
              "      <td>2006</td>\n",
              "      <td>Turin</td>\n",
              "      <td>Skiing</td>\n",
              "      <td>Snowboard</td>\n",
              "      <td>USA</td>\n",
              "      <td>Snowboard Cross</td>\n",
              "      <td>M</td>\n",
              "      <td>Gold</td>\n",
              "    </tr>\n",
              "    <tr>\n",
              "      <th>2310</th>\n",
              "      <td>2006</td>\n",
              "      <td>Turin</td>\n",
              "      <td>Skiing</td>\n",
              "      <td>Snowboard</td>\n",
              "      <td>USA</td>\n",
              "      <td>Snowboard Cross</td>\n",
              "      <td>W</td>\n",
              "      <td>Silver</td>\n",
              "    </tr>\n",
              "  </tbody>\n",
              "</table>\n",
              "<p>2311 rows × 8 columns</p>\n",
              "</div>"
            ],
            "text/plain": [
              "      Year      City       Sport  ...            Event Event gender   Medal\n",
              "0     1924  Chamonix     Skating  ...       individual            M  Silver\n",
              "1     1924  Chamonix     Skating  ...       individual            W    Gold\n",
              "2     1924  Chamonix     Skating  ...            pairs            X    Gold\n",
              "3     1924  Chamonix   Bobsleigh  ...         four-man            M  Bronze\n",
              "4     1924  Chamonix  Ice Hockey  ...       ice hockey            M    Gold\n",
              "...    ...       ...         ...  ...              ...          ...     ...\n",
              "2306  2006     Turin      Skiing  ...        Half-pipe            M  Silver\n",
              "2307  2006     Turin      Skiing  ...        Half-pipe            W    Gold\n",
              "2308  2006     Turin      Skiing  ...        Half-pipe            W  Silver\n",
              "2309  2006     Turin      Skiing  ...  Snowboard Cross            M    Gold\n",
              "2310  2006     Turin      Skiing  ...  Snowboard Cross            W  Silver\n",
              "\n",
              "[2311 rows x 8 columns]"
            ]
          },
          "metadata": {},
          "execution_count": 6
        }
      ]
    },
    {
      "cell_type": "markdown",
      "metadata": {
        "id": "qZSGSnBFKFF9"
      },
      "source": [
        "2) Quantas edições tivemos dos jogos neste dataset?"
      ]
    },
    {
      "cell_type": "code",
      "source": [
        ""
      ],
      "metadata": {
        "id": "WFoobxLCOHnB"
      },
      "execution_count": null,
      "outputs": []
    },
    {
      "cell_type": "markdown",
      "metadata": {
        "id": "kPvccjCeKLWD"
      },
      "source": [
        "3) Qual a última e antepenúltima edição armazenada no dataset?"
      ]
    },
    {
      "cell_type": "code",
      "source": [
        ""
      ],
      "metadata": {
        "id": "hPSfJlEtOKW4"
      },
      "execution_count": null,
      "outputs": []
    },
    {
      "cell_type": "markdown",
      "source": [
        "4) Quantos países tiveram atletas medalhistas desde o início dos jogos ?"
      ],
      "metadata": {
        "id": "8vDRwtPV1XxM"
      }
    },
    {
      "cell_type": "code",
      "source": [
        ""
      ],
      "metadata": {
        "id": "-N0sc5oZ1mIK"
      },
      "execution_count": null,
      "outputs": []
    },
    {
      "cell_type": "markdown",
      "metadata": {
        "id": "V1Fabwt2KfNm"
      },
      "source": [
        "5) Quantos medalhistas tivemos para atletas japoneses (JPN) desde o início dos jogos ? "
      ]
    },
    {
      "cell_type": "code",
      "source": [
        ""
      ],
      "metadata": {
        "id": "w4ckA6h7OMyy"
      },
      "execution_count": null,
      "outputs": []
    },
    {
      "cell_type": "markdown",
      "metadata": {
        "id": "VnOSLahgNdDr"
      },
      "source": [
        "6) Quais são os países que ultrapassaram a marca de mais de 100 medalhas conquistadas ?"
      ]
    },
    {
      "cell_type": "code",
      "metadata": {
        "id": "F6zsXraTN11t"
      },
      "source": [
        ""
      ],
      "execution_count": null,
      "outputs": []
    },
    {
      "cell_type": "markdown",
      "metadata": {
        "id": "3hv-ziQYN2M8"
      },
      "source": [
        "7) Quais são os 3 países com mais medalhas conquistadas desde o início dos jogos ?"
      ]
    },
    {
      "cell_type": "code",
      "metadata": {
        "id": "ACx8ZuQAOJEj"
      },
      "source": [
        ""
      ],
      "execution_count": null,
      "outputs": []
    },
    {
      "cell_type": "markdown",
      "metadata": {
        "id": "ybyQMWXeOKCf"
      },
      "source": [
        "8) Qual a modalidade que rendeu mais medalhas de ouro para os Estados Unidos (USA) ?"
      ]
    },
    {
      "cell_type": "code",
      "metadata": {
        "id": "sDpif7Y1OTFc"
      },
      "source": [
        ""
      ],
      "execution_count": null,
      "outputs": []
    },
    {
      "cell_type": "markdown",
      "metadata": {
        "id": "wOMQ2VbMOatt"
      },
      "source": [
        "9) Qual modalidade rende o maior número médio de medalhas ?"
      ]
    },
    {
      "cell_type": "code",
      "metadata": {
        "id": "8iDRGGzyOfr3"
      },
      "source": [
        ""
      ],
      "execution_count": null,
      "outputs": []
    },
    {
      "cell_type": "markdown",
      "metadata": {
        "id": "UIIPqtG-OgBF"
      },
      "source": [
        "10) Quantas modalidades diferentes existem desde o início dos jogos ?"
      ]
    },
    {
      "cell_type": "code",
      "metadata": {
        "id": "RFLWjYNSPJXx"
      },
      "source": [
        ""
      ],
      "execution_count": null,
      "outputs": []
    },
    {
      "cell_type": "markdown",
      "metadata": {
        "id": "GWtFHY5sPJsF"
      },
      "source": [
        "11) Existem modalidades que ocorreram na primeira edição e deixaram de ocorrer nas edições seguintes?"
      ]
    },
    {
      "cell_type": "code",
      "metadata": {
        "id": "Ug2kEatDQMmN"
      },
      "source": [
        ""
      ],
      "execution_count": null,
      "outputs": []
    },
    {
      "cell_type": "markdown",
      "source": [
        "12) Qual o país com maior número de medalhas de ouro na história dos jogos"
      ],
      "metadata": {
        "id": "rHZ5obQDMud6"
      }
    },
    {
      "cell_type": "code",
      "source": [
        ""
      ],
      "metadata": {
        "id": "z9m6VsppM6Bd"
      },
      "execution_count": null,
      "outputs": []
    },
    {
      "cell_type": "markdown",
      "source": [
        "13) Qual a modalidade que mais rendeu medalhas para o país com maior medalhas de ouro na história dos jogos"
      ],
      "metadata": {
        "id": "7etCbPNk5xSg"
      }
    },
    {
      "cell_type": "code",
      "source": [
        ""
      ],
      "metadata": {
        "id": "9J09qotTMt0h"
      },
      "execution_count": null,
      "outputs": []
    },
    {
      "cell_type": "markdown",
      "source": [
        "14) Qual o país com mais medalhas em provas femininas do que masculinas na história dos jogos ?"
      ],
      "metadata": {
        "id": "2SQYS1_qNAj-"
      }
    },
    {
      "cell_type": "code",
      "source": [
        ""
      ],
      "metadata": {
        "id": "QbCeeZ6tNZxd"
      },
      "execution_count": null,
      "outputs": []
    },
    {
      "cell_type": "markdown",
      "source": [
        "15) Qual a modalidade com maior número de disputas em medalhas?"
      ],
      "metadata": {
        "id": "fO4PFgeiNfPG"
      }
    },
    {
      "cell_type": "code",
      "source": [
        ""
      ],
      "metadata": {
        "id": "56OtOmlxNsB6"
      },
      "execution_count": null,
      "outputs": []
    }
  ]
}