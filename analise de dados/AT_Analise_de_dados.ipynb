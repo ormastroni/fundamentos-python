{
  "nbformat": 4,
  "nbformat_minor": 0,
  "metadata": {
    "colab": {
      "name": "AT-Analise de dados.ipynb",
      "provenance": [],
      "authorship_tag": "ABX9TyOjQ8udjrhIftd+rEn4F+ZA",
      "include_colab_link": true
    },
    "kernelspec": {
      "name": "python3",
      "display_name": "Python 3"
    },
    "language_info": {
      "name": "python"
    }
  },
  "cells": [
    {
      "cell_type": "markdown",
      "metadata": {
        "id": "view-in-github",
        "colab_type": "text"
      },
      "source": [
        "<a href=\"https://colab.research.google.com/github/ormastroni/fundamentos-python/blob/main/AT_Analise_de_dados.ipynb\" target=\"_parent\"><img src=\"https://colab.research.google.com/assets/colab-badge.svg\" alt=\"Open In Colab\"/></a>"
      ]
    },
    {
      "cell_type": "markdown",
      "metadata": {
        "id": "0oihuikYI8Lb"
      },
      "source": [
        "# Fundamentos de Desenvolvimento Python"
      ]
    },
    {
      "cell_type": "markdown",
      "metadata": {
        "id": "O1nRsxH7JA1r"
      },
      "source": [
        "## prof.: Andre Victor"
      ]
    },
    {
      "cell_type": "markdown",
      "metadata": {
        "id": "62M0CULmJFQI"
      },
      "source": [
        "### Análise de dados"
      ]
    },
    {
      "cell_type": "markdown",
      "metadata": {
        "id": "PAxkHS_4JTeP"
      },
      "source": [
        "Carregue o dataset **Video_Games_Sales_as_at_22_Dec_2016.csv** que contém as vendas de games em todo mundo\n",
        "\n",
        "Dataset disponível em https://www.kaggle.com/sidtwr/videogames-sales-dataset?select=Video_Games_Sales_as_at_22_Dec_2016.csv"
      ]
    },
    {
      "cell_type": "markdown",
      "metadata": {
        "id": "-Wl4Rn0bJqOR"
      },
      "source": [
        "1) Explique quantos atributos têm esse dataset e faça uma breve explicação sobre o conteúdo de cada um"
      ]
    },
    {
      "cell_type": "code",
      "metadata": {
        "id": "s7QJXGE3JZyy"
      },
      "source": [
        ""
      ],
      "execution_count": null,
      "outputs": []
    },
    {
      "cell_type": "markdown",
      "metadata": {
        "id": "qZSGSnBFKFF9"
      },
      "source": [
        "2) Quantos games estão disponíveis no dataset ?"
      ]
    },
    {
      "cell_type": "code",
      "metadata": {
        "id": "FZBFrQacHR55"
      },
      "source": [
        ""
      ],
      "execution_count": null,
      "outputs": []
    },
    {
      "cell_type": "markdown",
      "metadata": {
        "id": "kPvccjCeKLWD"
      },
      "source": [
        "3) Existe algum atributo nesse dataset que não está preenchido (valores nulos) ?"
      ]
    },
    {
      "cell_type": "code",
      "metadata": {
        "id": "UHewe4HaKeww"
      },
      "source": [
        ""
      ],
      "execution_count": null,
      "outputs": []
    },
    {
      "cell_type": "markdown",
      "metadata": {
        "id": "V1Fabwt2KfNm"
      },
      "source": [
        "4) Cria 3 séries distintas de valores de vendas: uma para a America do Norte, outra para a Europa e outra para o Japão. Todas indexados pelo nome do game "
      ]
    },
    {
      "cell_type": "code",
      "metadata": {
        "id": "_dqONw1UH8qw"
      },
      "source": [
        ""
      ],
      "execution_count": null,
      "outputs": []
    },
    {
      "cell_type": "markdown",
      "metadata": {
        "id": "VnOSLahgNdDr"
      },
      "source": [
        "5) Converta o atributo Year_of_Release no dataframe para inteiro"
      ]
    },
    {
      "cell_type": "code",
      "metadata": {
        "id": "F6zsXraTN11t"
      },
      "source": [
        ""
      ],
      "execution_count": null,
      "outputs": []
    },
    {
      "cell_type": "markdown",
      "metadata": {
        "id": "3hv-ziQYN2M8"
      },
      "source": [
        "6) Remova as linhas que tenham algum atributo nulo entre os atributos de vendas pelo mundo (considere apenas NA, EU e JP)"
      ]
    },
    {
      "cell_type": "code",
      "metadata": {
        "id": "ACx8ZuQAOJEj"
      },
      "source": [
        ""
      ],
      "execution_count": null,
      "outputs": []
    },
    {
      "cell_type": "markdown",
      "metadata": {
        "id": "ybyQMWXeOKCf"
      },
      "source": [
        "7) Quantos valores distintos existem para cada série ?"
      ]
    },
    {
      "cell_type": "code",
      "metadata": {
        "id": "sDpif7Y1OTFc"
      },
      "source": [
        ""
      ],
      "execution_count": null,
      "outputs": []
    },
    {
      "cell_type": "markdown",
      "metadata": {
        "id": "wOMQ2VbMOatt"
      },
      "source": [
        "8) Qual o game mais vendido na América do Norte ?"
      ]
    },
    {
      "cell_type": "code",
      "metadata": {
        "id": "8iDRGGzyOfr3"
      },
      "source": [
        ""
      ],
      "execution_count": null,
      "outputs": []
    },
    {
      "cell_type": "markdown",
      "metadata": {
        "id": "UIIPqtG-OgBF"
      },
      "source": [
        "9) Qual o game mais vendido na Europa ?"
      ]
    },
    {
      "cell_type": "code",
      "metadata": {
        "id": "RFLWjYNSPJXx"
      },
      "source": [
        ""
      ],
      "execution_count": null,
      "outputs": []
    },
    {
      "cell_type": "markdown",
      "metadata": {
        "id": "GWtFHY5sPJsF"
      },
      "source": [
        "10) Qual o game mais vendido no Japão ?"
      ]
    },
    {
      "cell_type": "code",
      "metadata": {
        "id": "Ug2kEatDQMmN"
      },
      "source": [
        ""
      ],
      "execution_count": null,
      "outputs": []
    },
    {
      "cell_type": "markdown",
      "metadata": {
        "id": "672Rr2t4Qjfi"
      },
      "source": [
        "11) Qual das 3 localidades (America do Norte, Europa e Japão) tem a maior média de games vendida ?"
      ]
    },
    {
      "cell_type": "code",
      "metadata": {
        "id": "s9nB8qUWQoPw"
      },
      "source": [
        ""
      ],
      "execution_count": null,
      "outputs": []
    },
    {
      "cell_type": "markdown",
      "metadata": {
        "id": "WNTeDAJZQM4r"
      },
      "source": [
        "12) Qual o game menos vendido no mundo em números absolutos ?"
      ]
    },
    {
      "cell_type": "code",
      "metadata": {
        "id": "cEduz_GZJaup"
      },
      "source": [
        ""
      ],
      "execution_count": null,
      "outputs": []
    },
    {
      "cell_type": "markdown",
      "metadata": {
        "id": "BY8zUzzKQfcw"
      },
      "source": [
        "13) Separe numa série a parte os 5% de games mais vendidos na NA. Compare a semelhança e diferença com as outras duas localidades"
      ]
    },
    {
      "cell_type": "code",
      "metadata": {
        "id": "8Vx5LfoPVJR6"
      },
      "source": [
        ""
      ],
      "execution_count": null,
      "outputs": []
    },
    {
      "cell_type": "markdown",
      "metadata": {
        "id": "HTICSVmsVJx0"
      },
      "source": [
        "14) Qual a plataforma de games com maior número de games neste dataset?"
      ]
    },
    {
      "cell_type": "code",
      "metadata": {
        "id": "7ATwClWJIceF"
      },
      "source": [
        ""
      ],
      "execution_count": null,
      "outputs": []
    },
    {
      "cell_type": "markdown",
      "metadata": {
        "id": "glAU-1mcKYIM"
      },
      "source": [
        "15) Verifique se as plataformas com maior total de vendas em cada região são as mesmas"
      ]
    },
    {
      "cell_type": "code",
      "metadata": {
        "id": "FSBvJJRmLhCo"
      },
      "source": [
        ""
      ],
      "execution_count": null,
      "outputs": []
    },
    {
      "cell_type": "markdown",
      "metadata": {
        "id": "GopQKjUZLh6r"
      },
      "source": [
        "16) Verifique qual o total de vendas de jogos de Sports no Xbox na América do Norte"
      ]
    },
    {
      "cell_type": "code",
      "metadata": {
        "id": "GI49iIlwMLc0"
      },
      "source": [
        ""
      ],
      "execution_count": null,
      "outputs": []
    }
  ]
}