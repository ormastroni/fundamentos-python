{
  "nbformat": 4,
  "nbformat_minor": 0,
  "metadata": {
    "colab": {
      "name": "aula10.ipynb",
      "provenance": [],
      "collapsed_sections": [
        "_WVSsLJEF1dV",
        "3AXiSy2PKQd2",
        "iXC88l2yO5Zl",
        "V4z_J-M0k4by",
        "-rVVwTge7tJz",
        "MKLzw1tmbViH",
        "BYlOokJ3jCo3",
        "BlOUMfCf7Koy",
        "70E0Wx7u9uAt",
        "CmRePQv297-Y",
        "8LWeEH3D9-wQ",
        "QCKbOWa5-AZu",
        "IdMoLAs9Bx1_",
        "jgwo17dUDawR",
        "aNv9ZDu-_dy8",
        "lJnjUgvzDI2d",
        "ScqN2Xu2JW-1",
        "0G0aK8S1Tu2_",
        "FDiYVGdvB6CL",
        "tV2cSV8jGqHf",
        "OqBI-N68X6Py",
        "zYdv1N9wejLJ",
        "8tu-WbXyvpCE",
        "Od4oEfYCwf_C",
        "DSpK0iUZ0eA4",
        "AFkrf6aL0c_u",
        "kI7G1uVJwiB1",
        "-Cp2PSUkIRFB",
        "gKAVJTZhIZpF",
        "O6-czpTKKf4r"
      ],
      "toc_visible": true,
      "include_colab_link": true
    },
    "kernelspec": {
      "name": "python3",
      "display_name": "Python 3"
    }
  },
  "cells": [
    {
      "cell_type": "markdown",
      "metadata": {
        "id": "view-in-github",
        "colab_type": "text"
      },
      "source": [
        "<a href=\"https://colab.research.google.com/github/ormastroni/fundamentos-python/blob/main/aula10.ipynb\" target=\"_parent\"><img src=\"https://colab.research.google.com/assets/colab-badge.svg\" alt=\"Open In Colab\"/></a>"
      ]
    },
    {
      "cell_type": "markdown",
      "metadata": {
        "id": "axXxL4a-Q6Hp"
      },
      "source": [
        "# Fundamentos de Desenvolvimento Python"
      ]
    },
    {
      "cell_type": "markdown",
      "metadata": {
        "id": "o7FRRoazRAO3"
      },
      "source": [
        "## Prof. Andre Victor"
      ]
    },
    {
      "cell_type": "markdown",
      "metadata": {
        "id": "ZfQi-gU7RE92"
      },
      "source": [
        "### Manipulação de séries a partir de DataFrames\n",
        "\n",
        "Em problemas reais de análises de dados, frequentemente vamos manipular dados oriundos de uma base de dados de empresas, ou de dados disponibilizados na web.\n",
        "\n",
        "Como estamos trabalhando no ambiente do Google Colab, vamos carregar um conjunto de dados (conhecido como dataset) a partir de uma pasta do nosso Google Drive"
      ]
    },
    {
      "cell_type": "code",
      "metadata": {
        "id": "42muvbO2o0em"
      },
      "source": [
        "import pandas as pd"
      ],
      "execution_count": 1,
      "outputs": []
    },
    {
      "cell_type": "markdown",
      "metadata": {
        "id": "5eOjeWMhXDe5"
      },
      "source": [
        "Para utilizar o seu Google Drive na máquina virtual do Google Colab, você precisa primeiro \"montar\" o seu Google Drive no sistema de arquivo da máquina virtual do Google"
      ]
    },
    {
      "cell_type": "code",
      "metadata": {
        "id": "VP_gPfciJNYx",
        "colab": {
          "base_uri": "https://localhost:8080/"
        },
        "outputId": "0140a8d4-7621-41cd-f99c-f50936f63e41"
      },
      "source": [
        "from google.colab import drive\n",
        "drive.mount('/content/drive')"
      ],
      "execution_count": 2,
      "outputs": [
        {
          "output_type": "stream",
          "name": "stdout",
          "text": [
            "Go to this URL in a browser: https://accounts.google.com/o/oauth2/auth?client_id=947318989803-6bn6qk8qdgf4n4g3pfee6491hc0brc4i.apps.googleusercontent.com&redirect_uri=urn%3aietf%3awg%3aoauth%3a2.0%3aoob&scope=email%20https%3a%2f%2fwww.googleapis.com%2fauth%2fdocs.test%20https%3a%2f%2fwww.googleapis.com%2fauth%2fdrive%20https%3a%2f%2fwww.googleapis.com%2fauth%2fdrive.photos.readonly%20https%3a%2f%2fwww.googleapis.com%2fauth%2fpeopleapi.readonly%20https%3a%2f%2fwww.googleapis.com%2fauth%2fdrive.activity.readonly%20https%3a%2f%2fwww.googleapis.com%2fauth%2fexperimentsandconfigs%20https%3a%2f%2fwww.googleapis.com%2fauth%2fphotos.native&response_type=code\n",
            "\n",
            "Enter your authorization code:\n",
            "4/1AX4XfWijpModzAu416XzLy6c7fkCIcE2sHqEZdNekUnPm7DtqhyZhRrrXEw\n",
            "Mounted at /content/drive\n"
          ]
        }
      ]
    },
    {
      "cell_type": "code",
      "metadata": {
        "colab": {
          "base_uri": "https://localhost:8080/"
        },
        "id": "t34KZBYn3_hz",
        "outputId": "916ae350-5fb0-4316-fec4-b23c421ccee7"
      },
      "source": [
        "!ls -la"
      ],
      "execution_count": 4,
      "outputs": [
        {
          "output_type": "stream",
          "name": "stdout",
          "text": [
            "total 20\n",
            "drwxr-xr-x 1 root root 4096 Nov 23 00:50 .\n",
            "drwxr-xr-x 1 root root 4096 Nov 23 00:37 ..\n",
            "drwxr-xr-x 4 root root 4096 Nov 18 14:35 .config\n",
            "drwx------ 6 root root 4096 Nov 23 00:50 drive\n",
            "drwxr-xr-x 1 root root 4096 Nov 18 14:36 sample_data\n"
          ]
        }
      ]
    },
    {
      "cell_type": "code",
      "metadata": {
        "id": "3vgkHX8sJsQy"
      },
      "source": [
        "import os\n",
        "os.chdir(\"/content/drive/My Drive/cursos/fundamentos python/curso velho/datasets\")"
      ],
      "execution_count": 5,
      "outputs": []
    },
    {
      "cell_type": "code",
      "metadata": {
        "id": "DwOoYINZJt15",
        "colab": {
          "base_uri": "https://localhost:8080/"
        },
        "outputId": "69c46f0e-a56d-4ff0-b9df-514e3beda61c"
      },
      "source": [
        "!ls -la"
      ],
      "execution_count": 6,
      "outputs": [
        {
          "output_type": "stream",
          "name": "stdout",
          "text": [
            "total 2926\n",
            "-rw------- 1 root root   17294 Jun  2 01:39 auto-miles-per-gallon.csv\n",
            "-rw------- 1 root root 1360155 Jun  8 23:41 googleplaystore.csv\n",
            "-rw------- 1 root root 1618040 Jun 13 20:54 Video_Games_Sales_as_at_22_Dec_2016.csv\n"
          ]
        }
      ]
    },
    {
      "cell_type": "code",
      "metadata": {
        "colab": {
          "base_uri": "https://localhost:8080/",
          "height": 424
        },
        "id": "cfjyJtEpTu-O",
        "outputId": "1762f1f9-51e3-4fac-b96b-99302717a69f"
      },
      "source": [
        "pd.read_csv('auto-miles-per-gallon.csv')"
      ],
      "execution_count": 7,
      "outputs": [
        {
          "output_type": "execute_result",
          "data": {
            "text/html": [
              "<div>\n",
              "<style scoped>\n",
              "    .dataframe tbody tr th:only-of-type {\n",
              "        vertical-align: middle;\n",
              "    }\n",
              "\n",
              "    .dataframe tbody tr th {\n",
              "        vertical-align: top;\n",
              "    }\n",
              "\n",
              "    .dataframe thead th {\n",
              "        text-align: right;\n",
              "    }\n",
              "</style>\n",
              "<table border=\"1\" class=\"dataframe\">\n",
              "  <thead>\n",
              "    <tr style=\"text-align: right;\">\n",
              "      <th></th>\n",
              "      <th>MPG</th>\n",
              "      <th>CYLINDERS</th>\n",
              "      <th>DISPLACEMENT</th>\n",
              "      <th>HORSEPOWER</th>\n",
              "      <th>WEIGHT</th>\n",
              "      <th>ACCELERATION</th>\n",
              "      <th>MODELYEAR</th>\n",
              "      <th>NAME</th>\n",
              "    </tr>\n",
              "  </thead>\n",
              "  <tbody>\n",
              "    <tr>\n",
              "      <th>0</th>\n",
              "      <td>18.0</td>\n",
              "      <td>8</td>\n",
              "      <td>307.0</td>\n",
              "      <td>130</td>\n",
              "      <td>3504</td>\n",
              "      <td>12.0</td>\n",
              "      <td>70</td>\n",
              "      <td>chevrolet chevelle malibu</td>\n",
              "    </tr>\n",
              "    <tr>\n",
              "      <th>1</th>\n",
              "      <td>15.0</td>\n",
              "      <td>8</td>\n",
              "      <td>350.0</td>\n",
              "      <td>165</td>\n",
              "      <td>3693</td>\n",
              "      <td>11.5</td>\n",
              "      <td>70</td>\n",
              "      <td>buick skylark 320</td>\n",
              "    </tr>\n",
              "    <tr>\n",
              "      <th>2</th>\n",
              "      <td>18.0</td>\n",
              "      <td>8</td>\n",
              "      <td>318.0</td>\n",
              "      <td>150</td>\n",
              "      <td>3436</td>\n",
              "      <td>11.0</td>\n",
              "      <td>70</td>\n",
              "      <td>plymouth satellite</td>\n",
              "    </tr>\n",
              "    <tr>\n",
              "      <th>3</th>\n",
              "      <td>16.0</td>\n",
              "      <td>8</td>\n",
              "      <td>304.0</td>\n",
              "      <td>150</td>\n",
              "      <td>3433</td>\n",
              "      <td>12.0</td>\n",
              "      <td>70</td>\n",
              "      <td>amc rebel sst</td>\n",
              "    </tr>\n",
              "    <tr>\n",
              "      <th>4</th>\n",
              "      <td>17.0</td>\n",
              "      <td>8</td>\n",
              "      <td>302.0</td>\n",
              "      <td>140</td>\n",
              "      <td>3449</td>\n",
              "      <td>10.5</td>\n",
              "      <td>70</td>\n",
              "      <td>ford torino</td>\n",
              "    </tr>\n",
              "    <tr>\n",
              "      <th>...</th>\n",
              "      <td>...</td>\n",
              "      <td>...</td>\n",
              "      <td>...</td>\n",
              "      <td>...</td>\n",
              "      <td>...</td>\n",
              "      <td>...</td>\n",
              "      <td>...</td>\n",
              "      <td>...</td>\n",
              "    </tr>\n",
              "    <tr>\n",
              "      <th>392</th>\n",
              "      <td>27.0</td>\n",
              "      <td>4</td>\n",
              "      <td>140.0</td>\n",
              "      <td>86</td>\n",
              "      <td>2790</td>\n",
              "      <td>15.6</td>\n",
              "      <td>82</td>\n",
              "      <td>ford mustang gl</td>\n",
              "    </tr>\n",
              "    <tr>\n",
              "      <th>393</th>\n",
              "      <td>44.0</td>\n",
              "      <td>4</td>\n",
              "      <td>97.0</td>\n",
              "      <td>52</td>\n",
              "      <td>2130</td>\n",
              "      <td>24.6</td>\n",
              "      <td>82</td>\n",
              "      <td>vw pickup</td>\n",
              "    </tr>\n",
              "    <tr>\n",
              "      <th>394</th>\n",
              "      <td>32.0</td>\n",
              "      <td>4</td>\n",
              "      <td>135.0</td>\n",
              "      <td>84</td>\n",
              "      <td>2295</td>\n",
              "      <td>11.6</td>\n",
              "      <td>82</td>\n",
              "      <td>dodge rampage</td>\n",
              "    </tr>\n",
              "    <tr>\n",
              "      <th>395</th>\n",
              "      <td>28.0</td>\n",
              "      <td>4</td>\n",
              "      <td>120.0</td>\n",
              "      <td>79</td>\n",
              "      <td>2625</td>\n",
              "      <td>18.6</td>\n",
              "      <td>82</td>\n",
              "      <td>ford ranger</td>\n",
              "    </tr>\n",
              "    <tr>\n",
              "      <th>396</th>\n",
              "      <td>31.0</td>\n",
              "      <td>4</td>\n",
              "      <td>119.0</td>\n",
              "      <td>82</td>\n",
              "      <td>2720</td>\n",
              "      <td>19.4</td>\n",
              "      <td>82</td>\n",
              "      <td>chevy s-10</td>\n",
              "    </tr>\n",
              "  </tbody>\n",
              "</table>\n",
              "<p>397 rows × 8 columns</p>\n",
              "</div>"
            ],
            "text/plain": [
              "      MPG  CYLINDERS  ...  MODELYEAR                       NAME\n",
              "0    18.0          8  ...         70  chevrolet chevelle malibu\n",
              "1    15.0          8  ...         70          buick skylark 320\n",
              "2    18.0          8  ...         70         plymouth satellite\n",
              "3    16.0          8  ...         70              amc rebel sst\n",
              "4    17.0          8  ...         70                ford torino\n",
              "..    ...        ...  ...        ...                        ...\n",
              "392  27.0          4  ...         82            ford mustang gl\n",
              "393  44.0          4  ...         82                  vw pickup\n",
              "394  32.0          4  ...         82              dodge rampage\n",
              "395  28.0          4  ...         82                ford ranger\n",
              "396  31.0          4  ...         82                 chevy s-10\n",
              "\n",
              "[397 rows x 8 columns]"
            ]
          },
          "metadata": {},
          "execution_count": 7
        }
      ]
    },
    {
      "cell_type": "code",
      "metadata": {
        "id": "qt0HuwZxJxiF",
        "colab": {
          "base_uri": "https://localhost:8080/"
        },
        "outputId": "87d5684c-f412-4001-99a6-eb0c0ac4dc86"
      },
      "source": [
        "carros = pd.read_csv('auto-miles-per-gallon.csv')\n",
        "type(carros)"
      ],
      "execution_count": null,
      "outputs": [
        {
          "output_type": "execute_result",
          "data": {
            "text/plain": [
              "pandas.core.frame.DataFrame"
            ]
          },
          "metadata": {
            "tags": []
          },
          "execution_count": 7
        }
      ]
    },
    {
      "cell_type": "code",
      "metadata": {
        "colab": {
          "base_uri": "https://localhost:8080/"
        },
        "id": "yV9Z21iq6a_g",
        "outputId": "1054c55c-ae21-42ec-d02e-af8d8c3b8a0c"
      },
      "source": [
        "carros.iloc[0]"
      ],
      "execution_count": null,
      "outputs": [
        {
          "output_type": "execute_result",
          "data": {
            "text/plain": [
              "MPG                                    18\n",
              "CYLINDERS                               8\n",
              "DISPLACEMENT                          307\n",
              "HORSEPOWER                            130\n",
              "WEIGHT                               3504\n",
              "ACCELERATION                           12\n",
              "MODELYEAR                              70\n",
              "NAME            chevrolet chevelle malibu\n",
              "Name: 0, dtype: object"
            ]
          },
          "metadata": {
            "tags": []
          },
          "execution_count": 8
        }
      ]
    },
    {
      "cell_type": "code",
      "metadata": {
        "id": "1cqmFPrsJ4ZX"
      },
      "source": [
        "serie_hp = carros['HORSEPOWER']"
      ],
      "execution_count": null,
      "outputs": []
    },
    {
      "cell_type": "code",
      "metadata": {
        "id": "hzTOsHMqJ5Pk",
        "colab": {
          "base_uri": "https://localhost:8080/"
        },
        "outputId": "ff49a15b-61d6-4420-92df-b7bdaa8a3b2c"
      },
      "source": [
        "type(serie_hp)"
      ],
      "execution_count": null,
      "outputs": [
        {
          "output_type": "execute_result",
          "data": {
            "text/plain": [
              "pandas.core.series.Series"
            ]
          },
          "metadata": {
            "tags": []
          },
          "execution_count": 11
        }
      ]
    },
    {
      "cell_type": "code",
      "metadata": {
        "id": "T40MxgcZJ91_",
        "colab": {
          "base_uri": "https://localhost:8080/"
        },
        "outputId": "8b65adac-67d2-48c0-f71d-47905e65b839"
      },
      "source": [
        "serie_hp.head()"
      ],
      "execution_count": null,
      "outputs": [
        {
          "output_type": "execute_result",
          "data": {
            "text/plain": [
              "0    130\n",
              "1    165\n",
              "2    150\n",
              "3    150\n",
              "4    140\n",
              "Name: HORSEPOWER, dtype: int64"
            ]
          },
          "metadata": {
            "tags": []
          },
          "execution_count": 12
        }
      ]
    },
    {
      "cell_type": "code",
      "metadata": {
        "colab": {
          "base_uri": "https://localhost:8080/"
        },
        "id": "hmKtDP6_7odP",
        "outputId": "bd6ce41d-368f-4cf1-8f23-3acd22814026"
      },
      "source": [
        "serie_hp.tail(n=3)"
      ],
      "execution_count": null,
      "outputs": [
        {
          "output_type": "execute_result",
          "data": {
            "text/plain": [
              "394    84\n",
              "395    79\n",
              "396    82\n",
              "Name: HORSEPOWER, dtype: int64"
            ]
          },
          "metadata": {
            "tags": []
          },
          "execution_count": 13
        }
      ]
    },
    {
      "cell_type": "markdown",
      "metadata": {
        "id": "v80-qgDiZzRq"
      },
      "source": [
        "Se você já conhece a estrutura de dados do arquivo CSV, você pode carregar os dados filtrando as colunas do seu interesse"
      ]
    },
    {
      "cell_type": "code",
      "metadata": {
        "id": "rq8affysaEUY"
      },
      "source": [
        "carros2 = pd.read_csv('auto-miles-per-gallon.csv', usecols=['NAME', 'HORSEPOWER'], index_col='NAME')"
      ],
      "execution_count": null,
      "outputs": []
    },
    {
      "cell_type": "code",
      "metadata": {
        "colab": {
          "base_uri": "https://localhost:8080/",
          "height": 455
        },
        "id": "z1Keg_EPaeGT",
        "outputId": "a0e024bc-3339-4fb3-fc24-5cdded390d9a"
      },
      "source": [
        "carros2"
      ],
      "execution_count": null,
      "outputs": [
        {
          "output_type": "execute_result",
          "data": {
            "text/html": [
              "<div>\n",
              "<style scoped>\n",
              "    .dataframe tbody tr th:only-of-type {\n",
              "        vertical-align: middle;\n",
              "    }\n",
              "\n",
              "    .dataframe tbody tr th {\n",
              "        vertical-align: top;\n",
              "    }\n",
              "\n",
              "    .dataframe thead th {\n",
              "        text-align: right;\n",
              "    }\n",
              "</style>\n",
              "<table border=\"1\" class=\"dataframe\">\n",
              "  <thead>\n",
              "    <tr style=\"text-align: right;\">\n",
              "      <th></th>\n",
              "      <th>HORSEPOWER</th>\n",
              "    </tr>\n",
              "    <tr>\n",
              "      <th>NAME</th>\n",
              "      <th></th>\n",
              "    </tr>\n",
              "  </thead>\n",
              "  <tbody>\n",
              "    <tr>\n",
              "      <th>chevrolet chevelle malibu</th>\n",
              "      <td>130</td>\n",
              "    </tr>\n",
              "    <tr>\n",
              "      <th>buick skylark 320</th>\n",
              "      <td>165</td>\n",
              "    </tr>\n",
              "    <tr>\n",
              "      <th>plymouth satellite</th>\n",
              "      <td>150</td>\n",
              "    </tr>\n",
              "    <tr>\n",
              "      <th>amc rebel sst</th>\n",
              "      <td>150</td>\n",
              "    </tr>\n",
              "    <tr>\n",
              "      <th>ford torino</th>\n",
              "      <td>140</td>\n",
              "    </tr>\n",
              "    <tr>\n",
              "      <th>...</th>\n",
              "      <td>...</td>\n",
              "    </tr>\n",
              "    <tr>\n",
              "      <th>ford mustang gl</th>\n",
              "      <td>86</td>\n",
              "    </tr>\n",
              "    <tr>\n",
              "      <th>vw pickup</th>\n",
              "      <td>52</td>\n",
              "    </tr>\n",
              "    <tr>\n",
              "      <th>dodge rampage</th>\n",
              "      <td>84</td>\n",
              "    </tr>\n",
              "    <tr>\n",
              "      <th>ford ranger</th>\n",
              "      <td>79</td>\n",
              "    </tr>\n",
              "    <tr>\n",
              "      <th>chevy s-10</th>\n",
              "      <td>82</td>\n",
              "    </tr>\n",
              "  </tbody>\n",
              "</table>\n",
              "<p>397 rows × 1 columns</p>\n",
              "</div>"
            ],
            "text/plain": [
              "                           HORSEPOWER\n",
              "NAME                                 \n",
              "chevrolet chevelle malibu         130\n",
              "buick skylark 320                 165\n",
              "plymouth satellite                150\n",
              "amc rebel sst                     150\n",
              "ford torino                       140\n",
              "...                               ...\n",
              "ford mustang gl                    86\n",
              "vw pickup                          52\n",
              "dodge rampage                      84\n",
              "ford ranger                        79\n",
              "chevy s-10                         82\n",
              "\n",
              "[397 rows x 1 columns]"
            ]
          },
          "metadata": {
            "tags": []
          },
          "execution_count": 17
        }
      ]
    },
    {
      "cell_type": "code",
      "metadata": {
        "colab": {
          "base_uri": "https://localhost:8080/"
        },
        "id": "bHvnvAZpakvw",
        "outputId": "03e922c6-9d92-4e83-a90a-637303d4c036"
      },
      "source": [
        "type(carros2)"
      ],
      "execution_count": null,
      "outputs": [
        {
          "output_type": "execute_result",
          "data": {
            "text/plain": [
              "pandas.core.frame.DataFrame"
            ]
          },
          "metadata": {
            "tags": []
          },
          "execution_count": 18
        }
      ]
    },
    {
      "cell_type": "markdown",
      "metadata": {
        "id": "JscAQtyJbQ12"
      },
      "source": [
        "Apesar de carros2 ser uma estrutura similar a uma Série, na essência ele ainda é um dataframe.\n",
        "\n",
        "Para carregar um dataframe com 1 única coluna de dados em uma Series, devemos usar o parâmetro squeeze"
      ]
    },
    {
      "cell_type": "code",
      "metadata": {
        "id": "0Js9FfuWbjMu"
      },
      "source": [
        "carros2 = pd.read_csv('auto-miles-per-gallon.csv', usecols=['NAME', 'HORSEPOWER'], index_col='NAME', squeeze=True)"
      ],
      "execution_count": null,
      "outputs": []
    },
    {
      "cell_type": "code",
      "metadata": {
        "colab": {
          "base_uri": "https://localhost:8080/"
        },
        "id": "9kGioyrEbncG",
        "outputId": "3ac1b20f-462c-46af-cac1-f4ee08789c7b"
      },
      "source": [
        "type(carros2)"
      ],
      "execution_count": null,
      "outputs": [
        {
          "output_type": "execute_result",
          "data": {
            "text/plain": [
              "pandas.core.series.Series"
            ]
          },
          "metadata": {
            "tags": []
          },
          "execution_count": 20
        }
      ]
    },
    {
      "cell_type": "code",
      "metadata": {
        "colab": {
          "base_uri": "https://localhost:8080/"
        },
        "id": "-vHsYl-7bpo0",
        "outputId": "70432081-a78c-45ab-e52b-ffc8d74855a7"
      },
      "source": [
        "carros2"
      ],
      "execution_count": null,
      "outputs": [
        {
          "output_type": "execute_result",
          "data": {
            "text/plain": [
              "NAME\n",
              "chevrolet chevelle malibu    130\n",
              "buick skylark 320            165\n",
              "plymouth satellite           150\n",
              "amc rebel sst                150\n",
              "ford torino                  140\n",
              "                            ... \n",
              "ford mustang gl               86\n",
              "vw pickup                     52\n",
              "dodge rampage                 84\n",
              "ford ranger                   79\n",
              "chevy s-10                    82\n",
              "Name: HORSEPOWER, Length: 397, dtype: int64"
            ]
          },
          "metadata": {
            "tags": []
          },
          "execution_count": 21
        }
      ]
    },
    {
      "cell_type": "code",
      "metadata": {
        "colab": {
          "base_uri": "https://localhost:8080/"
        },
        "id": "V5Q-D-3Vbw90",
        "outputId": "fafa0cb4-4770-4b29-ab99-5543784a2f8b"
      },
      "source": [
        "carros2['ford torino']"
      ],
      "execution_count": null,
      "outputs": [
        {
          "output_type": "execute_result",
          "data": {
            "text/plain": [
              "140"
            ]
          },
          "metadata": {
            "tags": []
          },
          "execution_count": 22
        }
      ]
    },
    {
      "cell_type": "code",
      "metadata": {
        "colab": {
          "base_uri": "https://localhost:8080/"
        },
        "id": "eS5s4XaJb55H",
        "outputId": "488a206b-b662-4478-b712-6820c94a824a"
      },
      "source": [
        "carros2.loc['amc rebel sst']"
      ],
      "execution_count": null,
      "outputs": [
        {
          "output_type": "execute_result",
          "data": {
            "text/plain": [
              "150"
            ]
          },
          "metadata": {
            "tags": []
          },
          "execution_count": 23
        }
      ]
    },
    {
      "cell_type": "markdown",
      "metadata": {
        "id": "hYT40Xi_PZWC"
      },
      "source": [
        "### .size, .shape e len()"
      ]
    },
    {
      "cell_type": "code",
      "metadata": {
        "colab": {
          "base_uri": "https://localhost:8080/"
        },
        "id": "Uym_vLoBPidR",
        "outputId": "004c0446-8dd9-4a9b-bc33-6fa57fea6ba5"
      },
      "source": [
        "carros2.size"
      ],
      "execution_count": null,
      "outputs": [
        {
          "output_type": "execute_result",
          "data": {
            "text/plain": [
              "397"
            ]
          },
          "metadata": {
            "tags": []
          },
          "execution_count": 25
        }
      ]
    },
    {
      "cell_type": "code",
      "metadata": {
        "colab": {
          "base_uri": "https://localhost:8080/"
        },
        "id": "LWPKwcMtPoCG",
        "outputId": "63f9e92e-613a-40c5-a1f2-187195ae406f"
      },
      "source": [
        "carros2.shape"
      ],
      "execution_count": null,
      "outputs": [
        {
          "output_type": "execute_result",
          "data": {
            "text/plain": [
              "(397,)"
            ]
          },
          "metadata": {
            "tags": []
          },
          "execution_count": 26
        }
      ]
    },
    {
      "cell_type": "code",
      "metadata": {
        "colab": {
          "base_uri": "https://localhost:8080/"
        },
        "id": "NnX19vg-9rlE",
        "outputId": "28511d18-771d-4ebf-8bf3-b5c6f38e5cf0"
      },
      "source": [
        "carros.shape"
      ],
      "execution_count": null,
      "outputs": [
        {
          "output_type": "execute_result",
          "data": {
            "text/plain": [
              "(397, 8)"
            ]
          },
          "metadata": {
            "tags": []
          },
          "execution_count": 27
        }
      ]
    },
    {
      "cell_type": "code",
      "metadata": {
        "id": "cEDMJD8v9riP",
        "colab": {
          "base_uri": "https://localhost:8080/"
        },
        "outputId": "285730a9-e74d-4e91-a1d2-0543be1cb27b"
      },
      "source": [
        "carros.shape[1]"
      ],
      "execution_count": null,
      "outputs": [
        {
          "output_type": "execute_result",
          "data": {
            "text/plain": [
              "8"
            ]
          },
          "metadata": {
            "tags": []
          },
          "execution_count": 28
        }
      ]
    },
    {
      "cell_type": "code",
      "metadata": {
        "colab": {
          "base_uri": "https://localhost:8080/"
        },
        "id": "4O-MYi3cPtZt",
        "outputId": "5fa9fc0d-292e-43b7-fe5f-0fe42d85a3a5"
      },
      "source": [
        "len(carros2)"
      ],
      "execution_count": null,
      "outputs": [
        {
          "output_type": "execute_result",
          "data": {
            "text/plain": [
              "397"
            ]
          },
          "metadata": {
            "tags": []
          },
          "execution_count": 29
        }
      ]
    },
    {
      "cell_type": "code",
      "metadata": {
        "colab": {
          "base_uri": "https://localhost:8080/"
        },
        "id": "FCZvP-RFQLbB",
        "outputId": "49945d31-dbe1-43bc-9c96-b4ce65a3b0b7"
      },
      "source": [
        "carros2.size == carros2.shape[0]"
      ],
      "execution_count": null,
      "outputs": [
        {
          "output_type": "execute_result",
          "data": {
            "text/plain": [
              "True"
            ]
          },
          "metadata": {
            "tags": []
          },
          "execution_count": 30
        }
      ]
    },
    {
      "cell_type": "markdown",
      "metadata": {
        "id": "NET_IvHsQfVT"
      },
      "source": [
        "### Valores únicos da série"
      ]
    },
    {
      "cell_type": "code",
      "metadata": {
        "colab": {
          "base_uri": "https://localhost:8080/"
        },
        "id": "7IcIUl3-QmTH",
        "outputId": "f98d0a73-a57b-43d0-df13-31fd320130f2"
      },
      "source": [
        "carros2.is_unique"
      ],
      "execution_count": null,
      "outputs": [
        {
          "output_type": "execute_result",
          "data": {
            "text/plain": [
              "False"
            ]
          },
          "metadata": {
            "tags": []
          },
          "execution_count": 31
        }
      ]
    },
    {
      "cell_type": "code",
      "metadata": {
        "colab": {
          "base_uri": "https://localhost:8080/"
        },
        "id": "eRrhQ7ZcQt4h",
        "outputId": "778ad11f-c226-4dfe-ef47-468c9bb6ff5f"
      },
      "source": [
        "carros2.head(n=3)"
      ],
      "execution_count": null,
      "outputs": [
        {
          "output_type": "execute_result",
          "data": {
            "text/plain": [
              "NAME\n",
              "chevrolet chevelle malibu    130\n",
              "buick skylark 320            165\n",
              "plymouth satellite           150\n",
              "Name: HORSEPOWER, dtype: int64"
            ]
          },
          "metadata": {
            "tags": []
          },
          "execution_count": 32
        }
      ]
    },
    {
      "cell_type": "code",
      "metadata": {
        "colab": {
          "base_uri": "https://localhost:8080/"
        },
        "id": "FeWrFsVCQxgc",
        "outputId": "55dc1ad6-4d3a-43b9-ae5d-91ed20b988d2"
      },
      "source": [
        "carros2.head(n=3).is_unique"
      ],
      "execution_count": null,
      "outputs": [
        {
          "output_type": "execute_result",
          "data": {
            "text/plain": [
              "True"
            ]
          },
          "metadata": {
            "tags": []
          },
          "execution_count": 33
        }
      ]
    },
    {
      "cell_type": "code",
      "metadata": {
        "colab": {
          "base_uri": "https://localhost:8080/"
        },
        "id": "sIaKOGxEW8is",
        "outputId": "7a9fd8e9-656e-413d-90b0-ab84d6dfc617"
      },
      "source": [
        "carros2.head(n=10)"
      ],
      "execution_count": null,
      "outputs": [
        {
          "output_type": "execute_result",
          "data": {
            "text/plain": [
              "NAME\n",
              "chevrolet chevelle malibu    130\n",
              "buick skylark 320            165\n",
              "plymouth satellite           150\n",
              "amc rebel sst                150\n",
              "ford torino                  140\n",
              "ford galaxie 500             198\n",
              "chevrolet impala             220\n",
              "plymouth fury iii            215\n",
              "pontiac catalina             225\n",
              "amc ambassador dpl           190\n",
              "Name: HORSEPOWER, dtype: int64"
            ]
          },
          "metadata": {
            "tags": []
          },
          "execution_count": 36
        }
      ]
    },
    {
      "cell_type": "code",
      "metadata": {
        "colab": {
          "base_uri": "https://localhost:8080/"
        },
        "id": "gqcLMkIyRQgV",
        "outputId": "31b78685-a3c0-4dba-db74-884c43ceb269"
      },
      "source": [
        "carros2.nunique()"
      ],
      "execution_count": null,
      "outputs": [
        {
          "output_type": "execute_result",
          "data": {
            "text/plain": [
              "93"
            ]
          },
          "metadata": {
            "tags": []
          },
          "execution_count": 37
        }
      ]
    },
    {
      "cell_type": "markdown",
      "metadata": {
        "id": "PZbxgstCVChj"
      },
      "source": [
        "### Estatística descritiva"
      ]
    },
    {
      "cell_type": "code",
      "metadata": {
        "colab": {
          "base_uri": "https://localhost:8080/"
        },
        "id": "w_GUJZr8VJ4V",
        "outputId": "c9f9f93f-6415-43d8-8d23-4e26c45afda1"
      },
      "source": [
        "carros2.sum()"
      ],
      "execution_count": null,
      "outputs": [
        {
          "output_type": "execute_result",
          "data": {
            "text/plain": [
              "41365"
            ]
          },
          "metadata": {
            "tags": []
          },
          "execution_count": 38
        }
      ]
    },
    {
      "cell_type": "code",
      "metadata": {
        "colab": {
          "base_uri": "https://localhost:8080/"
        },
        "id": "aKcS8KM6VOHP",
        "outputId": "8deb9801-faa5-41e6-991e-caa766d2041e"
      },
      "source": [
        "carros2.min()"
      ],
      "execution_count": null,
      "outputs": [
        {
          "output_type": "execute_result",
          "data": {
            "text/plain": [
              "46"
            ]
          },
          "metadata": {
            "tags": []
          },
          "execution_count": 39
        }
      ]
    },
    {
      "cell_type": "code",
      "metadata": {
        "colab": {
          "base_uri": "https://localhost:8080/"
        },
        "id": "DEEJkgGSVYVR",
        "outputId": "2d5f26d9-1647-4de8-c14f-6d94243a0d12"
      },
      "source": [
        "carros2.max()"
      ],
      "execution_count": null,
      "outputs": [
        {
          "output_type": "execute_result",
          "data": {
            "text/plain": [
              "230"
            ]
          },
          "metadata": {
            "tags": []
          },
          "execution_count": 40
        }
      ]
    },
    {
      "cell_type": "code",
      "metadata": {
        "colab": {
          "base_uri": "https://localhost:8080/"
        },
        "id": "5D-f3jNqVdOn",
        "outputId": "4efffdb4-118a-46ac-cc99-37a4ad849a38"
      },
      "source": [
        "carros2.mean()"
      ],
      "execution_count": null,
      "outputs": [
        {
          "output_type": "execute_result",
          "data": {
            "text/plain": [
              "104.19395465994963"
            ]
          },
          "metadata": {
            "tags": []
          },
          "execution_count": 41
        }
      ]
    },
    {
      "cell_type": "code",
      "metadata": {
        "colab": {
          "base_uri": "https://localhost:8080/"
        },
        "id": "DdF79pkCVkfQ",
        "outputId": "15c0a334-d212-448f-bc6e-746308147578"
      },
      "source": [
        "carros2.sum()/carros2.count()"
      ],
      "execution_count": null,
      "outputs": [
        {
          "output_type": "execute_result",
          "data": {
            "text/plain": [
              "104.19395465994963"
            ]
          },
          "metadata": {
            "tags": []
          },
          "execution_count": 42
        }
      ]
    },
    {
      "cell_type": "code",
      "metadata": {
        "colab": {
          "base_uri": "https://localhost:8080/"
        },
        "id": "UC4heicrV3FY",
        "outputId": "9b179145-d16c-4994-d251-3aa24f698b82"
      },
      "source": [
        "carros2.median()"
      ],
      "execution_count": null,
      "outputs": [
        {
          "output_type": "execute_result",
          "data": {
            "text/plain": [
              "92.0"
            ]
          },
          "metadata": {
            "tags": []
          },
          "execution_count": 44
        }
      ]
    },
    {
      "cell_type": "code",
      "metadata": {
        "colab": {
          "base_uri": "https://localhost:8080/"
        },
        "id": "QeqUqMTp6uVp",
        "outputId": "20ffee2f-3375-4eea-8590-f74937c895ce"
      },
      "source": [
        "## Calculando os principais parâmetros estatísiticos todos de uma vez só\n",
        "carros2.describe()"
      ],
      "execution_count": null,
      "outputs": [
        {
          "output_type": "execute_result",
          "data": {
            "text/plain": [
              "count    397.000000\n",
              "mean     104.193955\n",
              "std       38.318576\n",
              "min       46.000000\n",
              "25%       76.000000\n",
              "50%       92.000000\n",
              "75%      125.000000\n",
              "max      230.000000\n",
              "Name: HORSEPOWER, dtype: float64"
            ]
          },
          "metadata": {
            "tags": []
          },
          "execution_count": 45
        }
      ]
    },
    {
      "cell_type": "code",
      "metadata": {
        "colab": {
          "base_uri": "https://localhost:8080/"
        },
        "id": "iWhmpbo6688l",
        "outputId": "4e93166b-ceef-4250-90ce-244476f3df90"
      },
      "source": [
        "carros2.describe(percentiles=[0.8, 0.2])"
      ],
      "execution_count": null,
      "outputs": [
        {
          "output_type": "execute_result",
          "data": {
            "text/plain": [
              "count    397.000000\n",
              "mean     104.193955\n",
              "std       38.318576\n",
              "min       46.000000\n",
              "20%       72.000000\n",
              "50%       92.000000\n",
              "80%      140.000000\n",
              "max      230.000000\n",
              "Name: HORSEPOWER, dtype: float64"
            ]
          },
          "metadata": {
            "tags": []
          },
          "execution_count": 38
        }
      ]
    },
    {
      "cell_type": "code",
      "metadata": {
        "colab": {
          "base_uri": "https://localhost:8080/"
        },
        "id": "wD-urC1r709T",
        "outputId": "9d8073ce-acee-4216-faec-19144534a734"
      },
      "source": [
        "carros2.mode()"
      ],
      "execution_count": null,
      "outputs": [
        {
          "output_type": "execute_result",
          "data": {
            "text/plain": [
              "0    150\n",
              "dtype: int64"
            ]
          },
          "metadata": {
            "tags": []
          },
          "execution_count": 46
        }
      ]
    },
    {
      "cell_type": "code",
      "metadata": {
        "colab": {
          "base_uri": "https://localhost:8080/"
        },
        "id": "z7d8Dd9M77fa",
        "outputId": "883fdd3c-d320-4f9b-80e0-a26f9ffa3509"
      },
      "source": [
        "carros2.value_counts()"
      ],
      "execution_count": null,
      "outputs": [
        {
          "output_type": "execute_result",
          "data": {
            "text/plain": [
              "150    22\n",
              "90     20\n",
              "88     19\n",
              "110    18\n",
              "100    17\n",
              "       ..\n",
              "103     1\n",
              "94      1\n",
              "93      1\n",
              "91      1\n",
              "102     1\n",
              "Name: HORSEPOWER, Length: 93, dtype: int64"
            ]
          },
          "metadata": {
            "tags": []
          },
          "execution_count": 42
        }
      ]
    },
    {
      "cell_type": "code",
      "metadata": {
        "colab": {
          "base_uri": "https://localhost:8080/"
        },
        "id": "v8e8ZFA38Mli",
        "outputId": "4d9d6cac-1c39-4601-fb15-dc56f198c98c"
      },
      "source": [
        "carros2[carros2 == 150]"
      ],
      "execution_count": null,
      "outputs": [
        {
          "output_type": "execute_result",
          "data": {
            "text/plain": [
              "NAME\n",
              "plymouth satellite                      150\n",
              "amc rebel sst                           150\n",
              "chevrolet monte carlo                   150\n",
              "plymouth fury iii                       150\n",
              "plymouth fury iii                       150\n",
              "amc ambassador sst                      150\n",
              "amc matador (sw)                        150\n",
              "plymouth satellite custom (sw)          150\n",
              "amc matador                             150\n",
              "dodge coronet custom                    150\n",
              "chevrolet caprice classic               150\n",
              "plymouth fury gran sedan                150\n",
              "chevrolet impala                        150\n",
              "dodge dart custom                       150\n",
              "buick century luxus (sw)                150\n",
              "dodge coronet custom (sw)               150\n",
              "amc matador (sw)                        150\n",
              "plymouth grand fury                     150\n",
              "dodge coronet brougham                  150\n",
              "plymouth volare premier v8              150\n",
              "dodge d100                              150\n",
              "chrysler lebaron town @ country (sw)    150\n",
              "Name: HORSEPOWER, dtype: int64"
            ]
          },
          "metadata": {
            "tags": []
          },
          "execution_count": 47
        }
      ]
    },
    {
      "cell_type": "code",
      "metadata": {
        "colab": {
          "base_uri": "https://localhost:8080/"
        },
        "id": "OAE_HKcg8Y_j",
        "outputId": "af4a09c6-87d3-4930-cfa2-30097faea4cd"
      },
      "source": [
        "carros2[carros2 == 150].size"
      ],
      "execution_count": null,
      "outputs": [
        {
          "output_type": "execute_result",
          "data": {
            "text/plain": [
              "22"
            ]
          },
          "metadata": {
            "tags": []
          },
          "execution_count": 48
        }
      ]
    },
    {
      "cell_type": "code",
      "metadata": {
        "colab": {
          "base_uri": "https://localhost:8080/"
        },
        "id": "rES0yVvL8hBt",
        "outputId": "bc43de49-2428-46ed-fc8c-fc466f2c3164"
      },
      "source": [
        "carros2.value_counts().iloc[0]"
      ],
      "execution_count": null,
      "outputs": [
        {
          "output_type": "execute_result",
          "data": {
            "text/plain": [
              "22"
            ]
          },
          "metadata": {
            "tags": []
          },
          "execution_count": 49
        }
      ]
    },
    {
      "cell_type": "code",
      "metadata": {
        "colab": {
          "base_uri": "https://localhost:8080/"
        },
        "id": "95BN9hxz8o3h",
        "outputId": "4ab4c1d9-d12a-4060-fc65-cf3decf7f936"
      },
      "source": [
        "carros2.value_counts(normalize=True)"
      ],
      "execution_count": null,
      "outputs": [
        {
          "output_type": "execute_result",
          "data": {
            "text/plain": [
              "150    0.055416\n",
              "90     0.050378\n",
              "88     0.047859\n",
              "110    0.045340\n",
              "100    0.042821\n",
              "         ...   \n",
              "103    0.002519\n",
              "94     0.002519\n",
              "93     0.002519\n",
              "91     0.002519\n",
              "102    0.002519\n",
              "Name: HORSEPOWER, Length: 93, dtype: float64"
            ]
          },
          "metadata": {
            "tags": []
          },
          "execution_count": 44
        }
      ]
    },
    {
      "cell_type": "code",
      "metadata": {
        "colab": {
          "base_uri": "https://localhost:8080/"
        },
        "id": "pvPZyDLG9VhO",
        "outputId": "9647931a-88cb-4dc2-a778-1cc4e92a6426"
      },
      "source": [
        "carros2[carros2 == carros2.max()]"
      ],
      "execution_count": null,
      "outputs": [
        {
          "output_type": "execute_result",
          "data": {
            "text/plain": [
              "NAME\n",
              "pontiac grand prix    230\n",
              "Name: HORSEPOWER, dtype: int64"
            ]
          },
          "metadata": {
            "tags": []
          },
          "execution_count": 50
        }
      ]
    },
    {
      "cell_type": "markdown",
      "metadata": {
        "id": "3DvshF4D-uEG"
      },
      "source": [
        "### Ordenação de valores em Séries"
      ]
    },
    {
      "cell_type": "code",
      "metadata": {
        "colab": {
          "base_uri": "https://localhost:8080/"
        },
        "id": "bcjxbVbm-nkS",
        "outputId": "e3169db3-9253-4684-b2ba-b126761dc983"
      },
      "source": [
        "carros2.sort_values()"
      ],
      "execution_count": null,
      "outputs": [
        {
          "output_type": "execute_result",
          "data": {
            "text/plain": [
              "NAME\n",
              "volkswagen 1131 deluxe sedan        46\n",
              "volkswagen super beetle             46\n",
              "volkswagen rabbit custom diesel     48\n",
              "vw rabbit c (diesel)                48\n",
              "vw dasher (diesel)                  48\n",
              "                                  ... \n",
              "chevrolet impala                   220\n",
              "pontiac catalina                   225\n",
              "buick estate wagon (sw)            225\n",
              "buick electra 225 custom           225\n",
              "pontiac grand prix                 230\n",
              "Name: HORSEPOWER, Length: 397, dtype: int64"
            ]
          },
          "metadata": {
            "tags": []
          },
          "execution_count": 49
        }
      ]
    },
    {
      "cell_type": "code",
      "metadata": {
        "colab": {
          "base_uri": "https://localhost:8080/"
        },
        "id": "fOzYF8h7_VUr",
        "outputId": "51ac6045-d8a9-4b68-fdde-00986ec4661f"
      },
      "source": [
        "carros2.sort_values(ascending=False)"
      ],
      "execution_count": null,
      "outputs": [
        {
          "output_type": "execute_result",
          "data": {
            "text/plain": [
              "NAME\n",
              "pontiac grand prix                 230\n",
              "buick electra 225 custom           225\n",
              "buick estate wagon (sw)            225\n",
              "pontiac catalina                   225\n",
              "chevrolet impala                   220\n",
              "                                  ... \n",
              "vw dasher (diesel)                  48\n",
              "vw rabbit c (diesel)                48\n",
              "volkswagen rabbit custom diesel     48\n",
              "volkswagen super beetle             46\n",
              "volkswagen 1131 deluxe sedan        46\n",
              "Name: HORSEPOWER, Length: 397, dtype: int64"
            ]
          },
          "metadata": {
            "tags": []
          },
          "execution_count": 50
        }
      ]
    },
    {
      "cell_type": "markdown",
      "metadata": {
        "id": "LYlHKLa0BOk7"
      },
      "source": [
        "### Filtro em Séries"
      ]
    },
    {
      "cell_type": "code",
      "metadata": {
        "colab": {
          "base_uri": "https://localhost:8080/"
        },
        "id": "09Y0ISHtBSe2",
        "outputId": "2389712d-7fc6-4ab6-d308-10c44d1dcf85"
      },
      "source": [
        "carros2.filter(regex='^volks')"
      ],
      "execution_count": null,
      "outputs": [
        {
          "output_type": "execute_result",
          "data": {
            "text/plain": [
              "NAME\n",
              "volkswagen 1131 deluxe sedan       46\n",
              "volkswagen model 111               60\n",
              "volkswagen type 3                  54\n",
              "volkswagen 411 (sw)                76\n",
              "volkswagen super beetle            46\n",
              "volkswagen dasher                  67\n",
              "volkswagen dasher                  71\n",
              "volkswagen rabbit                  70\n",
              "volkswagen rabbit                  71\n",
              "volkswagen rabbit custom           78\n",
              "volkswagen dasher                  78\n",
              "volkswagen rabbit custom diesel    48\n",
              "volkswagen scirocco                71\n",
              "volkswagen jetta                   74\n",
              "volkswagen rabbit l                74\n",
              "Name: HORSEPOWER, dtype: int64"
            ]
          },
          "metadata": {
            "tags": []
          },
          "execution_count": 48
        }
      ]
    },
    {
      "cell_type": "code",
      "metadata": {
        "colab": {
          "base_uri": "https://localhost:8080/"
        },
        "id": "95dO1xNFB2kX",
        "outputId": "16adbd32-2511-44f8-e252-7f403678f34f"
      },
      "source": [
        "carros2.filter(like='diesel')"
      ],
      "execution_count": null,
      "outputs": [
        {
          "output_type": "execute_result",
          "data": {
            "text/plain": [
              "NAME\n",
              "volkswagen rabbit custom diesel      48\n",
              "vw rabbit c (diesel)                 48\n",
              "vw dasher (diesel)                   48\n",
              "audi 5000s (diesel)                  67\n",
              "peugeot 505s turbo diesel            80\n",
              "volvo diesel                         76\n",
              "oldsmobile cutlass ciera (diesel)    85\n",
              "Name: HORSEPOWER, dtype: int64"
            ]
          },
          "metadata": {
            "tags": []
          },
          "execution_count": 51
        }
      ]
    },
    {
      "cell_type": "code",
      "metadata": {
        "colab": {
          "base_uri": "https://localhost:8080/"
        },
        "id": "giGYWvWVCLtn",
        "outputId": "41b06cd2-2c59-4448-c5f1-c1960ca82344"
      },
      "source": [
        "carros2[carros2 > 180]"
      ],
      "execution_count": null,
      "outputs": [
        {
          "output_type": "execute_result",
          "data": {
            "text/plain": [
              "NAME\n",
              "ford galaxie 500                198\n",
              "chevrolet impala                220\n",
              "plymouth fury iii               215\n",
              "pontiac catalina                225\n",
              "amc ambassador dpl              190\n",
              "buick estate wagon (sw)         225\n",
              "ford f250                       215\n",
              "chevy c20                       200\n",
              "dodge d200                      210\n",
              "hi 1200d                        193\n",
              "mercury marquis                 208\n",
              "chrysler newport royal          190\n",
              "mercury marquis brougham        198\n",
              "chrysler new yorker brougham    215\n",
              "buick electra 225 custom        225\n",
              "pontiac grand prix              230\n",
              "chrysler cordoba                190\n",
              "Name: HORSEPOWER, dtype: int64"
            ]
          },
          "metadata": {
            "tags": []
          },
          "execution_count": 52
        }
      ]
    },
    {
      "cell_type": "code",
      "metadata": {
        "colab": {
          "base_uri": "https://localhost:8080/"
        },
        "id": "V99W9I3oCfU8",
        "outputId": "9069c915-43d4-42e5-8a2d-eb5e3d172541"
      },
      "source": [
        "carros2.loc[carros2 > 180]"
      ],
      "execution_count": null,
      "outputs": [
        {
          "output_type": "execute_result",
          "data": {
            "text/plain": [
              "NAME\n",
              "ford galaxie 500                198\n",
              "chevrolet impala                220\n",
              "plymouth fury iii               215\n",
              "pontiac catalina                225\n",
              "amc ambassador dpl              190\n",
              "buick estate wagon (sw)         225\n",
              "ford f250                       215\n",
              "chevy c20                       200\n",
              "dodge d200                      210\n",
              "hi 1200d                        193\n",
              "mercury marquis                 208\n",
              "chrysler newport royal          190\n",
              "mercury marquis brougham        198\n",
              "chrysler new yorker brougham    215\n",
              "buick electra 225 custom        225\n",
              "pontiac grand prix              230\n",
              "chrysler cordoba                190\n",
              "Name: HORSEPOWER, dtype: int64"
            ]
          },
          "metadata": {
            "tags": []
          },
          "execution_count": 53
        }
      ]
    },
    {
      "cell_type": "code",
      "metadata": {
        "colab": {
          "base_uri": "https://localhost:8080/"
        },
        "id": "V9XXpUYZfpXZ",
        "outputId": "03f17bf8-5e05-4a59-c512-e9f92ea35445"
      },
      "source": [
        "carros2"
      ],
      "execution_count": null,
      "outputs": [
        {
          "output_type": "execute_result",
          "data": {
            "text/plain": [
              "NAME\n",
              "chevrolet chevelle malibu    130\n",
              "buick skylark 320            165\n",
              "plymouth satellite           150\n",
              "amc rebel sst                150\n",
              "ford torino                  140\n",
              "                            ... \n",
              "ford mustang gl               86\n",
              "vw pickup                     52\n",
              "dodge rampage                 84\n",
              "ford ranger                   79\n",
              "chevy s-10                    82\n",
              "Name: HORSEPOWER, Length: 397, dtype: int64"
            ]
          },
          "metadata": {
            "tags": []
          },
          "execution_count": 57
        }
      ]
    },
    {
      "cell_type": "code",
      "metadata": {
        "colab": {
          "base_uri": "https://localhost:8080/"
        },
        "id": "xJbbydCYEvWZ",
        "outputId": "c3a33505-a3dd-4672-cf77-5a563acd8f4b"
      },
      "source": [
        "carros2.where(lambda x: x > 180)"
      ],
      "execution_count": null,
      "outputs": [
        {
          "output_type": "execute_result",
          "data": {
            "text/plain": [
              "NAME\n",
              "chevrolet chevelle malibu   NaN\n",
              "buick skylark 320           NaN\n",
              "plymouth satellite          NaN\n",
              "amc rebel sst               NaN\n",
              "ford torino                 NaN\n",
              "                             ..\n",
              "ford mustang gl             NaN\n",
              "vw pickup                   NaN\n",
              "dodge rampage               NaN\n",
              "ford ranger                 NaN\n",
              "chevy s-10                  NaN\n",
              "Name: HORSEPOWER, Length: 397, dtype: float64"
            ]
          },
          "metadata": {
            "tags": []
          },
          "execution_count": 56
        }
      ]
    },
    {
      "cell_type": "code",
      "metadata": {
        "colab": {
          "base_uri": "https://localhost:8080/"
        },
        "id": "FqK0p1SuFC-J",
        "outputId": "52d30ea2-59ad-45f3-fb4a-77269b8c90b4"
      },
      "source": [
        "carros2.where(lambda x: x > 180).dropna()"
      ],
      "execution_count": null,
      "outputs": [
        {
          "output_type": "execute_result",
          "data": {
            "text/plain": [
              "NAME\n",
              "ford galaxie 500                198.0\n",
              "chevrolet impala                220.0\n",
              "plymouth fury iii               215.0\n",
              "pontiac catalina                225.0\n",
              "amc ambassador dpl              190.0\n",
              "buick estate wagon (sw)         225.0\n",
              "ford f250                       215.0\n",
              "chevy c20                       200.0\n",
              "dodge d200                      210.0\n",
              "hi 1200d                        193.0\n",
              "mercury marquis                 208.0\n",
              "chrysler newport royal          190.0\n",
              "mercury marquis brougham        198.0\n",
              "chrysler new yorker brougham    215.0\n",
              "buick electra 225 custom        225.0\n",
              "pontiac grand prix              230.0\n",
              "chrysler cordoba                190.0\n",
              "Name: HORSEPOWER, dtype: float64"
            ]
          },
          "metadata": {
            "tags": []
          },
          "execution_count": 53
        }
      ]
    },
    {
      "cell_type": "code",
      "metadata": {
        "colab": {
          "base_uri": "https://localhost:8080/"
        },
        "id": "AVJJ4_g9FPN-",
        "outputId": "a85026c8-2a9f-4a74-8be4-63a0490f3448"
      },
      "source": [
        "carros2.where(lambda x: x > 180, other='muito fraco')"
      ],
      "execution_count": null,
      "outputs": [
        {
          "output_type": "execute_result",
          "data": {
            "text/plain": [
              "NAME\n",
              "chevrolet chevelle malibu    muito fraco\n",
              "buick skylark 320            muito fraco\n",
              "plymouth satellite           muito fraco\n",
              "amc rebel sst                muito fraco\n",
              "ford torino                  muito fraco\n",
              "                                ...     \n",
              "ford mustang gl              muito fraco\n",
              "vw pickup                    muito fraco\n",
              "dodge rampage                muito fraco\n",
              "ford ranger                  muito fraco\n",
              "chevy s-10                   muito fraco\n",
              "Name: HORSEPOWER, Length: 397, dtype: object"
            ]
          },
          "metadata": {
            "tags": []
          },
          "execution_count": 54
        }
      ]
    },
    {
      "cell_type": "code",
      "metadata": {
        "colab": {
          "base_uri": "https://localhost:8080/"
        },
        "id": "vl-PQN33Fd3d",
        "outputId": "e72abfff-b61d-4bb6-8307-d2411005ba15"
      },
      "source": [
        "carros2.mask(lambda x: x > 180)"
      ],
      "execution_count": null,
      "outputs": [
        {
          "output_type": "execute_result",
          "data": {
            "text/plain": [
              "NAME\n",
              "chevrolet chevelle malibu    130.0\n",
              "buick skylark 320            165.0\n",
              "plymouth satellite           150.0\n",
              "amc rebel sst                150.0\n",
              "ford torino                  140.0\n",
              "                             ...  \n",
              "ford mustang gl               86.0\n",
              "vw pickup                     52.0\n",
              "dodge rampage                 84.0\n",
              "ford ranger                   79.0\n",
              "chevy s-10                    82.0\n",
              "Name: HORSEPOWER, Length: 397, dtype: float64"
            ]
          },
          "metadata": {
            "tags": []
          },
          "execution_count": 60
        }
      ]
    },
    {
      "cell_type": "code",
      "metadata": {
        "colab": {
          "base_uri": "https://localhost:8080/"
        },
        "id": "PQkHe0pZGupG",
        "outputId": "dc8a1900-1b14-4819-ad17-2cfd85270f47"
      },
      "source": [
        "carros2.mask(lambda x: x > 180).dropna()"
      ],
      "execution_count": null,
      "outputs": [
        {
          "output_type": "execute_result",
          "data": {
            "text/plain": [
              "NAME\n",
              "chevrolet chevelle malibu    130.0\n",
              "buick skylark 320            165.0\n",
              "plymouth satellite           150.0\n",
              "amc rebel sst                150.0\n",
              "ford torino                  140.0\n",
              "                             ...  \n",
              "ford mustang gl               86.0\n",
              "vw pickup                     52.0\n",
              "dodge rampage                 84.0\n",
              "ford ranger                   79.0\n",
              "chevy s-10                    82.0\n",
              "Name: HORSEPOWER, Length: 380, dtype: float64"
            ]
          },
          "metadata": {
            "tags": []
          },
          "execution_count": 55
        }
      ]
    },
    {
      "cell_type": "code",
      "metadata": {
        "colab": {
          "base_uri": "https://localhost:8080/"
        },
        "id": "xTGkHpkeG7Z8",
        "outputId": "8cd338bf-806c-4400-b722-09f6d8190142"
      },
      "source": [
        "carros2.mask(lambda x: x > 180, 'muito forte')"
      ],
      "execution_count": null,
      "outputs": [
        {
          "output_type": "execute_result",
          "data": {
            "text/plain": [
              "NAME\n",
              "chevrolet chevelle malibu    130\n",
              "buick skylark 320            165\n",
              "plymouth satellite           150\n",
              "amc rebel sst                150\n",
              "ford torino                  140\n",
              "                            ... \n",
              "ford mustang gl               86\n",
              "vw pickup                     52\n",
              "dodge rampage                 84\n",
              "ford ranger                   79\n",
              "chevy s-10                    82\n",
              "Name: HORSEPOWER, Length: 397, dtype: object"
            ]
          },
          "metadata": {
            "tags": []
          },
          "execution_count": 56
        }
      ]
    },
    {
      "cell_type": "code",
      "metadata": {
        "colab": {
          "base_uri": "https://localhost:8080/"
        },
        "id": "g3UW88fR2bey",
        "outputId": "c5f001cd-0e52-47f6-c942-231f01bb7d91"
      },
      "source": [
        "carros2.mask(lambda x: x > 180, 'muito forte').head(10)"
      ],
      "execution_count": null,
      "outputs": [
        {
          "output_type": "execute_result",
          "data": {
            "text/plain": [
              "NAME\n",
              "chevrolet chevelle malibu            130\n",
              "buick skylark 320                    165\n",
              "plymouth satellite                   150\n",
              "amc rebel sst                        150\n",
              "ford torino                          140\n",
              "ford galaxie 500             muito forte\n",
              "chevrolet impala             muito forte\n",
              "plymouth fury iii            muito forte\n",
              "pontiac catalina             muito forte\n",
              "amc ambassador dpl           muito forte\n",
              "Name: HORSEPOWER, dtype: object"
            ]
          },
          "metadata": {
            "tags": []
          },
          "execution_count": 57
        }
      ]
    },
    {
      "cell_type": "markdown",
      "metadata": {
        "id": "9xFNhIDQ3GNC"
      },
      "source": [
        "### Atualização de Series e os métodos **update()** e **apply()**"
      ]
    },
    {
      "cell_type": "code",
      "metadata": {
        "colab": {
          "base_uri": "https://localhost:8080/"
        },
        "id": "9FKjFp8c3Xrv",
        "outputId": "f268ce35-72b2-41a6-cec4-e823f9c58f77"
      },
      "source": [
        "carros2.head()"
      ],
      "execution_count": null,
      "outputs": [
        {
          "output_type": "execute_result",
          "data": {
            "text/plain": [
              "NAME\n",
              "chevrolet chevelle malibu    130\n",
              "buick skylark 320            165\n",
              "plymouth satellite           150\n",
              "amc rebel sst                150\n",
              "ford torino                  140\n",
              "Name: HORSEPOWER, dtype: int64"
            ]
          },
          "metadata": {
            "tags": []
          },
          "execution_count": 64
        }
      ]
    },
    {
      "cell_type": "code",
      "metadata": {
        "id": "4g-Sq3uA3ce1"
      },
      "source": [
        "carros2.loc['amc rebel sst'] = 200\n",
        "carros2.loc['ford torino'] = 300"
      ],
      "execution_count": null,
      "outputs": []
    },
    {
      "cell_type": "code",
      "metadata": {
        "colab": {
          "base_uri": "https://localhost:8080/"
        },
        "id": "WdCIYOPl38A4",
        "outputId": "45f8989c-7608-4a66-fb39-f086427ced67"
      },
      "source": [
        "carros2.head()"
      ],
      "execution_count": null,
      "outputs": [
        {
          "output_type": "execute_result",
          "data": {
            "text/plain": [
              "NAME\n",
              "chevrolet chevelle malibu    130\n",
              "buick skylark 320            165\n",
              "plymouth satellite           150\n",
              "amc rebel sst                200\n",
              "ford torino                  300\n",
              "Name: HORSEPOWER, dtype: int64"
            ]
          },
          "metadata": {
            "tags": []
          },
          "execution_count": 66
        }
      ]
    },
    {
      "cell_type": "code",
      "metadata": {
        "id": "4B7tqy6X4G9S"
      },
      "source": [
        "carros2.update(pd.Series(data=[210,310], index=['amc rebel sst', 'ford torino']))"
      ],
      "execution_count": null,
      "outputs": []
    },
    {
      "cell_type": "code",
      "metadata": {
        "colab": {
          "base_uri": "https://localhost:8080/"
        },
        "id": "rtTILAGs4q42",
        "outputId": "ca103d27-4aca-4f2a-bb62-ec3e67b92f4a"
      },
      "source": [
        "carros2.head()"
      ],
      "execution_count": null,
      "outputs": [
        {
          "output_type": "execute_result",
          "data": {
            "text/plain": [
              "NAME\n",
              "chevrolet chevelle malibu    130\n",
              "buick skylark 320            165\n",
              "plymouth satellite           150\n",
              "amc rebel sst                210\n",
              "ford torino                  310\n",
              "Name: HORSEPOWER, dtype: int64"
            ]
          },
          "metadata": {
            "tags": []
          },
          "execution_count": 68
        }
      ]
    },
    {
      "cell_type": "markdown",
      "metadata": {
        "id": "Zs8_8bxv4_6M"
      },
      "source": [
        "Diferentes opções para atualização em lote dos elementos da Série"
      ]
    },
    {
      "cell_type": "code",
      "metadata": {
        "colab": {
          "base_uri": "https://localhost:8080/"
        },
        "id": "2Kc5gcg95KFt",
        "outputId": "51a94954-2e3a-4532-d422-97a715a403e5"
      },
      "source": [
        "carros2.apply(lambda x: 2*x)"
      ],
      "execution_count": null,
      "outputs": [
        {
          "output_type": "execute_result",
          "data": {
            "text/plain": [
              "NAME\n",
              "chevrolet chevelle malibu    260\n",
              "buick skylark 320            330\n",
              "plymouth satellite           300\n",
              "amc rebel sst                420\n",
              "ford torino                  620\n",
              "                            ... \n",
              "ford mustang gl              172\n",
              "vw pickup                    104\n",
              "dodge rampage                168\n",
              "ford ranger                  158\n",
              "chevy s-10                   164\n",
              "Name: HORSEPOWER, Length: 397, dtype: int64"
            ]
          },
          "metadata": {
            "tags": []
          },
          "execution_count": 69
        }
      ]
    },
    {
      "cell_type": "code",
      "metadata": {
        "colab": {
          "base_uri": "https://localhost:8080/"
        },
        "id": "xF72Tu5d510P",
        "outputId": "73fb7e4a-8432-4be3-b9ed-db34adced76d"
      },
      "source": [
        "carros2.head()"
      ],
      "execution_count": null,
      "outputs": [
        {
          "output_type": "execute_result",
          "data": {
            "text/plain": [
              "NAME\n",
              "chevrolet chevelle malibu    130\n",
              "buick skylark 320            165\n",
              "plymouth satellite           150\n",
              "amc rebel sst                210\n",
              "ford torino                  310\n",
              "Name: HORSEPOWER, dtype: int64"
            ]
          },
          "metadata": {
            "tags": []
          },
          "execution_count": 70
        }
      ]
    },
    {
      "cell_type": "code",
      "metadata": {
        "id": "cXzPL4Ta56k2"
      },
      "source": [
        "def ajustaHP(x):\n",
        "  if x < 180:\n",
        "    return x*2\n",
        "  return x + 110"
      ],
      "execution_count": null,
      "outputs": []
    },
    {
      "cell_type": "code",
      "metadata": {
        "colab": {
          "base_uri": "https://localhost:8080/"
        },
        "id": "YXCTjUSm6q9F",
        "outputId": "cc1a28af-3882-490f-a3b5-fe2496910ab5"
      },
      "source": [
        "carros2.apply(ajustaHP)"
      ],
      "execution_count": null,
      "outputs": [
        {
          "output_type": "execute_result",
          "data": {
            "text/plain": [
              "NAME\n",
              "chevrolet chevelle malibu    260\n",
              "buick skylark 320            330\n",
              "plymouth satellite           300\n",
              "amc rebel sst                320\n",
              "ford torino                  420\n",
              "                            ... \n",
              "ford mustang gl              172\n",
              "vw pickup                    104\n",
              "dodge rampage                168\n",
              "ford ranger                  158\n",
              "chevy s-10                   164\n",
              "Name: HORSEPOWER, Length: 397, dtype: int64"
            ]
          },
          "metadata": {
            "tags": []
          },
          "execution_count": 72
        }
      ]
    },
    {
      "cell_type": "code",
      "metadata": {
        "id": "taVDRreZ83nX"
      },
      "source": [
        ""
      ],
      "execution_count": null,
      "outputs": []
    }
  ]
}