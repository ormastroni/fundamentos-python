{
  "cells": [
    {
      "cell_type": "markdown",
      "metadata": {
        "colab_type": "text",
        "id": "view-in-github"
      },
      "source": [
        "<a href=\"https://colab.research.google.com/github/ormastroni/fundamentos-python/blob/main/aula8.ipynb\" target=\"_parent\"><img src=\"https://colab.research.google.com/assets/colab-badge.svg\" alt=\"Open In Colab\"/></a>"
      ]
    },
    {
      "cell_type": "markdown",
      "metadata": {
        "id": "jgXVzv66R8uD"
      },
      "source": [
        "# Fundamentos de Desenvolvimento Python"
      ]
    },
    {
      "cell_type": "markdown",
      "metadata": {
        "id": "XMol0EmtSFXZ"
      },
      "source": [
        "## Prof. Andre Victor"
      ]
    },
    {
      "cell_type": "markdown",
      "metadata": {
        "id": "2V5ItdPtSJ-5"
      },
      "source": [
        "### Dicionários\n",
        "\n",
        "Dicionários são estruturas de dados indexadas por chaves (keys), que podem ser de qualquer tipo imutável (como strings e inteiros). Tuplas também podem ser chaves se contiverem apenas strings, inteiros ou outras tuplas.\n",
        "\n",
        "Um bom modelo mental é imaginar um dicionário como um conjunto não-ordenado de pares chave:valor, onde as chaves são únicas em uma dada instância do dicionário, ou sejan não existem dados diferentes com a mesma chave. Dicionários são delimitados por chaves: {}, e contém uma lista de pares chave:valor separada por vírgulas. O dicionário vazio é {}."
      ]
    },
    {
      "cell_type": "markdown",
      "metadata": {
        "id": "7GKMA39fTuk7"
      },
      "source": [
        "As principais operações em um dicionário são armazenar e recuperar valores a partir de chaves. Também é possível remover um par chave:valor com o comando del. Se você armazenar um valor utilizando uma chave já presente, o antigo valor será substituído pelo novo. Se tentar recuperar um valor usando uma chave inexistente, será gerado um erro."
      ]
    },
    {
      "cell_type": "markdown",
      "metadata": {
        "id": "Ok5IUaDS7i47"
      },
      "source": [
        "Executar list(d) em um dicionário devolve a lista de todas as chaves presentes no dicionário, na ordem de inserção (se desejar ordená-las basta usar a função sorted(d)). Para verificar a existência de uma chave, use o operador in."
      ]
    },
    {
      "cell_type": "code",
      "execution_count": 1,
      "metadata": {
        "colab": {
          "base_uri": "https://localhost:8080/",
          "height": 35
        },
        "id": "RSRJM1RHR4om",
        "outputId": "d3cb0ac9-2e7f-4cdb-cba1-258c3ba6fe1c"
      },
      "outputs": [
        {
          "data": {
            "application/vnd.google.colaboratory.intrinsic+json": {
              "type": "string"
            },
            "text/plain": [
              "'1111'"
            ]
          },
          "execution_count": 1,
          "metadata": {},
          "output_type": "execute_result"
        }
      ],
      "source": [
        "agenda = {'andre': '1111', 'maria':'2222'}\n",
        "agenda['andre']"
      ]
    },
    {
      "cell_type": "code",
      "execution_count": 2,
      "metadata": {
        "id": "jMT5ZSJBez_6"
      },
      "outputs": [],
      "source": [
        "dic_vazio = {}"
      ]
    },
    {
      "cell_type": "code",
      "execution_count": 3,
      "metadata": {
        "colab": {
          "base_uri": "https://localhost:8080/"
        },
        "id": "0WrJGcOeUAxz",
        "outputId": "dcc0f2d6-d992-43b2-cf0e-4ded2c449038"
      },
      "outputs": [
        {
          "data": {
            "text/plain": [
              "0"
            ]
          },
          "execution_count": 3,
          "metadata": {},
          "output_type": "execute_result"
        }
      ],
      "source": [
        "len(dic_vazio)"
      ]
    },
    {
      "cell_type": "code",
      "execution_count": 4,
      "metadata": {
        "colab": {
          "base_uri": "https://localhost:8080/"
        },
        "id": "ZDTNC5whUETH",
        "outputId": "e19647f3-fa48-4e5d-ace0-63434816450b"
      },
      "outputs": [
        {
          "data": {
            "text/plain": [
              "2"
            ]
          },
          "execution_count": 4,
          "metadata": {},
          "output_type": "execute_result"
        }
      ],
      "source": [
        "len(agenda)"
      ]
    },
    {
      "cell_type": "code",
      "execution_count": 5,
      "metadata": {
        "colab": {
          "base_uri": "https://localhost:8080/"
        },
        "id": "FanLsX4TUgGa",
        "outputId": "bd946b22-82ac-45b3-aca1-b3d0ed1f0458"
      },
      "outputs": [
        {
          "data": {
            "text/plain": [
              "{'andre': '1111', 'cecilia': '3333', 'maria': '2222'}"
            ]
          },
          "execution_count": 5,
          "metadata": {},
          "output_type": "execute_result"
        }
      ],
      "source": [
        "agenda['cecilia'] = '3333'\n",
        "agenda"
      ]
    },
    {
      "cell_type": "code",
      "execution_count": 6,
      "metadata": {
        "colab": {
          "base_uri": "https://localhost:8080/"
        },
        "id": "hfXUlPesfKaP",
        "outputId": "3e3c3cc9-6008-4eca-fc97-623cfcc1e1e1"
      },
      "outputs": [
        {
          "name": "stdout",
          "output_type": "stream",
          "text": [
            "{'andre': '1111', 'maria': '2222', 'cecilia': '3333'}\n"
          ]
        }
      ],
      "source": [
        "print(agenda)"
      ]
    },
    {
      "cell_type": "code",
      "execution_count": 7,
      "metadata": {
        "colab": {
          "base_uri": "https://localhost:8080/"
        },
        "id": "QDG6K5F8fW7u",
        "outputId": "5a94c744-9567-450e-c285-e9cf17893bc3"
      },
      "outputs": [
        {
          "name": "stdout",
          "output_type": "stream",
          "text": [
            "<class 'dict'>\n"
          ]
        }
      ],
      "source": [
        "print(type(agenda))"
      ]
    },
    {
      "cell_type": "code",
      "execution_count": 9,
      "metadata": {
        "colab": {
          "base_uri": "https://localhost:8080/"
        },
        "id": "Goc0kKsEH0WK",
        "outputId": "80403e66-2289-4b9a-8890-bed3589b5cab"
      },
      "outputs": [
        {
          "data": {
            "text/plain": [
              "dict"
            ]
          },
          "execution_count": 9,
          "metadata": {},
          "output_type": "execute_result"
        }
      ],
      "source": [
        "type(agenda)"
      ]
    },
    {
      "cell_type": "code",
      "execution_count": 8,
      "metadata": {
        "colab": {
          "base_uri": "https://localhost:8080/"
        },
        "id": "2FzKKhw_e_tR",
        "outputId": "c5459aed-f348-45d2-c164-8f2892e6956a"
      },
      "outputs": [
        {
          "data": {
            "text/plain": [
              "['andre', 'maria', 'cecilia']"
            ]
          },
          "execution_count": 8,
          "metadata": {},
          "output_type": "execute_result"
        }
      ],
      "source": [
        "list(agenda)"
      ]
    },
    {
      "cell_type": "code",
      "execution_count": 10,
      "metadata": {
        "colab": {
          "base_uri": "https://localhost:8080/"
        },
        "id": "O0IRjgBCCkB7",
        "outputId": "7b85da3f-d961-494c-b521-8363232f424b"
      },
      "outputs": [
        {
          "data": {
            "text/plain": [
              "['andre', 'cecilia', 'maria']"
            ]
          },
          "execution_count": 10,
          "metadata": {},
          "output_type": "execute_result"
        }
      ],
      "source": [
        "sorted(agenda)"
      ]
    },
    {
      "cell_type": "code",
      "execution_count": 11,
      "metadata": {
        "colab": {
          "base_uri": "https://localhost:8080/"
        },
        "id": "0Kd-c_y_C1mM",
        "outputId": "ecc3a6e2-6b5f-4a33-ecf2-f48ca5124f90"
      },
      "outputs": [
        {
          "data": {
            "text/plain": [
              "{'andre': '1111', 'cecilia': '3333', 'maria': '2222'}"
            ]
          },
          "execution_count": 11,
          "metadata": {},
          "output_type": "execute_result"
        }
      ],
      "source": [
        "agenda"
      ]
    },
    {
      "cell_type": "code",
      "execution_count": 12,
      "metadata": {
        "colab": {
          "base_uri": "https://localhost:8080/"
        },
        "id": "j5IMZULoC8d4",
        "outputId": "dfc1b340-fc97-4164-fd5e-d54018c74169"
      },
      "outputs": [
        {
          "data": {
            "text/plain": [
              "True"
            ]
          },
          "execution_count": 12,
          "metadata": {},
          "output_type": "execute_result"
        }
      ],
      "source": [
        "'cecilia' in agenda"
      ]
    },
    {
      "cell_type": "code",
      "execution_count": 13,
      "metadata": {
        "colab": {
          "base_uri": "https://localhost:8080/",
          "height": 171
        },
        "id": "ppW0z1RZKaCz",
        "outputId": "3aa4a939-cc5f-4b17-c1ff-a4305c5b06f1"
      },
      "outputs": [
        {
          "ename": "KeyError",
          "evalue": "ignored",
          "output_type": "error",
          "traceback": [
            "\u001b[0;31m---------------------------------------------------------------------------\u001b[0m",
            "\u001b[0;31mKeyError\u001b[0m                                  Traceback (most recent call last)",
            "\u001b[0;32m<ipython-input-13-25f792972dff>\u001b[0m in \u001b[0;36m<module>\u001b[0;34m()\u001b[0m\n\u001b[0;32m----> 1\u001b[0;31m \u001b[0magenda\u001b[0m\u001b[0;34m[\u001b[0m\u001b[0;34m'ze'\u001b[0m\u001b[0;34m]\u001b[0m\u001b[0;34m\u001b[0m\u001b[0;34m\u001b[0m\u001b[0m\n\u001b[0m",
            "\u001b[0;31mKeyError\u001b[0m: 'ze'"
          ]
        }
      ],
      "source": [
        "agenda['ze']"
      ]
    },
    {
      "cell_type": "markdown",
      "metadata": {
        "id": "kIeVxMB2DVnO"
      },
      "source": [
        "O construtor dict() produz dicionários diretamente de lista tuplas de pares chave-valor:"
      ]
    },
    {
      "cell_type": "code",
      "execution_count": 14,
      "metadata": {
        "colab": {
          "base_uri": "https://localhost:8080/"
        },
        "id": "pFO4YpcgfF4f",
        "outputId": "362980a9-9691-4a9d-babf-4e66ee846e97"
      },
      "outputs": [
        {
          "data": {
            "text/plain": [
              "{'andre': '1111', 'cecilia': '3333', 'maria': '2222'}"
            ]
          },
          "execution_count": 14,
          "metadata": {},
          "output_type": "execute_result"
        }
      ],
      "source": [
        "lista = [('andre', '1111'), ('maria', '2222'), ('cecilia', '3333')]\n",
        "outra_agenda = dict(lista)\n",
        "outra_agenda"
      ]
    },
    {
      "cell_type": "code",
      "execution_count": 15,
      "metadata": {
        "id": "bHz4Yge6rg0C"
      },
      "outputs": [],
      "source": [
        "del outra_agenda['maria']"
      ]
    },
    {
      "cell_type": "code",
      "execution_count": 16,
      "metadata": {
        "colab": {
          "base_uri": "https://localhost:8080/"
        },
        "id": "OsJZgEU0F6h8",
        "outputId": "fae1340a-2bc7-477b-e172-d36c701ec3cd"
      },
      "outputs": [
        {
          "data": {
            "text/plain": [
              "{'andre': '1111', 'cecilia': '3333'}"
            ]
          },
          "execution_count": 16,
          "metadata": {},
          "output_type": "execute_result"
        }
      ],
      "source": [
        "outra_agenda"
      ]
    },
    {
      "cell_type": "markdown",
      "metadata": {
        "id": "jrbl8Vk_xvjr"
      },
      "source": [
        "Iterações em dicionários\n"
      ]
    },
    {
      "cell_type": "code",
      "execution_count": 17,
      "metadata": {
        "colab": {
          "base_uri": "https://localhost:8080/"
        },
        "id": "8c5RecYZUrU1",
        "outputId": "3f0df645-1fa5-464c-922e-0a07957baf41"
      },
      "outputs": [
        {
          "name": "stdout",
          "output_type": "stream",
          "text": [
            "andre 1111\n",
            "maria 2222\n",
            "cecilia 3333\n"
          ]
        }
      ],
      "source": [
        "for k, v in agenda.items():\n",
        "  print(k, v)"
      ]
    },
    {
      "cell_type": "markdown",
      "metadata": {
        "id": "kZHEVT3qybBX"
      },
      "source": [
        "Interface de dicionários:\n",
        "\n",
        "* clear()\n",
        "* copy()\n",
        "* fromKeys(lista, valor)\n",
        "* get(chave, valor)\n",
        "* has_key(chave)\n",
        "* items()\n",
        "* keys()\n",
        "* values()\n",
        "* pop(chave)\n",
        "* popitem()\n",
        "* update(dic)"
      ]
    },
    {
      "cell_type": "markdown",
      "metadata": {
        "id": "w02-77WzNyM8"
      },
      "source": [
        "Modificar um objeto apontado por duas variáveis, modifica as duas variáveis"
      ]
    },
    {
      "cell_type": "code",
      "execution_count": null,
      "metadata": {
        "colab": {
          "base_uri": "https://localhost:8080/"
        },
        "id": "F6cF9XQOiIJX",
        "outputId": "2da654e5-9094-487a-dcf7-27326af4676d"
      },
      "outputs": [
        {
          "data": {
            "text/plain": [
              "{'andre': '1111', 'cecilia': '3333'}"
            ]
          },
          "execution_count": 17,
          "metadata": {
            "tags": []
          },
          "output_type": "execute_result"
        }
      ],
      "source": [
        "outra_agenda"
      ]
    },
    {
      "cell_type": "code",
      "execution_count": null,
      "metadata": {
        "id": "pVuZONh3M3zR"
      },
      "outputs": [],
      "source": [
        "nova_agenda = outra_agenda.copy()"
      ]
    },
    {
      "cell_type": "code",
      "execution_count": null,
      "metadata": {
        "colab": {
          "base_uri": "https://localhost:8080/"
        },
        "id": "B29kRam2NYZz",
        "outputId": "5feaa735-6941-4987-f6bb-6ac79494dafe"
      },
      "outputs": [
        {
          "name": "stdout",
          "output_type": "stream",
          "text": [
            "{'andre': '1111', 'cecilia': '3333'}\n",
            "{'andre': '1111', 'cecilia': '3333'}\n"
          ]
        }
      ],
      "source": [
        "print(nova_agenda)\n",
        "print(outra_agenda)"
      ]
    },
    {
      "cell_type": "code",
      "execution_count": null,
      "metadata": {
        "id": "sLvddqIFNlnI"
      },
      "outputs": [],
      "source": [
        "outra_agenda.clear()"
      ]
    },
    {
      "cell_type": "code",
      "execution_count": null,
      "metadata": {
        "colab": {
          "base_uri": "https://localhost:8080/"
        },
        "id": "w2XOm_jYNdsk",
        "outputId": "b93f8f69-4898-48c5-d4df-f3ac43d99832"
      },
      "outputs": [
        {
          "name": "stdout",
          "output_type": "stream",
          "text": [
            "{}\n",
            "{}\n"
          ]
        }
      ],
      "source": [
        "print(nova_agenda)\n",
        "print(outra_agenda)"
      ]
    },
    {
      "cell_type": "markdown",
      "metadata": {
        "id": "1PoEwdxFOdvA"
      },
      "source": [
        "Entretanto, isso é diferente de atrbuir {} à variável"
      ]
    },
    {
      "cell_type": "code",
      "execution_count": null,
      "metadata": {
        "colab": {
          "base_uri": "https://localhost:8080/"
        },
        "id": "vasasASXOlQ2",
        "outputId": "c86aaf84-a7f3-4e2a-e593-b2005b5e33e3"
      },
      "outputs": [
        {
          "name": "stdout",
          "output_type": "stream",
          "text": [
            "{'andre': '1111', 'maria': '2222', 'cecilia': '3333'}\n",
            "{'andre': '1111', 'maria': '2222', 'cecilia': '3333'}\n"
          ]
        }
      ],
      "source": [
        "nova_agenda = agenda\n",
        "print(nova_agenda)\n",
        "print(agenda)"
      ]
    },
    {
      "cell_type": "code",
      "execution_count": null,
      "metadata": {
        "colab": {
          "base_uri": "https://localhost:8080/"
        },
        "id": "dAkUcvUxOvY3",
        "outputId": "0047a28d-712a-4946-b687-c4c8b836f997"
      },
      "outputs": [
        {
          "name": "stdout",
          "output_type": "stream",
          "text": [
            "{'andre': '1111', 'maria': '2222', 'cecilia': '3333'}\n",
            "{}\n"
          ]
        }
      ],
      "source": [
        "agenda = {}\n",
        "print(nova_agenda)\n",
        "print(agenda)\n"
      ]
    },
    {
      "cell_type": "markdown",
      "metadata": {
        "id": "tFeJqRTAPa1X"
      },
      "source": [
        "Outro exemplo de referências a objetos"
      ]
    },
    {
      "cell_type": "code",
      "execution_count": null,
      "metadata": {
        "id": "GxrEN25sPeeB"
      },
      "outputs": [],
      "source": [
        "x = {\"Joao\":[1,2], \"Maria\":[3,4]}"
      ]
    },
    {
      "cell_type": "code",
      "execution_count": null,
      "metadata": {
        "colab": {
          "base_uri": "https://localhost:8080/"
        },
        "id": "Ggwxu4csPhij",
        "outputId": "d336d476-a751-4dae-f82d-f5309cc38b3a"
      },
      "outputs": [
        {
          "name": "stdout",
          "output_type": "stream",
          "text": [
            "{'Joao': [1, 2], 'Maria': [3, 4]}\n",
            "{'Joao': [1, 2], 'Maria': [3, 4]}\n"
          ]
        }
      ],
      "source": [
        "y = x.copy()\n",
        "print(y)\n",
        "print(x)"
      ]
    },
    {
      "cell_type": "code",
      "execution_count": null,
      "metadata": {
        "id": "BDGYEaliPqJW"
      },
      "outputs": [],
      "source": [
        "x['Pedro'] = [5,6]\n",
        "# y[\"Pedro\"] = [5,6]\n",
        "# x[\"Joao\"] += [3]"
      ]
    },
    {
      "cell_type": "code",
      "execution_count": null,
      "metadata": {
        "colab": {
          "base_uri": "https://localhost:8080/"
        },
        "id": "L3gsXtyHP0GW",
        "outputId": "e0b6ff08-8225-4833-df0f-3db554ea9123"
      },
      "outputs": [
        {
          "name": "stdout",
          "output_type": "stream",
          "text": [
            "{'Joao': [1, 2], 'Maria': [3, 4], 'Pedro': [5, 6]}\n",
            "{'Joao': [1, 2], 'Maria': [3, 4]}\n"
          ]
        }
      ],
      "source": [
        "print(x)\n",
        "print(y)"
      ]
    },
    {
      "cell_type": "code",
      "execution_count": null,
      "metadata": {
        "id": "jGiwjNtgq1Wd"
      },
      "outputs": [],
      "source": [
        "lista1 = [1,2,3]\n",
        "lista2 = lista1"
      ]
    },
    {
      "cell_type": "code",
      "execution_count": null,
      "metadata": {
        "colab": {
          "base_uri": "https://localhost:8080/"
        },
        "id": "sYd1MAjBq-Q0",
        "outputId": "bd7febec-5c2c-40de-a037-ffb7770d143b"
      },
      "outputs": [
        {
          "name": "stdout",
          "output_type": "stream",
          "text": [
            "[1, 2, 3]\n",
            "[1, 2, 3]\n"
          ]
        }
      ],
      "source": [
        "print(lista1)\n",
        "print(lista2)"
      ]
    },
    {
      "cell_type": "code",
      "execution_count": null,
      "metadata": {
        "id": "qlClJFAwrBi-"
      },
      "outputs": [],
      "source": [
        "lista1.append(4)"
      ]
    },
    {
      "cell_type": "code",
      "execution_count": null,
      "metadata": {
        "colab": {
          "base_uri": "https://localhost:8080/"
        },
        "id": "_EOsaOxmrGR_",
        "outputId": "ac62c576-cdc5-4366-d26a-ac70c60b2e1a"
      },
      "outputs": [
        {
          "name": "stdout",
          "output_type": "stream",
          "text": [
            "[1, 2, 3, 4]\n",
            "[1, 2, 3, 4]\n"
          ]
        }
      ],
      "source": [
        "print(lista1)\n",
        "print(lista2)"
      ]
    },
    {
      "cell_type": "code",
      "execution_count": null,
      "metadata": {
        "id": "V1EXAABzrMf-"
      },
      "outputs": [],
      "source": [
        "lista3 = lista1.copy()"
      ]
    },
    {
      "cell_type": "code",
      "execution_count": null,
      "metadata": {
        "colab": {
          "base_uri": "https://localhost:8080/"
        },
        "id": "zgaZsfTirRVb",
        "outputId": "1e18d938-ef84-4896-bf4a-90350a5830d7"
      },
      "outputs": [
        {
          "name": "stdout",
          "output_type": "stream",
          "text": [
            "[1, 2, 3, 4]\n",
            "[1, 2, 3, 4]\n"
          ]
        }
      ],
      "source": [
        "print(lista1)\n",
        "print(lista3)"
      ]
    },
    {
      "cell_type": "code",
      "execution_count": null,
      "metadata": {
        "colab": {
          "base_uri": "https://localhost:8080/"
        },
        "id": "F6z2MKs0rVcR",
        "outputId": "729ff113-d3fa-4f7b-ee03-c428f3848ed6"
      },
      "outputs": [
        {
          "name": "stdout",
          "output_type": "stream",
          "text": [
            "[1, 2, 3, 4, 5]\n",
            "[1, 2, 3, 4]\n"
          ]
        }
      ],
      "source": [
        "lista1.append(5)\n",
        "print(lista1)\n",
        "print(lista3)"
      ]
    },
    {
      "cell_type": "code",
      "execution_count": null,
      "metadata": {
        "colab": {
          "base_uri": "https://localhost:8080/"
        },
        "id": "yTjDRCzvQP6S",
        "outputId": "370ec14a-da55-4e7b-bd6a-4ce890ee7c84"
      },
      "outputs": [
        {
          "data": {
            "text/plain": [
              "[1, 2]"
            ]
          },
          "execution_count": 54,
          "metadata": {
            "tags": []
          },
          "output_type": "execute_result"
        }
      ],
      "source": [
        "x.get('Joao')"
      ]
    },
    {
      "cell_type": "code",
      "execution_count": null,
      "metadata": {
        "colab": {
          "base_uri": "https://localhost:8080/"
        },
        "id": "zZp19Vnknz2o",
        "outputId": "957bcfe2-0a8d-41bf-bf05-ae5f945cd885"
      },
      "outputs": [
        {
          "data": {
            "text/plain": [
              "[1, 2]"
            ]
          },
          "execution_count": 55,
          "metadata": {
            "tags": []
          },
          "output_type": "execute_result"
        }
      ],
      "source": [
        "y.get('Joao')"
      ]
    },
    {
      "cell_type": "code",
      "execution_count": null,
      "metadata": {
        "colab": {
          "base_uri": "https://localhost:8080/"
        },
        "id": "Af9hatjkQX_a",
        "outputId": "eeee09a9-5f84-4324-c4b7-a12734bd5b9c"
      },
      "outputs": [
        {
          "name": "stdout",
          "output_type": "stream",
          "text": [
            "None\n"
          ]
        }
      ],
      "source": [
        "print(x.get('Ze'))"
      ]
    },
    {
      "cell_type": "code",
      "execution_count": null,
      "metadata": {
        "colab": {
          "base_uri": "https://localhost:8080/",
          "height": 36
        },
        "id": "GVNnP9esQbK4",
        "outputId": "5a2e6ca4-4d32-499e-bd05-cd8e8e7e3d2a"
      },
      "outputs": [
        {
          "data": {
            "application/vnd.google.colaboratory.intrinsic+json": {
              "type": "string"
            },
            "text/plain": [
              "'N/A'"
            ]
          },
          "execution_count": 58,
          "metadata": {
            "tags": []
          },
          "output_type": "execute_result"
        }
      ],
      "source": [
        "x.get('Ze', 'N/A')"
      ]
    },
    {
      "cell_type": "code",
      "execution_count": null,
      "metadata": {
        "colab": {
          "base_uri": "https://localhost:8080/"
        },
        "id": "uzu9L3ckQhty",
        "outputId": "b0095162-8c0d-496b-d187-48f7cd057290"
      },
      "outputs": [
        {
          "data": {
            "text/plain": [
              "dict_keys(['Joao', 'Maria'])"
            ]
          },
          "execution_count": 59,
          "metadata": {
            "tags": []
          },
          "output_type": "execute_result"
        }
      ],
      "source": [
        "y.keys()"
      ]
    },
    {
      "cell_type": "code",
      "execution_count": null,
      "metadata": {
        "colab": {
          "base_uri": "https://localhost:8080/"
        },
        "id": "f6xRzSolQln-",
        "outputId": "04b74781-2862-4c42-af93-af318ace385d"
      },
      "outputs": [
        {
          "data": {
            "text/plain": [
              "dict_values([[1, 2], [3, 4]])"
            ]
          },
          "execution_count": 60,
          "metadata": {
            "tags": []
          },
          "output_type": "execute_result"
        }
      ],
      "source": [
        "y.values()"
      ]
    },
    {
      "cell_type": "markdown",
      "metadata": {
        "id": "8QiBiIaCQrYG"
      },
      "source": [
        "Exercício: Refaça a implementação da agenda telefônica já realizada em uma aula passada ao definir uma classe Agenda que utiliza um dicionário interno para guardar os contatos. Assuma a seguinte interface para a classe agenda:\n",
        "\n",
        "* vazia()   // retorna True se a agenda esta vazia, False caso contrário\n",
        "* len(agenda)  // sobrecarrega o método __len__(self)\n",
        "* insereContato(nome, telefone)\n",
        "* removeContato(nome)   // retorna Ture se o contato existe e foi removido, False caso contrário\n",
        "* existeContato(nome)  // retorna True se o contato existe, False caso contrário\n",
        "* deQuemEhTel(telefone)  // retorna o nome do contato caso exista o numero na agenda, None caso não exista\n",
        "* limpa()  // limpa a agenda"
      ]
    },
    {
      "cell_type": "code",
      "execution_count": null,
      "metadata": {
        "id": "RdSpmlaoSdSb"
      },
      "outputs": [],
      "source": [
        "class Agenda:\n",
        "    \n",
        "    def __init__(self):\n",
        "        self._contatos = {}\n",
        "    \n",
        "    def vazia(self):\n",
        "        return len(self._contatos) == 0\n",
        "\n",
        "    def insereContato(self, nome, telefone):\n",
        "        self._contatos[nome] = telefone\n",
        "\n",
        "    def existeContato(self, nome):\n",
        "        return nome in self._contatos\n",
        "\n",
        "    def buscaTelefone(self, nome):\n",
        "        if (self.existeContato(nome)):\n",
        "            return self._contatos[nome]\n",
        "        return None\n",
        "\n",
        "    def deQuemEhTel(self, telefone):\n",
        "        for k,v in self._contatos.items():\n",
        "            if (v == telefone):\n",
        "                return k\n",
        "        return None"
      ]
    },
    {
      "cell_type": "code",
      "execution_count": null,
      "metadata": {
        "id": "Xb9ctb6858dU"
      },
      "outputs": [],
      "source": [
        "a = Agenda()"
      ]
    },
    {
      "cell_type": "code",
      "execution_count": null,
      "metadata": {
        "id": "82JKr0O16Gh8"
      },
      "outputs": [],
      "source": [
        "a.insereContato('andre', '111')\n",
        "a.insereContato('joao', '222')"
      ]
    },
    {
      "cell_type": "code",
      "execution_count": null,
      "metadata": {
        "colab": {
          "base_uri": "https://localhost:8080/"
        },
        "id": "tqkiUXpt6JNr",
        "outputId": "1d58d45a-53e2-4c05-d57d-2d38cb9a9d57"
      },
      "outputs": [
        {
          "name": "stdout",
          "output_type": "stream",
          "text": [
            "111\n",
            "False\n",
            "None\n",
            "joao\n"
          ]
        }
      ],
      "source": [
        "print(a.buscaTelefone('andre'))\n",
        "print(a.vazia())\n",
        "print(a.buscaTelefone('maria'))\n",
        "print(a.deQuemEhTel('222'))"
      ]
    }
  ],
  "metadata": {
    "colab": {
      "authorship_tag": "ABX9TyOvpLiVCPE8nsa7F2OVU+kF",
      "include_colab_link": true,
      "name": "aula8.ipynb",
      "provenance": [],
      "toc_visible": true
    },
    "kernelspec": {
      "display_name": "Python 3.8.8 ('base')",
      "language": "python",
      "name": "python3"
    },
    "language_info": {
      "name": "python",
      "version": "3.8.8"
    },
    "vscode": {
      "interpreter": {
        "hash": "c4f92193806e2908606a5f23edd55a5282f2f433b73b1c504507f9256ed9f0b4"
      }
    }
  },
  "nbformat": 4,
  "nbformat_minor": 0
}
