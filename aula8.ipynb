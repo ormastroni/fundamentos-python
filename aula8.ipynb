{
  "cells": [
    {
      "cell_type": "markdown",
      "metadata": {
        "id": "view-in-github",
        "colab_type": "text"
      },
      "source": [
        "<a href=\"https://colab.research.google.com/github/ormastroni/fundamentos-python/blob/main/aula8.ipynb\" target=\"_parent\"><img src=\"https://colab.research.google.com/assets/colab-badge.svg\" alt=\"Open In Colab\"/></a>"
      ]
    },
    {
      "cell_type": "markdown",
      "metadata": {
        "id": "jgXVzv66R8uD"
      },
      "source": [
        "# Fundamentos de Desenvolvimento Python"
      ]
    },
    {
      "cell_type": "markdown",
      "metadata": {
        "id": "XMol0EmtSFXZ"
      },
      "source": [
        "## Prof. Andre Victor"
      ]
    },
    {
      "cell_type": "markdown",
      "metadata": {
        "id": "2V5ItdPtSJ-5"
      },
      "source": [
        "### Dicionários\n",
        "\n",
        "Dicionários são estruturas de dados indexadas por chaves (keys), que podem ser de qualquer tipo imutável (como strings e inteiros). Tuplas também podem ser chaves se contiverem apenas strings, inteiros ou outras tuplas.\n",
        "\n",
        "Um bom modelo mental é imaginar um dicionário como um conjunto não-ordenado de pares chave:valor, onde as chaves são únicas em uma dada instância do dicionário, ou sejan não existem dados diferentes com a mesma chave. Dicionários são delimitados por chaves: {}, e contém uma lista de pares chave:valor separada por vírgulas. O dicionário vazio é {}."
      ]
    },
    {
      "cell_type": "markdown",
      "metadata": {
        "id": "7GKMA39fTuk7"
      },
      "source": [
        "As principais operações em um dicionário são armazenar e recuperar valores a partir de chaves. Também é possível remover um par chave:valor com o comando del. Se você armazenar um valor utilizando uma chave já presente, o antigo valor será substituído pelo novo. Se tentar recuperar um valor usando uma chave inexistente, será gerado um erro."
      ]
    },
    {
      "cell_type": "markdown",
      "metadata": {
        "id": "Ok5IUaDS7i47"
      },
      "source": [
        "Executar list(d) em um dicionário devolve a lista de todas as chaves presentes no dicionário, na ordem de inserção (se desejar ordená-las basta usar a função sorted(d)). Para verificar a existência de uma chave, use o operador in."
      ]
    },
    {
      "cell_type": "code",
      "execution_count": 1,
      "metadata": {
        "colab": {
          "base_uri": "https://localhost:8080/",
          "height": 35
        },
        "id": "RSRJM1RHR4om",
        "outputId": "53b0ca73-4c3d-439e-b6a6-a75718d7756e"
      },
      "outputs": [
        {
          "output_type": "execute_result",
          "data": {
            "text/plain": [
              "'1111'"
            ],
            "application/vnd.google.colaboratory.intrinsic+json": {
              "type": "string"
            }
          },
          "metadata": {},
          "execution_count": 1
        }
      ],
      "source": [
        "agenda = {'andre': '1111', 'maria':'2222'}\n",
        "agenda['andre']"
      ]
    },
    {
      "cell_type": "code",
      "execution_count": 2,
      "metadata": {
        "id": "jMT5ZSJBez_6"
      },
      "outputs": [],
      "source": [
        "dic_vazio = {}"
      ]
    },
    {
      "cell_type": "code",
      "execution_count": 3,
      "metadata": {
        "colab": {
          "base_uri": "https://localhost:8080/"
        },
        "id": "0WrJGcOeUAxz",
        "outputId": "a7c7216d-99fe-46ec-85ed-db434e1e9f7d"
      },
      "outputs": [
        {
          "output_type": "execute_result",
          "data": {
            "text/plain": [
              "0"
            ]
          },
          "metadata": {},
          "execution_count": 3
        }
      ],
      "source": [
        "len(dic_vazio)"
      ]
    },
    {
      "cell_type": "code",
      "execution_count": 4,
      "metadata": {
        "colab": {
          "base_uri": "https://localhost:8080/"
        },
        "id": "ZDTNC5whUETH",
        "outputId": "38bd3304-2694-441d-ba55-5e0132a8960e"
      },
      "outputs": [
        {
          "output_type": "execute_result",
          "data": {
            "text/plain": [
              "2"
            ]
          },
          "metadata": {},
          "execution_count": 4
        }
      ],
      "source": [
        "len(agenda)"
      ]
    },
    {
      "cell_type": "code",
      "execution_count": 5,
      "metadata": {
        "colab": {
          "base_uri": "https://localhost:8080/"
        },
        "id": "FanLsX4TUgGa",
        "outputId": "814284a7-88e6-411b-fb62-28b8b0f1cf43"
      },
      "outputs": [
        {
          "output_type": "execute_result",
          "data": {
            "text/plain": [
              "{'andre': '1111', 'maria': '2222', 'cecilia': '3333'}"
            ]
          },
          "metadata": {},
          "execution_count": 5
        }
      ],
      "source": [
        "agenda['cecilia'] = '3333'\n",
        "agenda"
      ]
    },
    {
      "cell_type": "code",
      "execution_count": 6,
      "metadata": {
        "colab": {
          "base_uri": "https://localhost:8080/"
        },
        "id": "hfXUlPesfKaP",
        "outputId": "61b285aa-349b-482c-f38b-7d21ab6ba21c"
      },
      "outputs": [
        {
          "output_type": "stream",
          "name": "stdout",
          "text": [
            "{'andre': '1111', 'maria': '2222', 'cecilia': '3333'}\n"
          ]
        }
      ],
      "source": [
        "print(agenda)"
      ]
    },
    {
      "cell_type": "code",
      "execution_count": 8,
      "metadata": {
        "colab": {
          "base_uri": "https://localhost:8080/"
        },
        "id": "QDG6K5F8fW7u",
        "outputId": "5397509c-c301-4f71-9ce4-f36d242e7571"
      },
      "outputs": [
        {
          "output_type": "stream",
          "name": "stdout",
          "text": [
            "<class 'dict'>\n"
          ]
        }
      ],
      "source": [
        "print(type(agenda))"
      ]
    },
    {
      "cell_type": "code",
      "execution_count": 9,
      "metadata": {
        "colab": {
          "base_uri": "https://localhost:8080/"
        },
        "id": "Goc0kKsEH0WK",
        "outputId": "d52936c6-62bd-4b03-b17a-d0cd8c80c04d"
      },
      "outputs": [
        {
          "output_type": "execute_result",
          "data": {
            "text/plain": [
              "dict"
            ]
          },
          "metadata": {},
          "execution_count": 9
        }
      ],
      "source": [
        "type(agenda)"
      ]
    },
    {
      "cell_type": "code",
      "execution_count": 10,
      "metadata": {
        "colab": {
          "base_uri": "https://localhost:8080/"
        },
        "id": "2FzKKhw_e_tR",
        "outputId": "c04c8a2b-7de7-46f6-d985-c4997f70af13"
      },
      "outputs": [
        {
          "output_type": "execute_result",
          "data": {
            "text/plain": [
              "['andre', 'maria', 'cecilia']"
            ]
          },
          "metadata": {},
          "execution_count": 10
        }
      ],
      "source": [
        "list(agenda)"
      ]
    },
    {
      "cell_type": "code",
      "execution_count": 11,
      "metadata": {
        "colab": {
          "base_uri": "https://localhost:8080/"
        },
        "id": "O0IRjgBCCkB7",
        "outputId": "c3e94e0a-1641-418a-eaf7-cf413200410d"
      },
      "outputs": [
        {
          "output_type": "execute_result",
          "data": {
            "text/plain": [
              "['andre', 'cecilia', 'maria']"
            ]
          },
          "metadata": {},
          "execution_count": 11
        }
      ],
      "source": [
        "sorted(agenda)"
      ]
    },
    {
      "cell_type": "code",
      "execution_count": 12,
      "metadata": {
        "colab": {
          "base_uri": "https://localhost:8080/"
        },
        "id": "0Kd-c_y_C1mM",
        "outputId": "508c1189-bcd1-4d94-f735-81df87f0149d"
      },
      "outputs": [
        {
          "output_type": "execute_result",
          "data": {
            "text/plain": [
              "{'andre': '1111', 'maria': '2222', 'cecilia': '3333'}"
            ]
          },
          "metadata": {},
          "execution_count": 12
        }
      ],
      "source": [
        "agenda"
      ]
    },
    {
      "cell_type": "code",
      "execution_count": 13,
      "metadata": {
        "colab": {
          "base_uri": "https://localhost:8080/"
        },
        "id": "j5IMZULoC8d4",
        "outputId": "e90e1144-53f8-4bd3-f79e-e92c94cf37cc"
      },
      "outputs": [
        {
          "output_type": "execute_result",
          "data": {
            "text/plain": [
              "True"
            ]
          },
          "metadata": {},
          "execution_count": 13
        }
      ],
      "source": [
        "'cecilia' in agenda"
      ]
    },
    {
      "cell_type": "code",
      "source": [
        "'joao' in agenda"
      ],
      "metadata": {
        "id": "Fw9ehoELrwAr",
        "outputId": "f831f490-6023-4f9d-b578-7af6f8c7e1ef",
        "colab": {
          "base_uri": "https://localhost:8080/"
        }
      },
      "execution_count": 14,
      "outputs": [
        {
          "output_type": "execute_result",
          "data": {
            "text/plain": [
              "False"
            ]
          },
          "metadata": {},
          "execution_count": 14
        }
      ]
    },
    {
      "cell_type": "code",
      "execution_count": 15,
      "metadata": {
        "colab": {
          "base_uri": "https://localhost:8080/",
          "height": 166
        },
        "id": "ppW0z1RZKaCz",
        "outputId": "f1682464-775c-46b0-a0db-7e971a64a889"
      },
      "outputs": [
        {
          "output_type": "error",
          "ename": "KeyError",
          "evalue": "ignored",
          "traceback": [
            "\u001b[0;31m---------------------------------------------------------------------------\u001b[0m",
            "\u001b[0;31mKeyError\u001b[0m                                  Traceback (most recent call last)",
            "\u001b[0;32m<ipython-input-15-25f792972dff>\u001b[0m in \u001b[0;36m<module>\u001b[0;34m\u001b[0m\n\u001b[0;32m----> 1\u001b[0;31m \u001b[0magenda\u001b[0m\u001b[0;34m[\u001b[0m\u001b[0;34m'ze'\u001b[0m\u001b[0;34m]\u001b[0m\u001b[0;34m\u001b[0m\u001b[0;34m\u001b[0m\u001b[0m\n\u001b[0m",
            "\u001b[0;31mKeyError\u001b[0m: 'ze'"
          ]
        }
      ],
      "source": [
        "agenda['ze']"
      ]
    },
    {
      "cell_type": "code",
      "source": [
        "a = agenda.get('Ze', 'Chave inexistente')\n",
        "print(a)"
      ],
      "metadata": {
        "id": "x5HxfqxLtXw8",
        "outputId": "8597ae5d-1761-4e95-e9a5-f86724a981be",
        "colab": {
          "base_uri": "https://localhost:8080/"
        }
      },
      "execution_count": 23,
      "outputs": [
        {
          "output_type": "stream",
          "name": "stdout",
          "text": [
            "Chave inexistente\n"
          ]
        }
      ]
    },
    {
      "cell_type": "markdown",
      "metadata": {
        "id": "kIeVxMB2DVnO"
      },
      "source": [
        "O construtor dict() produz dicionários diretamente de lista tuplas de pares chave-valor:"
      ]
    },
    {
      "cell_type": "code",
      "execution_count": 16,
      "metadata": {
        "colab": {
          "base_uri": "https://localhost:8080/"
        },
        "id": "pFO4YpcgfF4f",
        "outputId": "5f39a522-bd22-4c10-f810-1e9a770a03d5"
      },
      "outputs": [
        {
          "output_type": "execute_result",
          "data": {
            "text/plain": [
              "{'andre': '1111', 'maria': '2222', 'cecilia': '3333'}"
            ]
          },
          "metadata": {},
          "execution_count": 16
        }
      ],
      "source": [
        "lista = [('andre', '1111'), ('maria', '2222'), ('cecilia', '3333')]\n",
        "outra_agenda = dict(lista)\n",
        "outra_agenda"
      ]
    },
    {
      "cell_type": "code",
      "execution_count": 17,
      "metadata": {
        "id": "bHz4Yge6rg0C"
      },
      "outputs": [],
      "source": [
        "del outra_agenda['maria']"
      ]
    },
    {
      "cell_type": "code",
      "execution_count": 18,
      "metadata": {
        "colab": {
          "base_uri": "https://localhost:8080/"
        },
        "id": "OsJZgEU0F6h8",
        "outputId": "f6bfe0fc-02c1-4874-fe4b-dd5b4908696c"
      },
      "outputs": [
        {
          "output_type": "execute_result",
          "data": {
            "text/plain": [
              "{'andre': '1111', 'cecilia': '3333'}"
            ]
          },
          "metadata": {},
          "execution_count": 18
        }
      ],
      "source": [
        "outra_agenda"
      ]
    },
    {
      "cell_type": "markdown",
      "metadata": {
        "id": "jrbl8Vk_xvjr"
      },
      "source": [
        "Iterações em dicionários\n"
      ]
    },
    {
      "cell_type": "code",
      "execution_count": 19,
      "metadata": {
        "colab": {
          "base_uri": "https://localhost:8080/"
        },
        "id": "8c5RecYZUrU1",
        "outputId": "aba7d288-b101-4093-eaf5-a2a7daa50acd"
      },
      "outputs": [
        {
          "output_type": "stream",
          "name": "stdout",
          "text": [
            "andre 1111\n",
            "maria 2222\n",
            "cecilia 3333\n"
          ]
        }
      ],
      "source": [
        "for k, v in agenda.items():\n",
        "  print(k, v)"
      ]
    },
    {
      "cell_type": "markdown",
      "metadata": {
        "id": "kZHEVT3qybBX"
      },
      "source": [
        "Interface de dicionários:\n",
        "\n",
        "* clear()\n",
        "* copy()\n",
        "* fromKeys(lista, valor)\n",
        "* get(chave, valor)\n",
        "* has_key(chave)\n",
        "* items()\n",
        "* keys()\n",
        "* values()\n",
        "* pop(chave)\n",
        "* popitem()\n",
        "* update(dic)"
      ]
    },
    {
      "cell_type": "markdown",
      "metadata": {
        "id": "w02-77WzNyM8"
      },
      "source": [
        "Modificar um objeto apontado por duas variáveis, modifica as duas variáveis"
      ]
    },
    {
      "cell_type": "code",
      "execution_count": 24,
      "metadata": {
        "colab": {
          "base_uri": "https://localhost:8080/"
        },
        "id": "F6cF9XQOiIJX",
        "outputId": "7858bddc-2170-4739-fb0f-0daf54326273"
      },
      "outputs": [
        {
          "output_type": "execute_result",
          "data": {
            "text/plain": [
              "{'andre': '1111', 'cecilia': '3333'}"
            ]
          },
          "metadata": {},
          "execution_count": 24
        }
      ],
      "source": [
        "outra_agenda"
      ]
    },
    {
      "cell_type": "code",
      "execution_count": 25,
      "metadata": {
        "id": "pVuZONh3M3zR"
      },
      "outputs": [],
      "source": [
        "nova_agenda = outra_agenda.copy()"
      ]
    },
    {
      "cell_type": "code",
      "execution_count": 26,
      "metadata": {
        "colab": {
          "base_uri": "https://localhost:8080/"
        },
        "id": "B29kRam2NYZz",
        "outputId": "59a58177-5e20-43c6-d7f8-f89a89e8b225"
      },
      "outputs": [
        {
          "output_type": "stream",
          "name": "stdout",
          "text": [
            "{'andre': '1111', 'cecilia': '3333'}\n",
            "{'andre': '1111', 'cecilia': '3333'}\n"
          ]
        }
      ],
      "source": [
        "print(nova_agenda)\n",
        "print(outra_agenda)"
      ]
    },
    {
      "cell_type": "code",
      "execution_count": 27,
      "metadata": {
        "id": "sLvddqIFNlnI"
      },
      "outputs": [],
      "source": [
        "outra_agenda.clear()"
      ]
    },
    {
      "cell_type": "code",
      "execution_count": 28,
      "metadata": {
        "colab": {
          "base_uri": "https://localhost:8080/"
        },
        "id": "w2XOm_jYNdsk",
        "outputId": "39874449-1bec-4f64-a69b-a0815b9cfc18"
      },
      "outputs": [
        {
          "output_type": "stream",
          "name": "stdout",
          "text": [
            "{'andre': '1111', 'cecilia': '3333'}\n",
            "{}\n"
          ]
        }
      ],
      "source": [
        "print(nova_agenda)\n",
        "print(outra_agenda)"
      ]
    },
    {
      "cell_type": "markdown",
      "metadata": {
        "id": "1PoEwdxFOdvA"
      },
      "source": [
        "Entretanto, isso é diferente de atrbuir {} à variável"
      ]
    },
    {
      "cell_type": "code",
      "execution_count": 30,
      "metadata": {
        "colab": {
          "base_uri": "https://localhost:8080/"
        },
        "id": "vasasASXOlQ2",
        "outputId": "c133512a-c1d1-4b5f-8475-0d9df3f5ffc2"
      },
      "outputs": [
        {
          "output_type": "stream",
          "name": "stdout",
          "text": [
            "{'andre': '1111', 'maria': '2222', 'cecilia': '3333'}\n",
            "{'andre': '1111', 'maria': '2222', 'cecilia': '3333'}\n"
          ]
        }
      ],
      "source": [
        "nova_agenda = agenda\n",
        "print(nova_agenda)\n",
        "print(agenda)"
      ]
    },
    {
      "cell_type": "code",
      "execution_count": 31,
      "metadata": {
        "colab": {
          "base_uri": "https://localhost:8080/"
        },
        "id": "dAkUcvUxOvY3",
        "outputId": "1b6f72fb-c0df-4fa7-a9d8-350034f369fe"
      },
      "outputs": [
        {
          "output_type": "stream",
          "name": "stdout",
          "text": [
            "{'andre': '1111', 'maria': '2222', 'cecilia': '3333'}\n",
            "{}\n"
          ]
        }
      ],
      "source": [
        "agenda = {}\n",
        "print(nova_agenda)\n",
        "print(agenda)\n"
      ]
    },
    {
      "cell_type": "markdown",
      "metadata": {
        "id": "tFeJqRTAPa1X"
      },
      "source": [
        "Outro exemplo de referências a objetos"
      ]
    },
    {
      "cell_type": "code",
      "execution_count": 32,
      "metadata": {
        "id": "GxrEN25sPeeB"
      },
      "outputs": [],
      "source": [
        "x = {\"Joao\":[1,2], \"Maria\":[3,4]}"
      ]
    },
    {
      "cell_type": "code",
      "execution_count": 33,
      "metadata": {
        "colab": {
          "base_uri": "https://localhost:8080/"
        },
        "id": "Ggwxu4csPhij",
        "outputId": "d5e9ec15-97bc-4609-9ca4-6b26c8568850"
      },
      "outputs": [
        {
          "output_type": "stream",
          "name": "stdout",
          "text": [
            "{'Joao': [1, 2], 'Maria': [3, 4]}\n",
            "{'Joao': [1, 2], 'Maria': [3, 4]}\n"
          ]
        }
      ],
      "source": [
        "y = x.copy()\n",
        "print(y)\n",
        "print(x)"
      ]
    },
    {
      "cell_type": "code",
      "execution_count": 34,
      "metadata": {
        "id": "BDGYEaliPqJW"
      },
      "outputs": [],
      "source": [
        "x['Pedro'] = [5,6]\n",
        "# y[\"Pedro\"] = [5,6]\n",
        "# x[\"Joao\"] += [3]"
      ]
    },
    {
      "cell_type": "code",
      "execution_count": 35,
      "metadata": {
        "colab": {
          "base_uri": "https://localhost:8080/"
        },
        "id": "L3gsXtyHP0GW",
        "outputId": "99b8eb06-d6e1-44e4-b221-69219bd2cec6"
      },
      "outputs": [
        {
          "output_type": "stream",
          "name": "stdout",
          "text": [
            "{'Joao': [1, 2], 'Maria': [3, 4], 'Pedro': [5, 6]}\n",
            "{'Joao': [1, 2], 'Maria': [3, 4]}\n"
          ]
        }
      ],
      "source": [
        "print(x)\n",
        "print(y)"
      ]
    },
    {
      "cell_type": "code",
      "execution_count": 36,
      "metadata": {
        "id": "jGiwjNtgq1Wd"
      },
      "outputs": [],
      "source": [
        "lista1 = [1,2,3]\n",
        "lista2 = lista1"
      ]
    },
    {
      "cell_type": "code",
      "execution_count": 37,
      "metadata": {
        "colab": {
          "base_uri": "https://localhost:8080/"
        },
        "id": "sYd1MAjBq-Q0",
        "outputId": "679ad753-f306-4579-c0f5-21c012a37f38"
      },
      "outputs": [
        {
          "output_type": "stream",
          "name": "stdout",
          "text": [
            "[1, 2, 3]\n",
            "[1, 2, 3]\n"
          ]
        }
      ],
      "source": [
        "print(lista1)\n",
        "print(lista2)"
      ]
    },
    {
      "cell_type": "code",
      "execution_count": 38,
      "metadata": {
        "id": "qlClJFAwrBi-"
      },
      "outputs": [],
      "source": [
        "lista1.append(4)"
      ]
    },
    {
      "cell_type": "code",
      "execution_count": 39,
      "metadata": {
        "colab": {
          "base_uri": "https://localhost:8080/"
        },
        "id": "_EOsaOxmrGR_",
        "outputId": "14df0c0e-83cb-4fd3-edd6-a9ce6e65310e"
      },
      "outputs": [
        {
          "output_type": "stream",
          "name": "stdout",
          "text": [
            "[1, 2, 3, 4]\n",
            "[1, 2, 3, 4]\n"
          ]
        }
      ],
      "source": [
        "print(lista1)\n",
        "print(lista2)"
      ]
    },
    {
      "cell_type": "code",
      "execution_count": null,
      "metadata": {
        "id": "V1EXAABzrMf-"
      },
      "outputs": [],
      "source": [
        "lista3 = lista1.copy()"
      ]
    },
    {
      "cell_type": "code",
      "execution_count": null,
      "metadata": {
        "colab": {
          "base_uri": "https://localhost:8080/"
        },
        "id": "zgaZsfTirRVb",
        "outputId": "1e18d938-ef84-4896-bf4a-90350a5830d7"
      },
      "outputs": [
        {
          "name": "stdout",
          "output_type": "stream",
          "text": [
            "[1, 2, 3, 4]\n",
            "[1, 2, 3, 4]\n"
          ]
        }
      ],
      "source": [
        "print(lista1)\n",
        "print(lista3)"
      ]
    },
    {
      "cell_type": "code",
      "execution_count": null,
      "metadata": {
        "colab": {
          "base_uri": "https://localhost:8080/"
        },
        "id": "F6z2MKs0rVcR",
        "outputId": "729ff113-d3fa-4f7b-ee03-c428f3848ed6"
      },
      "outputs": [
        {
          "name": "stdout",
          "output_type": "stream",
          "text": [
            "[1, 2, 3, 4, 5]\n",
            "[1, 2, 3, 4]\n"
          ]
        }
      ],
      "source": [
        "lista1.append(5)\n",
        "print(lista1)\n",
        "print(lista3)"
      ]
    },
    {
      "cell_type": "code",
      "execution_count": null,
      "metadata": {
        "colab": {
          "base_uri": "https://localhost:8080/"
        },
        "id": "yTjDRCzvQP6S",
        "outputId": "370ec14a-da55-4e7b-bd6a-4ce890ee7c84"
      },
      "outputs": [
        {
          "data": {
            "text/plain": [
              "[1, 2]"
            ]
          },
          "execution_count": 54,
          "metadata": {
            "tags": []
          },
          "output_type": "execute_result"
        }
      ],
      "source": [
        "x.get('Joao')"
      ]
    },
    {
      "cell_type": "code",
      "execution_count": null,
      "metadata": {
        "colab": {
          "base_uri": "https://localhost:8080/"
        },
        "id": "zZp19Vnknz2o",
        "outputId": "957bcfe2-0a8d-41bf-bf05-ae5f945cd885"
      },
      "outputs": [
        {
          "data": {
            "text/plain": [
              "[1, 2]"
            ]
          },
          "execution_count": 55,
          "metadata": {
            "tags": []
          },
          "output_type": "execute_result"
        }
      ],
      "source": [
        "y.get('Joao')"
      ]
    },
    {
      "cell_type": "code",
      "execution_count": null,
      "metadata": {
        "colab": {
          "base_uri": "https://localhost:8080/"
        },
        "id": "Af9hatjkQX_a",
        "outputId": "eeee09a9-5f84-4324-c4b7-a12734bd5b9c"
      },
      "outputs": [
        {
          "name": "stdout",
          "output_type": "stream",
          "text": [
            "None\n"
          ]
        }
      ],
      "source": [
        "print(x.get('Ze'))"
      ]
    },
    {
      "cell_type": "code",
      "execution_count": null,
      "metadata": {
        "colab": {
          "base_uri": "https://localhost:8080/",
          "height": 36
        },
        "id": "GVNnP9esQbK4",
        "outputId": "5a2e6ca4-4d32-499e-bd05-cd8e8e7e3d2a"
      },
      "outputs": [
        {
          "data": {
            "application/vnd.google.colaboratory.intrinsic+json": {
              "type": "string"
            },
            "text/plain": [
              "'N/A'"
            ]
          },
          "execution_count": 58,
          "metadata": {
            "tags": []
          },
          "output_type": "execute_result"
        }
      ],
      "source": [
        "x.get('Ze', 'N/A')"
      ]
    },
    {
      "cell_type": "code",
      "execution_count": null,
      "metadata": {
        "colab": {
          "base_uri": "https://localhost:8080/"
        },
        "id": "uzu9L3ckQhty",
        "outputId": "b0095162-8c0d-496b-d187-48f7cd057290"
      },
      "outputs": [
        {
          "data": {
            "text/plain": [
              "dict_keys(['Joao', 'Maria'])"
            ]
          },
          "execution_count": 59,
          "metadata": {
            "tags": []
          },
          "output_type": "execute_result"
        }
      ],
      "source": [
        "y.keys()"
      ]
    },
    {
      "cell_type": "code",
      "execution_count": null,
      "metadata": {
        "colab": {
          "base_uri": "https://localhost:8080/"
        },
        "id": "f6xRzSolQln-",
        "outputId": "04b74781-2862-4c42-af93-af318ace385d"
      },
      "outputs": [
        {
          "data": {
            "text/plain": [
              "dict_values([[1, 2], [3, 4]])"
            ]
          },
          "execution_count": 60,
          "metadata": {
            "tags": []
          },
          "output_type": "execute_result"
        }
      ],
      "source": [
        "y.values()"
      ]
    },
    {
      "cell_type": "markdown",
      "metadata": {
        "id": "8QiBiIaCQrYG"
      },
      "source": [
        "Exercício: Refaça a implementação da agenda telefônica já realizada em uma aula passada ao definir uma classe Agenda que utiliza um dicionário interno para guardar os contatos. Assuma a seguinte interface para a classe agenda:\n",
        "\n",
        "* vazia()   // retorna True se a agenda esta vazia, False caso contrário\n",
        "* len(agenda)  // sobrecarrega o método __len__(self)\n",
        "* insereContato(nome, telefone)\n",
        "* removeContato(nome)   // retorna Ture se o contato existe e foi removido, False caso contrário\n",
        "* existeContato(nome)  // retorna True se o contato existe, False caso contrário\n",
        "* deQuemEhTel(telefone)  // retorna o nome do contato caso exista o numero na agenda, None caso não exista\n",
        "* limpa()  // limpa a agenda"
      ]
    },
    {
      "cell_type": "code",
      "execution_count": null,
      "metadata": {
        "id": "RdSpmlaoSdSb"
      },
      "outputs": [],
      "source": [
        "class Agenda:\n",
        "    \n",
        "    def __init__(self):\n",
        "        self._contatos = {}\n",
        "    \n",
        "    def vazia(self):\n",
        "        return len(self._contatos) == 0\n",
        "\n",
        "    def insereContato(self, nome, telefone):\n",
        "        if self.existeContato(nome):\n",
        "          return False\n",
        "        self._contatos[nome] = telefone\n",
        "        return True\n",
        "\n",
        "    def existeContato(self, nome):\n",
        "        return nome in self._contatos\n",
        "\n",
        "    def buscaTelefone(self, nome):\n",
        "        if (self.existeContato(nome)):\n",
        "            return self._contatos[nome]\n",
        "        return None\n",
        "\n",
        "    def deQuemEhTel(self, telefone):\n",
        "        for k,v in self._contatos.items():\n",
        "            if (v == telefone):\n",
        "                return k\n",
        "        return None"
      ]
    },
    {
      "cell_type": "code",
      "execution_count": null,
      "metadata": {
        "id": "Xb9ctb6858dU"
      },
      "outputs": [],
      "source": [
        "a = Agenda()"
      ]
    },
    {
      "cell_type": "code",
      "execution_count": null,
      "metadata": {
        "id": "82JKr0O16Gh8"
      },
      "outputs": [],
      "source": [
        "a.insereContato('andre', '111')\n",
        "a.insereContato('joao', '222')"
      ]
    },
    {
      "cell_type": "code",
      "execution_count": null,
      "metadata": {
        "colab": {
          "base_uri": "https://localhost:8080/"
        },
        "id": "tqkiUXpt6JNr",
        "outputId": "1d58d45a-53e2-4c05-d57d-2d38cb9a9d57"
      },
      "outputs": [
        {
          "name": "stdout",
          "output_type": "stream",
          "text": [
            "111\n",
            "False\n",
            "None\n",
            "joao\n"
          ]
        }
      ],
      "source": [
        "print(a.buscaTelefone('andre'))\n",
        "print(a.vazia())\n",
        "print(a.buscaTelefone('maria'))\n",
        "print(a.deQuemEhTel('222'))"
      ]
    }
  ],
  "metadata": {
    "colab": {
      "name": "aula8.ipynb",
      "provenance": [],
      "toc_visible": true,
      "authorship_tag": "ABX9TyPnCiWERX1xqOA/nycWWahl",
      "include_colab_link": true
    },
    "kernelspec": {
      "display_name": "Python 3.8.8 ('base')",
      "language": "python",
      "name": "python3"
    },
    "language_info": {
      "name": "python",
      "version": "3.8.8"
    },
    "vscode": {
      "interpreter": {
        "hash": "c4f92193806e2908606a5f23edd55a5282f2f433b73b1c504507f9256ed9f0b4"
      }
    }
  },
  "nbformat": 4,
  "nbformat_minor": 0
}