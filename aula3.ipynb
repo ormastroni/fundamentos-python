{
  "nbformat": 4,
  "nbformat_minor": 0,
  "metadata": {
    "colab": {
      "name": "aula3.ipynb",
      "provenance": [],
      "authorship_tag": "ABX9TyP7XtTxJMFj9xAA9SWBA0I/",
      "include_colab_link": true
    },
    "kernelspec": {
      "name": "python3",
      "display_name": "Python 3"
    },
    "language_info": {
      "name": "python"
    }
  },
  "cells": [
    {
      "cell_type": "markdown",
      "metadata": {
        "id": "view-in-github",
        "colab_type": "text"
      },
      "source": [
        "<a href=\"https://colab.research.google.com/github/ormastroni/fundamentos-python/blob/main/aula3.ipynb\" target=\"_parent\"><img src=\"https://colab.research.google.com/assets/colab-badge.svg\" alt=\"Open In Colab\"/></a>"
      ]
    },
    {
      "cell_type": "markdown",
      "metadata": {
        "id": "BqjDYQ6N5kz-"
      },
      "source": [
        "# Fundamentos de Desenvolvimento Python"
      ]
    },
    {
      "cell_type": "markdown",
      "metadata": {
        "id": "RuoJwLbk5r8T"
      },
      "source": [
        "## Prof. Andre Victor"
      ]
    },
    {
      "cell_type": "markdown",
      "metadata": {
        "id": "8aKEXINPeeB0"
      },
      "source": [
        "### Etapa 2 - Reforçando condicional, repetições, funções e recursividade\n",
        "Os exercícios dessa lista devem ser submetidos como parte do TP1"
      ]
    },
    {
      "cell_type": "markdown",
      "metadata": {
        "id": "xoxBLZm2u9gR"
      },
      "source": [
        "Escreva um código que leia 3 números do console e imprima o maior e o menor deles"
      ]
    },
    {
      "cell_type": "code",
      "metadata": {
        "id": "KWBXrSTzSgHD"
      },
      "source": [
        ""
      ],
      "execution_count": null,
      "outputs": []
    },
    {
      "cell_type": "markdown",
      "metadata": {
        "id": "SgmL9bOWxjLW"
      },
      "source": [
        "Refine o código anterior para ler primeiro a quantidade de números a serem lidos pelo console e depois imprima o maior e o menor"
      ]
    },
    {
      "cell_type": "code",
      "metadata": {
        "id": "8Ei3OstXShuF"
      },
      "source": [
        ""
      ],
      "execution_count": null,
      "outputs": []
    },
    {
      "cell_type": "markdown",
      "metadata": {
        "id": "6Pe83OZ3x2aJ"
      },
      "source": [
        "Escreva um código que leia as 4 notas bimestrais de um aluno da escola pelo console e imprima a média final do aluno"
      ]
    },
    {
      "cell_type": "code",
      "metadata": {
        "id": "kuoQ_c7qSpmg"
      },
      "source": [
        ""
      ],
      "execution_count": null,
      "outputs": []
    },
    {
      "cell_type": "markdown",
      "metadata": {
        "id": "Gg1I-SfWyP7J"
      },
      "source": [
        "Refina o código anterior para obter a quantidade de notas a serem avaliadas pelo console e gerar o conceito final do aluno a partir da média aritmética calculada.\n",
        "* Conceito A: entre 9 e 10 de média (incluindo os limites)\n",
        "* Conceito B: entre 7 (inclusive) e abaixo de 9 de média\n",
        "* Conceito C: entre 6 (inclusive) e abaixo de 7 de média\n",
        "* Conceito D: abaixo de 6 de média"
      ]
    },
    {
      "cell_type": "code",
      "metadata": {
        "id": "V54r76j7D8v4"
      },
      "source": [
        ""
      ],
      "execution_count": null,
      "outputs": []
    },
    {
      "cell_type": "markdown",
      "metadata": {
        "id": "gzbJty5Depvd"
      },
      "source": [
        "Escreva um código que some todos os números digitados pelo console até que o valor digitado seja ZERO (0)"
      ]
    },
    {
      "cell_type": "code",
      "metadata": {
        "id": "o2PpiE82B7Rq"
      },
      "source": [
        ""
      ],
      "execution_count": null,
      "outputs": []
    },
    {
      "cell_type": "markdown",
      "metadata": {
        "id": "yvuRILrzpNEm"
      },
      "source": [
        "Escreva uma função que calcula o salário líquido de um empregado a partir do salário bruto recebido como parâmetro.\n",
        "Base de cálculo:\n",
        "* Salário liquido = Salário bruto - desconto INSS - desconto IRRF\n",
        "\n",
        "Obs.: Vocês devem pesquisar as faixas de valores e as alíquotas de descontos do INSS para cada faixa e aplicar a alíquota conforme a faixa. O mesmo deve ser feito para o imposto de renda retido na fonte.\n",
        "\n",
        "Para maiores informações consultar:\n",
        "https://www.calculadorafacil.com.br/trabalhista/calculo-salario-liquido"
      ]
    },
    {
      "cell_type": "code",
      "metadata": {
        "id": "BtQ_OPto13re"
      },
      "source": [
        "def salario_liquido(salario_bruto):\n",
        "  ## A função de vocês vai retornar o valor do salário líquido em função das alíquotas da faixa salarial em que o salário bruto se enquadra"
      ],
      "execution_count": null,
      "outputs": []
    },
    {
      "cell_type": "markdown",
      "metadata": {
        "id": "Jx4TVwQK1ejB"
      },
      "source": [
        "Refine o código anterior para incluir um parâmetro na função que represente o número de dependentes do trabalhador. Se o valor for omitido, assuma que ele não tem dependentes (valor 0 por default)"
      ]
    },
    {
      "cell_type": "code",
      "metadata": {
        "id": "qM8idc4n16PA"
      },
      "source": [
        "def salario_liquido2(salario_bruto, num_depend=0):\n",
        "  ## 2 formas de invocar a função: salario_liquido2(1500, 2)\n",
        "  ##                                salario_liquido2(2000)"
      ],
      "execution_count": null,
      "outputs": []
    },
    {
      "cell_type": "markdown",
      "metadata": {
        "id": "JTsPL9M117MX"
      },
      "source": [
        "Implemente uma função que calcule as raízes de ume equação do segundo grau na forma ax2 + bx + c. O código deverá ler os valores de a, b e c do console e fazer as consistências, informando ao usuário nas seguintes situações:\n",
        "\n",
        "* Se o usuário informar o valor de A igual a zero, a equação não é do segundo grau e o programa não deve fazer pedir os demais valores, sendo encerrado;\n",
        "* Se o delta calculado for negativo, a equação não possui raizes reais. Informe ao usuário e encerre o programa;\n",
        "* Se o delta calculado for igual a zero a equação possui apenas uma raiz real; informe-a ao usuário;\n",
        "* Se o delta for positivo, a equação possui duas raiz reais; informe-as ao usuário; \n",
        "\n",
        "Lembrete:<br>\n",
        "<img src='https://drive.google.com/uc?id=1XTqta1SXhc2BGjoDQnpR_9GDwQy-90QW'>\n",
        "\n"
      ]
    },
    {
      "cell_type": "code",
      "metadata": {
        "id": "en2LHiruXfwB"
      },
      "source": [
        "def raizes(a,b,c):\n",
        "  ## Cálculo do delta, dos x (raízes)\n",
        "  return 2,3"
      ],
      "execution_count": null,
      "outputs": []
    },
    {
      "cell_type": "code",
      "metadata": {
        "id": "ASswfgF6XftN"
      },
      "source": [
        "x1,x2 = raizes(1,2,3)"
      ],
      "execution_count": null,
      "outputs": []
    },
    {
      "cell_type": "code",
      "metadata": {
        "id": "0ozOenkr2i38",
        "colab": {
          "base_uri": "https://localhost:8080/"
        },
        "outputId": "f75670df-6d62-481f-d9f1-6a23f639e09b"
      },
      "source": [
        "print(x1)\n",
        "print(x2)"
      ],
      "execution_count": null,
      "outputs": [
        {
          "output_type": "stream",
          "text": [
            "2\n",
            "3\n"
          ],
          "name": "stdout"
        }
      ]
    },
    {
      "cell_type": "markdown",
      "metadata": {
        "id": "Md24yakFCPbk"
      },
      "source": [
        "Escreva uma função que vai ler o número de litros abastecidos de uma bomba de combustível num posto de gasolina (entrada via console) e calcular o preço a ser pago pelo consumidor. Esta função recebe 3 parâmetros:\n",
        "* Número de litros abastecidos\n",
        "* Tipo de combustível: 'A': álcool e 'G': gasolina\n",
        "* Aditivada: True para os casos de abastecimento de gasolina aditivada (assuma que o default é False)\n",
        "Entre com os valores dos preços do álcool e gasolina comum pelo console, assumindo que o preço da gasolina aditivada é 20% mais cara do que o valor da comum.\n",
        "\n",
        "Considere que acima de 20 litros abastecidos o consumidor tem um desconto de 5% no valor do litro de gasolina ou 7% no valor do litro do álcool"
      ]
    },
    {
      "cell_type": "code",
      "metadata": {
        "id": "w_XijgnnD2hE"
      },
      "source": [
        ""
      ],
      "execution_count": null,
      "outputs": []
    },
    {
      "cell_type": "markdown",
      "metadata": {
        "id": "f4J8TF0cFYan"
      },
      "source": [
        "Implemente uma função que calcula o juros final pago na obtenção de um empréstimo financeiro, baseado no prazo informado e no valor das parcelas na simulação. Parâmetros a serem digitados pelo console:\n",
        "* Valor a ser contratado\n",
        "* Prazo do financiamento\n",
        "* Parcelas do empréstimo"
      ]
    },
    {
      "cell_type": "code",
      "metadata": {
        "id": "T-i6BGnfHWIP"
      },
      "source": [
        ""
      ],
      "execution_count": null,
      "outputs": []
    },
    {
      "cell_type": "markdown",
      "metadata": {
        "id": "bRJwisyUHWq_"
      },
      "source": [
        "Implemente uma função que calcule o retorno do investimento de um valor depositado em uma aplicação financeira a uma taxa de juros fixa. Parâmetros a serem passados para a função:\n",
        "* Valor depositado inicialmente\n",
        "* Taxa de juros de rendimento mensal (se for omitida, considere 2% ao mês)"
      ]
    },
    {
      "cell_type": "code",
      "metadata": {
        "id": "H8UPY04MIuOI"
      },
      "source": [
        ""
      ],
      "execution_count": null,
      "outputs": []
    },
    {
      "cell_type": "markdown",
      "metadata": {
        "id": "I_lfL7ReVJgc"
      },
      "source": [
        "Refine o código das duas funções anteriores para transformá-las em funções recursivas"
      ]
    },
    {
      "cell_type": "code",
      "metadata": {
        "id": "xESjGBsZWVah"
      },
      "source": [
        ""
      ],
      "execution_count": null,
      "outputs": []
    },
    {
      "cell_type": "markdown",
      "metadata": {
        "id": "w6czt6qOJJ4B"
      },
      "source": [
        "Faça um programa que leia uma quantidade indeterminada de números positivos e conte quantos deles estão nos seguintes intervalos: [0-25], [26-50], [51-75] e [76-100]. A entrada de dados pelo console deverá terminar quando for lido um número negativo."
      ]
    },
    {
      "cell_type": "code",
      "metadata": {
        "id": "RkAtHpoMJRSc"
      },
      "source": [
        ""
      ],
      "execution_count": null,
      "outputs": []
    },
    {
      "cell_type": "markdown",
      "metadata": {
        "id": "cljLubeSJTZi"
      },
      "source": [
        "Em uma eleição municipal existem quatro candidatos. Você deve programar a urna eletrônica para computar os votos por códigos. Os códigos utilizados são:\n",
        "\n",
        "* 1 , 2, 3, 4  - Votos para os respectivos candidatos (você deve montar a tabela ex: 1 - Jose/ 2- João/etc)\n",
        "* Será considerado um voto nulo o voto cujo código seja diferente dos valores 1,2,3 e 4\n",
        "\n",
        "Implemente uma função que simule a urna eletrônica e ela imprima ao final\n",
        "* O total de votos para cada candidato;\n",
        "* O total de votos nulos;\n",
        "* O percentual de votos válidos de cada candidato\n",
        "\n",
        "Para encerrar a votação em uma urna, basta digitar zero (0) na urna que os votos são computados e impressos"
      ]
    },
    {
      "cell_type": "code",
      "metadata": {
        "id": "bqKQ3VlgLSlh"
      },
      "source": [
        ""
      ],
      "execution_count": null,
      "outputs": []
    }
  ]
}