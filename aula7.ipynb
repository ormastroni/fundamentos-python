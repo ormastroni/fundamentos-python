{
  "nbformat": 4,
  "nbformat_minor": 0,
  "metadata": {
    "colab": {
      "name": "aula7.ipynb",
      "provenance": [],
      "toc_visible": true,
      "authorship_tag": "ABX9TyNH0QmLB1h8EVdjA+ersuZl",
      "include_colab_link": true
    },
    "kernelspec": {
      "name": "python3",
      "display_name": "Python 3"
    },
    "language_info": {
      "name": "python"
    }
  },
  "cells": [
    {
      "cell_type": "markdown",
      "metadata": {
        "id": "view-in-github",
        "colab_type": "text"
      },
      "source": [
        "<a href=\"https://colab.research.google.com/github/ormastroni/fundamentos-python/blob/main/aula7.ipynb\" target=\"_parent\"><img src=\"https://colab.research.google.com/assets/colab-badge.svg\" alt=\"Open In Colab\"/></a>"
      ]
    },
    {
      "cell_type": "markdown",
      "metadata": {
        "id": "jgXVzv66R8uD"
      },
      "source": [
        "# Fundamentos de Desenvolvimento Python"
      ]
    },
    {
      "cell_type": "markdown",
      "metadata": {
        "id": "XMol0EmtSFXZ"
      },
      "source": [
        "## Prof. Andre Victor"
      ]
    },
    {
      "cell_type": "markdown",
      "metadata": {
        "id": "2V5ItdPtSJ-5"
      },
      "source": [
        "### Getters e Setters"
      ]
    },
    {
      "cell_type": "markdown",
      "metadata": {
        "id": "7GKMA39fTuk7"
      },
      "source": [
        "Uma boa prática para garantir o princípio do encapsulamento é utilizar métodos seletores e modificadores para as variáveis de instância (propriedades)"
      ]
    },
    {
      "cell_type": "code",
      "metadata": {
        "id": "RSRJM1RHR4om"
      },
      "source": [
        "class Empregado:\n",
        "  \n",
        "  def __init__(self, nome, sobrenome, idade=18):\n",
        "    self._nome = nome\n",
        "    self._sobrenome = sobrenome\n",
        "    self._idade = idade\n",
        "    self._salario = 0\n",
        "    self._email = ''\n",
        "\n",
        "  def getNomeCompleto(self):\n",
        "    return self._nome + ' ' + self._sobrenome\n",
        "\n",
        "  def getIdade(self):\n",
        "    return self._idade\n",
        "\n",
        "  def getEmail(self):\n",
        "    return self._email\n",
        "\n",
        "  def setEmail(self, novoEmail):\n",
        "    self._email = novoEmail\n",
        "\n",
        "  def remuneracao(self):\n",
        "    ## calcular a remuneracao como o salario + bonus - descontos\n",
        "    return self._salario\n",
        "\n",
        "  def setSalario(self, salario):\n",
        "    self._salario = salario\n",
        "    \n",
        "  def __str__(self):\n",
        "    return 'emp{'+self.getNomeCompleto()+','+str(self.getIdade())+'}'\n"
      ],
      "execution_count": null,
      "outputs": []
    },
    {
      "cell_type": "code",
      "metadata": {
        "colab": {
          "base_uri": "https://localhost:8080/"
        },
        "id": "FanLsX4TUgGa",
        "outputId": "0bcbaf0c-f588-4ded-be88-47f3585fe9b9"
      },
      "source": [
        "andre = Empregado('Andre', 'Victor', 47)\n",
        "print(andre)"
      ],
      "execution_count": null,
      "outputs": [
        {
          "output_type": "stream",
          "name": "stdout",
          "text": [
            "emp{Andre Victor,47}\n"
          ]
        }
      ]
    },
    {
      "cell_type": "code",
      "metadata": {
        "colab": {
          "base_uri": "https://localhost:8080/"
        },
        "id": "Goc0kKsEH0WK",
        "outputId": "b7dff088-c110-424f-ed7d-3db64eb3a1b4"
      },
      "source": [
        "type(andre)"
      ],
      "execution_count": null,
      "outputs": [
        {
          "output_type": "execute_result",
          "data": {
            "text/plain": [
              "__main__.Empregado"
            ]
          },
          "metadata": {},
          "execution_count": 3
        }
      ]
    },
    {
      "cell_type": "code",
      "metadata": {
        "colab": {
          "base_uri": "https://localhost:8080/",
          "height": 35
        },
        "id": "2FzKKhw_e_tR",
        "outputId": "83c6ee7a-c839-4046-8bb6-67fc413d6888"
      },
      "source": [
        "andre.getEmail()"
      ],
      "execution_count": null,
      "outputs": [
        {
          "output_type": "execute_result",
          "data": {
            "application/vnd.google.colaboratory.intrinsic+json": {
              "type": "string"
            },
            "text/plain": [
              "''"
            ]
          },
          "metadata": {},
          "execution_count": 4
        }
      ]
    },
    {
      "cell_type": "code",
      "metadata": {
        "colab": {
          "base_uri": "https://localhost:8080/"
        },
        "id": "pFO4YpcgfF4f",
        "outputId": "cf0b5fbb-1c17-435a-d9b8-6449f0553fa1"
      },
      "source": [
        "print(andre.getNomeCompleto())\n",
        "andre.setEmail('andre.victor@prof.infnet.edu.br')\n",
        "print(andre.getEmail())"
      ],
      "execution_count": null,
      "outputs": [
        {
          "output_type": "stream",
          "name": "stdout",
          "text": [
            "Andre Victor\n",
            "andre.victor@prof.infnet.edu.br\n"
          ]
        }
      ]
    },
    {
      "cell_type": "code",
      "metadata": {
        "colab": {
          "base_uri": "https://localhost:8080/"
        },
        "id": "bHz4Yge6rg0C",
        "outputId": "07f06f12-15e6-4aef-d4e0-bbf80a38e59e"
      },
      "source": [
        "andre.setSalario(2000)\n",
        "print(andre.remuneracao())"
      ],
      "execution_count": null,
      "outputs": [
        {
          "output_type": "stream",
          "name": "stdout",
          "text": [
            "2000\n"
          ]
        }
      ]
    },
    {
      "cell_type": "markdown",
      "metadata": {
        "id": "3L5lU-j9xpuA"
      },
      "source": [
        "### Herança"
      ]
    },
    {
      "cell_type": "markdown",
      "metadata": {
        "id": "jrbl8Vk_xvjr"
      },
      "source": [
        "Um relacionamento muito comum em linguagens orientadas a objetos é o relacionamento de herança\n",
        "\n",
        "Herança é utilizado para denotar relações de generalização/especialização. Um objeto da subclasse também é considerado uma instância da classe ancestral\n"
      ]
    },
    {
      "cell_type": "code",
      "metadata": {
        "id": "8c5RecYZUrU1"
      },
      "source": [
        "class Professor(Empregado):\n",
        "\n",
        "  def __init__(self, nome, sobrenome, hh, idade=23, doutorado=False):\n",
        "    Empregado.__init__(self, nome, sobrenome, idade)\n",
        "    self._valorHora = hh\n",
        "    self._horasAlocadas = 0\n",
        "    self._doutorado = doutorado\n",
        "\n",
        "  def aloca(self, horas):\n",
        "    self._horasAlocadas += horas\n",
        "\n",
        "  def libera(self, horas):\n",
        "    self._horasAlocadas -= horas\n",
        "    if (self._horasAlocadas < 0):\n",
        "      self._horasAlocadas = 0\n",
        "\n",
        "  def getValorHora(self):\n",
        "    return self._valorHora\n",
        "\n",
        "  def getAlocacao(self):\n",
        "    return self._horasAlocadas\n",
        "\n",
        "  def remuneracao(self):\n",
        "    if (self._doutorado):\n",
        "      return 1,5*self.getAlocacao()*self.getValorHora()\n",
        "    return self.getAlocacao()*self.getValorHora()\n",
        "\n",
        "  def __str__(self):\n",
        "    result = Empregado.__str__(self)\n",
        "    novo_str = result.replace('emp', 'prof')\n",
        "    return novo_str\n"
      ],
      "execution_count": null,
      "outputs": []
    },
    {
      "cell_type": "code",
      "metadata": {
        "colab": {
          "base_uri": "https://localhost:8080/"
        },
        "id": "Noh-9ZiN0TVK",
        "outputId": "6fcf697a-a4be-4977-85d9-1b47d2fd3462"
      },
      "source": [
        "pivotto = Professor('Carlos', 'Pivotto', 100)\n",
        "print(pivotto)"
      ],
      "execution_count": null,
      "outputs": [
        {
          "output_type": "stream",
          "name": "stdout",
          "text": [
            "prof{Carlos Pivotto,23}\n"
          ]
        }
      ]
    },
    {
      "cell_type": "code",
      "metadata": {
        "colab": {
          "base_uri": "https://localhost:8080/",
          "height": 35
        },
        "id": "uF1S5D8fHKRA",
        "outputId": "d511d386-5952-4881-de6b-96d8e5ed7393"
      },
      "source": [
        "pivotto.getNomeCompleto()"
      ],
      "execution_count": null,
      "outputs": [
        {
          "output_type": "execute_result",
          "data": {
            "application/vnd.google.colaboratory.intrinsic+json": {
              "type": "string"
            },
            "text/plain": [
              "'Carlos Pivotto'"
            ]
          },
          "metadata": {},
          "execution_count": 9
        }
      ]
    },
    {
      "cell_type": "code",
      "metadata": {
        "colab": {
          "base_uri": "https://localhost:8080/"
        },
        "id": "9GlrnwMFHSUk",
        "outputId": "136fb493-53e2-450b-8fdd-3f1661250ba6"
      },
      "source": [
        "pivotto.getIdade()"
      ],
      "execution_count": null,
      "outputs": [
        {
          "output_type": "execute_result",
          "data": {
            "text/plain": [
              "23"
            ]
          },
          "metadata": {},
          "execution_count": 10
        }
      ]
    },
    {
      "cell_type": "code",
      "metadata": {
        "colab": {
          "base_uri": "https://localhost:8080/"
        },
        "id": "fCsYDzRgHYH7",
        "outputId": "a568cde6-596a-4b2c-8cee-fdd399ebb9ba"
      },
      "source": [
        "pivotto.getValorHora()"
      ],
      "execution_count": null,
      "outputs": [
        {
          "output_type": "execute_result",
          "data": {
            "text/plain": [
              "100"
            ]
          },
          "metadata": {},
          "execution_count": 11
        }
      ]
    },
    {
      "cell_type": "code",
      "metadata": {
        "colab": {
          "base_uri": "https://localhost:8080/"
        },
        "id": "jIJyMJTUHdNJ",
        "outputId": "75b6fff9-5a39-4c96-a201-6664f784b0e4"
      },
      "source": [
        "pivotto.getAlocacao()"
      ],
      "execution_count": null,
      "outputs": [
        {
          "output_type": "execute_result",
          "data": {
            "text/plain": [
              "0"
            ]
          },
          "metadata": {},
          "execution_count": 12
        }
      ]
    },
    {
      "cell_type": "code",
      "metadata": {
        "id": "LyYHSrsqHh3F"
      },
      "source": [
        "pivotto.aloca(10)"
      ],
      "execution_count": null,
      "outputs": []
    },
    {
      "cell_type": "code",
      "metadata": {
        "colab": {
          "base_uri": "https://localhost:8080/"
        },
        "id": "utUn1cWGHlYr",
        "outputId": "a56f7818-c4bd-4078-bd70-ad607d4b3142"
      },
      "source": [
        "pivotto.getAlocacao()"
      ],
      "execution_count": null,
      "outputs": [
        {
          "output_type": "execute_result",
          "data": {
            "text/plain": [
              "13"
            ]
          },
          "metadata": {},
          "execution_count": 16
        }
      ]
    },
    {
      "cell_type": "code",
      "metadata": {
        "id": "RE-fWMMYHpwA"
      },
      "source": [
        "pivotto.aloca(3)"
      ],
      "execution_count": null,
      "outputs": []
    },
    {
      "cell_type": "code",
      "metadata": {
        "id": "eomXPcj5HvG5"
      },
      "source": [
        "pivotto.libera(2)"
      ],
      "execution_count": null,
      "outputs": []
    },
    {
      "cell_type": "code",
      "metadata": {
        "colab": {
          "base_uri": "https://localhost:8080/"
        },
        "id": "7KveBDswHx3W",
        "outputId": "ddb717d7-bd19-4973-92c6-b62de4addd54"
      },
      "source": [
        "pivotto.getAlocacao()"
      ],
      "execution_count": null,
      "outputs": [
        {
          "output_type": "execute_result",
          "data": {
            "text/plain": [
              "11"
            ]
          },
          "metadata": {},
          "execution_count": 18
        }
      ]
    },
    {
      "cell_type": "markdown",
      "metadata": {
        "id": "yzNn8WuWyXRX"
      },
      "source": [
        "### Polimorfismo"
      ]
    },
    {
      "cell_type": "markdown",
      "metadata": {
        "id": "kZHEVT3qybBX"
      },
      "source": [
        "Polimorfismo é a capacidade de redefinir o comportamento de um método da superclasse na subclasse. Um método é dito polimórfico porque a mesma chamada pode ter comportamentos diferentes. A definição do método que será chamado só é realizada após a detecção do tipo de instância que o está invocando. É um comportamento dinãmico e apenas pela leitura do código isolado não é possível determinar."
      ]
    },
    {
      "cell_type": "code",
      "metadata": {
        "colab": {
          "base_uri": "https://localhost:8080/"
        },
        "id": "otWrO58nrwZp",
        "outputId": "7219119f-4884-40a1-c446-720a0b471ff7"
      },
      "source": [
        "print(pivotto.getValorHora())\n",
        "print(pivotto.getAlocacao())"
      ],
      "execution_count": null,
      "outputs": [
        {
          "output_type": "stream",
          "name": "stdout",
          "text": [
            "100\n",
            "11\n"
          ]
        }
      ]
    },
    {
      "cell_type": "code",
      "metadata": {
        "colab": {
          "base_uri": "https://localhost:8080/"
        },
        "id": "LzViTOvNh2l1",
        "outputId": "e2ab03e8-74e0-4d89-9316-60b7883cc5ba"
      },
      "source": [
        "pivotto.aloca(40)\n",
        "pivotto.setSalario(1000)\n",
        "print(pivotto.remuneracao())"
      ],
      "execution_count": null,
      "outputs": [
        {
          "output_type": "stream",
          "name": "stdout",
          "text": [
            "5100\n"
          ]
        }
      ]
    },
    {
      "cell_type": "code",
      "metadata": {
        "colab": {
          "base_uri": "https://localhost:8080/"
        },
        "id": "FH_mppU6h50h",
        "outputId": "fa983991-674e-4e09-ffb1-a15c8d9db85d"
      },
      "source": [
        "print(pivotto.getValorHora())\n",
        "print(pivotto.getAlocacao())"
      ],
      "execution_count": null,
      "outputs": [
        {
          "output_type": "stream",
          "name": "stdout",
          "text": [
            "100\n",
            "51\n"
          ]
        }
      ]
    },
    {
      "cell_type": "code",
      "metadata": {
        "colab": {
          "base_uri": "https://localhost:8080/"
        },
        "id": "rfhb1HxiJQQ_",
        "outputId": "453075d7-7980-498c-db2f-d867c62c6e29"
      },
      "source": [
        "andre.remuneracao()"
      ],
      "execution_count": null,
      "outputs": [
        {
          "output_type": "execute_result",
          "data": {
            "text/plain": [
              "2000"
            ]
          },
          "metadata": {},
          "execution_count": 22
        }
      ]
    },
    {
      "cell_type": "code",
      "metadata": {
        "colab": {
          "base_uri": "https://localhost:8080/"
        },
        "id": "o01Ik_0Ti0-l",
        "outputId": "c3d79b28-e435-4dc5-98b5-56a692cc3d30"
      },
      "source": [
        "pivotto.libera(10)\n",
        "print(pivotto.remuneracao())"
      ],
      "execution_count": null,
      "outputs": [
        {
          "output_type": "stream",
          "text": [
            "3000\n"
          ],
          "name": "stdout"
        }
      ]
    },
    {
      "cell_type": "code",
      "metadata": {
        "colab": {
          "base_uri": "https://localhost:8080/"
        },
        "id": "ie8juG8vjs2l",
        "outputId": "856b68c3-cdb6-4fd2-c730-3749678ef106"
      },
      "source": [
        "andre.remuneracao()"
      ],
      "execution_count": null,
      "outputs": [
        {
          "output_type": "execute_result",
          "data": {
            "text/plain": [
              "2000"
            ]
          },
          "metadata": {
            "tags": []
          },
          "execution_count": 42
        }
      ]
    },
    {
      "cell_type": "markdown",
      "metadata": {
        "id": "2WUIeyMMkHxd"
      },
      "source": [
        "Exercício: Modifique o exercício anterior de Clientes, Pedidos e Livros para generalizar os produtos que podem ser pedidos pelos clientes.\n",
        "\n",
        "* Dica: Crie uma superclasse Produto\n",
        "* Transforme a classe Livro em uma subclasse de produto\n",
        "* Mantenha preço e estoque na superclasse\n",
        "* Crie uma classe Game que deve ter o nome, a empresa e o gênero (aventura, ação, esportes, etc.)"
      ]
    },
    {
      "cell_type": "code",
      "metadata": {
        "id": "ZA4d5TMSbK8p"
      },
      "source": [
        "class Cliente:\n",
        "  def __init__(self, nome, cpf, idade):\n",
        "    self._nome = nome\n",
        "    self._cpf = cpf\n",
        "    self._idade = idade\n",
        "    self._vip = False\n",
        "\n",
        "  def getNome(self):\n",
        "    return self._nome\n",
        "\n",
        "  def getCPF(self):\n",
        "    return self._cpf\n",
        "\n",
        "  def getIdade(self):\n",
        "    return self._idade\n",
        "\n",
        "  def eh_vip(self):\n",
        "    return self._vip\n",
        "\n",
        "  def ganha_vip(self):\n",
        "    self._vip = True\n",
        "\n",
        "  def perde_vip(self):\n",
        "    self._vip = False"
      ],
      "execution_count": null,
      "outputs": []
    },
    {
      "cell_type": "code",
      "metadata": {
        "id": "K6PjJsErbbEt"
      },
      "source": [
        "class Produto:\n",
        "  def __init__(self, preco):\n",
        "    self._estoque = 10\n",
        "    self._preco = preco\n",
        "\n",
        "  def getPreco(self):\n",
        "    return self._preco\n",
        "\n",
        "  def getEstoque(self):\n",
        "    return self._estoque\n",
        "\n",
        "  def atualizaEstoque(self, novoEstoque):\n",
        "    self._estoque = novoEstoque"
      ],
      "execution_count": null,
      "outputs": []
    },
    {
      "cell_type": "code",
      "metadata": {
        "id": "OM2ZQbEpcmZu"
      },
      "source": [
        "class Game(Produto):\n",
        "  def __init__(self, nome, empresa, tipo, preco):\n",
        "    Produto.__init__(self, preco)\n",
        "    self._estoque = 20\n",
        "    self._nome = nome\n",
        "    self._empresa = empresa\n",
        "    self._tipo = tipo\n",
        "\n",
        "  def getNome(self):\n",
        "    return self._nome"
      ],
      "execution_count": null,
      "outputs": []
    },
    {
      "cell_type": "code",
      "metadata": {
        "id": "w2Sq-cJFdZnG"
      },
      "source": [
        "fifa = Game('Fifa 2021', 'EA Sports', 'Esportes', 100)"
      ],
      "execution_count": null,
      "outputs": []
    },
    {
      "cell_type": "code",
      "metadata": {
        "colab": {
          "base_uri": "https://localhost:8080/",
          "height": 35
        },
        "id": "lmMzVQ5Hesv5",
        "outputId": "eae7242e-36ed-4c80-b5c3-89c8d3af4511"
      },
      "source": [
        "fifa.getNome()"
      ],
      "execution_count": null,
      "outputs": [
        {
          "output_type": "execute_result",
          "data": {
            "application/vnd.google.colaboratory.intrinsic+json": {
              "type": "string"
            },
            "text/plain": [
              "'Fifa 2021'"
            ]
          },
          "metadata": {
            "tags": []
          },
          "execution_count": 25
        }
      ]
    },
    {
      "cell_type": "code",
      "metadata": {
        "colab": {
          "base_uri": "https://localhost:8080/"
        },
        "id": "dmjQOsxVewT4",
        "outputId": "8c60f609-e881-4a07-cd32-ab1726b40b30"
      },
      "source": [
        "fifa.getEstoque()"
      ],
      "execution_count": null,
      "outputs": [
        {
          "output_type": "execute_result",
          "data": {
            "text/plain": [
              "20"
            ]
          },
          "metadata": {
            "tags": []
          },
          "execution_count": 26
        }
      ]
    },
    {
      "cell_type": "code",
      "metadata": {
        "colab": {
          "base_uri": "https://localhost:8080/"
        },
        "id": "KstvteSRe-XK",
        "outputId": "71f28d8a-3f7e-4250-d3d6-f841af9264c3"
      },
      "source": [
        "fifa.getPreco()"
      ],
      "execution_count": null,
      "outputs": [
        {
          "output_type": "execute_result",
          "data": {
            "text/plain": [
              "100"
            ]
          },
          "metadata": {
            "tags": []
          },
          "execution_count": 27
        }
      ]
    },
    {
      "cell_type": "code",
      "metadata": {
        "id": "IcmYdMaAhE9R"
      },
      "source": [
        "class Pedido:\n",
        "\n",
        "  def __init__(self, cliente, produto, quantidade=1):\n",
        "    self._cliente = cliente\n",
        "    self._produto = produto\n",
        "    self._quant = quantidade\n",
        "\n",
        "  def getCliente(self):\n",
        "    return self._cliente\n",
        "\n",
        "  def getProduto(self):\n",
        "    return self._produto\n",
        "\n",
        "  def total(self):\n",
        "    preco_pedido = self.getProduto().getPreco()\n",
        "    return self._quant*preco_pedido\n",
        "\n",
        "  def efetiva(self):\n",
        "    # Este método validar se o pedido pode ser efetivado ou não\n",
        "    # Testar se a quantidade do pedido é inferior ao estoque do Livro\n",
        "\n",
        "    if (self._quant <= self.getProduto().getEstoque()):\n",
        "      resto = self.getProduto().getEstoque() - self._quant\n",
        "      self.getProduto().atualizaEstoque(resto)\n",
        "      return True\n",
        "    return False"
      ],
      "execution_count": null,
      "outputs": []
    },
    {
      "cell_type": "code",
      "metadata": {
        "id": "7kgfmYjvh6cK"
      },
      "source": [
        "c = Cliente('Andre', '111', 47)"
      ],
      "execution_count": null,
      "outputs": []
    },
    {
      "cell_type": "code",
      "metadata": {
        "id": "qstnuURziDPx"
      },
      "source": [
        "p = Pedido(c, fifa, 8)"
      ],
      "execution_count": null,
      "outputs": []
    },
    {
      "cell_type": "code",
      "metadata": {
        "colab": {
          "base_uri": "https://localhost:8080/",
          "height": 35
        },
        "id": "lRx9P0c8iMqj",
        "outputId": "707e727c-18ee-4232-f6aa-8f488c43281e"
      },
      "source": [
        "p.getCliente().getNome()"
      ],
      "execution_count": null,
      "outputs": [
        {
          "output_type": "execute_result",
          "data": {
            "application/vnd.google.colaboratory.intrinsic+json": {
              "type": "string"
            },
            "text/plain": [
              "'Andre'"
            ]
          },
          "metadata": {
            "tags": []
          },
          "execution_count": 31
        }
      ]
    },
    {
      "cell_type": "code",
      "metadata": {
        "colab": {
          "base_uri": "https://localhost:8080/",
          "height": 35
        },
        "id": "FhbWss7uiRTa",
        "outputId": "3bcd7559-0134-477c-d05d-cf1d35fa4fb7"
      },
      "source": [
        "p.getProduto().getNome()"
      ],
      "execution_count": null,
      "outputs": [
        {
          "output_type": "execute_result",
          "data": {
            "application/vnd.google.colaboratory.intrinsic+json": {
              "type": "string"
            },
            "text/plain": [
              "'Fifa 2021'"
            ]
          },
          "metadata": {
            "tags": []
          },
          "execution_count": 32
        }
      ]
    },
    {
      "cell_type": "code",
      "metadata": {
        "colab": {
          "base_uri": "https://localhost:8080/"
        },
        "id": "-5-2KmX4i6DT",
        "outputId": "0b367175-caa0-4039-d0ba-c3f8d6e330df"
      },
      "source": [
        "p.total()"
      ],
      "execution_count": null,
      "outputs": [
        {
          "output_type": "execute_result",
          "data": {
            "text/plain": [
              "800"
            ]
          },
          "metadata": {
            "tags": []
          },
          "execution_count": 33
        }
      ]
    },
    {
      "cell_type": "code",
      "metadata": {
        "id": "BOtxkznUjFqQ",
        "colab": {
          "base_uri": "https://localhost:8080/"
        },
        "outputId": "54f31a56-a066-4508-be49-e0f41a09dfdb"
      },
      "source": [
        "fifa.getEstoque()"
      ],
      "execution_count": null,
      "outputs": [
        {
          "output_type": "execute_result",
          "data": {
            "text/plain": [
              "20"
            ]
          },
          "metadata": {
            "tags": []
          },
          "execution_count": 34
        }
      ]
    }
  ]
}