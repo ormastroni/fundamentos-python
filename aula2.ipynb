{
  "nbformat": 4,
  "nbformat_minor": 0,
  "metadata": {
    "colab": {
      "name": "aula2.ipynb",
      "provenance": [],
      "toc_visible": true,
      "include_colab_link": true
    },
    "kernelspec": {
      "name": "python3",
      "display_name": "Python 3"
    },
    "language_info": {
      "name": "python"
    }
  },
  "cells": [
    {
      "cell_type": "markdown",
      "metadata": {
        "id": "view-in-github",
        "colab_type": "text"
      },
      "source": [
        "<a href=\"https://colab.research.google.com/github/ormastroni/fundamentos-python/blob/main/aula2.ipynb\" target=\"_parent\"><img src=\"https://colab.research.google.com/assets/colab-badge.svg\" alt=\"Open In Colab\"/></a>"
      ]
    },
    {
      "cell_type": "markdown",
      "metadata": {
        "id": "FSozVyZyz3Nn"
      },
      "source": [
        "# Recursividade e escopo de variáveis"
      ]
    },
    {
      "cell_type": "markdown",
      "metadata": {
        "id": "blN8yXDF0Hf2"
      },
      "source": [
        "## Escopo de Variáveis: variáveis locais e variáveis globais"
      ]
    },
    {
      "cell_type": "code",
      "metadata": {
        "id": "OGlJFtyh0LS_"
      },
      "source": [
        "def f():\n",
        "  print(a)"
      ],
      "execution_count": null,
      "outputs": []
    },
    {
      "cell_type": "code",
      "metadata": {
        "colab": {
          "base_uri": "https://localhost:8080/"
        },
        "id": "GUtUc0c50nOT",
        "outputId": "70feeb78-f380-477c-eded-3f79bfbaabb1"
      },
      "source": [
        "a = 5\n",
        "f()"
      ],
      "execution_count": null,
      "outputs": [
        {
          "output_type": "stream",
          "text": [
            "5\n"
          ],
          "name": "stdout"
        }
      ]
    },
    {
      "cell_type": "code",
      "metadata": {
        "id": "XIs6ct9G0tPJ"
      },
      "source": [
        "def g():\n",
        "  a = 10"
      ],
      "execution_count": null,
      "outputs": []
    },
    {
      "cell_type": "code",
      "metadata": {
        "colab": {
          "base_uri": "https://localhost:8080/"
        },
        "id": "jqAH2ZID08Sy",
        "outputId": "dfe81d98-db43-4531-f6b3-269d37c9f820"
      },
      "source": [
        "g()\n",
        "print(a)"
      ],
      "execution_count": null,
      "outputs": [
        {
          "output_type": "stream",
          "text": [
            "5\n"
          ],
          "name": "stdout"
        }
      ]
    },
    {
      "cell_type": "code",
      "metadata": {
        "id": "XBkdYeMq3p4l"
      },
      "source": [
        "def h(a):\n",
        "  a = a + 1\n",
        "  print(a)"
      ],
      "execution_count": null,
      "outputs": []
    },
    {
      "cell_type": "code",
      "metadata": {
        "colab": {
          "base_uri": "https://localhost:8080/"
        },
        "id": "GeiK4ley4CK_",
        "outputId": "8563f1b4-f5b0-495c-ec08-75b8868a9b19"
      },
      "source": [
        "h(a)\n",
        "print(a)"
      ],
      "execution_count": null,
      "outputs": [
        {
          "output_type": "stream",
          "text": [
            "6\n",
            "5\n"
          ],
          "name": "stdout"
        }
      ]
    },
    {
      "cell_type": "markdown",
      "metadata": {
        "id": "2tqe8GwLap7A"
      },
      "source": [
        "### Para modificar uma variável global (fora do escopo da função), é preciso declará-la como **global** na função"
      ]
    },
    {
      "cell_type": "code",
      "metadata": {
        "id": "wXhT_ysX4ean"
      },
      "source": [
        "def i():\n",
        "  global a\n",
        "  a = a*2"
      ],
      "execution_count": null,
      "outputs": []
    },
    {
      "cell_type": "code",
      "metadata": {
        "colab": {
          "base_uri": "https://localhost:8080/"
        },
        "id": "FFCCucvk4uwQ",
        "outputId": "a5d3bfba-d25b-470a-b6e6-c9073d626088"
      },
      "source": [
        "i()\n",
        "print(a)"
      ],
      "execution_count": null,
      "outputs": [
        {
          "output_type": "stream",
          "text": [
            "10\n"
          ],
          "name": "stdout"
        }
      ]
    },
    {
      "cell_type": "code",
      "metadata": {
        "colab": {
          "base_uri": "https://localhost:8080/"
        },
        "id": "YdPZZSL65k8y",
        "outputId": "9e975cf6-2d22-4cbe-cc9d-22ecb567e106"
      },
      "source": [
        "b = h(10)\n",
        "print(b,a)"
      ],
      "execution_count": null,
      "outputs": [
        {
          "output_type": "stream",
          "text": [
            "11\n",
            "None 10\n"
          ],
          "name": "stdout"
        }
      ]
    },
    {
      "cell_type": "code",
      "metadata": {
        "colab": {
          "base_uri": "https://localhost:8080/"
        },
        "id": "tP0FCJxm6Fzn",
        "outputId": "6fcea48a-c77d-461d-e83d-59cf9b150fae"
      },
      "source": [
        "if (b == None):\n",
        "  print('B ta vazio')\n",
        "else:\n",
        "  print('B tem o valor', b)"
      ],
      "execution_count": null,
      "outputs": [
        {
          "output_type": "stream",
          "text": [
            "B ta vazio\n"
          ],
          "name": "stdout"
        }
      ]
    },
    {
      "cell_type": "markdown",
      "metadata": {
        "id": "XgLNxoBf7F9t"
      },
      "source": [
        "## Recursividade\n",
        "Uma função recursiva é aquela definida sobre ela mesma. O segredo para a definição de uma função recursiva é estabelece rsua condição de parada."
      ]
    },
    {
      "cell_type": "code",
      "metadata": {
        "id": "sad9DYM57N-G"
      },
      "source": [
        "def fatorial(n):\n",
        "  if (n == 1):\n",
        "    return 1\n",
        "  elif (n == 0):\n",
        "    return 1\n",
        "  elif (n < 0):\n",
        "    return None\n",
        "  else:\n",
        "    print(f'calcular o valor de {n} = {n} * fatorial({n-1})')\n",
        "    return n*fatorial(n-1)"
      ],
      "execution_count": null,
      "outputs": []
    },
    {
      "cell_type": "markdown",
      "metadata": {
        "id": "HVg1YqUZWpva"
      },
      "source": [
        "A condição de para da função recursiva de fatorial é quando n == 1"
      ]
    },
    {
      "cell_type": "code",
      "metadata": {
        "colab": {
          "base_uri": "https://localhost:8080/"
        },
        "id": "2A51WUuh7vDg",
        "outputId": "12de912a-480c-4492-90d5-e6b70c5405da"
      },
      "source": [
        "fatorial(5)\n"
      ],
      "execution_count": null,
      "outputs": [
        {
          "output_type": "stream",
          "name": "stdout",
          "text": [
            "calcular o valor de 5 = 5 * fatorial(4)\n",
            "calcular o valor de 4 = 4 * fatorial(3)\n",
            "calcular o valor de 3 = 3 * fatorial(2)\n",
            "calcular o valor de 2 = 2 * fatorial(1)\n"
          ]
        },
        {
          "output_type": "execute_result",
          "data": {
            "text/plain": [
              "120"
            ]
          },
          "metadata": {},
          "execution_count": 8
        }
      ]
    },
    {
      "cell_type": "markdown",
      "metadata": {
        "id": "_OcGOkuqXY3P"
      },
      "source": [
        "Refine a função potencia(base, expoente) para se tornar recursiva. \n",
        "Reflita sobre a condição de parada e como você deve definir a função recursivamente"
      ]
    },
    {
      "cell_type": "code",
      "metadata": {
        "id": "rl0laZLpqPqD"
      },
      "source": [
        "# 2(1) == 2\n",
        "# 3(1) == 3\n",
        "# base(1) == base\n",
        "\n",
        "# 5(3) == 5 * 5(2)\n",
        "# 5(2) == 5 * 5(1)\n",
        "# 5! == 5*4!\n",
        "\n",
        "def potencia_recursiva(base, expoente):"
      ],
      "execution_count": null,
      "outputs": []
    },
    {
      "cell_type": "code",
      "metadata": {
        "id": "1UzRo5wztY30"
      },
      "source": [
        "def fibo_recursivo:\n",
        "  ## Estabelecer condição parada => termo 1 ou 2\n",
        "  ## fibo(n-1)+fibo(n-2)"
      ],
      "execution_count": null,
      "outputs": []
    },
    {
      "cell_type": "code",
      "metadata": {
        "colab": {
          "base_uri": "https://localhost:8080/"
        },
        "id": "-3Rehh96rPb6",
        "outputId": "59721f2f-b50b-4048-e267-b05f16cf178a"
      },
      "source": [
        "a = potencia_recursiva(4,3)\n",
        "print(a)"
      ],
      "execution_count": null,
      "outputs": [
        {
          "output_type": "stream",
          "text": [
            "64\n"
          ],
          "name": "stdout"
        }
      ]
    },
    {
      "cell_type": "code",
      "metadata": {
        "id": "0OMNiepo8aS3"
      },
      "source": [
        "def potencia(base, expoente):\n",
        "  if (base == 0):\n",
        "    return 0\n",
        "  elif (expoente == 1):\n",
        "    return base\n",
        "  elif (expoente == 0):\n",
        "    return 1\n",
        "  elif (expoente < 0):\n",
        "    return None\n",
        "  else:\n",
        "    return base*potencia(base, expoente-1)"
      ],
      "execution_count": null,
      "outputs": []
    },
    {
      "cell_type": "code",
      "metadata": {
        "colab": {
          "base_uri": "https://localhost:8080/"
        },
        "id": "Xg6Z_Bje9Eld",
        "outputId": "6a59e4c4-c3dd-4f94-d5ba-183fe56ea460"
      },
      "source": [
        "potencia(3,0)"
      ],
      "execution_count": null,
      "outputs": [
        {
          "output_type": "execute_result",
          "data": {
            "text/plain": [
              "1"
            ]
          },
          "metadata": {
            "tags": []
          },
          "execution_count": 46
        }
      ]
    }
  ]
}