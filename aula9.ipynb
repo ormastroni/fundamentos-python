{
  "nbformat": 4,
  "nbformat_minor": 0,
  "metadata": {
    "colab": {
      "name": "aula9.ipynb",
      "provenance": [],
      "collapsed_sections": [
        "_WVSsLJEF1dV",
        "3AXiSy2PKQd2",
        "iXC88l2yO5Zl",
        "V4z_J-M0k4by",
        "-rVVwTge7tJz",
        "MKLzw1tmbViH",
        "BYlOokJ3jCo3",
        "BlOUMfCf7Koy",
        "70E0Wx7u9uAt",
        "CmRePQv297-Y",
        "8LWeEH3D9-wQ",
        "QCKbOWa5-AZu",
        "IdMoLAs9Bx1_",
        "jgwo17dUDawR",
        "aNv9ZDu-_dy8",
        "lJnjUgvzDI2d",
        "ScqN2Xu2JW-1",
        "0G0aK8S1Tu2_",
        "FDiYVGdvB6CL",
        "tV2cSV8jGqHf",
        "OqBI-N68X6Py",
        "zYdv1N9wejLJ",
        "8tu-WbXyvpCE",
        "Od4oEfYCwf_C",
        "DSpK0iUZ0eA4",
        "AFkrf6aL0c_u",
        "kI7G1uVJwiB1",
        "-Cp2PSUkIRFB",
        "gKAVJTZhIZpF",
        "O6-czpTKKf4r"
      ],
      "toc_visible": true,
      "include_colab_link": true
    },
    "kernelspec": {
      "name": "python3",
      "display_name": "Python 3"
    }
  },
  "cells": [
    {
      "cell_type": "markdown",
      "metadata": {
        "id": "view-in-github",
        "colab_type": "text"
      },
      "source": [
        "<a href=\"https://colab.research.google.com/github/ormastroni/fundamentos-python/blob/main/aula9.ipynb\" target=\"_parent\"><img src=\"https://colab.research.google.com/assets/colab-badge.svg\" alt=\"Open In Colab\"/></a>"
      ]
    },
    {
      "cell_type": "markdown",
      "metadata": {
        "id": "axXxL4a-Q6Hp"
      },
      "source": [
        "# Fundamentos de Desenvolvimento Python"
      ]
    },
    {
      "cell_type": "markdown",
      "metadata": {
        "id": "o7FRRoazRAO3"
      },
      "source": [
        "## Prof. Andre Victor"
      ]
    },
    {
      "cell_type": "markdown",
      "metadata": {
        "id": "ZfQi-gU7RE92"
      },
      "source": [
        "### Séries\n",
        "\n",
        "Séries são coleções de dados utilizadas pela biblioteca pandas para análise e manipulação de dados.\n",
        "\n",
        "São estruturas mais eficientes do que listas, mas são indexadas por índices e acessadas por um nome.\n",
        "\n",
        "Séries podem ser criadas a partir de listas e dicionários."
      ]
    },
    {
      "cell_type": "code",
      "metadata": {
        "id": "42muvbO2o0em"
      },
      "source": [
        "import pandas as pd"
      ],
      "execution_count": 48,
      "outputs": []
    },
    {
      "cell_type": "code",
      "metadata": {
        "id": "VP_gPfciJNYx"
      },
      "source": [
        "alunos = ['Rafaela', 'Bruno', 'Juan']"
      ],
      "execution_count": 49,
      "outputs": []
    },
    {
      "cell_type": "code",
      "metadata": {
        "id": "3vgkHX8sJsQy",
        "colab": {
          "base_uri": "https://localhost:8080/"
        },
        "outputId": "5eb2fd9e-3532-4407-a340-96f5977b441e"
      },
      "source": [
        "type(alunos)"
      ],
      "execution_count": 50,
      "outputs": [
        {
          "output_type": "execute_result",
          "data": {
            "text/plain": [
              "list"
            ]
          },
          "metadata": {},
          "execution_count": 50
        }
      ]
    },
    {
      "cell_type": "code",
      "metadata": {
        "id": "DwOoYINZJt15",
        "colab": {
          "base_uri": "https://localhost:8080/"
        },
        "outputId": "898ff4ac-48de-4c68-b4da-6d40927411d7"
      },
      "source": [
        "serie_alunos = pd.Series(alunos)\n",
        "serie_alunos"
      ],
      "execution_count": 51,
      "outputs": [
        {
          "output_type": "execute_result",
          "data": {
            "text/plain": [
              "0    Rafaela\n",
              "1      Bruno\n",
              "2       Juan\n",
              "dtype: object"
            ]
          },
          "metadata": {},
          "execution_count": 51
        }
      ]
    },
    {
      "cell_type": "code",
      "metadata": {
        "colab": {
          "base_uri": "https://localhost:8080/"
        },
        "id": "hGUQcDfYhJHa",
        "outputId": "713e70eb-fef9-44a0-846f-ee0f63efba8f"
      },
      "source": [
        "alunos"
      ],
      "execution_count": 52,
      "outputs": [
        {
          "output_type": "execute_result",
          "data": {
            "text/plain": [
              "['Rafaela', 'Bruno', 'Juan']"
            ]
          },
          "metadata": {},
          "execution_count": 52
        }
      ]
    },
    {
      "cell_type": "code",
      "metadata": {
        "colab": {
          "base_uri": "https://localhost:8080/"
        },
        "id": "cfjyJtEpTu-O",
        "outputId": "8b7c0a9c-616d-4a43-ac64-9e71ec1df2ee"
      },
      "source": [
        "print(serie_alunos)"
      ],
      "execution_count": 53,
      "outputs": [
        {
          "output_type": "stream",
          "name": "stdout",
          "text": [
            "0    Rafaela\n",
            "1      Bruno\n",
            "2       Juan\n",
            "dtype: object\n"
          ]
        }
      ]
    },
    {
      "cell_type": "code",
      "metadata": {
        "colab": {
          "base_uri": "https://localhost:8080/"
        },
        "id": "h81N-DjGhcS9",
        "outputId": "1262dd88-62b2-4de3-f83f-a46cb50aebe8"
      },
      "source": [
        "type(serie_alunos)"
      ],
      "execution_count": 54,
      "outputs": [
        {
          "output_type": "execute_result",
          "data": {
            "text/plain": [
              "pandas.core.series.Series"
            ]
          },
          "metadata": {},
          "execution_count": 54
        }
      ]
    },
    {
      "cell_type": "code",
      "metadata": {
        "id": "qt0HuwZxJxiF"
      },
      "source": [
        "idades = [22, 27, 25]"
      ],
      "execution_count": 55,
      "outputs": []
    },
    {
      "cell_type": "code",
      "metadata": {
        "id": "1cqmFPrsJ4ZX",
        "colab": {
          "base_uri": "https://localhost:8080/"
        },
        "outputId": "94b3366a-f8bc-4a43-e737-8e7eec0209da"
      },
      "source": [
        "serie_idades = pd.Series(idades)\n",
        "serie_idades"
      ],
      "execution_count": 56,
      "outputs": [
        {
          "output_type": "execute_result",
          "data": {
            "text/plain": [
              "0    22\n",
              "1    27\n",
              "2    25\n",
              "dtype: int64"
            ]
          },
          "metadata": {},
          "execution_count": 56
        }
      ]
    },
    {
      "cell_type": "code",
      "metadata": {
        "id": "hzTOsHMqJ5Pk"
      },
      "source": [
        "alturas = [162.4, 191.2, 175.0]"
      ],
      "execution_count": 57,
      "outputs": []
    },
    {
      "cell_type": "code",
      "metadata": {
        "id": "T40MxgcZJ91_",
        "colab": {
          "base_uri": "https://localhost:8080/"
        },
        "outputId": "cb04dfd6-adf4-4b35-cd92-16d53616df12"
      },
      "source": [
        "serie_alturas = pd.Series(alturas)\n",
        "serie_alturas"
      ],
      "execution_count": 58,
      "outputs": [
        {
          "output_type": "execute_result",
          "data": {
            "text/plain": [
              "0    162.4\n",
              "1    191.2\n",
              "2    175.0\n",
              "dtype: float64"
            ]
          },
          "metadata": {},
          "execution_count": 58
        }
      ]
    },
    {
      "cell_type": "code",
      "metadata": {
        "id": "-OuS4qPXJ-ox"
      },
      "source": [
        "lista_mista = [True, 'oi', {'temp': 100}]"
      ],
      "execution_count": 59,
      "outputs": []
    },
    {
      "cell_type": "code",
      "metadata": {
        "colab": {
          "base_uri": "https://localhost:8080/"
        },
        "id": "BhbLxpDoiYSm",
        "outputId": "74339663-f20d-4ba8-ba19-cfe3125cb557"
      },
      "source": [
        "len(lista_mista)"
      ],
      "execution_count": 60,
      "outputs": [
        {
          "output_type": "execute_result",
          "data": {
            "text/plain": [
              "3"
            ]
          },
          "metadata": {},
          "execution_count": 60
        }
      ]
    },
    {
      "cell_type": "code",
      "metadata": {
        "colab": {
          "base_uri": "https://localhost:8080/"
        },
        "id": "OxEBHuUqia9O",
        "outputId": "c528b586-94f2-4bbd-e525-23690d5a74dc"
      },
      "source": [
        "lista_mista[2]"
      ],
      "execution_count": 61,
      "outputs": [
        {
          "output_type": "execute_result",
          "data": {
            "text/plain": [
              "{'temp': 100}"
            ]
          },
          "metadata": {},
          "execution_count": 61
        }
      ]
    },
    {
      "cell_type": "code",
      "metadata": {
        "id": "5kod9PAsKPUF",
        "colab": {
          "base_uri": "https://localhost:8080/"
        },
        "outputId": "315777f4-3e93-40da-c9f6-15e53d00e500"
      },
      "source": [
        "serie_mista = pd.Series(lista_mista)\n",
        "serie_mista"
      ],
      "execution_count": 62,
      "outputs": [
        {
          "output_type": "execute_result",
          "data": {
            "text/plain": [
              "0             True\n",
              "1               oi\n",
              "2    {'temp': 100}\n",
              "dtype: object"
            ]
          },
          "metadata": {},
          "execution_count": 62
        }
      ]
    },
    {
      "cell_type": "markdown",
      "metadata": {
        "id": "3AXiSy2PKQd2"
      },
      "source": [
        "#### Construtores de Séries: nomeados ou por posição"
      ]
    },
    {
      "cell_type": "code",
      "metadata": {
        "id": "JfG7sECHOPLD",
        "colab": {
          "base_uri": "https://localhost:8080/"
        },
        "outputId": "58d0f388-3744-4bb8-c028-6a8b179d780b"
      },
      "source": [
        "pd.Series(alunos)"
      ],
      "execution_count": 16,
      "outputs": [
        {
          "output_type": "execute_result",
          "data": {
            "text/plain": [
              "0    Rafaela\n",
              "1      Bruno\n",
              "2       Juan\n",
              "dtype: object"
            ]
          },
          "metadata": {},
          "execution_count": 16
        }
      ]
    },
    {
      "cell_type": "code",
      "metadata": {
        "id": "dHnAXDDxOeMx",
        "colab": {
          "base_uri": "https://localhost:8080/"
        },
        "outputId": "c54ec2cd-bc2e-4d03-fb02-705974f6669e"
      },
      "source": [
        "pd.Series(data=alunos)"
      ],
      "execution_count": 17,
      "outputs": [
        {
          "output_type": "execute_result",
          "data": {
            "text/plain": [
              "0    Rafaela\n",
              "1      Bruno\n",
              "2       Juan\n",
              "dtype: object"
            ]
          },
          "metadata": {},
          "execution_count": 17
        }
      ]
    },
    {
      "cell_type": "markdown",
      "metadata": {
        "id": "iXC88l2yO5Zl"
      },
      "source": [
        "#### Séries a partir de dicionários e listas"
      ]
    },
    {
      "cell_type": "code",
      "metadata": {
        "id": "1EOmI3gWjZHD"
      },
      "source": [
        "books_list = ['A Arte da Guerra', 'Pai Rico Pai Pobre', 'Senhor dos Anéis']"
      ],
      "execution_count": 63,
      "outputs": []
    },
    {
      "cell_type": "code",
      "metadata": {
        "id": "IvkXARODkAcP"
      },
      "source": [
        "list_s = pd.Series(books_list)"
      ],
      "execution_count": 64,
      "outputs": []
    },
    {
      "cell_type": "code",
      "metadata": {
        "colab": {
          "base_uri": "https://localhost:8080/"
        },
        "id": "SipEw1zKk6jc",
        "outputId": "e5345762-107b-4ffc-c256-384552963b2b"
      },
      "source": [
        "list_s"
      ],
      "execution_count": 65,
      "outputs": [
        {
          "output_type": "execute_result",
          "data": {
            "text/plain": [
              "0      A Arte da Guerra\n",
              "1    Pai Rico Pai Pobre\n",
              "2      Senhor dos Anéis\n",
              "dtype: object"
            ]
          },
          "metadata": {},
          "execution_count": 65
        }
      ]
    },
    {
      "cell_type": "code",
      "metadata": {
        "id": "8HU_H3HWkDIX"
      },
      "source": [
        "books_dict = {0:'A Arte da Guerra', 1:'Pai Rico Pai Pobre', 2:'Senhor dos Anéis'}"
      ],
      "execution_count": 67,
      "outputs": []
    },
    {
      "cell_type": "code",
      "metadata": {
        "id": "1v5M_OCrkNX4"
      },
      "source": [
        "dict_s = pd.Series(books_dict)"
      ],
      "execution_count": 68,
      "outputs": []
    },
    {
      "cell_type": "code",
      "metadata": {
        "colab": {
          "base_uri": "https://localhost:8080/"
        },
        "id": "ALvZ8ib7lVMa",
        "outputId": "bff16f66-efc9-4dec-c3c2-0f10be43c137"
      },
      "source": [
        "dict_s"
      ],
      "execution_count": 69,
      "outputs": [
        {
          "output_type": "execute_result",
          "data": {
            "text/plain": [
              "0      A Arte da Guerra\n",
              "1    Pai Rico Pai Pobre\n",
              "2      Senhor dos Anéis\n",
              "dtype: object"
            ]
          },
          "metadata": {},
          "execution_count": 69
        }
      ]
    },
    {
      "cell_type": "code",
      "metadata": {
        "id": "-25XeNH3kbOH",
        "colab": {
          "base_uri": "https://localhost:8080/"
        },
        "outputId": "014c00a3-6b82-4bc4-a3df-85d470f4657f"
      },
      "source": [
        "list_s.equals(dict_s)"
      ],
      "execution_count": 24,
      "outputs": [
        {
          "output_type": "execute_result",
          "data": {
            "text/plain": [
              "True"
            ]
          },
          "metadata": {},
          "execution_count": 24
        }
      ]
    },
    {
      "cell_type": "code",
      "metadata": {
        "id": "U1hNdx3oknul",
        "colab": {
          "base_uri": "https://localhost:8080/"
        },
        "outputId": "06953600-7c27-4637-81d3-9b43c7ebb8fd"
      },
      "source": [
        "pd.Series(714)"
      ],
      "execution_count": 70,
      "outputs": [
        {
          "output_type": "execute_result",
          "data": {
            "text/plain": [
              "0    714\n",
              "dtype: int64"
            ]
          },
          "metadata": {},
          "execution_count": 70
        }
      ]
    },
    {
      "cell_type": "code",
      "metadata": {
        "id": "KJtr09yDk3Bs",
        "colab": {
          "base_uri": "https://localhost:8080/"
        },
        "outputId": "4b693bb3-ef0c-4cf4-d0ed-b738b621bb39"
      },
      "source": [
        "pd.Series('Andre')"
      ],
      "execution_count": 71,
      "outputs": [
        {
          "output_type": "execute_result",
          "data": {
            "text/plain": [
              "0    Andre\n",
              "dtype: object"
            ]
          },
          "metadata": {},
          "execution_count": 71
        }
      ]
    },
    {
      "cell_type": "code",
      "metadata": {
        "colab": {
          "base_uri": "https://localhost:8080/"
        },
        "id": "cEPY2_2alxsH",
        "outputId": "b16f504f-2a37-4db7-ef68-1e69cff7e253"
      },
      "source": [
        "pd.Series(True)"
      ],
      "execution_count": 72,
      "outputs": [
        {
          "output_type": "execute_result",
          "data": {
            "text/plain": [
              "0    True\n",
              "dtype: bool"
            ]
          },
          "metadata": {},
          "execution_count": 72
        }
      ]
    },
    {
      "cell_type": "code",
      "metadata": {
        "colab": {
          "base_uri": "https://localhost:8080/"
        },
        "id": "XhoYoZ1NmG-Y",
        "outputId": "73e14a8a-8abd-4e3f-afc8-b8d72d8a669c"
      },
      "source": [
        "pd.Series(lista_mista)"
      ],
      "execution_count": 28,
      "outputs": [
        {
          "output_type": "execute_result",
          "data": {
            "text/plain": [
              "0             True\n",
              "1               oi\n",
              "2    {'temp': 100}\n",
              "dtype: object"
            ]
          },
          "metadata": {},
          "execution_count": 28
        }
      ]
    },
    {
      "cell_type": "markdown",
      "metadata": {
        "id": "V4z_J-M0k4by"
      },
      "source": [
        "#### O atributo .dtype da classe Series\n",
        "\n",
        "O atributo dtype do objeto Series assume por default o tipo de dados utilizado na série. Se a série for homogênea, é provavél que o tipo seja o mais próximo da realidade. Caso contrário, ele assumirá o tipo mais genérico possível (object, p.ex.).\n",
        "\n",
        "Entretanto, você pode forçar que um série assuma um tipo compatível que você desejar ao definir o parâmetro **dtype** no construtor"
      ]
    },
    {
      "cell_type": "code",
      "metadata": {
        "id": "H5Q2_4ho691W",
        "colab": {
          "base_uri": "https://localhost:8080/"
        },
        "outputId": "f2afc2b8-98fe-43ae-b097-ba8798db221e"
      },
      "source": [
        "idades"
      ],
      "execution_count": 73,
      "outputs": [
        {
          "output_type": "execute_result",
          "data": {
            "text/plain": [
              "[22, 27, 25]"
            ]
          },
          "metadata": {},
          "execution_count": 73
        }
      ]
    },
    {
      "cell_type": "code",
      "metadata": {
        "id": "OuYKqiWC7aBo",
        "colab": {
          "base_uri": "https://localhost:8080/"
        },
        "outputId": "826f51bd-3450-4562-ea81-c5e5382d932a"
      },
      "source": [
        "pd.Series(idades)"
      ],
      "execution_count": 74,
      "outputs": [
        {
          "output_type": "execute_result",
          "data": {
            "text/plain": [
              "0    22\n",
              "1    27\n",
              "2    25\n",
              "dtype: int64"
            ]
          },
          "metadata": {},
          "execution_count": 74
        }
      ]
    },
    {
      "cell_type": "code",
      "metadata": {
        "id": "gAmFG2dH7bol",
        "colab": {
          "base_uri": "https://localhost:8080/"
        },
        "outputId": "0999ae06-6bb8-470e-e58e-82260fc1ca37"
      },
      "source": [
        "pd.Series(idades, dtype='float')"
      ],
      "execution_count": 75,
      "outputs": [
        {
          "output_type": "execute_result",
          "data": {
            "text/plain": [
              "0    22.0\n",
              "1    27.0\n",
              "2    25.0\n",
              "dtype: float64"
            ]
          },
          "metadata": {},
          "execution_count": 75
        }
      ]
    },
    {
      "cell_type": "code",
      "metadata": {
        "id": "Sh_tS8rf7faX",
        "colab": {
          "base_uri": "https://localhost:8080/"
        },
        "outputId": "eb9c9b6a-3665-4ec6-cad3-6c2be7cc25da"
      },
      "source": [
        "alunos"
      ],
      "execution_count": 76,
      "outputs": [
        {
          "output_type": "execute_result",
          "data": {
            "text/plain": [
              "['Rafaela', 'Bruno', 'Juan']"
            ]
          },
          "metadata": {},
          "execution_count": 76
        }
      ]
    },
    {
      "cell_type": "code",
      "metadata": {
        "id": "yu4ehYDK7ojy"
      },
      "source": [
        "serie_alunos = pd.Series(alunos)"
      ],
      "execution_count": 77,
      "outputs": []
    },
    {
      "cell_type": "code",
      "metadata": {
        "id": "MhZ2ioyA7qmS",
        "colab": {
          "base_uri": "https://localhost:8080/"
        },
        "outputId": "12f32001-ce09-4b5f-ab64-afeaba5ca73f"
      },
      "source": [
        "serie_alunos"
      ],
      "execution_count": null,
      "outputs": [
        {
          "output_type": "execute_result",
          "data": {
            "text/plain": [
              "0    Rafaela\n",
              "1      Bruno\n",
              "2       Juan\n",
              "dtype: object"
            ]
          },
          "metadata": {},
          "execution_count": 34
        }
      ]
    },
    {
      "cell_type": "code",
      "metadata": {
        "id": "yrbYDGCP7rSZ",
        "colab": {
          "base_uri": "https://localhost:8080/"
        },
        "outputId": "c96701f0-d8d9-466d-d40e-4e2a58b14a1f"
      },
      "source": [
        "serie_alunos.dtype"
      ],
      "execution_count": 78,
      "outputs": [
        {
          "output_type": "execute_result",
          "data": {
            "text/plain": [
              "dtype('O')"
            ]
          },
          "metadata": {},
          "execution_count": 78
        }
      ]
    },
    {
      "cell_type": "code",
      "metadata": {
        "colab": {
          "base_uri": "https://localhost:8080/"
        },
        "id": "CoqlPJpEYypz",
        "outputId": "65453783-66cf-421a-fb26-b7b92bbb8cf5"
      },
      "source": [
        "print(serie_alunos.dtype)"
      ],
      "execution_count": 79,
      "outputs": [
        {
          "output_type": "stream",
          "name": "stdout",
          "text": [
            "object\n"
          ]
        }
      ]
    },
    {
      "cell_type": "code",
      "metadata": {
        "id": "M1gxchoxDxsw",
        "colab": {
          "base_uri": "https://localhost:8080/"
        },
        "outputId": "6085f03a-c955-470e-8729-3e98c069afc2"
      },
      "source": [
        "alturas"
      ],
      "execution_count": 80,
      "outputs": [
        {
          "output_type": "execute_result",
          "data": {
            "text/plain": [
              "[162.4, 191.2, 175.0]"
            ]
          },
          "metadata": {},
          "execution_count": 80
        }
      ]
    },
    {
      "cell_type": "code",
      "metadata": {
        "id": "FOmJHhGuDyOq",
        "colab": {
          "base_uri": "https://localhost:8080/"
        },
        "outputId": "341bbb1d-fbb0-4f47-da59-bd4106719fbc"
      },
      "source": [
        "pd.Series(alturas)"
      ],
      "execution_count": 81,
      "outputs": [
        {
          "output_type": "execute_result",
          "data": {
            "text/plain": [
              "0    162.4\n",
              "1    191.2\n",
              "2    175.0\n",
              "dtype: float64"
            ]
          },
          "metadata": {},
          "execution_count": 81
        }
      ]
    },
    {
      "cell_type": "markdown",
      "metadata": {
        "id": "qdcT5EH1bnrC"
      },
      "source": [
        "Séries heterogêneas são convertidas para objetos"
      ]
    },
    {
      "cell_type": "code",
      "metadata": {
        "id": "ZzONNBDNDzuY"
      },
      "source": [
        "alturas2 = [162.4, '191.2', 175.0]"
      ],
      "execution_count": 36,
      "outputs": []
    },
    {
      "cell_type": "code",
      "metadata": {
        "id": "_LSrN6nSEIYC",
        "colab": {
          "base_uri": "https://localhost:8080/"
        },
        "outputId": "de3b033f-97df-4410-a1cf-3300621fa28a"
      },
      "source": [
        "pd.Series(alturas2)"
      ],
      "execution_count": 82,
      "outputs": [
        {
          "output_type": "execute_result",
          "data": {
            "text/plain": [
              "0    162.4\n",
              "1    191.2\n",
              "2      175\n",
              "dtype: object"
            ]
          },
          "metadata": {},
          "execution_count": 82
        }
      ]
    },
    {
      "cell_type": "markdown",
      "metadata": {
        "id": "MKLzw1tmbViH"
      },
      "source": [
        "#### Índices em Séries"
      ]
    },
    {
      "cell_type": "code",
      "metadata": {
        "id": "5DqEuR7Ehqqs",
        "colab": {
          "base_uri": "https://localhost:8080/"
        },
        "outputId": "333aae3c-11cc-4dd6-d9b9-e183a176232d"
      },
      "source": [
        "books_list"
      ],
      "execution_count": 83,
      "outputs": [
        {
          "output_type": "execute_result",
          "data": {
            "text/plain": [
              "['A Arte da Guerra', 'Pai Rico Pai Pobre', 'Senhor dos Anéis']"
            ]
          },
          "metadata": {},
          "execution_count": 83
        }
      ]
    },
    {
      "cell_type": "code",
      "metadata": {
        "id": "XLZTJw3yhuy0",
        "colab": {
          "base_uri": "https://localhost:8080/"
        },
        "outputId": "970d7512-9d61-411c-8b4f-3bdd39d1792a"
      },
      "source": [
        "list_s"
      ],
      "execution_count": 84,
      "outputs": [
        {
          "output_type": "execute_result",
          "data": {
            "text/plain": [
              "0      A Arte da Guerra\n",
              "1    Pai Rico Pai Pobre\n",
              "2      Senhor dos Anéis\n",
              "dtype: object"
            ]
          },
          "metadata": {},
          "execution_count": 84
        }
      ]
    },
    {
      "cell_type": "code",
      "metadata": {
        "id": "2mD9vGxIhve8"
      },
      "source": [
        "serie_livros = pd.Series(books_list,['estratégia', 'interessante', 'aventura'])"
      ],
      "execution_count": 85,
      "outputs": []
    },
    {
      "cell_type": "code",
      "metadata": {
        "colab": {
          "base_uri": "https://localhost:8080/"
        },
        "id": "fwPb1MA4GvFA",
        "outputId": "f97db9a7-d3b7-487c-ea5a-3b859eee08ca"
      },
      "source": [
        "serie_livros"
      ],
      "execution_count": 86,
      "outputs": [
        {
          "output_type": "execute_result",
          "data": {
            "text/plain": [
              "estratégia        A Arte da Guerra\n",
              "interessante    Pai Rico Pai Pobre\n",
              "aventura          Senhor dos Anéis\n",
              "dtype: object"
            ]
          },
          "metadata": {},
          "execution_count": 86
        }
      ]
    },
    {
      "cell_type": "code",
      "metadata": {
        "id": "hqujD4MnoTLH",
        "colab": {
          "base_uri": "https://localhost:8080/",
          "height": 35
        },
        "outputId": "55c7be8d-1d92-4200-87ac-3fabdf5d1db2"
      },
      "source": [
        "serie_livros['interessante']"
      ],
      "execution_count": 87,
      "outputs": [
        {
          "output_type": "execute_result",
          "data": {
            "application/vnd.google.colaboratory.intrinsic+json": {
              "type": "string"
            },
            "text/plain": [
              "'Pai Rico Pai Pobre'"
            ]
          },
          "metadata": {},
          "execution_count": 87
        }
      ]
    },
    {
      "cell_type": "code",
      "metadata": {
        "id": "B-k2WxHPoOPn",
        "colab": {
          "base_uri": "https://localhost:8080/",
          "height": 35
        },
        "outputId": "45c6f21d-cf4d-4c93-9a96-efafa36d3ded"
      },
      "source": [
        "serie_livros['aventura']"
      ],
      "execution_count": 88,
      "outputs": [
        {
          "output_type": "execute_result",
          "data": {
            "application/vnd.google.colaboratory.intrinsic+json": {
              "type": "string"
            },
            "text/plain": [
              "'Senhor dos Anéis'"
            ]
          },
          "metadata": {},
          "execution_count": 88
        }
      ]
    },
    {
      "cell_type": "markdown",
      "metadata": {
        "id": "BYlOokJ3jCo3"
      },
      "source": [
        "#### Séries e nomes de índices"
      ]
    },
    {
      "cell_type": "code",
      "metadata": {
        "id": "EzWXGmBM53bn",
        "colab": {
          "base_uri": "https://localhost:8080/"
        },
        "outputId": "40e88b14-47ef-4e4e-bcda-915db2559b01"
      },
      "source": [
        "list_s"
      ],
      "execution_count": 89,
      "outputs": [
        {
          "output_type": "execute_result",
          "data": {
            "text/plain": [
              "0      A Arte da Guerra\n",
              "1    Pai Rico Pai Pobre\n",
              "2      Senhor dos Anéis\n",
              "dtype: object"
            ]
          },
          "metadata": {},
          "execution_count": 89
        }
      ]
    },
    {
      "cell_type": "code",
      "metadata": {
        "colab": {
          "base_uri": "https://localhost:8080/"
        },
        "id": "rm_o3Z84dzPO",
        "outputId": "68baf7c4-38b2-4ec3-87a5-32e483848aad"
      },
      "source": [
        "dict_s"
      ],
      "execution_count": 90,
      "outputs": [
        {
          "output_type": "execute_result",
          "data": {
            "text/plain": [
              "0      A Arte da Guerra\n",
              "1    Pai Rico Pai Pobre\n",
              "2      Senhor dos Anéis\n",
              "dtype: object"
            ]
          },
          "metadata": {},
          "execution_count": 90
        }
      ]
    },
    {
      "cell_type": "code",
      "metadata": {
        "id": "iIYh_d5i53PW"
      },
      "source": [
        "books_series = list_s"
      ],
      "execution_count": 91,
      "outputs": []
    },
    {
      "cell_type": "code",
      "metadata": {
        "id": "oDXz9yKSmCX-",
        "colab": {
          "base_uri": "https://localhost:8080/"
        },
        "outputId": "51c4e111-7494-4979-849f-ec7395116de6"
      },
      "source": [
        "books_series"
      ],
      "execution_count": 92,
      "outputs": [
        {
          "output_type": "execute_result",
          "data": {
            "text/plain": [
              "0      A Arte da Guerra\n",
              "1    Pai Rico Pai Pobre\n",
              "2      Senhor dos Anéis\n",
              "dtype: object"
            ]
          },
          "metadata": {},
          "execution_count": 92
        }
      ]
    },
    {
      "cell_type": "code",
      "metadata": {
        "id": "Yr-5UPXBmDii",
        "colab": {
          "base_uri": "https://localhost:8080/"
        },
        "outputId": "946ed893-671f-43ba-e1a5-35c715e40120"
      },
      "source": [
        "books_series.size"
      ],
      "execution_count": 93,
      "outputs": [
        {
          "output_type": "execute_result",
          "data": {
            "text/plain": [
              "3"
            ]
          },
          "metadata": {},
          "execution_count": 93
        }
      ]
    },
    {
      "cell_type": "code",
      "metadata": {
        "colab": {
          "base_uri": "https://localhost:8080/"
        },
        "id": "fTu3eyXro33t",
        "outputId": "c8c65f67-da92-4550-c63e-d7dadfa5b2d2"
      },
      "source": [
        "len(books_series)"
      ],
      "execution_count": 94,
      "outputs": [
        {
          "output_type": "execute_result",
          "data": {
            "text/plain": [
              "3"
            ]
          },
          "metadata": {},
          "execution_count": 94
        }
      ]
    },
    {
      "cell_type": "code",
      "metadata": {
        "id": "dH2DmNuRo30D"
      },
      "source": [
        ""
      ],
      "execution_count": null,
      "outputs": []
    },
    {
      "cell_type": "code",
      "metadata": {
        "id": "EpokcHOn6ZJs",
        "colab": {
          "base_uri": "https://localhost:8080/"
        },
        "outputId": "5982cce0-02ce-468e-c3a8-f91e897bcdd0"
      },
      "source": [
        "list_s.equals(dict_s)"
      ],
      "execution_count": null,
      "outputs": [
        {
          "output_type": "execute_result",
          "data": {
            "text/plain": [
              "True"
            ]
          },
          "metadata": {
            "tags": []
          },
          "execution_count": 49
        }
      ]
    },
    {
      "cell_type": "code",
      "metadata": {
        "id": "hksNNCKk6jj2",
        "colab": {
          "base_uri": "https://localhost:8080/"
        },
        "outputId": "b6617390-2c8f-4cbd-f9c8-20dff8f5765d"
      },
      "source": [
        "list_s.dtype"
      ],
      "execution_count": null,
      "outputs": [
        {
          "output_type": "execute_result",
          "data": {
            "text/plain": [
              "dtype('O')"
            ]
          },
          "metadata": {
            "tags": []
          },
          "execution_count": 50
        }
      ]
    },
    {
      "cell_type": "code",
      "metadata": {
        "id": "yh3Bf7T06oKz"
      },
      "source": [
        "books_series.name"
      ],
      "execution_count": 95,
      "outputs": []
    },
    {
      "cell_type": "code",
      "metadata": {
        "id": "Z_aHq8C96t-K",
        "colab": {
          "base_uri": "https://localhost:8080/"
        },
        "outputId": "cfffd8a2-a7cc-4e2c-8e63-bbd48f7f98fa"
      },
      "source": [
        "books_series.name == None"
      ],
      "execution_count": 96,
      "outputs": [
        {
          "output_type": "execute_result",
          "data": {
            "text/plain": [
              "True"
            ]
          },
          "metadata": {},
          "execution_count": 96
        }
      ]
    },
    {
      "cell_type": "code",
      "metadata": {
        "id": "tjQyi2dz6zSn"
      },
      "source": [
        "books_series.name = 'meus livros favoritos'"
      ],
      "execution_count": 97,
      "outputs": []
    },
    {
      "cell_type": "code",
      "metadata": {
        "id": "lk5fj09J6268",
        "colab": {
          "base_uri": "https://localhost:8080/"
        },
        "outputId": "44d2b88e-75a9-430d-fc7e-d489d2603168"
      },
      "source": [
        "books_series"
      ],
      "execution_count": 98,
      "outputs": [
        {
          "output_type": "execute_result",
          "data": {
            "text/plain": [
              "0      A Arte da Guerra\n",
              "1    Pai Rico Pai Pobre\n",
              "2      Senhor dos Anéis\n",
              "Name: meus livros favoritos, dtype: object"
            ]
          },
          "metadata": {},
          "execution_count": 98
        }
      ]
    },
    {
      "cell_type": "code",
      "metadata": {
        "id": "rkFWmkV464E1"
      },
      "source": [
        "books_series.index.name"
      ],
      "execution_count": 99,
      "outputs": []
    },
    {
      "cell_type": "code",
      "metadata": {
        "id": "drtV9Y0_7E9f",
        "colab": {
          "base_uri": "https://localhost:8080/"
        },
        "outputId": "001cf314-578c-4675-9b17-7c986f8a73ea"
      },
      "source": [
        "books_series.index.name == None"
      ],
      "execution_count": 100,
      "outputs": [
        {
          "output_type": "execute_result",
          "data": {
            "text/plain": [
              "True"
            ]
          },
          "metadata": {},
          "execution_count": 100
        }
      ]
    },
    {
      "cell_type": "code",
      "metadata": {
        "id": "wn2TWROa7Gog"
      },
      "source": [
        "books_series.index.name = 'My books'"
      ],
      "execution_count": 101,
      "outputs": []
    },
    {
      "cell_type": "code",
      "metadata": {
        "id": "bg4HqmJ07JzS",
        "colab": {
          "base_uri": "https://localhost:8080/"
        },
        "outputId": "457c89ab-6c79-4c31-a64e-4cbf822242df"
      },
      "source": [
        "books_series"
      ],
      "execution_count": 102,
      "outputs": [
        {
          "output_type": "execute_result",
          "data": {
            "text/plain": [
              "My books\n",
              "0      A Arte da Guerra\n",
              "1    Pai Rico Pai Pobre\n",
              "2      Senhor dos Anéis\n",
              "Name: meus livros favoritos, dtype: object"
            ]
          },
          "metadata": {},
          "execution_count": 102
        }
      ]
    },
    {
      "cell_type": "markdown",
      "metadata": {
        "id": "BlOUMfCf7Koy"
      },
      "source": [
        "#### Exercícios"
      ]
    },
    {
      "cell_type": "markdown",
      "metadata": {
        "id": "70E0Wx7u9uAt"
      },
      "source": [
        "Crie uma lista de tamanho 4 que contenha as linguagens de programação que você conhece ou deseja aprender"
      ]
    },
    {
      "cell_type": "code",
      "metadata": {
        "id": "PGDXtgJwfZRm"
      },
      "source": [
        "linguagens = ['Python', 'Java', 'C++', 'Smalltalk']"
      ],
      "execution_count": null,
      "outputs": []
    },
    {
      "cell_type": "markdown",
      "metadata": {
        "id": "AugRCqS1-CtW"
      },
      "source": [
        "Crie outra lista do mesmo tamanho com o tempo em meses em que você conhece a linguagem, seja por saber programar ou desde quando você teve vontade de aprender"
      ]
    },
    {
      "cell_type": "code",
      "metadata": {
        "id": "naIMg9sYfx-u"
      },
      "source": [
        "tempo = [48, 120, 96, 6]"
      ],
      "execution_count": null,
      "outputs": []
    },
    {
      "cell_type": "markdown",
      "metadata": {
        "id": "aYtG0R83-DKL"
      },
      "source": [
        "Crie uma série que guarde os tempos de experiência indexados pela respectiva linguagens de programação. "
      ]
    },
    {
      "cell_type": "code",
      "metadata": {
        "id": "xjJshsrkgdXA"
      },
      "source": [
        "serie_experiencia = pd.Series(data=tempo, index=linguagens)"
      ],
      "execution_count": null,
      "outputs": []
    },
    {
      "cell_type": "code",
      "metadata": {
        "colab": {
          "base_uri": "https://localhost:8080/"
        },
        "id": "3EsXfT4WsPJk",
        "outputId": "1b3ad245-2776-4b16-8be4-5e7ab388b69f"
      },
      "source": [
        "serie_experiencia"
      ],
      "execution_count": null,
      "outputs": [
        {
          "output_type": "execute_result",
          "data": {
            "text/plain": [
              "Python        48\n",
              "Java         120\n",
              "C++           96\n",
              "Smalltalk      6\n",
              "dtype: int64"
            ]
          },
          "metadata": {
            "tags": []
          },
          "execution_count": 60
        }
      ]
    },
    {
      "cell_type": "code",
      "metadata": {
        "colab": {
          "base_uri": "https://localhost:8080/"
        },
        "id": "s1HoKLqKsPHp",
        "outputId": "53f9287c-ccab-4898-a937-70d44227bbdf"
      },
      "source": [
        "serie_experiencia['C++']"
      ],
      "execution_count": null,
      "outputs": [
        {
          "output_type": "execute_result",
          "data": {
            "text/plain": [
              "96"
            ]
          },
          "metadata": {
            "tags": []
          },
          "execution_count": 61
        }
      ]
    },
    {
      "cell_type": "code",
      "metadata": {
        "colab": {
          "base_uri": "https://localhost:8080/"
        },
        "id": "L0jnLLcesZV-",
        "outputId": "f5c5d36f-b6bb-41a9-95de-ebf0a6524b1d"
      },
      "source": [
        "serie_experiencia[2]"
      ],
      "execution_count": null,
      "outputs": [
        {
          "output_type": "execute_result",
          "data": {
            "text/plain": [
              "96"
            ]
          },
          "metadata": {
            "tags": []
          },
          "execution_count": 62
        }
      ]
    },
    {
      "cell_type": "code",
      "metadata": {
        "id": "sKz9RohTsZTK"
      },
      "source": [
        "exp_dic = {'Python': 48, 'Java': 120, 'C++': 96, 'Smalltalk': 6}"
      ],
      "execution_count": null,
      "outputs": []
    },
    {
      "cell_type": "code",
      "metadata": {
        "colab": {
          "base_uri": "https://localhost:8080/"
        },
        "id": "q602uInyml_S",
        "outputId": "6cafc2a6-05b5-4989-a6e9-2917eb5372bf"
      },
      "source": [
        "pd.Series(exp_dic)"
      ],
      "execution_count": null,
      "outputs": [
        {
          "output_type": "execute_result",
          "data": {
            "text/plain": [
              "Python        48\n",
              "Java         120\n",
              "C++           96\n",
              "Smalltalk      6\n",
              "dtype: int64"
            ]
          },
          "metadata": {
            "tags": []
          },
          "execution_count": 66
        }
      ]
    },
    {
      "cell_type": "code",
      "metadata": {
        "colab": {
          "base_uri": "https://localhost:8080/"
        },
        "id": "2fl1TyM0lD9Z",
        "outputId": "4cb65151-de24-4a6c-deef-d27185009449"
      },
      "source": [
        "list(zip(linguagens, tempo))"
      ],
      "execution_count": null,
      "outputs": [
        {
          "output_type": "execute_result",
          "data": {
            "text/plain": [
              "[('Python', 48), ('Java', 120), ('C++', 96), ('Smalltalk', 6)]"
            ]
          },
          "metadata": {
            "tags": []
          },
          "execution_count": 67
        }
      ]
    },
    {
      "cell_type": "code",
      "metadata": {
        "colab": {
          "base_uri": "https://localhost:8080/"
        },
        "id": "cCeLH-TGnFQc",
        "outputId": "0b292378-d91f-4bdd-d60b-c48dee5050d3"
      },
      "source": [
        "pd.Series(dict(zip(linguagens, tempo)))"
      ],
      "execution_count": null,
      "outputs": [
        {
          "output_type": "execute_result",
          "data": {
            "text/plain": [
              "Python        48\n",
              "Java         120\n",
              "C++           96\n",
              "Smalltalk      6\n",
              "dtype: int64"
            ]
          },
          "metadata": {
            "tags": []
          },
          "execution_count": 70
        }
      ]
    },
    {
      "cell_type": "markdown",
      "metadata": {
        "id": "tSkzpi-M-Dwb"
      },
      "source": [
        "Crie uma série, como no exercício anterior, mas a partir de um dicionário. Implemente duas soluções: uma criando o dicionário manualmente e outra dinamincamente a partir da conjunção das estruturas de dados."
      ]
    },
    {
      "cell_type": "code",
      "metadata": {
        "id": "c4fH1wb5ld_U"
      },
      "source": [
        ""
      ],
      "execution_count": null,
      "outputs": []
    },
    {
      "cell_type": "markdown",
      "metadata": {
        "id": "aNv9ZDu-_dy8"
      },
      "source": [
        "#### Os métodos **head()** e **tail()**"
      ]
    },
    {
      "cell_type": "code",
      "metadata": {
        "id": "1TSOvpBrBU5Z"
      },
      "source": [
        "serie_int = pd.Series(range(60))"
      ],
      "execution_count": null,
      "outputs": []
    },
    {
      "cell_type": "code",
      "metadata": {
        "colab": {
          "base_uri": "https://localhost:8080/"
        },
        "id": "TAYqFp0XmFLp",
        "outputId": "467c2af2-49dc-42d6-aad4-b11a0bb54acc"
      },
      "source": [
        "serie_int"
      ],
      "execution_count": null,
      "outputs": [
        {
          "output_type": "execute_result",
          "data": {
            "text/plain": [
              "0      0\n",
              "1      1\n",
              "2      2\n",
              "3      3\n",
              "4      4\n",
              "5      5\n",
              "6      6\n",
              "7      7\n",
              "8      8\n",
              "9      9\n",
              "10    10\n",
              "11    11\n",
              "12    12\n",
              "13    13\n",
              "14    14\n",
              "15    15\n",
              "16    16\n",
              "17    17\n",
              "18    18\n",
              "19    19\n",
              "20    20\n",
              "21    21\n",
              "22    22\n",
              "23    23\n",
              "24    24\n",
              "25    25\n",
              "26    26\n",
              "27    27\n",
              "28    28\n",
              "29    29\n",
              "30    30\n",
              "31    31\n",
              "32    32\n",
              "33    33\n",
              "34    34\n",
              "35    35\n",
              "36    36\n",
              "37    37\n",
              "38    38\n",
              "39    39\n",
              "40    40\n",
              "41    41\n",
              "42    42\n",
              "43    43\n",
              "44    44\n",
              "45    45\n",
              "46    46\n",
              "47    47\n",
              "48    48\n",
              "49    49\n",
              "50    50\n",
              "51    51\n",
              "52    52\n",
              "53    53\n",
              "54    54\n",
              "55    55\n",
              "56    56\n",
              "57    57\n",
              "58    58\n",
              "59    59\n",
              "dtype: int64"
            ]
          },
          "metadata": {
            "tags": []
          },
          "execution_count": 72
        }
      ]
    },
    {
      "cell_type": "code",
      "metadata": {
        "id": "m6tKNlC7BuOS",
        "colab": {
          "base_uri": "https://localhost:8080/"
        },
        "outputId": "7cd069bb-12c4-484a-e9c3-ace51cb81239"
      },
      "source": [
        "serie_int.size"
      ],
      "execution_count": null,
      "outputs": [
        {
          "output_type": "execute_result",
          "data": {
            "text/plain": [
              "60"
            ]
          },
          "metadata": {
            "tags": []
          },
          "execution_count": 73
        }
      ]
    },
    {
      "cell_type": "code",
      "metadata": {
        "id": "BwS7kFbRBVJ-",
        "colab": {
          "base_uri": "https://localhost:8080/"
        },
        "outputId": "4df200b3-1a8f-479e-bc9e-ee8043d9bf14"
      },
      "source": [
        "len(serie_int)"
      ],
      "execution_count": null,
      "outputs": [
        {
          "output_type": "execute_result",
          "data": {
            "text/plain": [
              "60"
            ]
          },
          "metadata": {
            "tags": []
          },
          "execution_count": 74
        }
      ]
    },
    {
      "cell_type": "code",
      "metadata": {
        "id": "TmU046OCCWh6",
        "colab": {
          "base_uri": "https://localhost:8080/"
        },
        "outputId": "0e3ea8f5-3b8a-436a-a858-a6839f2e0613"
      },
      "source": [
        "serie_int.head()"
      ],
      "execution_count": null,
      "outputs": [
        {
          "output_type": "execute_result",
          "data": {
            "text/plain": [
              "0    0\n",
              "1    1\n",
              "2    2\n",
              "3    3\n",
              "4    4\n",
              "dtype: int64"
            ]
          },
          "metadata": {
            "tags": []
          },
          "execution_count": 75
        }
      ]
    },
    {
      "cell_type": "code",
      "metadata": {
        "id": "l3TgDATYCj7B",
        "colab": {
          "base_uri": "https://localhost:8080/"
        },
        "outputId": "fb35fa8a-7599-4c9e-ad98-c44c9229d8e0"
      },
      "source": [
        "serie_int.tail()"
      ],
      "execution_count": null,
      "outputs": [
        {
          "output_type": "execute_result",
          "data": {
            "text/plain": [
              "55    55\n",
              "56    56\n",
              "57    57\n",
              "58    58\n",
              "59    59\n",
              "dtype: int64"
            ]
          },
          "metadata": {
            "tags": []
          },
          "execution_count": 76
        }
      ]
    },
    {
      "cell_type": "code",
      "metadata": {
        "id": "wVSJZzAtCms0",
        "colab": {
          "base_uri": "https://localhost:8080/"
        },
        "outputId": "9f0ab6d8-06df-4e94-bbe1-99405629ee97"
      },
      "source": [
        "serie_int.head(n=3)"
      ],
      "execution_count": null,
      "outputs": [
        {
          "output_type": "execute_result",
          "data": {
            "text/plain": [
              "0    0\n",
              "1    1\n",
              "2    2\n",
              "dtype: int64"
            ]
          },
          "metadata": {
            "tags": []
          },
          "execution_count": 77
        }
      ]
    },
    {
      "cell_type": "code",
      "metadata": {
        "id": "gtEU4qLBCrJF",
        "colab": {
          "base_uri": "https://localhost:8080/"
        },
        "outputId": "f2cfc5cb-3d4b-4451-8e84-e6efd1e8ce72"
      },
      "source": [
        "serie_int.tail(n=6)"
      ],
      "execution_count": null,
      "outputs": [
        {
          "output_type": "execute_result",
          "data": {
            "text/plain": [
              "54    54\n",
              "55    55\n",
              "56    56\n",
              "57    57\n",
              "58    58\n",
              "59    59\n",
              "dtype: int64"
            ]
          },
          "metadata": {
            "tags": []
          },
          "execution_count": 78
        }
      ]
    },
    {
      "cell_type": "markdown",
      "metadata": {
        "id": "lJnjUgvzDI2d"
      },
      "source": [
        "#### Acesso de elementos da série pelo Índice/Label\n",
        "\n",
        "Seguem as mesmas regras de estruturas indexáveis (sequencias) já vistas no curso, tais como listas, strings e tuplas \n",
        "\n",
        "*   Item da lista\n",
        "*   Item da lista\n",
        "\n"
      ]
    },
    {
      "cell_type": "code",
      "metadata": {
        "id": "wPXnDyJLHsal",
        "colab": {
          "base_uri": "https://localhost:8080/"
        },
        "outputId": "8f7e69be-28dc-4ca3-8397-6ff4135a95fe"
      },
      "source": [
        "nome_curso = 'Fundamentos de Desenvolvimento Python'\n",
        "print(nome_curso)"
      ],
      "execution_count": null,
      "outputs": [
        {
          "output_type": "stream",
          "text": [
            "Fundamentos de Desenvolvimento Python\n"
          ],
          "name": "stdout"
        }
      ]
    },
    {
      "cell_type": "code",
      "metadata": {
        "id": "NBzpGN2lHsek",
        "colab": {
          "base_uri": "https://localhost:8080/"
        },
        "outputId": "026999ce-6e71-4fd8-cca6-a19850eb5f53"
      },
      "source": [
        "pd.Series('Andre')"
      ],
      "execution_count": null,
      "outputs": [
        {
          "output_type": "execute_result",
          "data": {
            "text/plain": [
              "0    Andre\n",
              "dtype: object"
            ]
          },
          "metadata": {
            "tags": []
          },
          "execution_count": 80
        }
      ]
    },
    {
      "cell_type": "code",
      "metadata": {
        "id": "n9LafznMHsle",
        "colab": {
          "base_uri": "https://localhost:8080/"
        },
        "outputId": "9df35f7b-da91-4e41-d069-57f852ef559f"
      },
      "source": [
        "pd.Series(nome_curso)"
      ],
      "execution_count": null,
      "outputs": [
        {
          "output_type": "execute_result",
          "data": {
            "text/plain": [
              "0    Fundamentos de Desenvolvimento Python\n",
              "dtype: object"
            ]
          },
          "metadata": {
            "tags": []
          },
          "execution_count": 81
        }
      ]
    },
    {
      "cell_type": "code",
      "metadata": {
        "id": "OvvynCvyHtDE",
        "colab": {
          "base_uri": "https://localhost:8080/"
        },
        "outputId": "3174b1de-aa26-4ce3-9627-13d29bda3ea7"
      },
      "source": [
        "len(list(nome_curso))"
      ],
      "execution_count": null,
      "outputs": [
        {
          "output_type": "execute_result",
          "data": {
            "text/plain": [
              "37"
            ]
          },
          "metadata": {
            "tags": []
          },
          "execution_count": 82
        }
      ]
    },
    {
      "cell_type": "code",
      "metadata": {
        "id": "RbeV4fkiHtHP"
      },
      "source": [
        "letras = list(nome_curso)"
      ],
      "execution_count": null,
      "outputs": []
    },
    {
      "cell_type": "code",
      "metadata": {
        "colab": {
          "base_uri": "https://localhost:8080/"
        },
        "id": "Iz8-sDcboQb8",
        "outputId": "8f87845a-1dfa-4df4-c49e-f0d4db48d6ea"
      },
      "source": [
        "letras"
      ],
      "execution_count": null,
      "outputs": [
        {
          "output_type": "execute_result",
          "data": {
            "text/plain": [
              "['F',\n",
              " 'u',\n",
              " 'n',\n",
              " 'd',\n",
              " 'a',\n",
              " 'm',\n",
              " 'e',\n",
              " 'n',\n",
              " 't',\n",
              " 'o',\n",
              " 's',\n",
              " ' ',\n",
              " 'd',\n",
              " 'e',\n",
              " ' ',\n",
              " 'D',\n",
              " 'e',\n",
              " 's',\n",
              " 'e',\n",
              " 'n',\n",
              " 'v',\n",
              " 'o',\n",
              " 'l',\n",
              " 'v',\n",
              " 'i',\n",
              " 'm',\n",
              " 'e',\n",
              " 'n',\n",
              " 't',\n",
              " 'o',\n",
              " ' ',\n",
              " 'P',\n",
              " 'y',\n",
              " 't',\n",
              " 'h',\n",
              " 'o',\n",
              " 'n']"
            ]
          },
          "metadata": {
            "tags": []
          },
          "execution_count": 84
        }
      ]
    },
    {
      "cell_type": "code",
      "metadata": {
        "id": "opv56oFNIRut"
      },
      "source": [
        "serie_letras = pd.Series(data=letras)"
      ],
      "execution_count": null,
      "outputs": []
    },
    {
      "cell_type": "code",
      "metadata": {
        "id": "R6_VF5CfIUR1",
        "colab": {
          "base_uri": "https://localhost:8080/"
        },
        "outputId": "70497b4d-47b8-41c6-c1b7-4bbe4c73b773"
      },
      "source": [
        "serie_letras.head(6)"
      ],
      "execution_count": null,
      "outputs": [
        {
          "output_type": "execute_result",
          "data": {
            "text/plain": [
              "0    F\n",
              "1    u\n",
              "2    n\n",
              "3    d\n",
              "4    a\n",
              "5    m\n",
              "dtype: object"
            ]
          },
          "metadata": {
            "tags": []
          },
          "execution_count": 86
        }
      ]
    },
    {
      "cell_type": "code",
      "metadata": {
        "id": "zv4i1iThIVh6",
        "colab": {
          "base_uri": "https://localhost:8080/"
        },
        "outputId": "0e48d148-77a3-4d53-b97a-99866831c269"
      },
      "source": [
        "serie_letras.head(1)"
      ],
      "execution_count": null,
      "outputs": [
        {
          "output_type": "execute_result",
          "data": {
            "text/plain": [
              "0    F\n",
              "dtype: object"
            ]
          },
          "metadata": {
            "tags": []
          },
          "execution_count": 87
        }
      ]
    },
    {
      "cell_type": "code",
      "metadata": {
        "id": "UYQxEBqXIbqf",
        "colab": {
          "base_uri": "https://localhost:8080/",
          "height": 36
        },
        "outputId": "3206457d-0bc5-47b3-9e9e-eea9f5192ac5"
      },
      "source": [
        "serie_letras[1]"
      ],
      "execution_count": null,
      "outputs": [
        {
          "output_type": "execute_result",
          "data": {
            "application/vnd.google.colaboratory.intrinsic+json": {
              "type": "string"
            },
            "text/plain": [
              "'u'"
            ]
          },
          "metadata": {
            "tags": []
          },
          "execution_count": 88
        }
      ]
    },
    {
      "cell_type": "code",
      "metadata": {
        "id": "uWaBB0sLI6Ga",
        "colab": {
          "base_uri": "https://localhost:8080/"
        },
        "outputId": "040a7111-87ab-4729-e646-285f6ea21197"
      },
      "source": [
        "\n",
        "serie_letras[:3]"
      ],
      "execution_count": null,
      "outputs": [
        {
          "output_type": "execute_result",
          "data": {
            "text/plain": [
              "0    F\n",
              "1    u\n",
              "2    n\n",
              "dtype: object"
            ]
          },
          "metadata": {
            "tags": []
          },
          "execution_count": 98
        }
      ]
    },
    {
      "cell_type": "code",
      "metadata": {
        "id": "7_OyRs5EJFC6",
        "colab": {
          "base_uri": "https://localhost:8080/"
        },
        "outputId": "8ca773b0-5c1a-492c-e115-600fd74add95"
      },
      "source": [
        "serie_letras[5:10]"
      ],
      "execution_count": null,
      "outputs": [
        {
          "output_type": "execute_result",
          "data": {
            "text/plain": [
              "5    m\n",
              "6    e\n",
              "7    n\n",
              "8    t\n",
              "9    o\n",
              "dtype: object"
            ]
          },
          "metadata": {
            "tags": []
          },
          "execution_count": 99
        }
      ]
    },
    {
      "cell_type": "code",
      "metadata": {
        "id": "klWgbUUYu39D"
      },
      "source": [
        "vogais = 'aeiou'"
      ],
      "execution_count": null,
      "outputs": []
    },
    {
      "cell_type": "code",
      "metadata": {
        "id": "y9YaMJdcRvJP"
      },
      "source": [
        "serie_vogais = pd.Series(data=list(vogais), index=map(lambda x: 'label_' + x, list(vogais)))"
      ],
      "execution_count": null,
      "outputs": []
    },
    {
      "cell_type": "code",
      "metadata": {
        "id": "nhmz3yCwpmSG"
      },
      "source": [
        "minha_funcao(..., map(lambda x: ...., (dados)))"
      ],
      "execution_count": null,
      "outputs": []
    },
    {
      "cell_type": "code",
      "metadata": {
        "id": "U09nakowRvFQ",
        "colab": {
          "base_uri": "https://localhost:8080/"
        },
        "outputId": "c6f5b86f-16c4-4f9a-b4ee-4b4980b5954e"
      },
      "source": [
        "serie_vogais.head(3)"
      ],
      "execution_count": null,
      "outputs": [
        {
          "output_type": "execute_result",
          "data": {
            "text/plain": [
              "label_a    a\n",
              "label_e    e\n",
              "label_i    i\n",
              "dtype: object"
            ]
          },
          "metadata": {
            "tags": []
          },
          "execution_count": 91
        }
      ]
    },
    {
      "cell_type": "code",
      "metadata": {
        "id": "uWU4NPXEKlLE",
        "colab": {
          "base_uri": "https://localhost:8080/",
          "height": 36
        },
        "outputId": "a8279d52-67cc-49b3-b25e-99faee0d63ed"
      },
      "source": [
        "serie_vogais[0]"
      ],
      "execution_count": null,
      "outputs": [
        {
          "output_type": "execute_result",
          "data": {
            "application/vnd.google.colaboratory.intrinsic+json": {
              "type": "string"
            },
            "text/plain": [
              "'a'"
            ]
          },
          "metadata": {
            "tags": []
          },
          "execution_count": 92
        }
      ]
    },
    {
      "cell_type": "code",
      "metadata": {
        "id": "yj5mFywvS8ql",
        "colab": {
          "base_uri": "https://localhost:8080/",
          "height": 36
        },
        "outputId": "01bc3b56-87fd-4036-c16c-2916c51a284f"
      },
      "source": [
        "serie_vogais['label_a']"
      ],
      "execution_count": null,
      "outputs": [
        {
          "output_type": "execute_result",
          "data": {
            "application/vnd.google.colaboratory.intrinsic+json": {
              "type": "string"
            },
            "text/plain": [
              "'a'"
            ]
          },
          "metadata": {
            "tags": []
          },
          "execution_count": 93
        }
      ]
    },
    {
      "cell_type": "code",
      "metadata": {
        "id": "czI48bCJTBI7",
        "colab": {
          "base_uri": "https://localhost:8080/",
          "height": 36
        },
        "outputId": "5d46b53e-4130-41a7-f7eb-60b8f679139c"
      },
      "source": [
        "serie_vogais[4]"
      ],
      "execution_count": null,
      "outputs": [
        {
          "output_type": "execute_result",
          "data": {
            "application/vnd.google.colaboratory.intrinsic+json": {
              "type": "string"
            },
            "text/plain": [
              "'u'"
            ]
          },
          "metadata": {
            "tags": []
          },
          "execution_count": 94
        }
      ]
    },
    {
      "cell_type": "code",
      "metadata": {
        "id": "S8T2smZbTJg1",
        "colab": {
          "base_uri": "https://localhost:8080/",
          "height": 36
        },
        "outputId": "5fce42b8-a45d-4f52-8847-08315402f9e5"
      },
      "source": [
        "serie_vogais['label_i']"
      ],
      "execution_count": null,
      "outputs": [
        {
          "output_type": "execute_result",
          "data": {
            "application/vnd.google.colaboratory.intrinsic+json": {
              "type": "string"
            },
            "text/plain": [
              "'i'"
            ]
          },
          "metadata": {
            "tags": []
          },
          "execution_count": 95
        }
      ]
    },
    {
      "cell_type": "code",
      "metadata": {
        "id": "k9oaoVzPTMRK",
        "colab": {
          "base_uri": "https://localhost:8080/"
        },
        "outputId": "78cbbbb2-17b0-4c72-b463-d2d23fff45ae"
      },
      "source": [
        "serie_vogais[0:3]"
      ],
      "execution_count": null,
      "outputs": [
        {
          "output_type": "execute_result",
          "data": {
            "text/plain": [
              "label_a    a\n",
              "label_e    e\n",
              "label_i    i\n",
              "dtype: object"
            ]
          },
          "metadata": {
            "tags": []
          },
          "execution_count": 110
        }
      ]
    },
    {
      "cell_type": "code",
      "metadata": {
        "id": "koMz7O-6TPV3",
        "colab": {
          "base_uri": "https://localhost:8080/"
        },
        "outputId": "04f80485-3dcc-4ee8-94d6-c059e60bc7f2"
      },
      "source": [
        "serie_vogais[:'label_i']"
      ],
      "execution_count": null,
      "outputs": [
        {
          "output_type": "execute_result",
          "data": {
            "text/plain": [
              "label_a    a\n",
              "label_e    e\n",
              "label_i    i\n",
              "dtype: object"
            ]
          },
          "metadata": {
            "tags": []
          },
          "execution_count": 96
        }
      ]
    },
    {
      "cell_type": "code",
      "metadata": {
        "id": "A-8nBTXFTR4M",
        "colab": {
          "base_uri": "https://localhost:8080/"
        },
        "outputId": "1cb67a74-77a3-42ff-db86-d04a98c1419f"
      },
      "source": [
        "serie_vogais[1:3]"
      ],
      "execution_count": null,
      "outputs": [
        {
          "output_type": "execute_result",
          "data": {
            "text/plain": [
              "label_e    e\n",
              "label_i    i\n",
              "dtype: object"
            ]
          },
          "metadata": {
            "tags": []
          },
          "execution_count": 97
        }
      ]
    },
    {
      "cell_type": "code",
      "metadata": {
        "id": "SVIhRz9wTfVs",
        "colab": {
          "base_uri": "https://localhost:8080/"
        },
        "outputId": "00859e19-30e0-46c0-812f-79aaae4d90b7"
      },
      "source": [
        "serie_vogais['label_e':'label_u']"
      ],
      "execution_count": null,
      "outputs": [
        {
          "output_type": "execute_result",
          "data": {
            "text/plain": [
              "label_e    e\n",
              "label_i    i\n",
              "label_o    o\n",
              "label_u    u\n",
              "dtype: object"
            ]
          },
          "metadata": {
            "tags": []
          },
          "execution_count": 98
        }
      ]
    },
    {
      "cell_type": "code",
      "metadata": {
        "id": "GXz7P3YMTjGx",
        "colab": {
          "base_uri": "https://localhost:8080/"
        },
        "outputId": "03f20c14-f7f7-412c-d0a6-a3b1d3214703"
      },
      "source": [
        "serie_vogais[-3:]"
      ],
      "execution_count": null,
      "outputs": [
        {
          "output_type": "execute_result",
          "data": {
            "text/plain": [
              "label_i    i\n",
              "label_o    o\n",
              "label_u    u\n",
              "dtype: object"
            ]
          },
          "metadata": {
            "tags": []
          },
          "execution_count": 99
        }
      ]
    },
    {
      "cell_type": "code",
      "metadata": {
        "id": "ZLG3gs3qTqop",
        "colab": {
          "base_uri": "https://localhost:8080/"
        },
        "outputId": "8f7b1072-3258-40f6-ba4e-87fc318e739c"
      },
      "source": [
        "serie_vogais['label_i':]"
      ],
      "execution_count": null,
      "outputs": [
        {
          "output_type": "execute_result",
          "data": {
            "text/plain": [
              "label_i    i\n",
              "label_o    o\n",
              "label_u    u\n",
              "dtype: object"
            ]
          },
          "metadata": {
            "tags": []
          },
          "execution_count": 115
        }
      ]
    },
    {
      "cell_type": "markdown",
      "metadata": {
        "id": "FDiYVGdvB6CL"
      },
      "source": [
        "#### Acesso de elementos pela notação **.**"
      ]
    },
    {
      "cell_type": "code",
      "metadata": {
        "id": "_pFWUyPFIxHd",
        "colab": {
          "base_uri": "https://localhost:8080/",
          "height": 36
        },
        "outputId": "cb7b14df-a9a9-4954-df39-de6b8ddc7f0a"
      },
      "source": [
        "serie_vogais['label_i']"
      ],
      "execution_count": null,
      "outputs": [
        {
          "output_type": "execute_result",
          "data": {
            "application/vnd.google.colaboratory.intrinsic+json": {
              "type": "string"
            },
            "text/plain": [
              "'i'"
            ]
          },
          "metadata": {
            "tags": []
          },
          "execution_count": 100
        }
      ]
    },
    {
      "cell_type": "code",
      "metadata": {
        "id": "HpjejGAVIdGm",
        "colab": {
          "base_uri": "https://localhost:8080/",
          "height": 36
        },
        "outputId": "d8489abb-12e9-4e07-c02a-abb2c2a87e28"
      },
      "source": [
        "serie_vogais.label_i"
      ],
      "execution_count": null,
      "outputs": [
        {
          "output_type": "execute_result",
          "data": {
            "application/vnd.google.colaboratory.intrinsic+json": {
              "type": "string"
            },
            "text/plain": [
              "'i'"
            ]
          },
          "metadata": {
            "tags": []
          },
          "execution_count": 102
        }
      ]
    },
    {
      "cell_type": "markdown",
      "metadata": {
        "id": "tV2cSV8jGqHf"
      },
      "source": [
        "#### Máscaras booleanas e o indexador **.loc**"
      ]
    },
    {
      "cell_type": "code",
      "metadata": {
        "id": "82-2c5I5WdFz",
        "colab": {
          "base_uri": "https://localhost:8080/"
        },
        "outputId": "c9b952ce-0d57-4219-c996-00bc2772127b"
      },
      "source": [
        "serie_vogais['label_e':'label_o']"
      ],
      "execution_count": null,
      "outputs": [
        {
          "output_type": "execute_result",
          "data": {
            "text/plain": [
              "label_e    e\n",
              "label_i    i\n",
              "label_o    o\n",
              "dtype: object"
            ]
          },
          "metadata": {
            "tags": []
          },
          "execution_count": 103
        }
      ]
    },
    {
      "cell_type": "code",
      "metadata": {
        "id": "O6V2XyygWc0a",
        "colab": {
          "base_uri": "https://localhost:8080/"
        },
        "outputId": "bd7d19fa-ee48-432c-9e30-d84c228a9677"
      },
      "source": [
        "serie_vogais.loc['label_e':'label_o']"
      ],
      "execution_count": null,
      "outputs": [
        {
          "output_type": "execute_result",
          "data": {
            "text/plain": [
              "label_e    e\n",
              "label_i    i\n",
              "label_o    o\n",
              "dtype: object"
            ]
          },
          "metadata": {
            "tags": []
          },
          "execution_count": 104
        }
      ]
    },
    {
      "cell_type": "code",
      "metadata": {
        "id": "ADvKNUB0V7s3",
        "colab": {
          "base_uri": "https://localhost:8080/"
        },
        "outputId": "a0c9739f-cb87-4aa0-a9c3-44ad65b09a06"
      },
      "source": [
        "books_series"
      ],
      "execution_count": null,
      "outputs": [
        {
          "output_type": "execute_result",
          "data": {
            "text/plain": [
              "My books\n",
              "0      A Arte da Guerra\n",
              "1    Pai Rico Pai Pobre\n",
              "2      Senhor dos Anéis\n",
              "Name: meus livros favoritos, dtype: object"
            ]
          },
          "metadata": {
            "tags": []
          },
          "execution_count": 105
        }
      ]
    },
    {
      "cell_type": "code",
      "metadata": {
        "id": "sKLhqK01V7ni",
        "colab": {
          "base_uri": "https://localhost:8080/"
        },
        "outputId": "b1737cc0-7d8b-46ac-f980-371b40f3ed53"
      },
      "source": [
        "books_series.loc[[True, True, True]]"
      ],
      "execution_count": null,
      "outputs": [
        {
          "output_type": "execute_result",
          "data": {
            "text/plain": [
              "My books\n",
              "0      A Arte da Guerra\n",
              "1    Pai Rico Pai Pobre\n",
              "2      Senhor dos Anéis\n",
              "Name: meus livros favoritos, dtype: object"
            ]
          },
          "metadata": {
            "tags": []
          },
          "execution_count": 106
        }
      ]
    },
    {
      "cell_type": "code",
      "metadata": {
        "colab": {
          "base_uri": "https://localhost:8080/"
        },
        "id": "hq1-X5k401Jx",
        "outputId": "7dc6594e-c1e6-4868-8951-67f2c08c9812"
      },
      "source": [
        "books_series.loc[[True, False, True]]"
      ],
      "execution_count": null,
      "outputs": [
        {
          "output_type": "execute_result",
          "data": {
            "text/plain": [
              "My books\n",
              "0    A Arte da Guerra\n",
              "2    Senhor dos Anéis\n",
              "Name: meus livros favoritos, dtype: object"
            ]
          },
          "metadata": {
            "tags": []
          },
          "execution_count": 107
        }
      ]
    },
    {
      "cell_type": "code",
      "metadata": {
        "id": "L1RE39dQXRAZ",
        "colab": {
          "base_uri": "https://localhost:8080/"
        },
        "outputId": "8cf3c4de-4f68-4c99-a03d-d081c23937cd"
      },
      "source": [
        "books_series.size"
      ],
      "execution_count": null,
      "outputs": [
        {
          "output_type": "execute_result",
          "data": {
            "text/plain": [
              "3"
            ]
          },
          "metadata": {
            "tags": []
          },
          "execution_count": 108
        }
      ]
    },
    {
      "cell_type": "markdown",
      "metadata": {
        "id": "OqBI-N68X6Py"
      },
      "source": [
        "#### Acesso de elementos por **.iloc**"
      ]
    },
    {
      "cell_type": "code",
      "metadata": {
        "id": "QAXnWX77dH73"
      },
      "source": [
        "# iloc => indexação pela posição\n",
        "# loc => localização => indexação pelo índice/label"
      ],
      "execution_count": null,
      "outputs": []
    },
    {
      "cell_type": "code",
      "metadata": {
        "id": "nJqBg1kSdGru",
        "colab": {
          "base_uri": "https://localhost:8080/",
          "height": 36
        },
        "outputId": "765ea0a0-8ed4-4adb-c92a-09bbd866f0f1"
      },
      "source": [
        "serie_vogais.iloc[4]"
      ],
      "execution_count": null,
      "outputs": [
        {
          "output_type": "execute_result",
          "data": {
            "application/vnd.google.colaboratory.intrinsic+json": {
              "type": "string"
            },
            "text/plain": [
              "'u'"
            ]
          },
          "metadata": {
            "tags": []
          },
          "execution_count": 114
        }
      ]
    },
    {
      "cell_type": "code",
      "metadata": {
        "id": "RX5wpQ-WdGlw",
        "colab": {
          "base_uri": "https://localhost:8080/",
          "height": 36
        },
        "outputId": "4db32587-8af7-4fd9-bec0-1929ac9140ef"
      },
      "source": [
        "serie_vogais.iloc[1]"
      ],
      "execution_count": null,
      "outputs": [
        {
          "output_type": "execute_result",
          "data": {
            "application/vnd.google.colaboratory.intrinsic+json": {
              "type": "string"
            },
            "text/plain": [
              "'e'"
            ]
          },
          "metadata": {
            "tags": []
          },
          "execution_count": 128
        }
      ]
    },
    {
      "cell_type": "code",
      "metadata": {
        "id": "7XBG-7PNdD0p",
        "colab": {
          "base_uri": "https://localhost:8080/"
        },
        "outputId": "0d6a2732-bd7d-44e2-ef0b-95ebacc077c3"
      },
      "source": [
        "serie_vogais.iloc[1:3]"
      ],
      "execution_count": null,
      "outputs": [
        {
          "output_type": "execute_result",
          "data": {
            "text/plain": [
              "label_e    e\n",
              "label_i    i\n",
              "dtype: object"
            ]
          },
          "metadata": {
            "tags": []
          },
          "execution_count": 129
        }
      ]
    },
    {
      "cell_type": "code",
      "metadata": {
        "colab": {
          "base_uri": "https://localhost:8080/",
          "height": 36
        },
        "id": "rE30Gm4ir2L_",
        "outputId": "dcd31764-8df0-4e07-a94e-23c23b0a7a01"
      },
      "source": [
        "serie_vogais.label_a"
      ],
      "execution_count": null,
      "outputs": [
        {
          "output_type": "execute_result",
          "data": {
            "application/vnd.google.colaboratory.intrinsic+json": {
              "type": "string"
            },
            "text/plain": [
              "'a'"
            ]
          },
          "metadata": {
            "tags": []
          },
          "execution_count": 115
        }
      ]
    },
    {
      "cell_type": "markdown",
      "metadata": {
        "id": "8tu-WbXyvpCE"
      },
      "source": [
        "#### Acesso de elementos pelo **.get()**"
      ]
    },
    {
      "cell_type": "code",
      "metadata": {
        "id": "mPqN1OtLuOSK",
        "colab": {
          "base_uri": "https://localhost:8080/",
          "height": 36
        },
        "outputId": "d2241f5a-5a26-4fde-f292-e3a7cf46b10e"
      },
      "source": [
        "serie_vogais.get('label_i')"
      ],
      "execution_count": null,
      "outputs": [
        {
          "output_type": "execute_result",
          "data": {
            "application/vnd.google.colaboratory.intrinsic+json": {
              "type": "string"
            },
            "text/plain": [
              "'i'"
            ]
          },
          "metadata": {
            "tags": []
          },
          "execution_count": 116
        }
      ]
    },
    {
      "cell_type": "code",
      "metadata": {
        "id": "SUVyeK9huOcH",
        "colab": {
          "base_uri": "https://localhost:8080/",
          "height": 36
        },
        "outputId": "d94a1001-30c5-4216-9359-e6fcddb6a073"
      },
      "source": [
        "serie_vogais.loc['label_i']"
      ],
      "execution_count": null,
      "outputs": [
        {
          "output_type": "execute_result",
          "data": {
            "application/vnd.google.colaboratory.intrinsic+json": {
              "type": "string"
            },
            "text/plain": [
              "'i'"
            ]
          },
          "metadata": {
            "tags": []
          },
          "execution_count": 117
        }
      ]
    },
    {
      "cell_type": "code",
      "metadata": {
        "id": "HdcJJfcfuOj5",
        "colab": {
          "base_uri": "https://localhost:8080/",
          "height": 36
        },
        "outputId": "53df2a70-21ea-4a5b-be2d-a655df755359"
      },
      "source": [
        "serie_vogais['label_i']"
      ],
      "execution_count": null,
      "outputs": [
        {
          "output_type": "execute_result",
          "data": {
            "application/vnd.google.colaboratory.intrinsic+json": {
              "type": "string"
            },
            "text/plain": [
              "'i'"
            ]
          },
          "metadata": {
            "tags": []
          },
          "execution_count": 118
        }
      ]
    },
    {
      "cell_type": "code",
      "metadata": {
        "colab": {
          "base_uri": "https://localhost:8080/",
          "height": 36
        },
        "id": "7gwgNjQu2oW6",
        "outputId": "550c22d3-c94f-4b7e-a7b4-f122c44a10e4"
      },
      "source": [
        "serie_vogais.label_i"
      ],
      "execution_count": null,
      "outputs": [
        {
          "output_type": "execute_result",
          "data": {
            "application/vnd.google.colaboratory.intrinsic+json": {
              "type": "string"
            },
            "text/plain": [
              "'i'"
            ]
          },
          "metadata": {
            "tags": []
          },
          "execution_count": 119
        }
      ]
    },
    {
      "cell_type": "code",
      "metadata": {
        "id": "U0Wta_3xuPEi",
        "colab": {
          "base_uri": "https://localhost:8080/"
        },
        "outputId": "1f0512c5-6846-484a-c60d-c3a92206d1a6"
      },
      "source": [
        "serie_vogais.get('label_inexistente') == None"
      ],
      "execution_count": null,
      "outputs": [
        {
          "output_type": "execute_result",
          "data": {
            "text/plain": [
              "True"
            ]
          },
          "metadata": {
            "tags": []
          },
          "execution_count": 120
        }
      ]
    },
    {
      "cell_type": "code",
      "metadata": {
        "colab": {
          "base_uri": "https://localhost:8080/",
          "height": 600
        },
        "id": "1gkqmefWsVXt",
        "outputId": "4dbe0141-7b02-4ae1-b2bd-473a1d32231a"
      },
      "source": [
        "serie_vogais['label_inexistente']"
      ],
      "execution_count": null,
      "outputs": [
        {
          "output_type": "error",
          "ename": "KeyError",
          "evalue": "ignored",
          "traceback": [
            "\u001b[0;31m---------------------------------------------------------------------------\u001b[0m",
            "\u001b[0;31mKeyError\u001b[0m                                  Traceback (most recent call last)",
            "\u001b[0;32m/usr/local/lib/python3.7/dist-packages/pandas/core/indexes/base.py\u001b[0m in \u001b[0;36mget_loc\u001b[0;34m(self, key, method, tolerance)\u001b[0m\n\u001b[1;32m   2897\u001b[0m             \u001b[0;32mtry\u001b[0m\u001b[0;34m:\u001b[0m\u001b[0;34m\u001b[0m\u001b[0;34m\u001b[0m\u001b[0m\n\u001b[0;32m-> 2898\u001b[0;31m                 \u001b[0;32mreturn\u001b[0m \u001b[0mself\u001b[0m\u001b[0;34m.\u001b[0m\u001b[0m_engine\u001b[0m\u001b[0;34m.\u001b[0m\u001b[0mget_loc\u001b[0m\u001b[0;34m(\u001b[0m\u001b[0mcasted_key\u001b[0m\u001b[0;34m)\u001b[0m\u001b[0;34m\u001b[0m\u001b[0;34m\u001b[0m\u001b[0m\n\u001b[0m\u001b[1;32m   2899\u001b[0m             \u001b[0;32mexcept\u001b[0m \u001b[0mKeyError\u001b[0m \u001b[0;32mas\u001b[0m \u001b[0merr\u001b[0m\u001b[0;34m:\u001b[0m\u001b[0;34m\u001b[0m\u001b[0;34m\u001b[0m\u001b[0m\n",
            "\u001b[0;32mpandas/_libs/index.pyx\u001b[0m in \u001b[0;36mpandas._libs.index.IndexEngine.get_loc\u001b[0;34m()\u001b[0m\n",
            "\u001b[0;32mpandas/_libs/index.pyx\u001b[0m in \u001b[0;36mpandas._libs.index.IndexEngine.get_loc\u001b[0;34m()\u001b[0m\n",
            "\u001b[0;32mpandas/_libs/hashtable_class_helper.pxi\u001b[0m in \u001b[0;36mpandas._libs.hashtable.PyObjectHashTable.get_item\u001b[0;34m()\u001b[0m\n",
            "\u001b[0;32mpandas/_libs/hashtable_class_helper.pxi\u001b[0m in \u001b[0;36mpandas._libs.hashtable.PyObjectHashTable.get_item\u001b[0;34m()\u001b[0m\n",
            "\u001b[0;31mKeyError\u001b[0m: 'label_inexistente'",
            "\nThe above exception was the direct cause of the following exception:\n",
            "\u001b[0;31mKeyError\u001b[0m                                  Traceback (most recent call last)",
            "\u001b[0;32m<ipython-input-121-1b308c757ee7>\u001b[0m in \u001b[0;36m<module>\u001b[0;34m()\u001b[0m\n\u001b[0;32m----> 1\u001b[0;31m \u001b[0mserie_vogais\u001b[0m\u001b[0;34m[\u001b[0m\u001b[0;34m'label_inexistente'\u001b[0m\u001b[0;34m]\u001b[0m\u001b[0;34m\u001b[0m\u001b[0;34m\u001b[0m\u001b[0m\n\u001b[0m",
            "\u001b[0;32m/usr/local/lib/python3.7/dist-packages/pandas/core/series.py\u001b[0m in \u001b[0;36m__getitem__\u001b[0;34m(self, key)\u001b[0m\n\u001b[1;32m    880\u001b[0m \u001b[0;34m\u001b[0m\u001b[0m\n\u001b[1;32m    881\u001b[0m         \u001b[0;32melif\u001b[0m \u001b[0mkey_is_scalar\u001b[0m\u001b[0;34m:\u001b[0m\u001b[0;34m\u001b[0m\u001b[0;34m\u001b[0m\u001b[0m\n\u001b[0;32m--> 882\u001b[0;31m             \u001b[0;32mreturn\u001b[0m \u001b[0mself\u001b[0m\u001b[0;34m.\u001b[0m\u001b[0m_get_value\u001b[0m\u001b[0;34m(\u001b[0m\u001b[0mkey\u001b[0m\u001b[0;34m)\u001b[0m\u001b[0;34m\u001b[0m\u001b[0;34m\u001b[0m\u001b[0m\n\u001b[0m\u001b[1;32m    883\u001b[0m \u001b[0;34m\u001b[0m\u001b[0m\n\u001b[1;32m    884\u001b[0m         \u001b[0;32mif\u001b[0m \u001b[0mis_hashable\u001b[0m\u001b[0;34m(\u001b[0m\u001b[0mkey\u001b[0m\u001b[0;34m)\u001b[0m\u001b[0;34m:\u001b[0m\u001b[0;34m\u001b[0m\u001b[0;34m\u001b[0m\u001b[0m\n",
            "\u001b[0;32m/usr/local/lib/python3.7/dist-packages/pandas/core/series.py\u001b[0m in \u001b[0;36m_get_value\u001b[0;34m(self, label, takeable)\u001b[0m\n\u001b[1;32m    988\u001b[0m \u001b[0;34m\u001b[0m\u001b[0m\n\u001b[1;32m    989\u001b[0m         \u001b[0;31m# Similar to Index.get_value, but we do not fall back to positional\u001b[0m\u001b[0;34m\u001b[0m\u001b[0;34m\u001b[0m\u001b[0;34m\u001b[0m\u001b[0m\n\u001b[0;32m--> 990\u001b[0;31m         \u001b[0mloc\u001b[0m \u001b[0;34m=\u001b[0m \u001b[0mself\u001b[0m\u001b[0;34m.\u001b[0m\u001b[0mindex\u001b[0m\u001b[0;34m.\u001b[0m\u001b[0mget_loc\u001b[0m\u001b[0;34m(\u001b[0m\u001b[0mlabel\u001b[0m\u001b[0;34m)\u001b[0m\u001b[0;34m\u001b[0m\u001b[0;34m\u001b[0m\u001b[0m\n\u001b[0m\u001b[1;32m    991\u001b[0m         \u001b[0;32mreturn\u001b[0m \u001b[0mself\u001b[0m\u001b[0;34m.\u001b[0m\u001b[0mindex\u001b[0m\u001b[0;34m.\u001b[0m\u001b[0m_get_values_for_loc\u001b[0m\u001b[0;34m(\u001b[0m\u001b[0mself\u001b[0m\u001b[0;34m,\u001b[0m \u001b[0mloc\u001b[0m\u001b[0;34m,\u001b[0m \u001b[0mlabel\u001b[0m\u001b[0;34m)\u001b[0m\u001b[0;34m\u001b[0m\u001b[0;34m\u001b[0m\u001b[0m\n\u001b[1;32m    992\u001b[0m \u001b[0;34m\u001b[0m\u001b[0m\n",
            "\u001b[0;32m/usr/local/lib/python3.7/dist-packages/pandas/core/indexes/base.py\u001b[0m in \u001b[0;36mget_loc\u001b[0;34m(self, key, method, tolerance)\u001b[0m\n\u001b[1;32m   2898\u001b[0m                 \u001b[0;32mreturn\u001b[0m \u001b[0mself\u001b[0m\u001b[0;34m.\u001b[0m\u001b[0m_engine\u001b[0m\u001b[0;34m.\u001b[0m\u001b[0mget_loc\u001b[0m\u001b[0;34m(\u001b[0m\u001b[0mcasted_key\u001b[0m\u001b[0;34m)\u001b[0m\u001b[0;34m\u001b[0m\u001b[0;34m\u001b[0m\u001b[0m\n\u001b[1;32m   2899\u001b[0m             \u001b[0;32mexcept\u001b[0m \u001b[0mKeyError\u001b[0m \u001b[0;32mas\u001b[0m \u001b[0merr\u001b[0m\u001b[0;34m:\u001b[0m\u001b[0;34m\u001b[0m\u001b[0;34m\u001b[0m\u001b[0m\n\u001b[0;32m-> 2900\u001b[0;31m                 \u001b[0;32mraise\u001b[0m \u001b[0mKeyError\u001b[0m\u001b[0;34m(\u001b[0m\u001b[0mkey\u001b[0m\u001b[0;34m)\u001b[0m \u001b[0;32mfrom\u001b[0m \u001b[0merr\u001b[0m\u001b[0;34m\u001b[0m\u001b[0;34m\u001b[0m\u001b[0m\n\u001b[0m\u001b[1;32m   2901\u001b[0m \u001b[0;34m\u001b[0m\u001b[0m\n\u001b[1;32m   2902\u001b[0m         \u001b[0;32mif\u001b[0m \u001b[0mtolerance\u001b[0m \u001b[0;32mis\u001b[0m \u001b[0;32mnot\u001b[0m \u001b[0;32mNone\u001b[0m\u001b[0;34m:\u001b[0m\u001b[0;34m\u001b[0m\u001b[0;34m\u001b[0m\u001b[0m\n",
            "\u001b[0;31mKeyError\u001b[0m: 'label_inexistente'"
          ]
        }
      ]
    },
    {
      "cell_type": "code",
      "metadata": {
        "colab": {
          "base_uri": "https://localhost:8080/",
          "height": 600
        },
        "id": "PlAg1wAN233N",
        "outputId": "d1be7071-1e78-4f73-993e-474ae2f477c0"
      },
      "source": [
        "serie_vogais.loc['label_inexistente']"
      ],
      "execution_count": null,
      "outputs": [
        {
          "output_type": "error",
          "ename": "KeyError",
          "evalue": "ignored",
          "traceback": [
            "\u001b[0;31m---------------------------------------------------------------------------\u001b[0m",
            "\u001b[0;31mKeyError\u001b[0m                                  Traceback (most recent call last)",
            "\u001b[0;32m/usr/local/lib/python3.7/dist-packages/pandas/core/indexes/base.py\u001b[0m in \u001b[0;36mget_loc\u001b[0;34m(self, key, method, tolerance)\u001b[0m\n\u001b[1;32m   2897\u001b[0m             \u001b[0;32mtry\u001b[0m\u001b[0;34m:\u001b[0m\u001b[0;34m\u001b[0m\u001b[0;34m\u001b[0m\u001b[0m\n\u001b[0;32m-> 2898\u001b[0;31m                 \u001b[0;32mreturn\u001b[0m \u001b[0mself\u001b[0m\u001b[0;34m.\u001b[0m\u001b[0m_engine\u001b[0m\u001b[0;34m.\u001b[0m\u001b[0mget_loc\u001b[0m\u001b[0;34m(\u001b[0m\u001b[0mcasted_key\u001b[0m\u001b[0;34m)\u001b[0m\u001b[0;34m\u001b[0m\u001b[0;34m\u001b[0m\u001b[0m\n\u001b[0m\u001b[1;32m   2899\u001b[0m             \u001b[0;32mexcept\u001b[0m \u001b[0mKeyError\u001b[0m \u001b[0;32mas\u001b[0m \u001b[0merr\u001b[0m\u001b[0;34m:\u001b[0m\u001b[0;34m\u001b[0m\u001b[0;34m\u001b[0m\u001b[0m\n",
            "\u001b[0;32mpandas/_libs/index.pyx\u001b[0m in \u001b[0;36mpandas._libs.index.IndexEngine.get_loc\u001b[0;34m()\u001b[0m\n",
            "\u001b[0;32mpandas/_libs/index.pyx\u001b[0m in \u001b[0;36mpandas._libs.index.IndexEngine.get_loc\u001b[0;34m()\u001b[0m\n",
            "\u001b[0;32mpandas/_libs/hashtable_class_helper.pxi\u001b[0m in \u001b[0;36mpandas._libs.hashtable.PyObjectHashTable.get_item\u001b[0;34m()\u001b[0m\n",
            "\u001b[0;32mpandas/_libs/hashtable_class_helper.pxi\u001b[0m in \u001b[0;36mpandas._libs.hashtable.PyObjectHashTable.get_item\u001b[0;34m()\u001b[0m\n",
            "\u001b[0;31mKeyError\u001b[0m: 'label_inexistente'",
            "\nThe above exception was the direct cause of the following exception:\n",
            "\u001b[0;31mKeyError\u001b[0m                                  Traceback (most recent call last)",
            "\u001b[0;32m<ipython-input-122-016c1f5bc3fb>\u001b[0m in \u001b[0;36m<module>\u001b[0;34m()\u001b[0m\n\u001b[0;32m----> 1\u001b[0;31m \u001b[0mserie_vogais\u001b[0m\u001b[0;34m.\u001b[0m\u001b[0mloc\u001b[0m\u001b[0;34m[\u001b[0m\u001b[0;34m'label_inexistente'\u001b[0m\u001b[0;34m]\u001b[0m\u001b[0;34m\u001b[0m\u001b[0;34m\u001b[0m\u001b[0m\n\u001b[0m",
            "\u001b[0;32m/usr/local/lib/python3.7/dist-packages/pandas/core/indexing.py\u001b[0m in \u001b[0;36m__getitem__\u001b[0;34m(self, key)\u001b[0m\n\u001b[1;32m    877\u001b[0m \u001b[0;34m\u001b[0m\u001b[0m\n\u001b[1;32m    878\u001b[0m             \u001b[0mmaybe_callable\u001b[0m \u001b[0;34m=\u001b[0m \u001b[0mcom\u001b[0m\u001b[0;34m.\u001b[0m\u001b[0mapply_if_callable\u001b[0m\u001b[0;34m(\u001b[0m\u001b[0mkey\u001b[0m\u001b[0;34m,\u001b[0m \u001b[0mself\u001b[0m\u001b[0;34m.\u001b[0m\u001b[0mobj\u001b[0m\u001b[0;34m)\u001b[0m\u001b[0;34m\u001b[0m\u001b[0;34m\u001b[0m\u001b[0m\n\u001b[0;32m--> 879\u001b[0;31m             \u001b[0;32mreturn\u001b[0m \u001b[0mself\u001b[0m\u001b[0;34m.\u001b[0m\u001b[0m_getitem_axis\u001b[0m\u001b[0;34m(\u001b[0m\u001b[0mmaybe_callable\u001b[0m\u001b[0;34m,\u001b[0m \u001b[0maxis\u001b[0m\u001b[0;34m=\u001b[0m\u001b[0maxis\u001b[0m\u001b[0;34m)\u001b[0m\u001b[0;34m\u001b[0m\u001b[0;34m\u001b[0m\u001b[0m\n\u001b[0m\u001b[1;32m    880\u001b[0m \u001b[0;34m\u001b[0m\u001b[0m\n\u001b[1;32m    881\u001b[0m     \u001b[0;32mdef\u001b[0m \u001b[0m_is_scalar_access\u001b[0m\u001b[0;34m(\u001b[0m\u001b[0mself\u001b[0m\u001b[0;34m,\u001b[0m \u001b[0mkey\u001b[0m\u001b[0;34m:\u001b[0m \u001b[0mTuple\u001b[0m\u001b[0;34m)\u001b[0m\u001b[0;34m:\u001b[0m\u001b[0;34m\u001b[0m\u001b[0;34m\u001b[0m\u001b[0m\n",
            "\u001b[0;32m/usr/local/lib/python3.7/dist-packages/pandas/core/indexing.py\u001b[0m in \u001b[0;36m_getitem_axis\u001b[0;34m(self, key, axis)\u001b[0m\n\u001b[1;32m   1108\u001b[0m         \u001b[0;31m# fall thru to straight lookup\u001b[0m\u001b[0;34m\u001b[0m\u001b[0;34m\u001b[0m\u001b[0;34m\u001b[0m\u001b[0m\n\u001b[1;32m   1109\u001b[0m         \u001b[0mself\u001b[0m\u001b[0;34m.\u001b[0m\u001b[0m_validate_key\u001b[0m\u001b[0;34m(\u001b[0m\u001b[0mkey\u001b[0m\u001b[0;34m,\u001b[0m \u001b[0maxis\u001b[0m\u001b[0;34m)\u001b[0m\u001b[0;34m\u001b[0m\u001b[0;34m\u001b[0m\u001b[0m\n\u001b[0;32m-> 1110\u001b[0;31m         \u001b[0;32mreturn\u001b[0m \u001b[0mself\u001b[0m\u001b[0;34m.\u001b[0m\u001b[0m_get_label\u001b[0m\u001b[0;34m(\u001b[0m\u001b[0mkey\u001b[0m\u001b[0;34m,\u001b[0m \u001b[0maxis\u001b[0m\u001b[0;34m=\u001b[0m\u001b[0maxis\u001b[0m\u001b[0;34m)\u001b[0m\u001b[0;34m\u001b[0m\u001b[0;34m\u001b[0m\u001b[0m\n\u001b[0m\u001b[1;32m   1111\u001b[0m \u001b[0;34m\u001b[0m\u001b[0m\n\u001b[1;32m   1112\u001b[0m     \u001b[0;32mdef\u001b[0m \u001b[0m_get_slice_axis\u001b[0m\u001b[0;34m(\u001b[0m\u001b[0mself\u001b[0m\u001b[0;34m,\u001b[0m \u001b[0mslice_obj\u001b[0m\u001b[0;34m:\u001b[0m \u001b[0mslice\u001b[0m\u001b[0;34m,\u001b[0m \u001b[0maxis\u001b[0m\u001b[0;34m:\u001b[0m \u001b[0mint\u001b[0m\u001b[0;34m)\u001b[0m\u001b[0;34m:\u001b[0m\u001b[0;34m\u001b[0m\u001b[0;34m\u001b[0m\u001b[0m\n",
            "\u001b[0;32m/usr/local/lib/python3.7/dist-packages/pandas/core/indexing.py\u001b[0m in \u001b[0;36m_get_label\u001b[0;34m(self, label, axis)\u001b[0m\n\u001b[1;32m   1057\u001b[0m     \u001b[0;32mdef\u001b[0m \u001b[0m_get_label\u001b[0m\u001b[0;34m(\u001b[0m\u001b[0mself\u001b[0m\u001b[0;34m,\u001b[0m \u001b[0mlabel\u001b[0m\u001b[0;34m,\u001b[0m \u001b[0maxis\u001b[0m\u001b[0;34m:\u001b[0m \u001b[0mint\u001b[0m\u001b[0;34m)\u001b[0m\u001b[0;34m:\u001b[0m\u001b[0;34m\u001b[0m\u001b[0;34m\u001b[0m\u001b[0m\n\u001b[1;32m   1058\u001b[0m         \u001b[0;31m# GH#5667 this will fail if the label is not present in the axis.\u001b[0m\u001b[0;34m\u001b[0m\u001b[0;34m\u001b[0m\u001b[0;34m\u001b[0m\u001b[0m\n\u001b[0;32m-> 1059\u001b[0;31m         \u001b[0;32mreturn\u001b[0m \u001b[0mself\u001b[0m\u001b[0;34m.\u001b[0m\u001b[0mobj\u001b[0m\u001b[0;34m.\u001b[0m\u001b[0mxs\u001b[0m\u001b[0;34m(\u001b[0m\u001b[0mlabel\u001b[0m\u001b[0;34m,\u001b[0m \u001b[0maxis\u001b[0m\u001b[0;34m=\u001b[0m\u001b[0maxis\u001b[0m\u001b[0;34m)\u001b[0m\u001b[0;34m\u001b[0m\u001b[0;34m\u001b[0m\u001b[0m\n\u001b[0m\u001b[1;32m   1060\u001b[0m \u001b[0;34m\u001b[0m\u001b[0m\n\u001b[1;32m   1061\u001b[0m     \u001b[0;32mdef\u001b[0m \u001b[0m_handle_lowerdim_multi_index_axis0\u001b[0m\u001b[0;34m(\u001b[0m\u001b[0mself\u001b[0m\u001b[0;34m,\u001b[0m \u001b[0mtup\u001b[0m\u001b[0;34m:\u001b[0m \u001b[0mTuple\u001b[0m\u001b[0;34m)\u001b[0m\u001b[0;34m:\u001b[0m\u001b[0;34m\u001b[0m\u001b[0;34m\u001b[0m\u001b[0m\n",
            "\u001b[0;32m/usr/local/lib/python3.7/dist-packages/pandas/core/generic.py\u001b[0m in \u001b[0;36mxs\u001b[0;34m(self, key, axis, level, drop_level)\u001b[0m\n\u001b[1;32m   3491\u001b[0m             \u001b[0mloc\u001b[0m\u001b[0;34m,\u001b[0m \u001b[0mnew_index\u001b[0m \u001b[0;34m=\u001b[0m \u001b[0mself\u001b[0m\u001b[0;34m.\u001b[0m\u001b[0mindex\u001b[0m\u001b[0;34m.\u001b[0m\u001b[0mget_loc_level\u001b[0m\u001b[0;34m(\u001b[0m\u001b[0mkey\u001b[0m\u001b[0;34m,\u001b[0m \u001b[0mdrop_level\u001b[0m\u001b[0;34m=\u001b[0m\u001b[0mdrop_level\u001b[0m\u001b[0;34m)\u001b[0m\u001b[0;34m\u001b[0m\u001b[0;34m\u001b[0m\u001b[0m\n\u001b[1;32m   3492\u001b[0m         \u001b[0;32melse\u001b[0m\u001b[0;34m:\u001b[0m\u001b[0;34m\u001b[0m\u001b[0;34m\u001b[0m\u001b[0m\n\u001b[0;32m-> 3493\u001b[0;31m             \u001b[0mloc\u001b[0m \u001b[0;34m=\u001b[0m \u001b[0mself\u001b[0m\u001b[0;34m.\u001b[0m\u001b[0mindex\u001b[0m\u001b[0;34m.\u001b[0m\u001b[0mget_loc\u001b[0m\u001b[0;34m(\u001b[0m\u001b[0mkey\u001b[0m\u001b[0;34m)\u001b[0m\u001b[0;34m\u001b[0m\u001b[0;34m\u001b[0m\u001b[0m\n\u001b[0m\u001b[1;32m   3494\u001b[0m \u001b[0;34m\u001b[0m\u001b[0m\n\u001b[1;32m   3495\u001b[0m             \u001b[0;32mif\u001b[0m \u001b[0misinstance\u001b[0m\u001b[0;34m(\u001b[0m\u001b[0mloc\u001b[0m\u001b[0;34m,\u001b[0m \u001b[0mnp\u001b[0m\u001b[0;34m.\u001b[0m\u001b[0mndarray\u001b[0m\u001b[0;34m)\u001b[0m\u001b[0;34m:\u001b[0m\u001b[0;34m\u001b[0m\u001b[0;34m\u001b[0m\u001b[0m\n",
            "\u001b[0;32m/usr/local/lib/python3.7/dist-packages/pandas/core/indexes/base.py\u001b[0m in \u001b[0;36mget_loc\u001b[0;34m(self, key, method, tolerance)\u001b[0m\n\u001b[1;32m   2898\u001b[0m                 \u001b[0;32mreturn\u001b[0m \u001b[0mself\u001b[0m\u001b[0;34m.\u001b[0m\u001b[0m_engine\u001b[0m\u001b[0;34m.\u001b[0m\u001b[0mget_loc\u001b[0m\u001b[0;34m(\u001b[0m\u001b[0mcasted_key\u001b[0m\u001b[0;34m)\u001b[0m\u001b[0;34m\u001b[0m\u001b[0;34m\u001b[0m\u001b[0m\n\u001b[1;32m   2899\u001b[0m             \u001b[0;32mexcept\u001b[0m \u001b[0mKeyError\u001b[0m \u001b[0;32mas\u001b[0m \u001b[0merr\u001b[0m\u001b[0;34m:\u001b[0m\u001b[0;34m\u001b[0m\u001b[0;34m\u001b[0m\u001b[0m\n\u001b[0;32m-> 2900\u001b[0;31m                 \u001b[0;32mraise\u001b[0m \u001b[0mKeyError\u001b[0m\u001b[0;34m(\u001b[0m\u001b[0mkey\u001b[0m\u001b[0;34m)\u001b[0m \u001b[0;32mfrom\u001b[0m \u001b[0merr\u001b[0m\u001b[0;34m\u001b[0m\u001b[0;34m\u001b[0m\u001b[0m\n\u001b[0m\u001b[1;32m   2901\u001b[0m \u001b[0;34m\u001b[0m\u001b[0m\n\u001b[1;32m   2902\u001b[0m         \u001b[0;32mif\u001b[0m \u001b[0mtolerance\u001b[0m \u001b[0;32mis\u001b[0m \u001b[0;32mnot\u001b[0m \u001b[0;32mNone\u001b[0m\u001b[0;34m:\u001b[0m\u001b[0;34m\u001b[0m\u001b[0;34m\u001b[0m\u001b[0m\n",
            "\u001b[0;31mKeyError\u001b[0m: 'label_inexistente'"
          ]
        }
      ]
    },
    {
      "cell_type": "code",
      "metadata": {
        "id": "caDTeOAluPkj",
        "colab": {
          "base_uri": "https://localhost:8080/",
          "height": 36
        },
        "outputId": "4fc17012-5a0f-4a89-8937-6f72d482d4e1"
      },
      "source": [
        "serie_vogais.get('label_Inexistent', default='Não achei')"
      ],
      "execution_count": null,
      "outputs": [
        {
          "output_type": "execute_result",
          "data": {
            "application/vnd.google.colaboratory.intrinsic+json": {
              "type": "string"
            },
            "text/plain": [
              "'Não achei'"
            ]
          },
          "metadata": {
            "tags": []
          },
          "execution_count": 123
        }
      ]
    },
    {
      "cell_type": "code",
      "metadata": {
        "id": "qu4RHUj5xgRL"
      },
      "source": [
        "## Esta classe pode ser utilizada para a impementação das questões do TP3 do Moodle referentyes a vetor\n",
        "class Vetor:\n",
        "  def __init__(self, tamanho):\n",
        "    self._lista = []\n",
        "    self._tamanho_vetor = tamanho\n",
        "\n",
        "  def posicao(self, i):\n",
        "    ##\n",
        "  \n",
        "  "
      ],
      "execution_count": null,
      "outputs": []
    }
  ]
}